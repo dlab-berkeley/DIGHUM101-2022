{
 "cells": [
  {
   "cell_type": "markdown",
   "metadata": {},
   "source": [
    "<center><b>DIGHUM101</b></center>\n",
    "<center>3-5: GeoPandas</center>\n",
    "\n",
    "---"
   ]
  },
  {
   "cell_type": "markdown",
   "metadata": {},
   "source": [
    "# Learning objectives\n",
    "\n",
    "1. Understand geospatial data in Python\n",
    "2. Download map of USA and plot it; do the same thing with States and California counties\n",
    "3. Learn how to join population data with the spatial-geometric data"
   ]
  },
  {
   "cell_type": "code",
   "execution_count": null,
   "metadata": {
    "scrolled": true
   },
   "outputs": [],
   "source": [
    "# In case you haven't installed the libraries yet, uncomment the lines below.\n",
    "# Note that mapclassify and descartes are dependencies for geopandas\n",
    "\n",
    "#!pip install geopandas \n",
    "#!pip install mapclassify\n",
    "#!pip install descartes\n",
    "#!pip install pipwin\n",
    "#!pipwin install gdal\n",
    "#!pipwin install fiona"
   ]
  },
  {
   "cell_type": "code",
   "execution_count": null,
   "metadata": {},
   "outputs": [],
   "source": [
    "import os\n",
    "\n",
    "import pandas as pd\n",
    "import geopandas as gpd\n",
    "\n",
    "import matplotlib\n",
    "%matplotlib inline"
   ]
  },
  {
   "cell_type": "markdown",
   "metadata": {},
   "source": [
    "# Introduction to geospatial data in Python\n",
    "\n",
    "\"[GeoPandas](https://geopandas.org/) is an open source project to make working with geospatial data in python easier. GeoPandas extends the datatypes used by pandas to allow spatial operations on geometric types. Geometric operations are performed by shapely. `geopandas` further depends on `fiona` for file access and `descartes` and `matplotlib` for plotting.\""
   ]
  },
  {
   "cell_type": "markdown",
   "metadata": {},
   "source": [
    "![geo1](../../Img/Geo1.png)"
   ]
  },
  {
   "cell_type": "markdown",
   "metadata": {},
   "source": [
    "![geo2](../../Img/Geo2.png)"
   ]
  },
  {
   "cell_type": "markdown",
   "metadata": {},
   "source": [
    "![geo3](../../Img/Geo3.png)"
   ]
  },
  {
   "cell_type": "markdown",
   "metadata": {},
   "source": [
    "![geo4](../../Img/Geo4.png)"
   ]
  },
  {
   "cell_type": "markdown",
   "metadata": {},
   "source": [
    "![geo5](../../Img/Geo5.png)"
   ]
  },
  {
   "cell_type": "markdown",
   "metadata": {},
   "source": [
    "![geo6](../../Img/Geo6.png)"
   ]
  },
  {
   "cell_type": "markdown",
   "metadata": {},
   "source": [
    "![geo7](../../Img/Geo7.png)"
   ]
  },
  {
   "cell_type": "markdown",
   "metadata": {},
   "source": [
    "![geo8](../../Img/Geo8.png)"
   ]
  },
  {
   "cell_type": "markdown",
   "metadata": {},
   "source": [
    "![geo9](../../Img/Geo9.png)"
   ]
  },
  {
   "cell_type": "markdown",
   "metadata": {},
   "source": [
    "![geo10](../../Img/Geo10.png)"
   ]
  },
  {
   "cell_type": "markdown",
   "metadata": {},
   "source": [
    "![geo11](../../Img/Geo11.png)"
   ]
  },
  {
   "cell_type": "markdown",
   "metadata": {},
   "source": [
    "![geo12](../../Img/Geo12.png)"
   ]
  },
  {
   "cell_type": "markdown",
   "metadata": {},
   "source": [
    "# DIVA (Data-Interpolating Variational Analysis)\n",
    "\n",
    "[DIVA-GIS](https://www.diva-gis.org/gdata) is an excellent website for downloading free geographic (GIS) data for any country in the world. The [DIVA-GIS software manual](https://www.diva-gis.org/docs/DIVA-GIS_manual_7.pdf) is worth a read as well. \n",
    "\n",
    "### USA example\n",
    "1. Create a folder named USA (or whatever country/state/region you are working with) in your DIGHUM101-2019 directory (this has already been done for you)\n",
    "2. Visit [DIVA-GIS](https://www.diva-gis.org/gdata) and select \"United States\" from the \"Country\" dropdown menu\n",
    "3. Select \"Administrative Areas\" from the \"Subject\" dropdown menu\n",
    "4. Click \"OK\"\n",
    "5. Click \"Download\""
   ]
  },
  {
   "cell_type": "code",
   "execution_count": null,
   "metadata": {},
   "outputs": [],
   "source": [
    "# Check the working directory\n",
    "\n",
    "%pwd"
   ]
  },
  {
   "cell_type": "code",
   "execution_count": null,
   "metadata": {},
   "outputs": [],
   "source": [
    "# Read in the data as a GeoDataFrame\n",
    "# Note the format for reading a zip file.\n",
    "\n",
    "usa = gpd.read_file(\"../../Data/USA_adm.zip\")\n",
    "print(type(usa))\n",
    "usa"
   ]
  },
  {
   "cell_type": "code",
   "execution_count": null,
   "metadata": {},
   "outputs": [],
   "source": [
    "usa.columns"
   ]
  },
  {
   "cell_type": "code",
   "execution_count": null,
   "metadata": {},
   "outputs": [],
   "source": [
    "usa.dtypes"
   ]
  },
  {
   "cell_type": "markdown",
   "metadata": {},
   "source": [
    "Note the \"geometry\" datatype above, which is what makes this a geopandas dataframe."
   ]
  },
  {
   "cell_type": "code",
   "execution_count": null,
   "metadata": {},
   "outputs": [],
   "source": [
    "# Plot it!\n",
    "usa.plot();"
   ]
  },
  {
   "cell_type": "markdown",
   "metadata": {},
   "source": [
    "# State boundaries\n",
    "\n",
    "Now we need to get the state boundaries to overlay on this map."
   ]
  },
  {
   "cell_type": "code",
   "execution_count": null,
   "metadata": {},
   "outputs": [],
   "source": [
    "# Read the file\n",
    "state_boundaries = gpd.read_file(\"../../Data/Geo/us_states/us_states.shp\")\n",
    "print(state_boundaries.shape)\n",
    "state_boundaries.head()"
   ]
  },
  {
   "cell_type": "code",
   "execution_count": null,
   "metadata": {},
   "outputs": [],
   "source": [
    "app_states = [\"KY\", \"VA\", \"TN\", \"WV\"]"
   ]
  },
  {
   "cell_type": "code",
   "execution_count": null,
   "metadata": {},
   "outputs": [],
   "source": [
    "app_states_df = state_boundaries.loc[state_boundaries[\"ABBREV\"].isin([\"KY\", \"VA\", \"TN\", \"WV\"])]\n",
    "app_states_df"
   ]
  },
  {
   "cell_type": "code",
   "execution_count": null,
   "metadata": {},
   "outputs": [],
   "source": [
    "app_states_df.plot();"
   ]
  },
  {
   "cell_type": "code",
   "execution_count": null,
   "metadata": {},
   "outputs": [],
   "source": [
    "# Plot the state boundaries\n",
    "state_boundaries.plot(\n",
    "    \n",
    "    # Width of boundary line\n",
    "    linewidth=0.25, \n",
    "    \n",
    "    # Boundary color line\n",
    "    edgecolor='white', \n",
    "    \n",
    "    # State color\n",
    "    facecolor='green',\n",
    "    \n",
    "    # Figure size\n",
    "    figsize=(14,10)\n",
    ");"
   ]
  },
  {
   "cell_type": "code",
   "execution_count": null,
   "metadata": {},
   "outputs": [],
   "source": [
    "state_boundaries.cx?"
   ]
  },
  {
   "cell_type": "code",
   "execution_count": null,
   "metadata": {},
   "outputs": [],
   "source": [
    "# Spatial subset of the contiguous US (zoom in!)\n",
    "state_boundaries.cx[-130:-70,25:50].plot(linewidth=0.25, \n",
    "                                         edgecolor='white', \n",
    "                                         facecolor='black', \n",
    "                                         figsize=(14,10));"
   ]
  },
  {
   "cell_type": "markdown",
   "metadata": {},
   "source": [
    "# Individual county polygons\n",
    "\n",
    "To get individual state county boundaries, visit https://www.census.gov/geographies/mapping-files/2018/geo/carto-boundary-file.html\n",
    "\n",
    "We want the file \"cb_2018_us_county_5m.zip\" \n",
    "\n",
    "What is California's STATEFP code? "
   ]
  },
  {
   "cell_type": "code",
   "execution_count": null,
   "metadata": {},
   "outputs": [],
   "source": [
    "counties = gpd.read_file(\"zip://../../Data/Geo/cb_2018_us_county_5m.zip\")\n",
    "print(counties.shape)\n",
    "counties.head()"
   ]
  },
  {
   "cell_type": "code",
   "execution_count": null,
   "metadata": {},
   "outputs": [],
   "source": [
    "# Just California...\n",
    "cal_counties = counties.loc[counties[\"STATEFP\"] == \"06\"]\n",
    "print(cal_counties.shape)\n",
    "cal_counties.head()"
   ]
  },
  {
   "cell_type": "code",
   "execution_count": null,
   "metadata": {},
   "outputs": [],
   "source": [
    "# Pull the state info for California\n",
    "state_boundaries.head()"
   ]
  },
  {
   "cell_type": "code",
   "execution_count": null,
   "metadata": {},
   "outputs": [],
   "source": [
    "# Subset to California\n",
    "\n",
    "california = state_boundaries.loc[state_boundaries[\"ABBREV\"] == \"CA\"]\n",
    "california"
   ]
  },
  {
   "cell_type": "code",
   "execution_count": null,
   "metadata": {},
   "outputs": [],
   "source": [
    "# Plot it\n",
    "california.plot(); "
   ]
  },
  {
   "cell_type": "markdown",
   "metadata": {},
   "source": [
    "Let's bring in some more information about these counties, such as the population, the housing units, density, and so on. These data come from the Census Bureau. Visit the [Census Bureau website](https://www.census.gov/data/datasets/time-series/demo/popest/2010s-counties-total.html) to get more information about these counties. "
   ]
  },
  {
   "cell_type": "code",
   "execution_count": null,
   "metadata": {},
   "outputs": [],
   "source": [
    "pop = pd.read_csv(\"../../Data/Geo/DEC_10_SF1_GCTPH1.ST05_with_ann.csv\")\n",
    "print(pop.shape)\n",
    "pop.head()"
   ]
  },
  {
   "cell_type": "markdown",
   "metadata": {},
   "source": [
    "Note that this is not geospatial data (it does not have coordinates in the \"Geography\" column). \n",
    "We need to use  \"Target Geo Id2\" column to match the other dataset later. However, to do so we need to add a 0 to each row in this column first (so it matches the \"GEOID\" column in our `cal_countries` geodataframe."
   ]
  },
  {
   "cell_type": "code",
   "execution_count": null,
   "metadata": {},
   "outputs": [],
   "source": [
    "# Add a zero to the new GEOID column\n",
    "pop[\"GEOID\"] = [\"0\" + str(x) for x in pop[\"Target Geo Id2\"]]\n",
    "pop.head()"
   ]
  },
  {
   "cell_type": "markdown",
   "metadata": {},
   "source": [
    "# Do the join!\n",
    "\n",
    "Now we can combine `cal_counties` and `pop` because they have the same number of rows. We use the `.merge()` method from pandas, similar to what we would do in SQL. \n",
    "\n",
    "In this case, we use the \"GEOID\" column to do an \"inner join\" of these dataframes. This only keep rows where the merge `on` value (in our case, values in the \"GEOID\" column) exists in both the left and right dataframes. (Note we could have also done another type of join as we expect all values in \"GEOID\" to be present). \n",
    "\n",
    "If you want to read more about joining dataframes, check out [this post](https://www.shanelynn.ie/merge-join-dataframes-python-pandas-index-1/) and the [pandas documentation](https://pandas.pydata.org/docs/reference/api/pandas.DataFrame.merge.html).\n",
    "\n",
    "![join](../../Img/join-types-merge-names.jpeg)"
   ]
  },
  {
   "cell_type": "code",
   "execution_count": null,
   "metadata": {
    "scrolled": true
   },
   "outputs": [],
   "source": [
    "geo_pop = pd.merge(cal_counties, pop, on = \"GEOID\", how = \"inner\")"
   ]
  },
  {
   "cell_type": "code",
   "execution_count": null,
   "metadata": {},
   "outputs": [],
   "source": [
    "print(geo_pop.shape)\n",
    "geo_pop.head(3)"
   ]
  },
  {
   "cell_type": "markdown",
   "metadata": {},
   "source": [
    "Note that we now have 24 columns for each row (the combined 10 and 15 columns of our previous 2 dataframes, with the \"GEOID\" column only counting as 1)."
   ]
  },
  {
   "cell_type": "markdown",
   "metadata": {},
   "source": [
    "# Plot\n",
    "\n",
    "Finally, we can plot this new dataframe, making use of the fact we have this census data!"
   ]
  },
  {
   "cell_type": "code",
   "execution_count": null,
   "metadata": {},
   "outputs": [],
   "source": [
    "geo_pop.plot(\n",
    "    # Which column to visualize?\n",
    "    column = \"Housing units\", \n",
    "    \n",
    "    # Which color palette to use?\n",
    "    cmap = \"Reds\", \n",
    "    \n",
    "    # What color should be used to separate the counties?\n",
    "    edgecolor = \"black\", \n",
    "    \n",
    "    # Width of the county boundary lines\n",
    "    linewidth = 0.5, \n",
    "    \n",
    "    # Change figure size\n",
    "    figsize = (10, 10),\n",
    "    \n",
    "    # Add legend\n",
    "    legend = True,\n",
    "    \n",
    "    # What do the different classifier schemes do? Taking values o\n",
    "    scheme = \"quantiles\",\n",
    "    k = 10\n",
    ");"
   ]
  },
  {
   "cell_type": "markdown",
   "metadata": {},
   "source": [
    "The `scheme` attribute above is especially noteworthy. This is a classification scheme that decides how we color-code our data.\n",
    "\n",
    "Visit the [this page](https://pysal.org/mapclassify/_modules/mapclassify/classifiers.html) and pass in different schemes. For instance, how does `scheme = \"Equal_Interval\"` differ from \"quantiles\"? \n",
    "\n",
    "> By the way: This is how people [lie with maps](https://www.amazon.com/How-Lie-Maps-Mark-Monmonier/dp/0226534219)! \n",
    "\n",
    "Let's make one more map, this time using the population density."
   ]
  },
  {
   "cell_type": "code",
   "execution_count": null,
   "metadata": {},
   "outputs": [],
   "source": [
    "geo_pop.plot(column = \"Density per square mile of land area - Population\", \n",
    "             cmap = \"Greens\", \n",
    "             edgecolor = \"black\", \n",
    "             linewidth = 0.1, \n",
    "             scheme = \"Quantiles\", \n",
    "             legend = True, \n",
    "             figsize = (6,6),\n",
    "             k = 7   # if you want to change the number of classes\n",
    "            );"
   ]
  },
  {
   "cell_type": "markdown",
   "metadata": {},
   "source": [
    "## Adding names\n",
    "\n",
    "We can also add names for the counties:"
   ]
  },
  {
   "cell_type": "code",
   "execution_count": null,
   "metadata": {},
   "outputs": [],
   "source": [
    "import matplotlib.pyplot as plt\n",
    "\n",
    "geo_pop_points = geo_pop.to_crs('+proj=cea').centroid.to_crs(geo_pop.crs)\n",
    "\n",
    "ax = geo_pop.plot(figsize = (15, 12), column = \"Housing units\", cmap = \"Reds\", \n",
    "                  edgecolor = \"lightgrey\", linewidth = 0.5)\n",
    "\n",
    "texts = []\n",
    "for x, y, label in zip(geo_pop_points.geometry.x, geo_pop_points.geometry.y, geo_pop[\"NAME\"]):\n",
    "    texts.append(plt.text(x, y, label, fontsize = 8))\n"
   ]
  },
  {
   "cell_type": "markdown",
   "metadata": {},
   "source": [
    "# Going further\n",
    "\n",
    "Much of the information in this notebook came from the [Geospatial Fundamentals in Python](https://github.com/dlab-berkeley/Geospatial-Fundamentals-in-Python) workshop. If you want to learn more, have a look!\n"
   ]
  }
 ],
 "metadata": {
  "kernelspec": {
   "display_name": "Python 3",
   "language": "python",
   "name": "python3"
  },
  "language_info": {
   "codemirror_mode": {
    "name": "ipython",
    "version": 3
   },
   "file_extension": ".py",
   "mimetype": "text/x-python",
   "name": "python",
   "nbconvert_exporter": "python",
   "pygments_lexer": "ipython3",
   "version": "3.8.5"
  }
 },
 "nbformat": 4,
 "nbformat_minor": 4
}
