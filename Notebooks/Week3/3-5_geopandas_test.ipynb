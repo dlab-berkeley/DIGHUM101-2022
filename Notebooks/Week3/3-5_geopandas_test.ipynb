{
 "cells": [
  {
   "cell_type": "markdown",
   "metadata": {},
   "source": [
    "<center><b>DIGHUM101</b></center>\n",
    "<center>3-5: GeoPandas</center>\n",
    "\n",
    "---"
   ]
  },
  {
   "cell_type": "markdown",
   "metadata": {},
   "source": [
    "# Learning objectives\n",
    "\n",
    "1. Understand geospatial data in Python\n",
    "2. Download map of USA and plot it; do the same thing with States and California counties\n",
    "3. Learn how to join population data with the spatial-geometric data"
   ]
  },
  {
   "cell_type": "code",
   "execution_count": null,
   "metadata": {
    "scrolled": true
   },
   "outputs": [],
   "source": [
    "# In case you haven't installed the libraries yet, uncomment the lines below.\n",
    "# Note that mapclassify and descartes are dependencies for geopandas\n",
    "\n",
    "#!pip install geopandas \n",
    "#!pip install mapclassify\n",
    "#!pip install descartes"
   ]
  },
  {
   "cell_type": "code",
   "execution_count": 1,
   "metadata": {},
   "outputs": [],
   "source": [
    "import os\n",
    "\n",
    "import pandas as pd\n",
    "import geopandas as gpd\n",
    "\n",
    "import matplotlib\n",
    "%matplotlib inline"
   ]
  },
  {
   "cell_type": "markdown",
   "metadata": {},
   "source": [
    "# Introduction to geospatial data in Python\n",
    "\n",
    "\"[GeoPandas](https://geopandas.org/) is an open source project to make working with geospatial data in python easier. GeoPandas extends the datatypes used by pandas to allow spatial operations on geometric types. Geometric operations are performed by shapely. `geopandas` further depends on `fiona` for file access and `descartes` and `matplotlib` for plotting.\""
   ]
  },
  {
   "cell_type": "markdown",
   "metadata": {},
   "source": [
    "![geo1](../../Img/Geo1.png)"
   ]
  },
  {
   "cell_type": "markdown",
   "metadata": {},
   "source": [
    "![geo2](../../Img/Geo2.png)"
   ]
  },
  {
   "cell_type": "markdown",
   "metadata": {},
   "source": [
    "![geo3](../../Img/Geo3.png)"
   ]
  },
  {
   "cell_type": "markdown",
   "metadata": {},
   "source": [
    "![geo4](../../Img/Geo4.png)"
   ]
  },
  {
   "cell_type": "markdown",
   "metadata": {},
   "source": [
    "![geo5](../../Img/Geo5.png)"
   ]
  },
  {
   "cell_type": "markdown",
   "metadata": {},
   "source": [
    "![geo6](../../Img/Geo6.png)"
   ]
  },
  {
   "cell_type": "markdown",
   "metadata": {},
   "source": [
    "![geo7](../../Img/Geo7.png)"
   ]
  },
  {
   "cell_type": "markdown",
   "metadata": {},
   "source": [
    "![geo8](../../Img/Geo8.png)"
   ]
  },
  {
   "cell_type": "markdown",
   "metadata": {},
   "source": [
    "![geo9](../../Img/Geo9.png)"
   ]
  },
  {
   "cell_type": "markdown",
   "metadata": {},
   "source": [
    "![geo10](../../Img/Geo10.png)"
   ]
  },
  {
   "cell_type": "markdown",
   "metadata": {},
   "source": [
    "![geo11](../../Img/Geo11.png)"
   ]
  },
  {
   "cell_type": "markdown",
   "metadata": {},
   "source": [
    "![geo12](../../Img/Geo12.png)"
   ]
  },
  {
   "cell_type": "markdown",
   "metadata": {},
   "source": [
    "# DIVA (Data-Interpolating Variational Analysis)\n",
    "\n",
    "[DIVA-GIS](https://www.diva-gis.org/gdata) is an excellent website for downloading free geographic (GIS) data for any country in the world. The [DIVA-GIS software manual](https://www.diva-gis.org/docs/DIVA-GIS_manual_7.pdf) is worth a read as well. \n",
    "\n",
    "### USA example\n",
    "1. Create a folder named USA (or whatever country/state/region you are working with) in your DIGHUM101-2019 directory (this has already been done for you)\n",
    "2. Visit [DIVA-GIS](https://www.diva-gis.org/gdata) and select \"United States\" from the \"Country\" dropdown menu\n",
    "3. Select \"Administrative Areas\" from the \"Subject\" dropdown menu\n",
    "4. Click \"OK\"\n",
    "5. Click \"Download\""
   ]
  },
  {
   "cell_type": "code",
   "execution_count": null,
   "metadata": {},
   "outputs": [],
   "source": [
    "# Check the working directory\n",
    "\n",
    "%pwd"
   ]
  },
  {
   "cell_type": "code",
   "execution_count": null,
   "metadata": {},
   "outputs": [],
   "source": [
    "# Read in the data as a GeoDataFrame\n",
    "# Note the format for reading a zip file.\n",
    "\n",
    "usa = gpd.read_file(\"../../Data/USA_adm.zip\")\n",
    "print(type(usa))\n",
    "usa"
   ]
  },
  {
   "cell_type": "code",
   "execution_count": null,
   "metadata": {},
   "outputs": [],
   "source": [
    "usa.columns"
   ]
  },
  {
   "cell_type": "code",
   "execution_count": null,
   "metadata": {},
   "outputs": [],
   "source": [
    "usa.dtypes"
   ]
  },
  {
   "cell_type": "markdown",
   "metadata": {},
   "source": [
    "Note the \"geometry\" datatype above, which is what makes this a geopandas dataframe."
   ]
  },
  {
   "cell_type": "code",
   "execution_count": null,
   "metadata": {},
   "outputs": [],
   "source": [
    "# Plot it!\n",
    "usa.plot();"
   ]
  },
  {
   "cell_type": "markdown",
   "metadata": {},
   "source": [
    "# State boundaries\n",
    "\n",
    "Now we need to get the state boundaries to overlay on this map."
   ]
  },
  {
   "cell_type": "code",
   "execution_count": 54,
   "metadata": {},
   "outputs": [
    {
     "data": {
      "text/html": [
       "<div>\n",
       "<style scoped>\n",
       "    .dataframe tbody tr th:only-of-type {\n",
       "        vertical-align: middle;\n",
       "    }\n",
       "\n",
       "    .dataframe tbody tr th {\n",
       "        vertical-align: top;\n",
       "    }\n",
       "\n",
       "    .dataframe thead th {\n",
       "        text-align: right;\n",
       "    }\n",
       "</style>\n",
       "<table border=\"1\" class=\"dataframe\">\n",
       "  <thead>\n",
       "    <tr style=\"text-align: right;\">\n",
       "      <th></th>\n",
       "      <th>MED_DESCRI</th>\n",
       "      <th>RTT_DESCRI</th>\n",
       "      <th>F_CODE_DES</th>\n",
       "      <th>ISO</th>\n",
       "      <th>ISOCOUNTRY</th>\n",
       "      <th>geometry</th>\n",
       "    </tr>\n",
       "  </thead>\n",
       "  <tbody>\n",
       "    <tr>\n",
       "      <th>0</th>\n",
       "      <td>Without Median</td>\n",
       "      <td>Secondary Route</td>\n",
       "      <td>Road</td>\n",
       "      <td>ARG</td>\n",
       "      <td>ARGENTINA</td>\n",
       "      <td>LINESTRING (-66.04264 -21.91613, -66.04514 -21...</td>\n",
       "    </tr>\n",
       "    <tr>\n",
       "      <th>1</th>\n",
       "      <td>Without Median</td>\n",
       "      <td>Secondary Route</td>\n",
       "      <td>Road</td>\n",
       "      <td>ARG</td>\n",
       "      <td>ARGENTINA</td>\n",
       "      <td>LINESTRING (-63.67709 -22.00297, -63.68187 -22...</td>\n",
       "    </tr>\n",
       "    <tr>\n",
       "      <th>2</th>\n",
       "      <td>Without Median</td>\n",
       "      <td>Secondary Route</td>\n",
       "      <td>Road</td>\n",
       "      <td>ARG</td>\n",
       "      <td>ARGENTINA</td>\n",
       "      <td>LINESTRING (-66.05019 -21.94687, -66.06438 -21...</td>\n",
       "    </tr>\n",
       "    <tr>\n",
       "      <th>3</th>\n",
       "      <td>Without Median</td>\n",
       "      <td>Secondary Route</td>\n",
       "      <td>Road</td>\n",
       "      <td>ARG</td>\n",
       "      <td>ARGENTINA</td>\n",
       "      <td>LINESTRING (-65.85629 -22.10387, -65.85206 -22...</td>\n",
       "    </tr>\n",
       "    <tr>\n",
       "      <th>4</th>\n",
       "      <td>Without Median</td>\n",
       "      <td>Secondary Route</td>\n",
       "      <td>Road</td>\n",
       "      <td>ARG</td>\n",
       "      <td>ARGENTINA</td>\n",
       "      <td>LINESTRING (-66.05019 -21.94687, -66.02594 -21...</td>\n",
       "    </tr>\n",
       "    <tr>\n",
       "      <th>...</th>\n",
       "      <td>...</td>\n",
       "      <td>...</td>\n",
       "      <td>...</td>\n",
       "      <td>...</td>\n",
       "      <td>...</td>\n",
       "      <td>...</td>\n",
       "    </tr>\n",
       "    <tr>\n",
       "      <th>9667</th>\n",
       "      <td>Without Median</td>\n",
       "      <td>Secondary Route</td>\n",
       "      <td>Road</td>\n",
       "      <td>ARG</td>\n",
       "      <td>None</td>\n",
       "      <td>LINESTRING (-58.31385 -24.99346, -58.31364 -24...</td>\n",
       "    </tr>\n",
       "    <tr>\n",
       "      <th>9668</th>\n",
       "      <td>Without Median</td>\n",
       "      <td>Secondary Route</td>\n",
       "      <td>Road</td>\n",
       "      <td>ARG</td>\n",
       "      <td>None</td>\n",
       "      <td>LINESTRING (-53.98145 -25.58386, -53.98132 -25...</td>\n",
       "    </tr>\n",
       "    <tr>\n",
       "      <th>9669</th>\n",
       "      <td>Without Median</td>\n",
       "      <td>Secondary Route</td>\n",
       "      <td>Road</td>\n",
       "      <td>ARG</td>\n",
       "      <td>None</td>\n",
       "      <td>LINESTRING (-54.43710 -25.70139, -54.43707 -25...</td>\n",
       "    </tr>\n",
       "    <tr>\n",
       "      <th>9670</th>\n",
       "      <td>Without Median</td>\n",
       "      <td>Secondary Route</td>\n",
       "      <td>Road</td>\n",
       "      <td>ARG</td>\n",
       "      <td>None</td>\n",
       "      <td>MULTILINESTRING ((-58.25107 -33.07996, -58.251...</td>\n",
       "    </tr>\n",
       "    <tr>\n",
       "      <th>9671</th>\n",
       "      <td>Without Median</td>\n",
       "      <td>Primary Route</td>\n",
       "      <td>Road</td>\n",
       "      <td>ARG</td>\n",
       "      <td>None</td>\n",
       "      <td>LINESTRING (-54.58249 -25.59119, -54.58159 -25...</td>\n",
       "    </tr>\n",
       "  </tbody>\n",
       "</table>\n",
       "<p>9672 rows × 6 columns</p>\n",
       "</div>"
      ],
      "text/plain": [
       "          MED_DESCRI       RTT_DESCRI F_CODE_DES  ISO ISOCOUNTRY  \\\n",
       "0     Without Median  Secondary Route       Road  ARG  ARGENTINA   \n",
       "1     Without Median  Secondary Route       Road  ARG  ARGENTINA   \n",
       "2     Without Median  Secondary Route       Road  ARG  ARGENTINA   \n",
       "3     Without Median  Secondary Route       Road  ARG  ARGENTINA   \n",
       "4     Without Median  Secondary Route       Road  ARG  ARGENTINA   \n",
       "...              ...              ...        ...  ...        ...   \n",
       "9667  Without Median  Secondary Route       Road  ARG       None   \n",
       "9668  Without Median  Secondary Route       Road  ARG       None   \n",
       "9669  Without Median  Secondary Route       Road  ARG       None   \n",
       "9670  Without Median  Secondary Route       Road  ARG       None   \n",
       "9671  Without Median    Primary Route       Road  ARG       None   \n",
       "\n",
       "                                               geometry  \n",
       "0     LINESTRING (-66.04264 -21.91613, -66.04514 -21...  \n",
       "1     LINESTRING (-63.67709 -22.00297, -63.68187 -22...  \n",
       "2     LINESTRING (-66.05019 -21.94687, -66.06438 -21...  \n",
       "3     LINESTRING (-65.85629 -22.10387, -65.85206 -22...  \n",
       "4     LINESTRING (-66.05019 -21.94687, -66.02594 -21...  \n",
       "...                                                 ...  \n",
       "9667  LINESTRING (-58.31385 -24.99346, -58.31364 -24...  \n",
       "9668  LINESTRING (-53.98145 -25.58386, -53.98132 -25...  \n",
       "9669  LINESTRING (-54.43710 -25.70139, -54.43707 -25...  \n",
       "9670  MULTILINESTRING ((-58.25107 -33.07996, -58.251...  \n",
       "9671  LINESTRING (-54.58249 -25.59119, -54.58159 -25...  \n",
       "\n",
       "[9672 rows x 6 columns]"
      ]
     },
     "execution_count": 54,
     "metadata": {},
     "output_type": "execute_result"
    }
   ],
   "source": [
    "rds"
   ]
  },
  {
   "cell_type": "code",
   "execution_count": 16,
   "metadata": {},
   "outputs": [
    {
     "name": "stdout",
     "output_type": "stream",
     "text": [
      "(56, 4)\n"
     ]
    },
    {
     "data": {
      "text/html": [
       "<div>\n",
       "<style scoped>\n",
       "    .dataframe tbody tr th:only-of-type {\n",
       "        vertical-align: middle;\n",
       "    }\n",
       "\n",
       "    .dataframe tbody tr th {\n",
       "        vertical-align: top;\n",
       "    }\n",
       "\n",
       "    .dataframe thead th {\n",
       "        text-align: right;\n",
       "    }\n",
       "</style>\n",
       "<table border=\"1\" class=\"dataframe\">\n",
       "  <thead>\n",
       "    <tr style=\"text-align: right;\">\n",
       "      <th></th>\n",
       "      <th>STATE</th>\n",
       "      <th>GEOID</th>\n",
       "      <th>ABBREV</th>\n",
       "      <th>geometry</th>\n",
       "    </tr>\n",
       "  </thead>\n",
       "  <tbody>\n",
       "    <tr>\n",
       "      <th>0</th>\n",
       "      <td>Alabama</td>\n",
       "      <td>01</td>\n",
       "      <td>AL</td>\n",
       "      <td>MULTIPOLYGON (((-88.05338 30.50699, -88.05109 ...</td>\n",
       "    </tr>\n",
       "    <tr>\n",
       "      <th>1</th>\n",
       "      <td>Alaska</td>\n",
       "      <td>02</td>\n",
       "      <td>AK</td>\n",
       "      <td>MULTIPOLYGON (((-134.73726 58.26135, -134.7344...</td>\n",
       "    </tr>\n",
       "    <tr>\n",
       "      <th>2</th>\n",
       "      <td>Arizona</td>\n",
       "      <td>04</td>\n",
       "      <td>AZ</td>\n",
       "      <td>POLYGON ((-114.81629 32.50804, -114.81432 32.5...</td>\n",
       "    </tr>\n",
       "    <tr>\n",
       "      <th>3</th>\n",
       "      <td>Arkansas</td>\n",
       "      <td>05</td>\n",
       "      <td>AR</td>\n",
       "      <td>POLYGON ((-94.61783 36.49941, -94.61765 36.499...</td>\n",
       "    </tr>\n",
       "    <tr>\n",
       "      <th>4</th>\n",
       "      <td>California</td>\n",
       "      <td>06</td>\n",
       "      <td>CA</td>\n",
       "      <td>MULTIPOLYGON (((-118.60442 33.47855, -118.5987...</td>\n",
       "    </tr>\n",
       "  </tbody>\n",
       "</table>\n",
       "</div>"
      ],
      "text/plain": [
       "        STATE GEOID ABBREV                                           geometry\n",
       "0     Alabama    01     AL  MULTIPOLYGON (((-88.05338 30.50699, -88.05109 ...\n",
       "1      Alaska    02     AK  MULTIPOLYGON (((-134.73726 58.26135, -134.7344...\n",
       "2     Arizona    04     AZ  POLYGON ((-114.81629 32.50804, -114.81432 32.5...\n",
       "3    Arkansas    05     AR  POLYGON ((-94.61783 36.49941, -94.61765 36.499...\n",
       "4  California    06     CA  MULTIPOLYGON (((-118.60442 33.47855, -118.5987..."
      ]
     },
     "execution_count": 16,
     "metadata": {},
     "output_type": "execute_result"
    }
   ],
   "source": [
    "# Read the file\n",
    "\n",
    "state_boundaries = gpd.read_file(\"../../Data/Geo/us_states.zip\")\n",
    "print(state_boundaries.shape)\n",
    "state_boundaries.head()"
   ]
  },
  {
   "cell_type": "code",
   "execution_count": 17,
   "metadata": {},
   "outputs": [],
   "source": [
    "app_states = [\"KY\", \"VA\", \"TN\", \"WV\"]"
   ]
  },
  {
   "cell_type": "code",
   "execution_count": 18,
   "metadata": {},
   "outputs": [
    {
     "data": {
      "text/html": [
       "<div>\n",
       "<style scoped>\n",
       "    .dataframe tbody tr th:only-of-type {\n",
       "        vertical-align: middle;\n",
       "    }\n",
       "\n",
       "    .dataframe tbody tr th {\n",
       "        vertical-align: top;\n",
       "    }\n",
       "\n",
       "    .dataframe thead th {\n",
       "        text-align: right;\n",
       "    }\n",
       "</style>\n",
       "<table border=\"1\" class=\"dataframe\">\n",
       "  <thead>\n",
       "    <tr style=\"text-align: right;\">\n",
       "      <th></th>\n",
       "      <th>STATE</th>\n",
       "      <th>GEOID</th>\n",
       "      <th>ABBREV</th>\n",
       "      <th>geometry</th>\n",
       "    </tr>\n",
       "  </thead>\n",
       "  <tbody>\n",
       "    <tr>\n",
       "      <th>30</th>\n",
       "      <td>West Virginia</td>\n",
       "      <td>54</td>\n",
       "      <td>WV</td>\n",
       "      <td>POLYGON ((-82.64320 38.16909, -82.64300 38.169...</td>\n",
       "    </tr>\n",
       "    <tr>\n",
       "      <th>35</th>\n",
       "      <td>Kentucky</td>\n",
       "      <td>21</td>\n",
       "      <td>KY</td>\n",
       "      <td>MULTIPOLYGON (((-89.40565 36.52817, -89.39869 ...</td>\n",
       "    </tr>\n",
       "    <tr>\n",
       "      <th>48</th>\n",
       "      <td>Tennessee</td>\n",
       "      <td>47</td>\n",
       "      <td>TN</td>\n",
       "      <td>POLYGON ((-90.31030 35.00429, -90.30988 35.009...</td>\n",
       "    </tr>\n",
       "    <tr>\n",
       "      <th>50</th>\n",
       "      <td>Virginia</td>\n",
       "      <td>51</td>\n",
       "      <td>VA</td>\n",
       "      <td>MULTIPOLYGON (((-75.74241 37.80835, -75.74151 ...</td>\n",
       "    </tr>\n",
       "  </tbody>\n",
       "</table>\n",
       "</div>"
      ],
      "text/plain": [
       "            STATE GEOID ABBREV  \\\n",
       "30  West Virginia    54     WV   \n",
       "35       Kentucky    21     KY   \n",
       "48      Tennessee    47     TN   \n",
       "50       Virginia    51     VA   \n",
       "\n",
       "                                             geometry  \n",
       "30  POLYGON ((-82.64320 38.16909, -82.64300 38.169...  \n",
       "35  MULTIPOLYGON (((-89.40565 36.52817, -89.39869 ...  \n",
       "48  POLYGON ((-90.31030 35.00429, -90.30988 35.009...  \n",
       "50  MULTIPOLYGON (((-75.74241 37.80835, -75.74151 ...  "
      ]
     },
     "execution_count": 18,
     "metadata": {},
     "output_type": "execute_result"
    }
   ],
   "source": [
    "app_states_df = state_boundaries.loc[state_boundaries[\"ABBREV\"].isin([\"KY\", \"VA\", \"TN\", \"WV\"])]\n",
    "app_states_df"
   ]
  },
  {
   "cell_type": "code",
   "execution_count": 19,
   "metadata": {},
   "outputs": [
    {
     "data": {
      "image/png": "[encoded data removed]",
      "text/plain": [
       "<Figure size 432x288 with 1 Axes>"
      ]
     },
     "metadata": {
      "needs_background": "light"
     },
     "output_type": "display_data"
    }
   ],
   "source": [
    "app_states_df.plot();"
   ]
  },
  {
   "cell_type": "code",
   "execution_count": 31,
   "metadata": {},
   "outputs": [
    {
     "data": {
      "image/png": "[encoded data removed]",
      "text/plain": [
       "<Figure size 1008x720 with 1 Axes>"
      ]
     },
     "metadata": {
      "needs_background": "light"
     },
     "output_type": "display_data"
    }
   ],
   "source": [
    "# Plot the state boundaries\n",
    "state_boundaries.plot(\n",
    "    \n",
    "    # Width of boundary line\n",
    "    linewidth=0.25, \n",
    "    \n",
    "    # Boundary color line\n",
    "    edgecolor='white', \n",
    "    \n",
    "    # State color\n",
    "    facecolor='green',\n",
    "    \n",
    "    # Figure size\n",
    "    figsize=(14,10)\n",
    ");"
   ]
  },
  {
   "cell_type": "code",
   "execution_count": 32,
   "metadata": {},
   "outputs": [
    {
     "data": {
      "text/plain": [
       "\u001b[0;31mType:\u001b[0m        property\n",
       "\u001b[0;31mString form:\u001b[0m <property object at 0x7fa839173cc0>\n",
       "\u001b[0;31mDocstring:\u001b[0m  \n",
       "Coordinate based indexer to select by intersection with bounding box.\n",
       "\n",
       "Format of input should be ``.cx[xmin:xmax, ymin:ymax]``. Any of\n",
       "``xmin``, ``xmax``, ``ymin``, and ``ymax`` can be provided, but input\n",
       "must include a comma separating x and y slices. That is, ``.cx[:, :]``\n",
       "will return the full series/frame, but ``.cx[:]`` is not implemented.\n",
       "\n",
       "Examples\n",
       "--------\n",
       ">>> from shapely.geometry import LineString, Point\n",
       ">>> s = geopandas.GeoSeries(\n",
       "...     [Point(0, 0), Point(1, 2), Point(3, 3), LineString([(0, 0), (3, 3)])]\n",
       "... )\n",
       ">>> s\n",
       "0                          POINT (0.00000 0.00000)\n",
       "1                          POINT (1.00000 2.00000)\n",
       "2                          POINT (3.00000 3.00000)\n",
       "3    LINESTRING (0.00000 0.00000, 3.00000 3.00000)\n",
       "dtype: geometry\n",
       "\n",
       ">>> s.cx[0:1, 0:1]\n",
       "0                          POINT (0.00000 0.00000)\n",
       "3    LINESTRING (0.00000 0.00000, 3.00000 3.00000)\n",
       "dtype: geometry\n",
       "\n",
       ">>> s.cx[:, 1:]\n",
       "1                          POINT (1.00000 2.00000)\n",
       "2                          POINT (3.00000 3.00000)\n",
       "3    LINESTRING (0.00000 0.00000, 3.00000 3.00000)\n",
       "dtype: geometry\n"
      ]
     },
     "metadata": {},
     "output_type": "display_data"
    }
   ],
   "source": [
    "state_boundaries.cx?"
   ]
  },
  {
   "cell_type": "code",
   "execution_count": 33,
   "metadata": {},
   "outputs": [
    {
     "data": {
      "image/png": "[encoded data removed]",
      "text/plain": [
       "<Figure size 1008x720 with 1 Axes>"
      ]
     },
     "metadata": {
      "needs_background": "light"
     },
     "output_type": "display_data"
    }
   ],
   "source": [
    "# Spatial subset of the contiguous US (zoom in!)\n",
    "state_boundaries.cx[-130:-70,25:50].plot(linewidth=0.25, \n",
    "                                         edgecolor='white', \n",
    "                                         facecolor='black', \n",
    "                                         figsize=(14,10));"
   ]
  },
  {
   "cell_type": "markdown",
   "metadata": {},
   "source": [
    "# Individual county polygons\n",
    "\n",
    "To get individual state county boundaries, visit https://www.census.gov/geographies/mapping-files/2018/geo/carto-boundary-file.html\n",
    "\n",
    "We want the file \"cb_2018_us_county_5m.zip\" What is California's STATEFP code? "
   ]
  },
  {
   "cell_type": "code",
   "execution_count": 34,
   "metadata": {},
   "outputs": [
    {
     "name": "stdout",
     "output_type": "stream",
     "text": [
      "(3233, 10)\n"
     ]
    },
    {
     "data": {
      "text/html": [
       "<div>\n",
       "<style scoped>\n",
       "    .dataframe tbody tr th:only-of-type {\n",
       "        vertical-align: middle;\n",
       "    }\n",
       "\n",
       "    .dataframe tbody tr th {\n",
       "        vertical-align: top;\n",
       "    }\n",
       "\n",
       "    .dataframe thead th {\n",
       "        text-align: right;\n",
       "    }\n",
       "</style>\n",
       "<table border=\"1\" class=\"dataframe\">\n",
       "  <thead>\n",
       "    <tr style=\"text-align: right;\">\n",
       "      <th></th>\n",
       "      <th>STATEFP</th>\n",
       "      <th>COUNTYFP</th>\n",
       "      <th>COUNTYNS</th>\n",
       "      <th>AFFGEOID</th>\n",
       "      <th>GEOID</th>\n",
       "      <th>NAME</th>\n",
       "      <th>LSAD</th>\n",
       "      <th>ALAND</th>\n",
       "      <th>AWATER</th>\n",
       "      <th>geometry</th>\n",
       "    </tr>\n",
       "  </thead>\n",
       "  <tbody>\n",
       "    <tr>\n",
       "      <th>0</th>\n",
       "      <td>39</td>\n",
       "      <td>071</td>\n",
       "      <td>01074048</td>\n",
       "      <td>0500000US39071</td>\n",
       "      <td>39071</td>\n",
       "      <td>Highland</td>\n",
       "      <td>06</td>\n",
       "      <td>1432479992</td>\n",
       "      <td>12194983</td>\n",
       "      <td>POLYGON ((-83.86976 39.05553, -83.86568 39.247...</td>\n",
       "    </tr>\n",
       "    <tr>\n",
       "      <th>1</th>\n",
       "      <td>06</td>\n",
       "      <td>003</td>\n",
       "      <td>01675840</td>\n",
       "      <td>0500000US06003</td>\n",
       "      <td>06003</td>\n",
       "      <td>Alpine</td>\n",
       "      <td>06</td>\n",
       "      <td>1912292630</td>\n",
       "      <td>12557304</td>\n",
       "      <td>POLYGON ((-120.07248 38.50987, -120.07239 38.7...</td>\n",
       "    </tr>\n",
       "    <tr>\n",
       "      <th>2</th>\n",
       "      <td>12</td>\n",
       "      <td>033</td>\n",
       "      <td>00295737</td>\n",
       "      <td>0500000US12033</td>\n",
       "      <td>12033</td>\n",
       "      <td>Escambia</td>\n",
       "      <td>06</td>\n",
       "      <td>1701544502</td>\n",
       "      <td>563927612</td>\n",
       "      <td>POLYGON ((-87.62999 30.87766, -87.62946 30.880...</td>\n",
       "    </tr>\n",
       "    <tr>\n",
       "      <th>3</th>\n",
       "      <td>17</td>\n",
       "      <td>101</td>\n",
       "      <td>00424252</td>\n",
       "      <td>0500000US17101</td>\n",
       "      <td>17101</td>\n",
       "      <td>Lawrence</td>\n",
       "      <td>06</td>\n",
       "      <td>963936864</td>\n",
       "      <td>5077783</td>\n",
       "      <td>POLYGON ((-87.91028 38.57493, -87.90811 38.850...</td>\n",
       "    </tr>\n",
       "    <tr>\n",
       "      <th>4</th>\n",
       "      <td>28</td>\n",
       "      <td>153</td>\n",
       "      <td>00695797</td>\n",
       "      <td>0500000US28153</td>\n",
       "      <td>28153</td>\n",
       "      <td>Wayne</td>\n",
       "      <td>06</td>\n",
       "      <td>2099745573</td>\n",
       "      <td>7255476</td>\n",
       "      <td>POLYGON ((-88.94317 31.78421, -88.94335 31.824...</td>\n",
       "    </tr>\n",
       "  </tbody>\n",
       "</table>\n",
       "</div>"
      ],
      "text/plain": [
       "  STATEFP COUNTYFP  COUNTYNS        AFFGEOID  GEOID      NAME LSAD  \\\n",
       "0      39      071  01074048  0500000US39071  39071  Highland   06   \n",
       "1      06      003  01675840  0500000US06003  06003    Alpine   06   \n",
       "2      12      033  00295737  0500000US12033  12033  Escambia   06   \n",
       "3      17      101  00424252  0500000US17101  17101  Lawrence   06   \n",
       "4      28      153  00695797  0500000US28153  28153     Wayne   06   \n",
       "\n",
       "        ALAND     AWATER                                           geometry  \n",
       "0  1432479992   12194983  POLYGON ((-83.86976 39.05553, -83.86568 39.247...  \n",
       "1  1912292630   12557304  POLYGON ((-120.07248 38.50987, -120.07239 38.7...  \n",
       "2  1701544502  563927612  POLYGON ((-87.62999 30.87766, -87.62946 30.880...  \n",
       "3   963936864    5077783  POLYGON ((-87.91028 38.57493, -87.90811 38.850...  \n",
       "4  2099745573    7255476  POLYGON ((-88.94317 31.78421, -88.94335 31.824...  "
      ]
     },
     "execution_count": 34,
     "metadata": {},
     "output_type": "execute_result"
    }
   ],
   "source": [
    "counties = gpd.read_file(\"zip://../../Data/Geo/cb_2018_us_county_5m.zip\")\n",
    "print(counties.shape)\n",
    "counties.head()"
   ]
  },
  {
   "cell_type": "code",
   "execution_count": null,
   "metadata": {},
   "outputs": [],
   "source": [
    "# Just California...\n",
    "cal_counties = counties.loc[counties[\"STATEFP\"] == \"06\"]\n",
    "print(cal_counties.shape)\n",
    "cal_counties.head()"
   ]
  },
  {
   "cell_type": "code",
   "execution_count": null,
   "metadata": {},
   "outputs": [],
   "source": [
    "# Pull the state info for California\n",
    "state_boundaries.head()"
   ]
  },
  {
   "cell_type": "code",
   "execution_count": null,
   "metadata": {},
   "outputs": [],
   "source": [
    "# Subset to California\n",
    "\n",
    "california = state_boundaries.loc[state_boundaries[\"ABBREV\"] == \"CA\"]\n",
    "california"
   ]
  },
  {
   "cell_type": "code",
   "execution_count": null,
   "metadata": {},
   "outputs": [],
   "source": [
    "# Plot it\n",
    "california.plot(); "
   ]
  },
  {
   "cell_type": "markdown",
   "metadata": {},
   "source": [
    "Let's bring in some more information about these counties, such as the population, the housing units, density, and so on. These data come from the Census Bureau. Visit the [Census Bureau website](https://www.census.gov/data/datasets/time-series/demo/popest/2010s-counties-total.html) to get more information about these counties. "
   ]
  },
  {
   "cell_type": "code",
   "execution_count": null,
   "metadata": {},
   "outputs": [],
   "source": [
    "pop = pd.read_csv(\"../../Data/Geo/DEC_10_SF1_GCTPH1.ST05_with_ann.csv\")\n",
    "print(pop.shape)\n",
    "pop.head()"
   ]
  },
  {
   "cell_type": "markdown",
   "metadata": {},
   "source": [
    "Note that this is not geospatial data (it does not have coordinates in the \"Geography\" column). \n",
    "We need to use  \"Target Geo Id2\" column to match the other dataset later. However, to do so we need to add a 0 to each row in this column first (so it matches the \"GEOID\" column in our `cal_countries` geodataframe."
   ]
  },
  {
   "cell_type": "code",
   "execution_count": null,
   "metadata": {},
   "outputs": [],
   "source": [
    "# Add a zero to the new GEOID column\n",
    "pop[\"GEOID\"] = [\"0\" + str(x) for x in pop[\"Target Geo Id2\"]]\n",
    "pop.head()"
   ]
  },
  {
   "cell_type": "markdown",
   "metadata": {},
   "source": [
    "# Do the join!\n",
    "\n",
    "Now we can combine `cal_counties` and `pop` because they have the same number of rows. We use the `.merge()` method from pandas, similar to what we would do in SQL. \n",
    "\n",
    "In this case, we use the \"GEOID\" column to do an \"inner join\" of these dataframes. This only keep rows where the merge `on` value (in our case, values in the \"GEOID\" column) exists in both the left and right dataframes. (Note we could have also done another type of join as we expect all values in \"GEOID\" to be present). \n",
    "\n",
    "If you want to read more about joining dataframes, check out [this post](https://www.shanelynn.ie/merge-join-dataframes-python-pandas-index-1/) and the [pandas documentation](https://pandas.pydata.org/docs/reference/api/pandas.DataFrame.merge.html).\n",
    "\n",
    "![join](../../Img/join-types-merge-names.jpeg)"
   ]
  },
  {
   "cell_type": "code",
   "execution_count": null,
   "metadata": {
    "scrolled": true
   },
   "outputs": [],
   "source": [
    "geo_pop = pd.merge(cal_counties, pop, on = \"GEOID\", how = \"inner\")\n",
    "print(geo_pop.shape)\n",
    "geo_pop.head()"
   ]
  },
  {
   "cell_type": "markdown",
   "metadata": {},
   "source": [
    "Note that we now have 24 columns for each row (the combined 10 and 15 columns of our previous 2 dataframes, with the \"GEOID\" column only counting as 1)."
   ]
  },
  {
   "cell_type": "markdown",
   "metadata": {},
   "source": [
    "# Plot\n",
    "\n",
    "Finally, we can plot this new dataframe, making use of the fact we have this census data!"
   ]
  },
  {
   "cell_type": "code",
   "execution_count": null,
   "metadata": {},
   "outputs": [],
   "source": [
    "geo_pop.plot(\n",
    "    # Which column to visualize?\n",
    "    column = \"Housing units\", \n",
    "    \n",
    "    # Which color palette to use?\n",
    "    cmap = \"Reds\", \n",
    "    \n",
    "    # What color should be used to separate the counties?\n",
    "    edgecolor = \"black\", \n",
    "    \n",
    "    # Width of the county boundary lines\n",
    "    linewidth = 0.5, \n",
    "    \n",
    "    # Change figure size\n",
    "    figsize = (10, 10),\n",
    "    \n",
    "    # Add legend\n",
    "    legend = True,\n",
    "    \n",
    "    # What do the different classifier schemes do? \n",
    "    scheme = \"quantiles\",\n",
    "    k = 10\n",
    ");"
   ]
  },
  {
   "cell_type": "markdown",
   "metadata": {},
   "source": [
    "The `scheme` attribute above is especially noteworthy. This is a classification scheme that decides how we color-code our data.\n",
    "\n",
    "Visit the [this page](https://pysal.org/mapclassify/_modules/mapclassify/classifiers.html) and pass in different schemes. For instance, how does `scheme = \"Equal_Interval\"` differ from \"quantiles\"? \n",
    "\n",
    "> By the way: This is how people [lie with maps](https://www.amazon.com/How-Lie-Maps-Mark-Monmonier/dp/0226534219)! \n",
    "\n",
    "Let's make one more map, this time using the population density."
   ]
  },
  {
   "cell_type": "code",
   "execution_count": null,
   "metadata": {},
   "outputs": [],
   "source": [
    "geo_pop.plot(column = \"Density per square mile of land area - Population\", \n",
    "             cmap = \"Greens\", \n",
    "             edgecolor = \"black\", \n",
    "             linewidth = 0.1, \n",
    "             scheme = \"Quantiles\", \n",
    "             legend = True, \n",
    "             figsize = (6,6),\n",
    "             k = 7   # if you want to change the number of classes\n",
    "            );"
   ]
  },
  {
   "cell_type": "code",
   "execution_count": null,
   "metadata": {},
   "outputs": [],
   "source": [
    "# Just a test with some data from https://www.diva-gis.org/datadown\n",
    "\n",
    "# Read the file\n",
    "\n",
    "adm = gpd.read_file(\"../../Data/Geo/ARG_adm.zip\")\n",
    "rds = gpd.read_file(\"../../Data/Geo/ARG_rds.zip\")\n"
   ]
  },
  {
   "cell_type": "code",
   "execution_count": null,
   "metadata": {},
   "outputs": [],
   "source": [
    "adm.head(3)"
   ]
  },
  {
   "cell_type": "code",
   "execution_count": null,
   "metadata": {},
   "outputs": [],
   "source": [
    "rds.head(30)"
   ]
  },
  {
   "cell_type": "code",
   "execution_count": null,
   "metadata": {},
   "outputs": [],
   "source": [
    "rds.RTT_DESCRI.value_counts()"
   ]
  },
  {
   "cell_type": "code",
   "execution_count": null,
   "metadata": {},
   "outputs": [],
   "source": [
    "ax = adm.plot(color=\"white\", edgecolor='black',figsize=(14,10))\n",
    "rds.plot(column=\"RTT_DESCRI\", cmap=\"Pastel2\", ax=ax);"
   ]
  },
  {
   "cell_type": "markdown",
   "metadata": {},
   "source": [
    "# Going further\n",
    "\n",
    "Much of the information in this notebook came from the [Geospatial Fundamentals in Python](https://github.com/dlab-berkeley/Geospatial-Fundamentals-in-Python) workshop. If you want to learn more, have a look!\n"
   ]
  }
 ],
 "metadata": {
  "kernelspec": {
   "display_name": "Python 3",
   "language": "python",
   "name": "python3"
  },
  "language_info": {
   "codemirror_mode": {
    "name": "ipython",
    "version": 3
   },
   "file_extension": ".py",
   "mimetype": "text/x-python",
   "name": "python",
   "nbconvert_exporter": "python",
   "pygments_lexer": "ipython3",
   "version": "3.8.5"
  }
 },
 "nbformat": 4,
 "nbformat_minor": 4
}
