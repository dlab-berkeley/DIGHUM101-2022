{
 "cells": [
  {
   "cell_type": "markdown",
   "metadata": {},
   "source": [
    "# Web scraping with BeautifulSoup\n",
    "\n",
    "Web scraping is programmatically collecting information from various websites. While there are many libraries and frameworks in various languages that can extract web data, Python has long been a popular choice because of its plethora of options for web scraping.\n",
    "\n",
    "# Ethical web scraping\n",
    "Before choosing to engage in web scraping, you always have to consider some things:\n",
    "1. Many websites have a Terms of Use which may not allow scraping. We must respect websites that do not want to be scraped.\n",
    "2. Is there an API available already? If so, there's no need for us to write a scraper. APIs are created to provide access to data in a controlled way as defined by the owners of the data, so we prefer to use APIs if they're available.\n",
    "3. Making requests to a website can cause a toll on a website's performance. A web scraper that makes too many requests can be as debilitating. We must scrape responsibly so we won't cause any disruption to the regular functioning of the website.\n",
    "\n",
    "If you have doubts about the ethics of scraping some website, please consult with me.\n",
    "\n",
    "\n",
    "# Scraping from Wikipedia\n",
    "We're going to scrape some information from Wikipedia, which has a simple page layout with a consistent template.\n",
    "\n",
    "For web scraping we're going to need two libraries: [requests](https://requests.readthedocs.io/en/master/) and [BeautifulSoup](https://www.crummy.com/software/BeautifulSoup/bs4/doc/). BeautifulSoup is what we use to actually navigate and parse the page that we're scraping. We'll import the `time` library too. This will allow us to `time.sleep(5)` so that we don't overload anyone's servers. \n",
    "\n",
    "We will talk a little about HTML and CSS - you need to know more about these if you want to get good at web scraping. Here's a good point to start: [What are HTML and CSS?](https://html.com/) \n",
    "\n",
    "If you're looking for a quick crash course in developer tools for HTML and CSS, check out this YouTube video."
   ]
  },
  {
   "cell_type": "code",
   "execution_count": 164,
   "metadata": {
    "scrolled": true
   },
   "outputs": [
    {
     "data": {
      "image/jpeg": "[encoded data removed]",
      "text/html": [
       "\n",
       "        <iframe\n",
       "            width=\"640\"\n",
       "            height=\"360\"\n",
       "            src=\"https://www.youtube.com/embed/FQKvro1Wz-E\"\n",
       "            frameborder=\"0\"\n",
       "            allowfullscreen\n",
       "            \n",
       "        ></iframe>\n",
       "        "
      ],
      "text/plain": [
       "<IPython.lib.display.YouTubeVideo at 0x7ff018821d90>"
      ]
     },
     "execution_count": 164,
     "metadata": {},
     "output_type": "execute_result"
    }
   ],
   "source": [
    "from IPython.display import YouTubeVideo\n",
    "YouTubeVideo('FQKvro1Wz-E', width=640, height=360)"
   ]
  },
  {
   "cell_type": "code",
   "execution_count": null,
   "metadata": {},
   "outputs": [],
   "source": [
    "# !pip install beautifulsoup4"
   ]
  },
  {
   "cell_type": "code",
   "execution_count": 25,
   "metadata": {},
   "outputs": [],
   "source": [
    "import requests\n",
    "from bs4 import BeautifulSoup\n",
    "import time\n",
    "import pandas as pd"
   ]
  },
  {
   "cell_type": "markdown",
   "metadata": {},
   "source": [
    "### For this exercise, we will scrape all the citations on the Wikipedia \"Data Science\" page\n",
    "\n",
    "First we use requests to make a `.get` request to the page. First, hav a look at what's on the [Data science](https://en.wikipedia.org/wiki/Data_science) Wikipedia page. Next, we'll access this page using a GET request through the `requests` library."
   ]
  },
  {
   "cell_type": "code",
   "execution_count": 26,
   "metadata": {},
   "outputs": [],
   "source": [
    "r = requests.get('https://en.wikipedia.org/wiki/Data_science')"
   ]
  },
  {
   "cell_type": "markdown",
   "metadata": {},
   "source": [
    "We now have an .html object. There is no .html method in the requests library (like for json), but BeautifulSoup will help us get there. First, extract the html string:"
   ]
  },
  {
   "cell_type": "code",
   "execution_count": 27,
   "metadata": {},
   "outputs": [
    {
     "data": {
      "text/plain": [
       "'<!DOCTYPE html>\\n<html class=\"client-nojs\" lang=\"en\" dir=\"ltr\">\\n<head>\\n<meta charset=\"UTF-8\"/>\\n<title>Data science - Wikipedia</title>\\n<script>document.documentElement.className=\"client-js\";RLCONF={\"wgBreakFrames\":false,\"wgSeparatorTransformTable\":[\"\",\"\"],\"wgDigitTransformTable\":[\"\",\"\"],\"wgDefaultDateFormat\":\"dmy\",\"wgMonthNames\":[\"\",\"January\",\"February\",\"March\",\"April\",\"May\",\"June\",\"July\",\"August\",\"September\",\"October\",\"November\",\"December\"],\"wgRequestId\":\"2488271c-364f-4513-9742-83144321ab68\",\"wgCSPNonce\":false,\"wgCanonicalNamespace\":\"\",\"wgCanonicalSpecialPageName\":false,\"wgNamespaceNumber\":0,\"wgPageName\":\"Data_science\",\"wgTitle\":\"Data science\",\"wgCurRevisionId\":1087223604,\"wgRevisionId\":1087223604,\"wgArticleId\":35458904,\"wgIsArticle\":true,\"wgIsRedirect\":false,\"wgAction\":\"view\",\"wgUserName\":null,\"wgUserGroups\":[\"*\"],\"wgCategories\":[\"Articles with short description\",\"Short description matches Wikidata\",\"Use dmy dates from August 2021\",\"Information science\",\"Computer occupations\",\"Computational fields of study\",\"Data analysis\"],\"wgPageContentLanguage\":\"en\",\"wgPageContentModel\":\"wikitext\",\"wgRelevantPageName\":\"Data_science\",\\n\"wgRelevantArticleId\":35458904,\"wgIsProbablyEditable\":true,\"wgRelevantPageIsProbablyEditable\":true,\"wgRestrictionEdit\":[],\"wgRestrictionMove\":[],\"wgFlaggedRevsParams\":{\"tags\":{\"status\":{\"levels\":1}}},\"wgVisualEditor\":{\"pageLanguageCode\":\"en\",\"pageLanguageDir\":\"ltr\",\"pageVariantFallbacks\":\"en\"},\"wgMFDisplayWikibaseDescriptions\":{\"search\":true,\"nearby\":true,\"watchlist\":true,\"tagline\":false},\"wgWMESchemaEditAttemptStepOversample\":false,\"wgWMEPageLength\":20000,\"wgNoticeProject\":\"wikipedia\",\"wgMediaViewerOnClick\":true,\"wgMediaViewerEnabledByDefault\":true,\"wgPopupsFlags\":10,\"wgULSCurrentAutonym\":\"English\",\"wgEditSubmitButtonLabelPublish\":true,\"wgCentralAuthMobileDomain\":false,\"wgULSPosition\":\"interlanguage\",\"wgULSisCompactLinksEnabled\":true,\"wgWikibaseItemId\":\"Q2374463\"};RLSTATE={\"ext.globalCssJs.user.styles\":\"ready\",\"site.styles\":\"ready\",\"user.styles\":\"ready\",\"ext.globalCssJs.user\":\"ready\",\"user\":\"ready\",\"user.options\":\"loading\",\"ext.cite.styles\":\"ready\",\"skins.vector.styles.legacy\":\"ready\"\\n,\"jquery.makeCollapsible.styles\":\"ready\",\"ext.visualEditor.desktopArticleTarget.noscript\":\"ready\",\"ext.wikimediaBadges\":\"ready\",\"ext.uls.interlanguage\":\"ready\",\"wikibase.client.init\":\"ready\"};RLPAGEMODULES=[\"ext.cite.ux-enhancements\",\"site\",\"mediawiki.page.ready\",\"jquery.makeCollapsible\",\"mediawiki.toc\",\"skins.vector.legacy.js\",\"mmv.head\",\"mmv.bootstrap.autostart\",\"ext.visualEditor.desktopArticleTarget.init\",\"ext.visualEditor.targetLoader\",\"ext.eventLogging\",\"ext.wikimediaEvents\",\"ext.navigationTiming\",\"ext.cx.eventlogging.campaigns\",\"ext.centralNotice.geoIP\",\"ext.centralNotice.startUp\",\"ext.gadget.ReferenceTooltips\",\"ext.gadget.charinsert\",\"ext.gadget.extra-toolbar-buttons\",\"ext.gadget.refToolbar\",\"ext.gadget.switcher\",\"ext.centralauth.centralautologin\",\"ext.popups\",\"ext.uls.compactlinks\",\"ext.uls.interface\",\"ext.growthExperiments.SuggestedEditSession\"];</script>\\n<script>(RLQ=window.RLQ||[]).push(function(){mw.loader.implement(\"user.options@1i9g4\",function($,jQuery,require,module){mw.user.tokens.set({\"patrolToken\":\"+\\\\\\\\\",\"watchToken\":\"+\\\\\\\\\",\"csrfToken\":\"+\\\\\\\\\"});});});</script>\\n<link rel=\"stylesheet\" href=\"/w/load.php?lang=en&amp;modules=ext.cite.styles%7Cext.uls.interlanguage%7Cext.visualEditor.desktopArticleTarget.noscript%7Cext.wikimediaBadges%7Cjquery.makeCollapsible.styles%7Cskins.vector.styles.legacy%7Cwikibase.client.init&amp;only=styles&amp;skin=vector\"/>\\n<script async=\"\" src=\"/w/load.php?lang=en&amp;modules=startup&amp;only=scripts&amp;raw=1&amp;skin=vector\"></script>\\n<meta name=\"ResourceLoaderDynamicStyles\" content=\"\"/>\\n<link rel=\"stylesheet\" href=\"/w/load.php?lang=en&amp;modules=site.styles&amp;only=styles&amp;skin=vector\"/>\\n<meta name=\"generator\" content=\"MediaWiki 1.39.0-wmf.10\"/>\\n<meta name=\"referrer\" content=\"origin\"/>\\n<meta name=\"referrer\" content=\"origin-when-crossorigin\"/>\\n<meta name=\"referrer\" content=\"origin-when-cross-origin\"/>\\n<meta name=\"format-detection\" content=\"telephone=no\"/>\\n<meta property=\"og:image\" content=\"https://upload.wikimedia.org/wikipedia/commons/thumb/4/45/PIA23792-1600x1200%281%29.jpg/1200px-PIA23792-1600x1200%281%29.jpg\"/>\\n<meta property=\"og:image:width\" content=\"1200\"/>\\n<meta property=\"og:image:height\" content=\"900\"/>\\n<meta property=\"og:image\" content=\"https://upload.wikimedia.org/wikipedia/commons/thumb/4/45/PIA23792-1600x1200%281%29.jpg/800px-PIA23792-1600x1200%281%29.jpg\"/>\\n<meta property=\"og:image:width\" content=\"800\"/>\\n<meta property=\"og:image:height\" content=\"600\"/>\\n<meta property=\"og:image\" content=\"https://upload.wikimedia.org/wikipedia/commons/thumb/4/45/PIA23792-1600x1200%281%29.jpg/640px-PIA23792-1600x1200%281%29.jpg\"/>\\n<meta property=\"og:image:width\" content=\"640\"/>\\n<meta property=\"og:image:height\" content=\"480\"/>\\n<meta property=\"og:title\" content=\"Data science - Wikipedia\"/>\\n<meta property=\"og:type\" content=\"website\"/>\\n<link rel=\"preconnect\" href=\"//upload.wikimedia.org\"/>\\n<link rel=\"alternate\" media=\"only screen and (max-width: 720px)\" href=\"//en.m.wikipedia.org/wiki/Data_science\"/>\\n<link rel=\"alternate\" type=\"application/x-wiki\" title=\"Edit this page\" href=\"/w/index.php?title=Data_science&amp;action=edit\"/>\\n<link rel=\"apple-touch-icon\" href=\"/static/apple-touch/wikipedia.png\"/>\\n<link rel=\"shortcut icon\" href=\"/static/favicon/wikipedia.ico\"/>\\n<link rel=\"search\" type=\"application/opensearchdescription+xml\" href=\"/w/opensearch_desc.php\" title=\"Wikipedia (en)\"/>\\n<link rel=\"EditURI\" type=\"application/rsd+xml\" href=\"//en.wikipedia.org/w/api.php?action=rsd\"/>\\n<link rel=\"license\" href=\"https://creativecommons.org/licenses/by-sa/3.0/\"/>\\n<link rel=\"canonical\" href=\"https://en.wikipedia.org/wiki/Data_science\"/>\\n<link rel=\"dns-prefetch\" href=\"//meta.wikimedia.org\" />\\n<link rel=\"dns-prefetch\" href=\"//login.wikimedia.org\"/>\\n</head>\\n<body class=\"mediawiki ltr sitedir-ltr mw-hide-empty-elt ns-0 ns-subject mw-editable page-Data_science rootpage-Data_science skin-vector action-view skin-vector-legacy\"><div id=\"mw-page-base\" class=\"noprint\"></div>\\n<div id=\"mw-head-base\" class=\"noprint\"></div>\\n<div id=\"content\" class=\"mw-body\" role=\"main\">\\n\\t<a id=\"top\"></a>\\n\\t<div id=\"siteNotice\"><!-- CentralNotice --></div>\\n\\t<div class=\"mw-indicators\">\\n\\t</div>\\n\\t<h1 id=\"firstHeading\" class=\"firstHeading mw-first-heading\">Data science</h1>\\n\\t<div id=\"bodyContent\" class=\"vector-body\">\\n\\t\\t<div id=\"siteSub\" class=\"noprint\">From Wikipedia, the free encyclopedia</div>\\n\\t\\t<div id=\"contentSub\"></div>\\n\\t\\t<div id=\"contentSub2\"></div>\\n\\t\\t\\n\\t\\t<div id=\"jump-to-nav\"></div>\\n\\t\\t<a class=\"mw-jump-link\" href=\"#mw-head\">Jump to navigation</a>\\n\\t\\t<a class=\"mw-jump-link\" href=\"#searchInput\">Jump to search</a>\\n\\t\\t<div id=\"mw-content-text\" class=\"mw-body-content mw-content-ltr\" lang=\"en\" dir=\"ltr\"><div class=\"mw-parser-output\"><div class=\"shortdescription nomobile noexcerpt noprint searchaux\" style=\"display:none\">Interdisciplinary field of study focused on deriving knowledge and insights from data</div>\\n<style data-mw-deduplicate=\"TemplateStyles:r1033289096\">.mw-parser-output .hatnote{font-style:italic}.mw-parser-output div.hatnote{padding-left:1.6em;margin-bottom:0.5em}.mw-parser-output .hatnote i{font-style:normal}.mw-parser-output .hatnote+link+.hatnote{margin-top:-0.5em}</style><div role=\"note\" class=\"hatnote navigation-not-searchable\">Not to be confused with <a href=\"/wiki/Information_science\" title=\"Information science\">information science</a>.</div>\\n<p class=\"mw-empty-elt\">\\n</p>\\n<div class=\"thumb tright\"><div class=\"thumbinner\" style=\"width:222px;\"><a href=\"/wiki/File:PIA23792-1600x1200(1).jpg\" class=\"image\"><img alt=\"\" src=\"//upload.wikimedia.org/wikipedia/commons/thumb/4/45/PIA23792-1600x1200%281%29.jpg/220px-PIA23792-1600x1200%281%29.jpg\" decoding=\"async\" width=\"220\" height=\"165\" class=\"thumbimage\" srcset=\"//upload.wikimedia.org/wikipedia/commons/thumb/4/45/PIA23792-1600x1200%281%29.jpg/330px-PIA23792-1600x1200%281%29.jpg 1.5x, //upload.wikimedia.org/wikipedia/commons/thumb/4/45/PIA23792-1600x1200%281%29.jpg/440px-PIA23792-1600x1200%281%29.jpg 2x\" data-file-width=\"1600\" data-file-height=\"1200\" /></a>  <div class=\"thumbcaption\"><div class=\"magnify\"><a href=\"/wiki/File:PIA23792-1600x1200(1).jpg\" class=\"internal\" title=\"Enlarge\"></a></div>The existence of <a href=\"/wiki/Comet_NEOWISE\" title=\"Comet NEOWISE\">Comet NEOWISE</a> (here depicted as a series of red dots) was discovered by analyzing <a href=\"/wiki/Astronomical_survey\" title=\"Astronomical survey\">astronomical survey</a> data acquired by a <a href=\"/wiki/Space_telescope\" title=\"Space telescope\">space telescope</a>, the <a href=\"/wiki/Wide-field_Infrared_Survey_Explorer\" title=\"Wide-field Infrared Survey Explorer\">Wide-field Infrared Survey Explorer</a>.</div></div></div>\\n<p><b>Data science</b> is an <a href=\"/wiki/Interdisciplinary\" class=\"mw-redirect\" title=\"Interdisciplinary\">interdisciplinary</a> field that uses <a href=\"/wiki/Scientific_method\" title=\"Scientific method\">scientific methods</a>, processes, <a href=\"/wiki/Algorithm\" title=\"Algorithm\">algorithms</a> and systems to extract <a href=\"/wiki/Knowledge\" title=\"Knowledge\">knowledge</a> and insights from noisy, structured and <a href=\"/wiki/Unstructured_data\" title=\"Unstructured data\">unstructured data</a>,<sup id=\"cite_ref-1\" class=\"reference\"><a href=\"#cite_note-1\">&#91;1&#93;</a></sup><sup id=\"cite_ref-2\" class=\"reference\"><a href=\"#cite_note-2\">&#91;2&#93;</a></sup> and apply knowledge and actionable insights from data across a broad range of application domains. Data science is related to <a href=\"/wiki/Data_mining\" title=\"Data mining\">data mining</a>, <a href=\"/wiki/Machine_learning\" title=\"Machine learning\">machine learning</a> and <a href=\"/wiki/Big_data\" title=\"Big data\">big data</a>.\\n</p><p>Data science is a \"concept to unify <a href=\"/wiki/Statistics\" title=\"Statistics\">statistics</a>, <a href=\"/wiki/Data_analysis\" title=\"Data analysis\">data analysis</a>, <a href=\"/wiki/Informatics\" title=\"Informatics\">informatics</a>, and their related <a href=\"/wiki/Scientific_method\" title=\"Scientific method\">methods</a>\" in order to \"understand and analyse actual <a href=\"/wiki/Phenomena\" class=\"mw-redirect\" title=\"Phenomena\">phenomena</a>\" with <a href=\"/wiki/Data\" title=\"Data\">data</a>.<sup id=\"cite_ref-3\" class=\"reference\"><a href=\"#cite_note-3\">&#91;3&#93;</a></sup> It uses techniques and theories drawn from many fields within the context of <a href=\"/wiki/Mathematics\" title=\"Mathematics\">mathematics</a>, statistics, <a href=\"/wiki/Computer_science\" title=\"Computer science\">computer science</a>, <a href=\"/wiki/Information_science\" title=\"Information science\">information science</a>, and <a href=\"/wiki/Domain_knowledge\" title=\"Domain knowledge\">domain knowledge</a>.<sup id=\"cite_ref-4\" class=\"reference\"><a href=\"#cite_note-4\">&#91;4&#93;</a></sup> However, data science is different from computer science and information science. <a href=\"/wiki/Turing_Award\" title=\"Turing Award\">Turing Award</a> winner <a href=\"/wiki/Jim_Gray_(computer_scientist)\" title=\"Jim Gray (computer scientist)\">Jim Gray</a> imagined data science as a \"fourth paradigm\" of science (<a href=\"/wiki/Empirical_research\" title=\"Empirical research\">empirical</a>, <a href=\"/wiki/Basic_research\" title=\"Basic research\">theoretical</a>, <a href=\"/wiki/Computational_science\" title=\"Computational science\">computational</a>, and now data-driven) and asserted that \"everything about science is changing because of the impact of <a href=\"/wiki/Information_technology\" title=\"Information technology\">information technology</a>\" and the <a href=\"/wiki/Information_explosion\" title=\"Information explosion\">data deluge</a>.<sup id=\"cite_ref-TansleyTolle2009_5-0\" class=\"reference\"><a href=\"#cite_note-TansleyTolle2009-5\">&#91;5&#93;</a></sup><sup id=\"cite_ref-BellHey2009_6-0\" class=\"reference\"><a href=\"#cite_note-BellHey2009-6\">&#91;6&#93;</a></sup>\\nA <b>data scientist</b> is someone who creates programming code and combines it with statistical knowledge to create insights from data.<sup id=\"cite_ref-7\" class=\"reference\"><a href=\"#cite_note-7\">&#91;7&#93;</a></sup>\\n</p>\\n<div id=\"toc\" class=\"toc\" role=\"navigation\" aria-labelledby=\"mw-toc-heading\"><input type=\"checkbox\" role=\"button\" id=\"toctogglecheckbox\" class=\"toctogglecheckbox\" style=\"display:none\" /><div class=\"toctitle\" lang=\"en\" dir=\"ltr\"><h2 id=\"mw-toc-heading\">Contents</h2><span class=\"toctogglespan\"><label class=\"toctogglelabel\" for=\"toctogglecheckbox\"></label></span></div>\\n<ul>\\n<li class=\"toclevel-1 tocsection-1\"><a href=\"#Foundations\"><span class=\"tocnumber\">1</span> <span class=\"toctext\">Foundations</span></a>\\n<ul>\\n<li class=\"toclevel-2 tocsection-2\"><a href=\"#Relationship_to_statistics\"><span class=\"tocnumber\">1.1</span> <span class=\"toctext\">Relationship to statistics</span></a></li>\\n</ul>\\n</li>\\n<li class=\"toclevel-1 tocsection-3\"><a href=\"#Etymology\"><span class=\"tocnumber\">2</span> <span class=\"toctext\">Etymology</span></a>\\n<ul>\\n<li class=\"toclevel-2 tocsection-4\"><a href=\"#Early_usage\"><span class=\"tocnumber\">2.1</span> <span class=\"toctext\">Early usage</span></a></li>\\n<li class=\"toclevel-2 tocsection-5\"><a href=\"#Modern_usage\"><span class=\"tocnumber\">2.2</span> <span class=\"toctext\">Modern usage</span></a></li>\\n</ul>\\n</li>\\n<li class=\"toclevel-1 tocsection-6\"><a href=\"#See_also\"><span class=\"tocnumber\">3</span> <span class=\"toctext\">See also</span></a></li>\\n<li class=\"toclevel-1 tocsection-7\"><a href=\"#References\"><span class=\"tocnumber\">4</span> <span class=\"toctext\">References</span></a></li>\\n</ul>\\n</div>\\n\\n<h2><span class=\"mw-headline\" id=\"Foundations\">Foundations</span><span class=\"mw-editsection\"><span class=\"mw-editsection-bracket\">[</span><a href=\"/w/index.php?title=Data_science&amp;action=edit&amp;section=1\" title=\"Edit section: Foundations\">edit</a><span class=\"mw-editsection-bracket\">]</span></span></h2>\\n<p>Data science is an <a href=\"/wiki/Interdisciplinarity\" title=\"Interdisciplinarity\">interdisciplinary</a> <a href=\"/wiki/Academic_discipline\" title=\"Academic discipline\">field</a> focused on extracting knowledge from <a href=\"/wiki/Data_set\" title=\"Data set\">data sets</a>, which are typically large (see <a href=\"/wiki/Big_data\" title=\"Big data\">big data</a>), and applying the knowledge and actionable insights from data to <a href=\"/wiki/Problem_solving\" title=\"Problem solving\">solve problems</a> in a wide range of application domains.<sup id=\"cite_ref-8\" class=\"reference\"><a href=\"#cite_note-8\">&#91;8&#93;</a></sup> The field encompasses preparing data for analysis, formulating data science problems, <a href=\"/wiki/Analysis\" title=\"Analysis\">analyzing</a> data, developing data-driven solutions, and presenting findings to inform high-level decisions in a broad range of application domains. As such, it incorporates skills from computer science, statistics, information science, mathematics, <a href=\"/wiki/Data_visualization\" class=\"mw-redirect\" title=\"Data visualization\">data visualization</a>, <a href=\"/wiki/Information_visualization\" class=\"mw-redirect\" title=\"Information visualization\">information visualization</a>, <a href=\"/wiki/Data_sonification\" title=\"Data sonification\">data sonification</a>, data <a href=\"/wiki/Data_integration\" title=\"Data integration\">integration</a>, <a href=\"/wiki/Graphic_design\" title=\"Graphic design\">graphic design</a>, <a href=\"/wiki/Complex_systems\" class=\"mw-redirect\" title=\"Complex systems\">complex systems</a>, <a href=\"/wiki/Communication\" title=\"Communication\">communication</a> and <a href=\"/wiki/Business\" title=\"Business\">business</a>.<sup id=\"cite_ref-9\" class=\"reference\"><a href=\"#cite_note-9\">&#91;9&#93;</a></sup><sup id=\"cite_ref-10\" class=\"reference\"><a href=\"#cite_note-10\">&#91;10&#93;</a></sup> Statistician <a href=\"/wiki/Nathan_Yau\" title=\"Nathan Yau\">Nathan Yau</a>, drawing on <a href=\"/wiki/Ben_Fry\" title=\"Ben Fry\">Ben Fry</a>, also links data science to <a href=\"/wiki/Human%E2%80%93computer_interaction\" title=\"Human–computer interaction\">human–computer interaction</a>: users should be able to intuitively control and <a href=\"/wiki/Exploration\" title=\"Exploration\">explore</a> data.<sup id=\"cite_ref-11\" class=\"reference\"><a href=\"#cite_note-11\">&#91;11&#93;</a></sup><sup id=\"cite_ref-12\" class=\"reference\"><a href=\"#cite_note-12\">&#91;12&#93;</a></sup> In 2015, the <a href=\"/wiki/American_Statistical_Association\" title=\"American Statistical Association\">American Statistical Association</a> identified <a href=\"/wiki/Database\" title=\"Database\">database</a> management, statistics and <a href=\"/wiki/Machine_learning\" title=\"Machine learning\">machine learning</a>, and <a href=\"/wiki/Distributed_computing\" title=\"Distributed computing\">distributed and parallel systems</a> as the three emerging foundational professional communities.<sup id=\"cite_ref-13\" class=\"reference\"><a href=\"#cite_note-13\">&#91;13&#93;</a></sup>\\n</p>\\n<h3><span class=\"mw-headline\" id=\"Relationship_to_statistics\">Relationship to statistics</span><span class=\"mw-editsection\"><span class=\"mw-editsection-bracket\">[</span><a href=\"/w/index.php?title=Data_science&amp;action=edit&amp;section=2\" title=\"Edit section: Relationship to statistics\">edit</a><span class=\"mw-editsection-bracket\">]</span></span></h3>\\n<p>Many statisticians, including <a href=\"/wiki/Nate_Silver\" title=\"Nate Silver\">Nate Silver</a>, have argued that data science is not a new field, but rather another name for statistics.<sup id=\"cite_ref-14\" class=\"reference\"><a href=\"#cite_note-14\">&#91;14&#93;</a></sup> Others argue that data science is distinct from statistics because it focuses on problems and techniques unique to digital data.<sup id=\"cite_ref-15\" class=\"reference\"><a href=\"#cite_note-15\">&#91;15&#93;</a></sup> <a href=\"/wiki/Vasant_Dhar\" title=\"Vasant Dhar\">Vasant Dhar</a> writes that statistics emphasizes quantitative data and description. In contrast, data science deals with quantitative and qualitative data (e.g. images) and emphasizes prediction and action.<sup id=\"cite_ref-16\" class=\"reference\"><a href=\"#cite_note-16\">&#91;16&#93;</a></sup> <a href=\"/wiki/Andrew_Gelman\" title=\"Andrew Gelman\">Andrew Gelman</a> of <a href=\"/wiki/Columbia_University\" title=\"Columbia University\">Columbia University</a> has described statistics as a nonessential part of data science.<sup id=\"cite_ref-17\" class=\"reference\"><a href=\"#cite_note-17\">&#91;17&#93;</a></sup>\\nStanford professor <a href=\"/wiki/David_Donoho\" title=\"David Donoho\">David Donoho</a> writes that data science is not distinguished from statistics by the size of datasets or use of computing, and that many graduate programs misleadingly advertise their analytics and statistics training as the essence of a data-science program. He describes data science as an applied field growing out of traditional statistics.<sup id=\"cite_ref-:7_18-0\" class=\"reference\"><a href=\"#cite_note-:7-18\">&#91;18&#93;</a></sup> \\nIn summary, data science can be therefore described as an applied branch of statistics.\\n</p>\\n<h2><span class=\"mw-headline\" id=\"Etymology\">Etymology</span><span class=\"mw-editsection\"><span class=\"mw-editsection-bracket\">[</span><a href=\"/w/index.php?title=Data_science&amp;action=edit&amp;section=3\" title=\"Edit section: Etymology\">edit</a><span class=\"mw-editsection-bracket\">]</span></span></h2>\\n<h3><span class=\"mw-headline\" id=\"Early_usage\">Early usage</span><span class=\"mw-editsection\"><span class=\"mw-editsection-bracket\">[</span><a href=\"/w/index.php?title=Data_science&amp;action=edit&amp;section=4\" title=\"Edit section: Early usage\">edit</a><span class=\"mw-editsection-bracket\">]</span></span></h3>\\n<p>In 1962, <a href=\"/wiki/John_Tukey\" title=\"John Tukey\">John Tukey</a> described a field he called \"data analysis\", which resembles modern data science.<sup id=\"cite_ref-:7_18-1\" class=\"reference\"><a href=\"#cite_note-:7-18\">&#91;18&#93;</a></sup> In 1985, in a lecture given to the Chinese Academy of Sciences in Beijing, <a href=\"/wiki/C._F._Jeff_Wu\" title=\"C. F. Jeff Wu\">C.&#160;F. Jeff Wu</a> used the term \"data science\" for the first time as an alternative name for statistics.<sup id=\"cite_ref-19\" class=\"reference\"><a href=\"#cite_note-19\">&#91;19&#93;</a></sup> Later, attendees at a 1992 statistics symposium at the <a href=\"/wiki/Montpellier_2_University\" title=\"Montpellier 2 University\">University of Montpellier&#160;II</a> acknowledged the emergence of a new discipline focused on data of various origins and forms, combining established concepts and principles of statistics and data analysis with computing.<sup id=\"cite_ref-20\" class=\"reference\"><a href=\"#cite_note-20\">&#91;20&#93;</a></sup><sup id=\"cite_ref-Murtagh_2018_14_21-0\" class=\"reference\"><a href=\"#cite_note-Murtagh_2018_14-21\">&#91;21&#93;</a></sup>\\n</p><p>The term \"data science\" has been traced back to 1974, when <a href=\"/wiki/Peter_Naur\" title=\"Peter Naur\">Peter Naur</a> proposed it as an alternative name for computer science.<sup id=\"cite_ref-:0_22-0\" class=\"reference\"><a href=\"#cite_note-:0-22\">&#91;22&#93;</a></sup> In 1996, the International Federation of Classification Societies became the first conference to specifically feature data science as a topic.<sup id=\"cite_ref-:0_22-1\" class=\"reference\"><a href=\"#cite_note-:0-22\">&#91;22&#93;</a></sup> However, the definition was still in flux. After the 1985 lecture in the Chinese Academy of Sciences in Beijing, in 1997 <a href=\"/wiki/C._F._Jeff_Wu\" title=\"C. F. Jeff Wu\">C.&#160;F. Jeff Wu</a> again suggested that statistics should be renamed data science. He reasoned that a new name would help statistics shed inaccurate stereotypes, such as being synonymous with accounting, or limited to describing data.<sup id=\"cite_ref-23\" class=\"reference\"><a href=\"#cite_note-23\">&#91;23&#93;</a></sup> In 1998, Hayashi Chikio argued for data science as a new, interdisciplinary concept, with three aspects: data design, collection, and analysis.<sup id=\"cite_ref-Murtagh_2018_14_21-1\" class=\"reference\"><a href=\"#cite_note-Murtagh_2018_14-21\">&#91;21&#93;</a></sup>\\n</p><p>During the 1990s, popular terms for the process of finding patterns in datasets (which were increasingly large) included \"knowledge discovery\" and \"<a href=\"/wiki/Data_mining\" title=\"Data mining\">data mining</a>\".<sup id=\"cite_ref-:1_24-0\" class=\"reference\"><a href=\"#cite_note-:1-24\">&#91;24&#93;</a></sup><sup id=\"cite_ref-:0_22-2\" class=\"reference\"><a href=\"#cite_note-:0-22\">&#91;22&#93;</a></sup>\\n</p>\\n<h3><span class=\"mw-headline\" id=\"Modern_usage\">Modern usage</span><span class=\"mw-editsection\"><span class=\"mw-editsection-bracket\">[</span><a href=\"/w/index.php?title=Data_science&amp;action=edit&amp;section=5\" title=\"Edit section: Modern usage\">edit</a><span class=\"mw-editsection-bracket\">]</span></span></h3>\\n<p>The modern conception of data science as an independent discipline is sometimes attributed to <a href=\"/wiki/William_S._Cleveland\" title=\"William S. Cleveland\">William S. Cleveland</a>.<sup id=\"cite_ref-25\" class=\"reference\"><a href=\"#cite_note-25\">&#91;25&#93;</a></sup> In a 2001 paper, he advocated an expansion of statistics beyond theory into technical areas; because this would significantly change the field, it warranted a new name.<sup id=\"cite_ref-:1_24-1\" class=\"reference\"><a href=\"#cite_note-:1-24\">&#91;24&#93;</a></sup> \"Data science\" became more widely used in the next few years: in 2002, the <a href=\"/wiki/Committee_on_Data_for_Science_and_Technology\" class=\"mw-redirect\" title=\"Committee on Data for Science and Technology\">Committee on Data for Science and Technology</a> launched <i>Data Science Journal</i>. In 2003, Columbia University launched <i>The Journal of Data Science</i>.<sup id=\"cite_ref-:1_24-2\" class=\"reference\"><a href=\"#cite_note-:1-24\">&#91;24&#93;</a></sup> In 2014, the <a href=\"/wiki/American_Statistical_Association\" title=\"American Statistical Association\">American Statistical Association</a>\\'s Section on Statistical Learning and Data Mining changed its name to the Section on Statistical Learning and Data Science, reflecting the ascendant popularity of data science.<sup id=\"cite_ref-26\" class=\"reference\"><a href=\"#cite_note-26\">&#91;26&#93;</a></sup>\\n</p><p>The professional title of \"data scientist\" has been attributed to <a href=\"/wiki/DJ_Patil\" title=\"DJ Patil\">DJ Patil</a> and <a href=\"/wiki/Jeff_Hammerbacher\" title=\"Jeff Hammerbacher\">Jeff Hammerbacher</a> in 2008.<sup id=\"cite_ref-27\" class=\"reference\"><a href=\"#cite_note-27\">&#91;27&#93;</a></sup> Though it was used by the <a href=\"/wiki/National_Science_Board\" title=\"National Science Board\">National Science Board</a> in their 2005 report \"Long-Lived Digital Data Collections: Enabling Research and Education in the 21st Century\", it referred broadly to any key role in managing a digital data collection.<sup id=\"cite_ref-28\" class=\"reference\"><a href=\"#cite_note-28\">&#91;28&#93;</a></sup>\\n</p><p>There is still no consensus on the definition of data science, and it is considered by some to be a <a href=\"/wiki/Buzzword\" title=\"Buzzword\">buzzword</a>.<sup id=\"cite_ref-29\" class=\"reference\"><a href=\"#cite_note-29\">&#91;29&#93;</a></sup>\\n<a href=\"/wiki/Big_data\" title=\"Big data\">Big data</a> is a related marketing term.<sup id=\"cite_ref-:5_30-0\" class=\"reference\"><a href=\"#cite_note-:5-30\">&#91;30&#93;</a></sup> Data scientists are responsible for breaking down big data into usable information and creating software and algorithms that help companies and organizations determine optimal operations.<sup id=\"cite_ref-:6_31-0\" class=\"reference\"><a href=\"#cite_note-:6-31\">&#91;31&#93;</a></sup>\\n</p>\\n<h2><span class=\"mw-headline\" id=\"See_also\">See also</span><span class=\"mw-editsection\"><span class=\"mw-editsection-bracket\">[</span><a href=\"/w/index.php?title=Data_science&amp;action=edit&amp;section=6\" title=\"Edit section: See also\">edit</a><span class=\"mw-editsection-bracket\">]</span></span></h2>\\n<ul><li><a href=\"/wiki/International_Journal_of_Population_Data_Science\" title=\"International Journal of Population Data Science\">International Journal of Population Data Science</a></li></ul>\\n<h2><span class=\"mw-headline\" id=\"References\">References</span><span class=\"mw-editsection\"><span class=\"mw-editsection-bracket\">[</span><a href=\"/w/index.php?title=Data_science&amp;action=edit&amp;section=7\" title=\"Edit section: References\">edit</a><span class=\"mw-editsection-bracket\">]</span></span></h2>\\n<style data-mw-deduplicate=\"TemplateStyles:r1011085734\">.mw-parser-output .reflist{font-size:90%;margin-bottom:0.5em;list-style-type:decimal}.mw-parser-output .reflist .references{font-size:100%;margin-bottom:0;list-style-type:inherit}.mw-parser-output .reflist-columns-2{column-width:30em}.mw-parser-output .reflist-columns-3{column-width:25em}.mw-parser-output .reflist-columns{margin-top:0.3em}.mw-parser-output .reflist-columns ol{margin-top:0}.mw-parser-output .reflist-columns li{page-break-inside:avoid;break-inside:avoid-column}.mw-parser-output .reflist-upper-alpha{list-style-type:upper-alpha}.mw-parser-output .reflist-upper-roman{list-style-type:upper-roman}.mw-parser-output .reflist-lower-alpha{list-style-type:lower-alpha}.mw-parser-output .reflist-lower-greek{list-style-type:lower-greek}.mw-parser-output .reflist-lower-roman{list-style-type:lower-roman}</style><div class=\"reflist reflist-columns references-column-width\" style=\"column-width: 30em;\">\\n<ol class=\"references\">\\n<li id=\"cite_note-1\"><span class=\"mw-cite-backlink\"><b><a href=\"#cite_ref-1\">^</a></b></span> <span class=\"reference-text\"><style data-mw-deduplicate=\"TemplateStyles:r1067248974\">.mw-parser-output cite.citation{font-style:inherit;word-wrap:break-word}.mw-parser-output .citation q{quotes:\"\\\\\"\"\"\\\\\"\"\"\\'\"\"\\'\"}.mw-parser-output .citation:target{background-color:rgba(0,127,255,0.133)}.mw-parser-output .id-lock-free a,.mw-parser-output .citation .cs1-lock-free a{background:linear-gradient(transparent,transparent),url(\"//upload.wikimedia.org/wikipedia/commons/6/65/Lock-green.svg\")right 0.1em center/9px no-repeat}.mw-parser-output .id-lock-limited a,.mw-parser-output .id-lock-registration a,.mw-parser-output .citation .cs1-lock-limited a,.mw-parser-output .citation .cs1-lock-registration a{background:linear-gradient(transparent,transparent),url(\"//upload.wikimedia.org/wikipedia/commons/d/d6/Lock-gray-alt-2.svg\")right 0.1em center/9px no-repeat}.mw-parser-output .id-lock-subscription a,.mw-parser-output .citation .cs1-lock-subscription a{background:linear-gradient(transparent,transparent),url(\"//upload.wikimedia.org/wikipedia/commons/a/aa/Lock-red-alt-2.svg\")right 0.1em center/9px no-repeat}.mw-parser-output .cs1-ws-icon a{background:linear-gradient(transparent,transparent),url(\"//upload.wikimedia.org/wikipedia/commons/4/4c/Wikisource-logo.svg\")right 0.1em center/12px no-repeat}.mw-parser-output .cs1-code{color:inherit;background:inherit;border:none;padding:inherit}.mw-parser-output .cs1-hidden-error{display:none;color:#d33}.mw-parser-output .cs1-visible-error{color:#d33}.mw-parser-output .cs1-maint{display:none;color:#3a3;margin-left:0.3em}.mw-parser-output .cs1-format{font-size:95%}.mw-parser-output .cs1-kern-left{padding-left:0.2em}.mw-parser-output .cs1-kern-right{padding-right:0.2em}.mw-parser-output .citation .mw-selflink{font-weight:inherit}</style><cite id=\"CITEREFDhar2013\" class=\"citation journal cs1\">Dhar, V. (2013). <a rel=\"nofollow\" class=\"external text\" href=\"http://cacm.acm.org/magazines/2013/12/169933-data-science-and-prediction/fulltext\">\"Data science and prediction\"</a>. <i>Communications of the ACM</i>. <b>56</b> (12): 64–73. <a href=\"/wiki/Doi_(identifier)\" class=\"mw-redirect\" title=\"Doi (identifier)\">doi</a>:<a rel=\"nofollow\" class=\"external text\" href=\"https://doi.org/10.1145%2F2500499\">10.1145/2500499</a>. <a href=\"/wiki/S2CID_(identifier)\" class=\"mw-redirect\" title=\"S2CID (identifier)\">S2CID</a>&#160;<a rel=\"nofollow\" class=\"external text\" href=\"https://api.semanticscholar.org/CorpusID:6107147\">6107147</a>. <a rel=\"nofollow\" class=\"external text\" href=\"https://web.archive.org/web/20141109113411/http://cacm.acm.org/magazines/2013/12/169933-data-science-and-prediction/fulltext\">Archived</a> from the original on 9 November 2014<span class=\"reference-accessdate\">. Retrieved <span class=\"nowrap\">2 September</span> 2015</span>.</cite><span title=\"ctx_ver=Z39.88-2004&amp;rft_val_fmt=info%3Aofi%2Ffmt%3Akev%3Amtx%3Ajournal&amp;rft.genre=article&amp;rft.jtitle=Communications+of+the+ACM&amp;rft.atitle=Data+science+and+prediction&amp;rft.volume=56&amp;rft.issue=12&amp;rft.pages=64-73&amp;rft.date=2013&amp;rft_id=info%3Adoi%2F10.1145%2F2500499&amp;rft_id=https%3A%2F%2Fapi.semanticscholar.org%2FCorpusID%3A6107147%23id-name%3DS2CID&amp;rft.aulast=Dhar&amp;rft.aufirst=V.&amp;rft_id=http%3A%2F%2Fcacm.acm.org%2Fmagazines%2F2013%2F12%2F169933-data-science-and-prediction%2Ffulltext&amp;rfr_id=info%3Asid%2Fen.wikipedia.org%3AData+science\" class=\"Z3988\"></span></span>\\n</li>\\n<li id=\"cite_note-2\"><span class=\"mw-cite-backlink\"><b><a href=\"#cite_ref-2\">^</a></b></span> <span class=\"reference-text\"><link rel=\"mw-deduplicated-inline-style\" href=\"mw-data:TemplateStyles:r1067248974\"/><cite id=\"CITEREFJeff_Leek2013\" class=\"citation web cs1\"><a href=\"/wiki/Jeffrey_T._Leek\" title=\"Jeffrey T. Leek\">Jeff Leek</a> (12 December 2013). <a rel=\"nofollow\" class=\"external text\" href=\"http://simplystatistics.org/2013/12/12/the-key-word-in-data-science-is-not-data-it-is-science/\">\"The key word in \"Data Science\" is not Data, it is Science\"</a>. Simply Statistics. <a rel=\"nofollow\" class=\"external text\" href=\"https://web.archive.org/web/20140102194117/http://simplystatistics.org/2013/12/12/the-key-word-in-data-science-is-not-data-it-is-science/\">Archived</a> from the original on 2 January 2014<span class=\"reference-accessdate\">. Retrieved <span class=\"nowrap\">1 January</span> 2014</span>.</cite><span title=\"ctx_ver=Z39.88-2004&amp;rft_val_fmt=info%3Aofi%2Ffmt%3Akev%3Amtx%3Abook&amp;rft.genre=unknown&amp;rft.btitle=The+key+word+in+%22Data+Science%22+is+not+Data%2C+it+is+Science&amp;rft.pub=Simply+Statistics&amp;rft.date=2013-12-12&amp;rft.au=Jeff+Leek&amp;rft_id=http%3A%2F%2Fsimplystatistics.org%2F2013%2F12%2F12%2Fthe-key-word-in-data-science-is-not-data-it-is-science%2F&amp;rfr_id=info%3Asid%2Fen.wikipedia.org%3AData+science\" class=\"Z3988\"></span></span>\\n</li>\\n<li id=\"cite_note-3\"><span class=\"mw-cite-backlink\"><b><a href=\"#cite_ref-3\">^</a></b></span> <span class=\"reference-text\"><link rel=\"mw-deduplicated-inline-style\" href=\"mw-data:TemplateStyles:r1067248974\"/><cite id=\"CITEREFHayashi1998\" class=\"citation book cs1\">Hayashi, Chikio (1 January 1998). <a rel=\"nofollow\" class=\"external text\" href=\"https://www.springer.com/book/9784431702085\">\"What is Data Science? Fundamental Concepts and a Heuristic Example\"</a>.  In Hayashi, Chikio; Yajima, Keiji; Bock, Hans-Hermann; Ohsumi, Noboru; Tanaka, Yutaka; Baba, Yasumasa (eds.). <i>Data Science, Classification, and Related Methods</i>. Studies in Classification, Data Analysis, and Knowledge Organization. Springer Japan. pp.&#160;40–51. <a href=\"/wiki/Doi_(identifier)\" class=\"mw-redirect\" title=\"Doi (identifier)\">doi</a>:<a rel=\"nofollow\" class=\"external text\" href=\"https://doi.org/10.1007%2F978-4-431-65950-1_3\">10.1007/978-4-431-65950-1_3</a>. <a href=\"/wiki/ISBN_(identifier)\" class=\"mw-redirect\" title=\"ISBN (identifier)\">ISBN</a>&#160;<a href=\"/wiki/Special:BookSources/9784431702085\" title=\"Special:BookSources/9784431702085\"><bdi>9784431702085</bdi></a>.</cite><span title=\"ctx_ver=Z39.88-2004&amp;rft_val_fmt=info%3Aofi%2Ffmt%3Akev%3Amtx%3Abook&amp;rft.genre=bookitem&amp;rft.atitle=What+is+Data+Science%3F+Fundamental+Concepts+and+a+Heuristic+Example&amp;rft.btitle=Data+Science%2C+Classification%2C+and+Related+Methods&amp;rft.series=Studies+in+Classification%2C+Data+Analysis%2C+and+Knowledge+Organization&amp;rft.pages=40-51&amp;rft.pub=Springer+Japan&amp;rft.date=1998-01-01&amp;rft_id=info%3Adoi%2F10.1007%2F978-4-431-65950-1_3&amp;rft.isbn=9784431702085&amp;rft.aulast=Hayashi&amp;rft.aufirst=Chikio&amp;rft_id=https%3A%2F%2Fwww.springer.com%2Fbook%2F9784431702085&amp;rfr_id=info%3Asid%2Fen.wikipedia.org%3AData+science\" class=\"Z3988\"></span></span>\\n</li>\\n<li id=\"cite_note-4\"><span class=\"mw-cite-backlink\"><b><a href=\"#cite_ref-4\">^</a></b></span> <span class=\"reference-text\"><link rel=\"mw-deduplicated-inline-style\" href=\"mw-data:TemplateStyles:r1067248974\"/><cite id=\"CITEREFCao2017\" class=\"citation journal cs1\">Cao, Longbing (29 June 2017). \"Data Science: A Comprehensive Overview\". <i>ACM Computing Surveys</i>. <b>50</b> (3): 43:1–43:42. <a href=\"/wiki/Doi_(identifier)\" class=\"mw-redirect\" title=\"Doi (identifier)\">doi</a>:<a rel=\"nofollow\" class=\"external text\" href=\"https://doi.org/10.1145%2F3076253\">10.1145/3076253</a>. <a href=\"/wiki/ISSN_(identifier)\" class=\"mw-redirect\" title=\"ISSN (identifier)\">ISSN</a>&#160;<a rel=\"nofollow\" class=\"external text\" href=\"//www.worldcat.org/issn/0360-0300\">0360-0300</a>.</cite><span title=\"ctx_ver=Z39.88-2004&amp;rft_val_fmt=info%3Aofi%2Ffmt%3Akev%3Amtx%3Ajournal&amp;rft.genre=article&amp;rft.jtitle=ACM+Computing+Surveys&amp;rft.atitle=Data+Science%3A+A+Comprehensive+Overview&amp;rft.volume=50&amp;rft.issue=3&amp;rft.pages=43%3A1-43%3A42&amp;rft.date=2017-06-29&amp;rft_id=info%3Adoi%2F10.1145%2F3076253&amp;rft.issn=0360-0300&amp;rft.aulast=Cao&amp;rft.aufirst=Longbing&amp;rfr_id=info%3Asid%2Fen.wikipedia.org%3AData+science\" class=\"Z3988\"></span></span>\\n</li>\\n<li id=\"cite_note-TansleyTolle2009-5\"><span class=\"mw-cite-backlink\"><b><a href=\"#cite_ref-TansleyTolle2009_5-0\">^</a></b></span> <span class=\"reference-text\"><link rel=\"mw-deduplicated-inline-style\" href=\"mw-data:TemplateStyles:r1067248974\"/><cite id=\"CITEREFTony_HeyStewart_TansleyKristin_Michele_Tolle2009\" class=\"citation book cs1\">Tony Hey; Stewart Tansley; Kristin Michele Tolle (2009). <a rel=\"nofollow\" class=\"external text\" href=\"https://books.google.com/books?id=oGs_AQAAIAAJ\"><i>The Fourth Paradigm: Data-intensive Scientific Discovery</i></a>. Microsoft Research. <a href=\"/wiki/ISBN_(identifier)\" class=\"mw-redirect\" title=\"ISBN (identifier)\">ISBN</a>&#160;<a href=\"/wiki/Special:BookSources/978-0-9825442-0-4\" title=\"Special:BookSources/978-0-9825442-0-4\"><bdi>978-0-9825442-0-4</bdi></a>. <a rel=\"nofollow\" class=\"external text\" href=\"https://web.archive.org/web/20170320193019/https://books.google.com/books?id=oGs_AQAAIAAJ\">Archived</a> from the original on 20 March 2017.</cite><span title=\"ctx_ver=Z39.88-2004&amp;rft_val_fmt=info%3Aofi%2Ffmt%3Akev%3Amtx%3Abook&amp;rft.genre=book&amp;rft.btitle=The+Fourth+Paradigm%3A+Data-intensive+Scientific+Discovery&amp;rft.pub=Microsoft+Research&amp;rft.date=2009&amp;rft.isbn=978-0-9825442-0-4&amp;rft.au=Tony+Hey&amp;rft.au=Stewart+Tansley&amp;rft.au=Kristin+Michele+Tolle&amp;rft_id=https%3A%2F%2Fbooks.google.com%2Fbooks%3Fid%3DoGs_AQAAIAAJ&amp;rfr_id=info%3Asid%2Fen.wikipedia.org%3AData+science\" class=\"Z3988\"></span></span>\\n</li>\\n<li id=\"cite_note-BellHey2009-6\"><span class=\"mw-cite-backlink\"><b><a href=\"#cite_ref-BellHey2009_6-0\">^</a></b></span> <span class=\"reference-text\"><link rel=\"mw-deduplicated-inline-style\" href=\"mw-data:TemplateStyles:r1067248974\"/><cite id=\"CITEREFBellHeySzalay2009\" class=\"citation journal cs1\">Bell, G.; Hey, T.; Szalay, A. (2009). \"Computer Science: Beyond the Data Deluge\". <i>Science</i>. <b>323</b> (5919): 1297–1298. <a href=\"/wiki/Doi_(identifier)\" class=\"mw-redirect\" title=\"Doi (identifier)\">doi</a>:<a rel=\"nofollow\" class=\"external text\" href=\"https://doi.org/10.1126%2Fscience.1170411\">10.1126/science.1170411</a>. <a href=\"/wiki/ISSN_(identifier)\" class=\"mw-redirect\" title=\"ISSN (identifier)\">ISSN</a>&#160;<a rel=\"nofollow\" class=\"external text\" href=\"//www.worldcat.org/issn/0036-8075\">0036-8075</a>. <a href=\"/wiki/PMID_(identifier)\" class=\"mw-redirect\" title=\"PMID (identifier)\">PMID</a>&#160;<a rel=\"nofollow\" class=\"external text\" href=\"//pubmed.ncbi.nlm.nih.gov/19265007\">19265007</a>. <a href=\"/wiki/S2CID_(identifier)\" class=\"mw-redirect\" title=\"S2CID (identifier)\">S2CID</a>&#160;<a rel=\"nofollow\" class=\"external text\" href=\"https://api.semanticscholar.org/CorpusID:9743327\">9743327</a>.</cite><span title=\"ctx_ver=Z39.88-2004&amp;rft_val_fmt=info%3Aofi%2Ffmt%3Akev%3Amtx%3Ajournal&amp;rft.genre=article&amp;rft.jtitle=Science&amp;rft.atitle=Computer+Science%3A+Beyond+the+Data+Deluge&amp;rft.volume=323&amp;rft.issue=5919&amp;rft.pages=1297-1298&amp;rft.date=2009&amp;rft.issn=0036-8075&amp;rft_id=https%3A%2F%2Fapi.semanticscholar.org%2FCorpusID%3A9743327%23id-name%3DS2CID&amp;rft_id=info%3Apmid%2F19265007&amp;rft_id=info%3Adoi%2F10.1126%2Fscience.1170411&amp;rft.aulast=Bell&amp;rft.aufirst=G.&amp;rft.au=Hey%2C+T.&amp;rft.au=Szalay%2C+A.&amp;rfr_id=info%3Asid%2Fen.wikipedia.org%3AData+science\" class=\"Z3988\"></span></span>\\n</li>\\n<li id=\"cite_note-7\"><span class=\"mw-cite-backlink\"><b><a href=\"#cite_ref-7\">^</a></b></span> <span class=\"reference-text\"><link rel=\"mw-deduplicated-inline-style\" href=\"mw-data:TemplateStyles:r1067248974\"/><cite id=\"CITEREFDavenportPatil2012\" class=\"citation journal cs1\">Davenport, Thomas H.; Patil, D. J. (October 2012). <a rel=\"nofollow\" class=\"external text\" href=\"https://hbr.org/2012/10/data-scientist-the-sexiest-job-of-the-21st-century/\">\"Data Scientist: The Sexiest Job of the 21st Century\"</a>. <i>Harvard Business Review</i>. <b>90</b> (10): 70–76, 128. <a href=\"/wiki/PMID_(identifier)\" class=\"mw-redirect\" title=\"PMID (identifier)\">PMID</a>&#160;<a rel=\"nofollow\" class=\"external text\" href=\"//pubmed.ncbi.nlm.nih.gov/23074866\">23074866</a><span class=\"reference-accessdate\">. Retrieved <span class=\"nowrap\">18 January</span> 2016</span>.</cite><span title=\"ctx_ver=Z39.88-2004&amp;rft_val_fmt=info%3Aofi%2Ffmt%3Akev%3Amtx%3Ajournal&amp;rft.genre=article&amp;rft.jtitle=Harvard+Business+Review&amp;rft.atitle=Data+Scientist%3A+The+Sexiest+Job+of+the+21st+Century&amp;rft.volume=90&amp;rft.issue=10&amp;rft.pages=70-76%2C+128&amp;rft.date=2012-10&amp;rft_id=info%3Apmid%2F23074866&amp;rft.aulast=Davenport&amp;rft.aufirst=Thomas+H.&amp;rft.au=Patil%2C+D.+J.&amp;rft_id=https%3A%2F%2Fhbr.org%2F2012%2F10%2Fdata-scientist-the-sexiest-job-of-the-21st-century%2F&amp;rfr_id=info%3Asid%2Fen.wikipedia.org%3AData+science\" class=\"Z3988\"></span></span>\\n</li>\\n<li id=\"cite_note-8\"><span class=\"mw-cite-backlink\"><b><a href=\"#cite_ref-8\">^</a></b></span> <span class=\"reference-text\"><link rel=\"mw-deduplicated-inline-style\" href=\"mw-data:TemplateStyles:r1067248974\"/><cite class=\"citation web cs1\"><a rel=\"nofollow\" class=\"external text\" href=\"http://www.datascienceassn.org/about-data-science\">\"About Data Science\"</a>. <i>Data Science Association</i><span class=\"reference-accessdate\">. Retrieved <span class=\"nowrap\">3 April</span> 2020</span>.</cite><span title=\"ctx_ver=Z39.88-2004&amp;rft_val_fmt=info%3Aofi%2Ffmt%3Akev%3Amtx%3Ajournal&amp;rft.genre=unknown&amp;rft.jtitle=Data+Science+Association&amp;rft.atitle=About+Data+Science&amp;rft_id=http%3A%2F%2Fwww.datascienceassn.org%2Fabout-data-science&amp;rfr_id=info%3Asid%2Fen.wikipedia.org%3AData+science\" class=\"Z3988\"></span></span>\\n</li>\\n<li id=\"cite_note-9\"><span class=\"mw-cite-backlink\"><b><a href=\"#cite_ref-9\">^</a></b></span> <span class=\"reference-text\"><link rel=\"mw-deduplicated-inline-style\" href=\"mw-data:TemplateStyles:r1067248974\"/><cite class=\"citation web cs1\"><a rel=\"nofollow\" class=\"external text\" href=\"https://www.oreilly.com/library/view/doing-data-science/9781449363871/ch01.html\">\"1. Introduction: What Is Data Science?\"</a>. <i>Doing Data Science [Book]</i>. O’Reilly<span class=\"reference-accessdate\">. Retrieved <span class=\"nowrap\">3 April</span> 2020</span>.</cite><span title=\"ctx_ver=Z39.88-2004&amp;rft_val_fmt=info%3Aofi%2Ffmt%3Akev%3Amtx%3Ajournal&amp;rft.genre=unknown&amp;rft.jtitle=Doing+Data+Science+%5BBook%5D&amp;rft.atitle=1.+Introduction%3A+What+Is+Data+Science%3F&amp;rft_id=https%3A%2F%2Fwww.oreilly.com%2Flibrary%2Fview%2Fdoing-data-science%2F9781449363871%2Fch01.html&amp;rfr_id=info%3Asid%2Fen.wikipedia.org%3AData+science\" class=\"Z3988\"></span></span>\\n</li>\\n<li id=\"cite_note-10\"><span class=\"mw-cite-backlink\"><b><a href=\"#cite_ref-10\">^</a></b></span> <span class=\"reference-text\"><link rel=\"mw-deduplicated-inline-style\" href=\"mw-data:TemplateStyles:r1067248974\"/><cite class=\"citation web cs1\"><a rel=\"nofollow\" class=\"external text\" href=\"https://medriscoll.com/post/4740157098/the-three-sexy-skills-of-data-geeks\">\"the three sexy skills of data geeks\"</a>. <i>m.e.driscoll: data utopian</i>. 27 May 2009<span class=\"reference-accessdate\">. Retrieved <span class=\"nowrap\">3 April</span> 2020</span>.</cite><span title=\"ctx_ver=Z39.88-2004&amp;rft_val_fmt=info%3Aofi%2Ffmt%3Akev%3Amtx%3Ajournal&amp;rft.genre=unknown&amp;rft.jtitle=m.e.driscoll%3A+data+utopian&amp;rft.atitle=the+three+sexy+skills+of+data+geeks&amp;rft.date=2009-05-27&amp;rft_id=https%3A%2F%2Fmedriscoll.com%2Fpost%2F4740157098%2Fthe-three-sexy-skills-of-data-geeks&amp;rfr_id=info%3Asid%2Fen.wikipedia.org%3AData+science\" class=\"Z3988\"></span></span>\\n</li>\\n<li id=\"cite_note-11\"><span class=\"mw-cite-backlink\"><b><a href=\"#cite_ref-11\">^</a></b></span> <span class=\"reference-text\"><link rel=\"mw-deduplicated-inline-style\" href=\"mw-data:TemplateStyles:r1067248974\"/><cite id=\"CITEREFYau2009\" class=\"citation web cs1\">Yau, Nathan (4 June 2009). <a rel=\"nofollow\" class=\"external text\" href=\"https://flowingdata.com/2009/06/04/rise-of-the-data-scientist/\">\"Rise of the Data Scientist\"</a>. <i>FlowingData</i><span class=\"reference-accessdate\">. Retrieved <span class=\"nowrap\">3 April</span> 2020</span>.</cite><span title=\"ctx_ver=Z39.88-2004&amp;rft_val_fmt=info%3Aofi%2Ffmt%3Akev%3Amtx%3Ajournal&amp;rft.genre=unknown&amp;rft.jtitle=FlowingData&amp;rft.atitle=Rise+of+the+Data+Scientist&amp;rft.date=2009-06-04&amp;rft.aulast=Yau&amp;rft.aufirst=Nathan&amp;rft_id=https%3A%2F%2Fflowingdata.com%2F2009%2F06%2F04%2Frise-of-the-data-scientist%2F&amp;rfr_id=info%3Asid%2Fen.wikipedia.org%3AData+science\" class=\"Z3988\"></span></span>\\n</li>\\n<li id=\"cite_note-12\"><span class=\"mw-cite-backlink\"><b><a href=\"#cite_ref-12\">^</a></b></span> <span class=\"reference-text\"><link rel=\"mw-deduplicated-inline-style\" href=\"mw-data:TemplateStyles:r1067248974\"/><cite class=\"citation web cs1\"><a rel=\"nofollow\" class=\"external text\" href=\"https://benfry.com/phd/dissertation/2.html\">\"Basic Example\"</a>. <i>benfry.com</i><span class=\"reference-accessdate\">. Retrieved <span class=\"nowrap\">3 April</span> 2020</span>.</cite><span title=\"ctx_ver=Z39.88-2004&amp;rft_val_fmt=info%3Aofi%2Ffmt%3Akev%3Amtx%3Ajournal&amp;rft.genre=unknown&amp;rft.jtitle=benfry.com&amp;rft.atitle=Basic+Example&amp;rft_id=https%3A%2F%2Fbenfry.com%2Fphd%2Fdissertation%2F2.html&amp;rfr_id=info%3Asid%2Fen.wikipedia.org%3AData+science\" class=\"Z3988\"></span></span>\\n</li>\\n<li id=\"cite_note-13\"><span class=\"mw-cite-backlink\"><b><a href=\"#cite_ref-13\">^</a></b></span> <span class=\"reference-text\"><link rel=\"mw-deduplicated-inline-style\" href=\"mw-data:TemplateStyles:r1067248974\"/><cite class=\"citation web cs1\"><a rel=\"nofollow\" class=\"external text\" href=\"https://magazine.amstat.org/blog/2015/10/01/asa-statement-on-the-role-of-statistics-in-data-science/\">\"ASA Statement on the Role of Statistics in Data Science\"</a>. <i>AMSTATNEWS</i>. <a href=\"/wiki/American_Statistical_Association\" title=\"American Statistical Association\">American Statistical Association</a>. 1 October 2015. <a rel=\"nofollow\" class=\"external text\" href=\"https://web.archive.org/web/20190620184935/https://magazine.amstat.org/blog/2015/10/01/asa-statement-on-the-role-of-statistics-in-data-science/\">Archived</a> from the original on 20 June 2019<span class=\"reference-accessdate\">. Retrieved <span class=\"nowrap\">29 May</span> 2019</span>.</cite><span title=\"ctx_ver=Z39.88-2004&amp;rft_val_fmt=info%3Aofi%2Ffmt%3Akev%3Amtx%3Ajournal&amp;rft.genre=unknown&amp;rft.jtitle=AMSTATNEWS&amp;rft.atitle=ASA+Statement+on+the+Role+of+Statistics+in+Data+Science&amp;rft.date=2015-10-01&amp;rft_id=https%3A%2F%2Fmagazine.amstat.org%2Fblog%2F2015%2F10%2F01%2Fasa-statement-on-the-role-of-statistics-in-data-science%2F&amp;rfr_id=info%3Asid%2Fen.wikipedia.org%3AData+science\" class=\"Z3988\"></span></span>\\n</li>\\n<li id=\"cite_note-14\"><span class=\"mw-cite-backlink\"><b><a href=\"#cite_ref-14\">^</a></b></span> <span class=\"reference-text\"><link rel=\"mw-deduplicated-inline-style\" href=\"mw-data:TemplateStyles:r1067248974\"/><cite class=\"citation web cs1\"><a rel=\"nofollow\" class=\"external text\" href=\"https://www.statisticsviews.com/article/nate-silver-what-i-need-from-statisticians/\">\"Nate Silver: What I need from statisticians\"</a>. <i>Statistics Views</i><span class=\"reference-accessdate\">. Retrieved <span class=\"nowrap\">3 April</span> 2020</span>.</cite><span title=\"ctx_ver=Z39.88-2004&amp;rft_val_fmt=info%3Aofi%2Ffmt%3Akev%3Amtx%3Ajournal&amp;rft.genre=unknown&amp;rft.jtitle=Statistics+Views&amp;rft.atitle=Nate+Silver%3A+What+I+need+from+statisticians&amp;rft_id=https%3A%2F%2Fwww.statisticsviews.com%2Farticle%2Fnate-silver-what-i-need-from-statisticians%2F&amp;rfr_id=info%3Asid%2Fen.wikipedia.org%3AData+science\" class=\"Z3988\"></span></span>\\n</li>\\n<li id=\"cite_note-15\"><span class=\"mw-cite-backlink\"><b><a href=\"#cite_ref-15\">^</a></b></span> <span class=\"reference-text\"><link rel=\"mw-deduplicated-inline-style\" href=\"mw-data:TemplateStyles:r1067248974\"/><cite class=\"citation web cs1\"><a rel=\"nofollow\" class=\"external text\" href=\"http://priceonomics.com/whats-the-difference-between-data-science-and/\">\"What\\'s the Difference Between Data Science and Statistics?\"</a>. <i>Priceonomics</i><span class=\"reference-accessdate\">. Retrieved <span class=\"nowrap\">3 April</span> 2020</span>.</cite><span title=\"ctx_ver=Z39.88-2004&amp;rft_val_fmt=info%3Aofi%2Ffmt%3Akev%3Amtx%3Ajournal&amp;rft.genre=unknown&amp;rft.jtitle=Priceonomics&amp;rft.atitle=What%27s+the+Difference+Between+Data+Science+and+Statistics%3F&amp;rft_id=http%3A%2F%2Fpriceonomics.com%2Fwhats-the-difference-between-data-science-and%2F&amp;rfr_id=info%3Asid%2Fen.wikipedia.org%3AData+science\" class=\"Z3988\"></span></span>\\n</li>\\n<li id=\"cite_note-16\"><span class=\"mw-cite-backlink\"><b><a href=\"#cite_ref-16\">^</a></b></span> <span class=\"reference-text\"><link rel=\"mw-deduplicated-inline-style\" href=\"mw-data:TemplateStyles:r1067248974\"/><cite id=\"CITEREFVasant_Dhar2013\" class=\"citation journal cs1\">Vasant Dhar (1 December 2013). \"Data science and prediction\". <i>Communications of the ACM</i>. <b>56</b> (12): 64–73. <a href=\"/wiki/Doi_(identifier)\" class=\"mw-redirect\" title=\"Doi (identifier)\">doi</a>:<a rel=\"nofollow\" class=\"external text\" href=\"https://doi.org/10.1145%2F2500499\">10.1145/2500499</a>. <a href=\"/wiki/S2CID_(identifier)\" class=\"mw-redirect\" title=\"S2CID (identifier)\">S2CID</a>&#160;<a rel=\"nofollow\" class=\"external text\" href=\"https://api.semanticscholar.org/CorpusID:6107147\">6107147</a>.</cite><span title=\"ctx_ver=Z39.88-2004&amp;rft_val_fmt=info%3Aofi%2Ffmt%3Akev%3Amtx%3Ajournal&amp;rft.genre=article&amp;rft.jtitle=Communications+of+the+ACM&amp;rft.atitle=Data+science+and+prediction&amp;rft.volume=56&amp;rft.issue=12&amp;rft.pages=64-73&amp;rft.date=2013-12-01&amp;rft_id=info%3Adoi%2F10.1145%2F2500499&amp;rft_id=https%3A%2F%2Fapi.semanticscholar.org%2FCorpusID%3A6107147%23id-name%3DS2CID&amp;rft.au=Vasant+Dhar&amp;rfr_id=info%3Asid%2Fen.wikipedia.org%3AData+science\" class=\"Z3988\"></span></span>\\n</li>\\n<li id=\"cite_note-17\"><span class=\"mw-cite-backlink\"><b><a href=\"#cite_ref-17\">^</a></b></span> <span class=\"reference-text\"><link rel=\"mw-deduplicated-inline-style\" href=\"mw-data:TemplateStyles:r1067248974\"/><cite class=\"citation web cs1\"><a rel=\"nofollow\" class=\"external text\" href=\"https://statmodeling.stat.columbia.edu/2013/11/14/statistics-least-important-part-data-science/\">\"Statistics is the least important part of data science «&#160;Statistical Modeling, Causal Inference, and Social Science\"</a>. <i>statmodeling.stat.columbia.edu</i><span class=\"reference-accessdate\">. Retrieved <span class=\"nowrap\">3 April</span> 2020</span>.</cite><span title=\"ctx_ver=Z39.88-2004&amp;rft_val_fmt=info%3Aofi%2Ffmt%3Akev%3Amtx%3Ajournal&amp;rft.genre=unknown&amp;rft.jtitle=statmodeling.stat.columbia.edu&amp;rft.atitle=Statistics+is+the+least+important+part+of+data+science+%C2%AB+Statistical+Modeling%2C+Causal+Inference%2C+and+Social+Science&amp;rft_id=https%3A%2F%2Fstatmodeling.stat.columbia.edu%2F2013%2F11%2F14%2Fstatistics-least-important-part-data-science%2F&amp;rfr_id=info%3Asid%2Fen.wikipedia.org%3AData+science\" class=\"Z3988\"></span></span>\\n</li>\\n<li id=\"cite_note-:7-18\"><span class=\"mw-cite-backlink\">^ <a href=\"#cite_ref-:7_18-0\"><sup><i><b>a</b></i></sup></a> <a href=\"#cite_ref-:7_18-1\"><sup><i><b>b</b></i></sup></a></span> <span class=\"reference-text\"><link rel=\"mw-deduplicated-inline-style\" href=\"mw-data:TemplateStyles:r1067248974\"/><cite id=\"CITEREFDonoho2015\" class=\"citation web cs1\">Donoho, David (18 September 2015). <a rel=\"nofollow\" class=\"external text\" href=\"http://courses.csail.mit.edu/18.337/2015/docs/50YearsDataScience.pdf\">\"50 years of Data Science\"</a> <span class=\"cs1-format\">(PDF)</span><span class=\"reference-accessdate\">. Retrieved <span class=\"nowrap\">2 April</span> 2020</span>.</cite><span title=\"ctx_ver=Z39.88-2004&amp;rft_val_fmt=info%3Aofi%2Ffmt%3Akev%3Amtx%3Abook&amp;rft.genre=unknown&amp;rft.btitle=50+years+of+Data+Science&amp;rft.date=2015-09-18&amp;rft.aulast=Donoho&amp;rft.aufirst=David&amp;rft_id=http%3A%2F%2Fcourses.csail.mit.edu%2F18.337%2F2015%2Fdocs%2F50YearsDataScience.pdf&amp;rfr_id=info%3Asid%2Fen.wikipedia.org%3AData+science\" class=\"Z3988\"></span></span>\\n</li>\\n<li id=\"cite_note-19\"><span class=\"mw-cite-backlink\"><b><a href=\"#cite_ref-19\">^</a></b></span> <span class=\"reference-text\"><link rel=\"mw-deduplicated-inline-style\" href=\"mw-data:TemplateStyles:r1067248974\"/><cite id=\"CITEREFWu1986\" class=\"citation journal cs1\">Wu, C. F. Jeff (1986). <a rel=\"nofollow\" class=\"external text\" href=\"https://www2.isye.gatech.edu/~jeffwu/publications/fazhan.pdf\">\"Future directions of statistical research in China: a historical perspective\"</a> <span class=\"cs1-format\">(PDF)</span>. <i>Application of Statistics and Management</i>. <b>1</b>: 1–7<span class=\"reference-accessdate\">. Retrieved <span class=\"nowrap\">29 November</span> 2020</span>.</cite><span title=\"ctx_ver=Z39.88-2004&amp;rft_val_fmt=info%3Aofi%2Ffmt%3Akev%3Amtx%3Ajournal&amp;rft.genre=article&amp;rft.jtitle=Application+of+Statistics+and+Management&amp;rft.atitle=Future+directions+of+statistical+research+in+China%3A+a+historical+perspective&amp;rft.volume=1&amp;rft.pages=1-7&amp;rft.date=1986&amp;rft.aulast=Wu&amp;rft.aufirst=C.+F.+Jeff&amp;rft_id=https%3A%2F%2Fwww2.isye.gatech.edu%2F~jeffwu%2Fpublications%2Ffazhan.pdf&amp;rfr_id=info%3Asid%2Fen.wikipedia.org%3AData+science\" class=\"Z3988\"></span></span>\\n</li>\\n<li id=\"cite_note-20\"><span class=\"mw-cite-backlink\"><b><a href=\"#cite_ref-20\">^</a></b></span> <span class=\"reference-text\"><link rel=\"mw-deduplicated-inline-style\" href=\"mw-data:TemplateStyles:r1067248974\"/><cite id=\"CITEREFEscoufierHayashiFichet1995\" class=\"citation book cs1\">Escoufier, Yves; Hayashi, Chikio; Fichet, Bernard, eds. (1995). <i>Data science and its applications</i>. Tokyo: Academic Press/Harcourt Brace. <a href=\"/wiki/ISBN_(identifier)\" class=\"mw-redirect\" title=\"ISBN (identifier)\">ISBN</a>&#160;<a href=\"/wiki/Special:BookSources/0-12-241770-4\" title=\"Special:BookSources/0-12-241770-4\"><bdi>0-12-241770-4</bdi></a>. <a href=\"/wiki/OCLC_(identifier)\" class=\"mw-redirect\" title=\"OCLC (identifier)\">OCLC</a>&#160;<a rel=\"nofollow\" class=\"external text\" href=\"//www.worldcat.org/oclc/489990740\">489990740</a>.</cite><span title=\"ctx_ver=Z39.88-2004&amp;rft_val_fmt=info%3Aofi%2Ffmt%3Akev%3Amtx%3Abook&amp;rft.genre=book&amp;rft.btitle=Data+science+and+its+applications&amp;rft.place=Tokyo&amp;rft.pub=Academic+Press%2FHarcourt+Brace&amp;rft.date=1995&amp;rft_id=info%3Aoclcnum%2F489990740&amp;rft.isbn=0-12-241770-4&amp;rfr_id=info%3Asid%2Fen.wikipedia.org%3AData+science\" class=\"Z3988\"></span></span>\\n</li>\\n<li id=\"cite_note-Murtagh_2018_14-21\"><span class=\"mw-cite-backlink\">^ <a href=\"#cite_ref-Murtagh_2018_14_21-0\"><sup><i><b>a</b></i></sup></a> <a href=\"#cite_ref-Murtagh_2018_14_21-1\"><sup><i><b>b</b></i></sup></a></span> <span class=\"reference-text\"><link rel=\"mw-deduplicated-inline-style\" href=\"mw-data:TemplateStyles:r1067248974\"/><cite id=\"CITEREFMurtaghDevlin2018\" class=\"citation journal cs1\">Murtagh, Fionn; Devlin, Keith (2018). <a rel=\"nofollow\" class=\"external text\" href=\"https://doi.org/10.3390%2Fbdcc2020014\">\"The Development of Data Science: Implications for Education, Employment, Research, and the Data Revolution for Sustainable Development\"</a>. <i>Big Data and Cognitive Computing</i>. <b>2</b> (2): 14. <a href=\"/wiki/Doi_(identifier)\" class=\"mw-redirect\" title=\"Doi (identifier)\">doi</a>:<span class=\"cs1-lock-free\" title=\"Freely accessible\"><a rel=\"nofollow\" class=\"external text\" href=\"https://doi.org/10.3390%2Fbdcc2020014\">10.3390/bdcc2020014</a></span>.</cite><span title=\"ctx_ver=Z39.88-2004&amp;rft_val_fmt=info%3Aofi%2Ffmt%3Akev%3Amtx%3Ajournal&amp;rft.genre=article&amp;rft.jtitle=Big+Data+and+Cognitive+Computing&amp;rft.atitle=The+Development+of+Data+Science%3A+Implications+for+Education%2C+Employment%2C+Research%2C+and+the+Data+Revolution+for+Sustainable+Development&amp;rft.volume=2&amp;rft.issue=2&amp;rft.pages=14&amp;rft.date=2018&amp;rft_id=info%3Adoi%2F10.3390%2Fbdcc2020014&amp;rft.aulast=Murtagh&amp;rft.aufirst=Fionn&amp;rft.au=Devlin%2C+Keith&amp;rft_id=%2F%2Fdoi.org%2F10.3390%252Fbdcc2020014&amp;rfr_id=info%3Asid%2Fen.wikipedia.org%3AData+science\" class=\"Z3988\"></span></span>\\n</li>\\n<li id=\"cite_note-:0-22\"><span class=\"mw-cite-backlink\">^ <a href=\"#cite_ref-:0_22-0\"><sup><i><b>a</b></i></sup></a> <a href=\"#cite_ref-:0_22-1\"><sup><i><b>b</b></i></sup></a> <a href=\"#cite_ref-:0_22-2\"><sup><i><b>c</b></i></sup></a></span> <span class=\"reference-text\"><link rel=\"mw-deduplicated-inline-style\" href=\"mw-data:TemplateStyles:r1067248974\"/><cite id=\"CITEREFCaoLongbing2017\" class=\"citation journal cs1\">CaoLongbing (29 June 2017). <a rel=\"nofollow\" class=\"external text\" href=\"https://doi.org/10.1145%2F3076253\">\"Data Science\"</a>. <i>ACM Computing Surveys</i>. <b>50</b> (3): 1–42. <a href=\"/wiki/ArXiv_(identifier)\" class=\"mw-redirect\" title=\"ArXiv (identifier)\">arXiv</a>:<span class=\"cs1-lock-free\" title=\"Freely accessible\"><a rel=\"nofollow\" class=\"external text\" href=\"//arxiv.org/abs/2007.03606\">2007.03606</a></span>. <a href=\"/wiki/Doi_(identifier)\" class=\"mw-redirect\" title=\"Doi (identifier)\">doi</a>:<span class=\"cs1-lock-free\" title=\"Freely accessible\"><a rel=\"nofollow\" class=\"external text\" href=\"https://doi.org/10.1145%2F3076253\">10.1145/3076253</a></span>.</cite><span title=\"ctx_ver=Z39.88-2004&amp;rft_val_fmt=info%3Aofi%2Ffmt%3Akev%3Amtx%3Ajournal&amp;rft.genre=article&amp;rft.jtitle=ACM+Computing+Surveys&amp;rft.atitle=Data+Science&amp;rft.volume=50&amp;rft.issue=3&amp;rft.pages=1-42&amp;rft.date=2017-06-29&amp;rft_id=info%3Aarxiv%2F2007.03606&amp;rft_id=info%3Adoi%2F10.1145%2F3076253&amp;rft.au=CaoLongbing&amp;rft_id=%2F%2Fdoi.org%2F10.1145%252F3076253&amp;rfr_id=info%3Asid%2Fen.wikipedia.org%3AData+science\" class=\"Z3988\"></span></span>\\n</li>\\n<li id=\"cite_note-23\"><span class=\"mw-cite-backlink\"><b><a href=\"#cite_ref-23\">^</a></b></span> <span class=\"reference-text\"><link rel=\"mw-deduplicated-inline-style\" href=\"mw-data:TemplateStyles:r1067248974\"/><cite id=\"CITEREFWu\" class=\"citation web cs1\">Wu, C.&#160;F. Jeff. <a rel=\"nofollow\" class=\"external text\" href=\"http://www2.isye.gatech.edu/~jeffwu/presentations/datascience.pdf\">\"Statistics=Data Science?\"</a> <span class=\"cs1-format\">(PDF)</span><span class=\"reference-accessdate\">. Retrieved <span class=\"nowrap\">2 April</span> 2020</span>.</cite><span title=\"ctx_ver=Z39.88-2004&amp;rft_val_fmt=info%3Aofi%2Ffmt%3Akev%3Amtx%3Abook&amp;rft.genre=unknown&amp;rft.btitle=Statistics%3DData+Science%3F&amp;rft.aulast=Wu&amp;rft.aufirst=C.+F.+Jeff&amp;rft_id=http%3A%2F%2Fwww2.isye.gatech.edu%2F~jeffwu%2Fpresentations%2Fdatascience.pdf&amp;rfr_id=info%3Asid%2Fen.wikipedia.org%3AData+science\" class=\"Z3988\"></span></span>\\n</li>\\n<li id=\"cite_note-:1-24\"><span class=\"mw-cite-backlink\">^ <a href=\"#cite_ref-:1_24-0\"><sup><i><b>a</b></i></sup></a> <a href=\"#cite_ref-:1_24-1\"><sup><i><b>b</b></i></sup></a> <a href=\"#cite_ref-:1_24-2\"><sup><i><b>c</b></i></sup></a></span> <span class=\"reference-text\"><link rel=\"mw-deduplicated-inline-style\" href=\"mw-data:TemplateStyles:r1067248974\"/><cite id=\"CITEREFPress\" class=\"citation web cs1\">Press, Gil. <a rel=\"nofollow\" class=\"external text\" href=\"https://www.forbes.com/sites/gilpress/2013/05/28/a-very-short-history-of-data-science/\">\"A Very Short History of Data Science\"</a>. <i>Forbes</i><span class=\"reference-accessdate\">. Retrieved <span class=\"nowrap\">3 April</span> 2020</span>.</cite><span title=\"ctx_ver=Z39.88-2004&amp;rft_val_fmt=info%3Aofi%2Ffmt%3Akev%3Amtx%3Ajournal&amp;rft.genre=unknown&amp;rft.jtitle=Forbes&amp;rft.atitle=A+Very+Short+History+of+Data+Science&amp;rft.aulast=Press&amp;rft.aufirst=Gil&amp;rft_id=https%3A%2F%2Fwww.forbes.com%2Fsites%2Fgilpress%2F2013%2F05%2F28%2Fa-very-short-history-of-data-science%2F&amp;rfr_id=info%3Asid%2Fen.wikipedia.org%3AData+science\" class=\"Z3988\"></span></span>\\n</li>\\n<li id=\"cite_note-25\"><span class=\"mw-cite-backlink\"><b><a href=\"#cite_ref-25\">^</a></b></span> <span class=\"reference-text\"><link rel=\"mw-deduplicated-inline-style\" href=\"mw-data:TemplateStyles:r1067248974\"/><cite id=\"CITEREFGupta2015\" class=\"citation web cs1\">Gupta, Shanti (11 December 2015). <a rel=\"nofollow\" class=\"external text\" href=\"https://www.stat.purdue.edu/~wsc/\">\"William S. Cleveland\"</a><span class=\"reference-accessdate\">. Retrieved <span class=\"nowrap\">2 April</span> 2020</span>.</cite><span title=\"ctx_ver=Z39.88-2004&amp;rft_val_fmt=info%3Aofi%2Ffmt%3Akev%3Amtx%3Abook&amp;rft.genre=unknown&amp;rft.btitle=William+S.+Cleveland&amp;rft.date=2015-12-11&amp;rft.aulast=Gupta&amp;rft.aufirst=Shanti&amp;rft_id=https%3A%2F%2Fwww.stat.purdue.edu%2F~wsc%2F&amp;rfr_id=info%3Asid%2Fen.wikipedia.org%3AData+science\" class=\"Z3988\"></span></span>\\n</li>\\n<li id=\"cite_note-26\"><span class=\"mw-cite-backlink\"><b><a href=\"#cite_ref-26\">^</a></b></span> <span class=\"reference-text\"><link rel=\"mw-deduplicated-inline-style\" href=\"mw-data:TemplateStyles:r1067248974\"/><cite id=\"CITEREFTalley2016\" class=\"citation news cs1\">Talley, Jill (1 June 2016). <a rel=\"nofollow\" class=\"external text\" href=\"https://magazine.amstat.org/blog/2016/06/01/datascience-2/\">\"ASA Expands Scope, Outreach to Foster Growth, Collaboration in Data Science\"</a>. <i>Amstat News</i>. American Statistical Association.</cite><span title=\"ctx_ver=Z39.88-2004&amp;rft_val_fmt=info%3Aofi%2Ffmt%3Akev%3Amtx%3Ajournal&amp;rft.genre=article&amp;rft.jtitle=Amstat+News&amp;rft.atitle=ASA+Expands+Scope%2C+Outreach+to+Foster+Growth%2C+Collaboration+in+Data+Science&amp;rft.date=2016-06-01&amp;rft.aulast=Talley&amp;rft.aufirst=Jill&amp;rft_id=https%3A%2F%2Fmagazine.amstat.org%2Fblog%2F2016%2F06%2F01%2Fdatascience-2%2F&amp;rfr_id=info%3Asid%2Fen.wikipedia.org%3AData+science\" class=\"Z3988\"></span></span>\\n</li>\\n<li id=\"cite_note-27\"><span class=\"mw-cite-backlink\"><b><a href=\"#cite_ref-27\">^</a></b></span> <span class=\"reference-text\"><link rel=\"mw-deduplicated-inline-style\" href=\"mw-data:TemplateStyles:r1067248974\"/><cite id=\"CITEREFDavenportPatil2012\" class=\"citation news cs1\">Davenport, Thomas H.; Patil, D. J. (1 October 2012). <a rel=\"nofollow\" class=\"external text\" href=\"https://hbr.org/2012/10/data-scientist-the-sexiest-job-of-the-21st-century\">\"Data Scientist: The Sexiest Job of the 21st Century\"</a>. <i>Harvard Business Review</i>. No.&#160;October 2012. <a href=\"/wiki/ISSN_(identifier)\" class=\"mw-redirect\" title=\"ISSN (identifier)\">ISSN</a>&#160;<a rel=\"nofollow\" class=\"external text\" href=\"//www.worldcat.org/issn/0017-8012\">0017-8012</a><span class=\"reference-accessdate\">. Retrieved <span class=\"nowrap\">3 April</span> 2020</span>.</cite><span title=\"ctx_ver=Z39.88-2004&amp;rft_val_fmt=info%3Aofi%2Ffmt%3Akev%3Amtx%3Ajournal&amp;rft.genre=article&amp;rft.jtitle=Harvard+Business+Review&amp;rft.atitle=Data+Scientist%3A+The+Sexiest+Job+of+the+21st+Century&amp;rft.issue=October+2012&amp;rft.date=2012-10-01&amp;rft.issn=0017-8012&amp;rft.aulast=Davenport&amp;rft.aufirst=Thomas+H.&amp;rft.au=Patil%2C+D.+J.&amp;rft_id=https%3A%2F%2Fhbr.org%2F2012%2F10%2Fdata-scientist-the-sexiest-job-of-the-21st-century&amp;rfr_id=info%3Asid%2Fen.wikipedia.org%3AData+science\" class=\"Z3988\"></span></span>\\n</li>\\n<li id=\"cite_note-28\"><span class=\"mw-cite-backlink\"><b><a href=\"#cite_ref-28\">^</a></b></span> <span class=\"reference-text\"><link rel=\"mw-deduplicated-inline-style\" href=\"mw-data:TemplateStyles:r1067248974\"/><cite class=\"citation web cs1\"><a rel=\"nofollow\" class=\"external text\" href=\"https://www.nsf.gov/pubs/2005/nsb0540/\">\"US NSF – NSB-05-40, Long-Lived Digital Data Collections Enabling Research and Education in the 21st Century\"</a>. <i>www.nsf.gov</i><span class=\"reference-accessdate\">. Retrieved <span class=\"nowrap\">3 April</span> 2020</span>.</cite><span title=\"ctx_ver=Z39.88-2004&amp;rft_val_fmt=info%3Aofi%2Ffmt%3Akev%3Amtx%3Ajournal&amp;rft.genre=unknown&amp;rft.jtitle=www.nsf.gov&amp;rft.atitle=US+NSF+%E2%80%93+NSB-05-40%2C+Long-Lived+Digital+Data+Collections+Enabling+Research+and+Education+in+the+21st+Century&amp;rft_id=https%3A%2F%2Fwww.nsf.gov%2Fpubs%2F2005%2Fnsb0540%2F&amp;rfr_id=info%3Asid%2Fen.wikipedia.org%3AData+science\" class=\"Z3988\"></span></span>\\n</li>\\n<li id=\"cite_note-29\"><span class=\"mw-cite-backlink\"><b><a href=\"#cite_ref-29\">^</a></b></span> <span class=\"reference-text\"><link rel=\"mw-deduplicated-inline-style\" href=\"mw-data:TemplateStyles:r1067248974\"/><cite id=\"CITEREFPress\" class=\"citation web cs1\">Press, Gil. <a rel=\"nofollow\" class=\"external text\" href=\"https://www.forbes.com/sites/gilpress/2013/08/19/data-science-whats-the-half-life-of-a-buzzword/\">\"Data Science: What\\'s The Half-Life of a Buzzword?\"</a>. <i>Forbes</i><span class=\"reference-accessdate\">. Retrieved <span class=\"nowrap\">3 April</span> 2020</span>.</cite><span title=\"ctx_ver=Z39.88-2004&amp;rft_val_fmt=info%3Aofi%2Ffmt%3Akev%3Amtx%3Ajournal&amp;rft.genre=unknown&amp;rft.jtitle=Forbes&amp;rft.atitle=Data+Science%3A+What%27s+The+Half-Life+of+a+Buzzword%3F&amp;rft.aulast=Press&amp;rft.aufirst=Gil&amp;rft_id=https%3A%2F%2Fwww.forbes.com%2Fsites%2Fgilpress%2F2013%2F08%2F19%2Fdata-science-whats-the-half-life-of-a-buzzword%2F&amp;rfr_id=info%3Asid%2Fen.wikipedia.org%3AData+science\" class=\"Z3988\"></span></span>\\n</li>\\n<li id=\"cite_note-:5-30\"><span class=\"mw-cite-backlink\"><b><a href=\"#cite_ref-:5_30-0\">^</a></b></span> <span class=\"reference-text\"><link rel=\"mw-deduplicated-inline-style\" href=\"mw-data:TemplateStyles:r1067248974\"/><cite id=\"CITEREFPham\" class=\"citation web cs1\">Pham, Peter. <a rel=\"nofollow\" class=\"external text\" href=\"https://www.forbes.com/sites/peterpham/2015/08/28/the-impacts-of-big-data-that-you-may-not-have-heard-of/\">\"The Impacts of Big Data That You May Not Have Heard Of\"</a>. <i>Forbes</i><span class=\"reference-accessdate\">. Retrieved <span class=\"nowrap\">3 April</span> 2020</span>.</cite><span title=\"ctx_ver=Z39.88-2004&amp;rft_val_fmt=info%3Aofi%2Ffmt%3Akev%3Amtx%3Ajournal&amp;rft.genre=unknown&amp;rft.jtitle=Forbes&amp;rft.atitle=The+Impacts+of+Big+Data+That+You+May+Not+Have+Heard+Of&amp;rft.aulast=Pham&amp;rft.aufirst=Peter&amp;rft_id=https%3A%2F%2Fwww.forbes.com%2Fsites%2Fpeterpham%2F2015%2F08%2F28%2Fthe-impacts-of-big-data-that-you-may-not-have-heard-of%2F&amp;rfr_id=info%3Asid%2Fen.wikipedia.org%3AData+science\" class=\"Z3988\"></span></span>\\n</li>\\n<li id=\"cite_note-:6-31\"><span class=\"mw-cite-backlink\"><b><a href=\"#cite_ref-:6_31-0\">^</a></b></span> <span class=\"reference-text\"><link rel=\"mw-deduplicated-inline-style\" href=\"mw-data:TemplateStyles:r1067248974\"/><cite id=\"CITEREFMartin2019\" class=\"citation web cs1\">Martin, Sophia (20 September 2019). <a rel=\"nofollow\" class=\"external text\" href=\"https://towardsdatascience.com/how-data-science-will-impact-future-of-businesses-7f11f5699c4d\">\"How Data Science will Impact Future of Businesses?\"</a>. <i>Medium</i><span class=\"reference-accessdate\">. Retrieved <span class=\"nowrap\">3 April</span> 2020</span>.</cite><span title=\"ctx_ver=Z39.88-2004&amp;rft_val_fmt=info%3Aofi%2Ffmt%3Akev%3Amtx%3Ajournal&amp;rft.genre=unknown&amp;rft.jtitle=Medium&amp;rft.atitle=How+Data+Science+will+Impact+Future+of+Businesses%3F&amp;rft.date=2019-09-20&amp;rft.aulast=Martin&amp;rft.aufirst=Sophia&amp;rft_id=https%3A%2F%2Ftowardsdatascience.com%2Fhow-data-science-will-impact-future-of-businesses-7f11f5699c4d&amp;rfr_id=info%3Asid%2Fen.wikipedia.org%3AData+science\" class=\"Z3988\"></span></span>\\n</li>\\n</ol></div>\\n<div class=\"navbox-styles nomobile\"><style data-mw-deduplicate=\"TemplateStyles:r1061467846\">.mw-parser-output .navbox{box-sizing:border-box;border:1px solid #a2a9b1;width:100%;clear:both;font-size:88%;text-align:center;padding:1px;margin:1em auto 0}.mw-parser-output .navbox .navbox{margin-top:0}.mw-parser-output .navbox+.navbox,.mw-parser-output .navbox+.navbox-styles+.navbox{margin-top:-1px}.mw-parser-output .navbox-inner,.mw-parser-output .navbox-subgroup{width:100%}.mw-parser-output .navbox-group,.mw-parser-output .navbox-title,.mw-parser-output .navbox-abovebelow{padding:0.25em 1em;line-height:1.5em;text-align:center}.mw-parser-output .navbox-group{white-space:nowrap;text-align:right}.mw-parser-output .navbox,.mw-parser-output .navbox-subgroup{background-color:#fdfdfd}.mw-parser-output .navbox-list{line-height:1.5em;border-color:#fdfdfd}.mw-parser-output .navbox-list-with-group{text-align:left;border-left-width:2px;border-left-style:solid}.mw-parser-output tr+tr>.navbox-abovebelow,.mw-parser-output tr+tr>.navbox-group,.mw-parser-output tr+tr>.navbox-image,.mw-parser-output tr+tr>.navbox-list{border-top:2px solid #fdfdfd}.mw-parser-output .navbox-title{background-color:#ccf}.mw-parser-output .navbox-abovebelow,.mw-parser-output .navbox-group,.mw-parser-output .navbox-subgroup .navbox-title{background-color:#ddf}.mw-parser-output .navbox-subgroup .navbox-group,.mw-parser-output .navbox-subgroup .navbox-abovebelow{background-color:#e6e6ff}.mw-parser-output .navbox-even{background-color:#f7f7f7}.mw-parser-output .navbox-odd{background-color:transparent}.mw-parser-output .navbox .hlist td dl,.mw-parser-output .navbox .hlist td ol,.mw-parser-output .navbox .hlist td ul,.mw-parser-output .navbox td.hlist dl,.mw-parser-output .navbox td.hlist ol,.mw-parser-output .navbox td.hlist ul{padding:0.125em 0}.mw-parser-output .navbox .navbar{display:block;font-size:100%}.mw-parser-output .navbox-title .navbar{float:left;text-align:left;margin-right:0.5em}</style></div><div role=\"navigation\" class=\"navbox\" aria-labelledby=\"Data\" style=\"padding:3px\"><table class=\"nowraplinks mw-collapsible autocollapse navbox-inner\" style=\"border-spacing:0;background:transparent;color:inherit\"><tbody><tr><th scope=\"col\" class=\"navbox-title\" colspan=\"2\"><style data-mw-deduplicate=\"TemplateStyles:r1063604349\">.mw-parser-output .navbar{display:inline;font-size:88%;font-weight:normal}.mw-parser-output .navbar-collapse{float:left;text-align:left}.mw-parser-output .navbar-boxtext{word-spacing:0}.mw-parser-output .navbar ul{display:inline-block;white-space:nowrap;line-height:inherit}.mw-parser-output .navbar-brackets::before{margin-right:-0.125em;content:\"[ \"}.mw-parser-output .navbar-brackets::after{margin-left:-0.125em;content:\" ]\"}.mw-parser-output .navbar li{word-spacing:-0.125em}.mw-parser-output .navbar a>span,.mw-parser-output .navbar a>abbr{text-decoration:inherit}.mw-parser-output .navbar-mini abbr{font-variant:small-caps;border-bottom:none;text-decoration:none;cursor:inherit}.mw-parser-output .navbar-ct-full{font-size:114%;margin:0 7em}.mw-parser-output .navbar-ct-mini{font-size:114%;margin:0 4em}</style><div class=\"navbar plainlinks hlist navbar-mini\"><ul><li class=\"nv-view\"><a href=\"/wiki/Template:Data\" title=\"Template:Data\"><abbr title=\"View this template\" style=\";;background:none transparent;border:none;box-shadow:none;padding:0;\">v</abbr></a></li><li class=\"nv-talk\"><a href=\"/wiki/Template_talk:Data\" title=\"Template talk:Data\"><abbr title=\"Discuss this template\" style=\";;background:none transparent;border:none;box-shadow:none;padding:0;\">t</abbr></a></li><li class=\"nv-edit\"><a class=\"external text\" href=\"https://en.wikipedia.org/w/index.php?title=Template:Data&amp;action=edit\"><abbr title=\"Edit this template\" style=\";;background:none transparent;border:none;box-shadow:none;padding:0;\">e</abbr></a></li></ul></div><div id=\"Data\" style=\"font-size:114%;margin:0 4em\"><a href=\"/wiki/Data_(computing)\" title=\"Data (computing)\">Data</a></div></th></tr><tr><td colspan=\"2\" class=\"navbox-list navbox-odd hlist\" style=\"width:100%;padding:0\"><div style=\"padding:0 0.25em\">\\n<ul><li><a href=\"/wiki/Data_augmentation\" title=\"Data augmentation\">Augmentation</a></li>\\n<li><a href=\"/wiki/Data_analysis\" title=\"Data analysis\">Analysis</a></li>\\n<li><a href=\"/wiki/Data_archaeology\" title=\"Data archaeology\">Archaeology</a></li>\\n<li><a href=\"/wiki/Data_cleansing\" title=\"Data cleansing\">Cleansing</a></li>\\n<li><a href=\"/wiki/Data_collection\" title=\"Data collection\">Collection</a></li>\\n<li><a href=\"/wiki/Data_compression\" title=\"Data compression\">Compression</a></li>\\n<li><a href=\"/wiki/Data_corruption\" title=\"Data corruption\">Corruption</a></li>\\n<li><a href=\"/wiki/Data_curation\" title=\"Data curation\">Curation</a></li>\\n<li><a href=\"/wiki/Data_degradation\" title=\"Data degradation\">Degradation</a></li>\\n<li><a href=\"/wiki/Data_editing\" title=\"Data editing\">Editing</a></li>\\n<li><a href=\"/wiki/Extract,_transform,_load\" title=\"Extract, transform, load\">ETL</a>/<a href=\"/wiki/Extract,_load,_transform\" title=\"Extract, load, transform\">ELT</a>\\n<ul><li><a href=\"/wiki/Data_extraction\" title=\"Data extraction\">Extract</a></li>\\n<li><a href=\"/wiki/Data_transformation\" title=\"Data transformation\">Transform</a></li>\\n<li><a href=\"/wiki/Data_loading\" class=\"mw-redirect\" title=\"Data loading\">Load</a></li></ul></li>\\n<li><a href=\"/wiki/Data_farming\" title=\"Data farming\">Farming</a></li>\\n<li><a href=\"/wiki/Data_format_management\" title=\"Data format management\">Format management</a></li>\\n<li><a href=\"/wiki/Data_fusion\" title=\"Data fusion\">Fusion</a></li>\\n<li><a href=\"/wiki/Data_integration\" title=\"Data integration\">Integration</a></li>\\n<li><a href=\"/wiki/Data_integrity\" title=\"Data integrity\">Integrity</a></li>\\n<li><a href=\"/wiki/Data_library\" title=\"Data library\">Library</a></li>\\n<li><a href=\"/wiki/Data_loss\" title=\"Data loss\">Loss</a></li>\\n<li><a href=\"/wiki/Data_management\" title=\"Data management\">Management</a></li>\\n<li><a href=\"/wiki/Data_migration\" title=\"Data migration\">Migration</a></li>\\n<li><a href=\"/wiki/Data_mining\" title=\"Data mining\">Mining</a></li>\\n<li><a href=\"/wiki/Data_pre-processing\" title=\"Data pre-processing\">Pre-processing</a></li>\\n<li><a href=\"/wiki/Data_preservation\" title=\"Data preservation\">Preservation</a></li>\\n<li><a href=\"/wiki/Information_privacy\" title=\"Information privacy\">Protection (privacy)</a></li>\\n<li><a href=\"/wiki/Data_publishing\" title=\"Data publishing\">Publishing</a></li>\\n<li><a href=\"/wiki/Data_recovery\" title=\"Data recovery\">Recovery</a></li>\\n<li><a href=\"/wiki/Data_reduction\" title=\"Data reduction\">Reduction</a></li>\\n<li><a href=\"/wiki/Data_retention\" title=\"Data retention\">Retention</a></li>\\n<li><a href=\"/wiki/Data_quality\" title=\"Data quality\">Quality</a></li>\\n<li><a class=\"mw-selflink selflink\">Science</a></li>\\n<li><a href=\"/wiki/Data_scraping\" title=\"Data scraping\">Scraping</a></li>\\n<li><a href=\"/wiki/Data_scrubbing\" title=\"Data scrubbing\">Scrubbing</a></li>\\n<li><a href=\"/wiki/Data_security\" title=\"Data security\">Security</a></li>\\n<li><a href=\"/wiki/Data_steward\" title=\"Data steward\">Stewardship</a></li>\\n<li><a href=\"/wiki/Data_storage\" title=\"Data storage\">Storage</a></li>\\n<li><a href=\"/wiki/Data_validation\" title=\"Data validation\">Validation</a></li>\\n<li><a href=\"/wiki/Data_warehouse\" title=\"Data warehouse\">Warehouse</a></li>\\n<li><a href=\"/wiki/Data_wrangling\" title=\"Data wrangling\">Wrangling/munging</a></li></ul>\\n</div></td></tr></tbody></table></div>\\n<!-- \\nNewPP limit report\\nParsed by mw1322\\nCached time: 20220511043356\\nCache expiry: 1814400\\nReduced expiry: false\\nComplications: [vary‐revision‐sha1]\\nCPU time usage: 0.536 seconds\\nReal time usage: 0.614 seconds\\nPreprocessor visited node count: 1762/1000000\\nPost‐expand include size: 63323/2097152 bytes\\nTemplate argument size: 1037/2097152 bytes\\nHighest expansion depth: 12/100\\nExpensive parser function count: 2/500\\nUnstrip recursion depth: 1/20\\nUnstrip post‐expand size: 98138/5000000 bytes\\nLua time usage: 0.340/10.000 seconds\\nLua memory usage: 6363587/52428800 bytes\\nNumber of Wikibase entities loaded: 0/400\\n-->\\n<!--\\nTransclusion expansion time report (%,ms,calls,template)\\n100.00%  543.642      1 -total\\n 61.51%  334.401      1 Template:Reflist\\n 25.88%  140.688      8 Template:Cite_journal\\n 18.62%  101.253     18 Template:Cite_web\\n 13.06%   70.990      1 Template:Short_description\\n 11.41%   62.029      1 Template:Data\\n 10.88%   59.161      1 Template:Navbox\\n  7.11%   38.636      1 Template:Pagetype\\n  5.49%   29.833      1 Template:Distinguish\\n  5.43%   29.516      3 Template:Cite_book\\n-->\\n\\n<!-- Saved in parser cache with key enwiki:pcache:idhash:35458904-0!canonical and timestamp 20220511043355 and revision id 1087223604. Serialized with JSON.\\n -->\\n</div><noscript><img src=\"//en.wikipedia.org/wiki/Special:CentralAutoLogin/start?type=1x1\" alt=\"\" title=\"\" width=\"1\" height=\"1\" style=\"border: none; position: absolute;\" /></noscript>\\n<div class=\"printfooter\">Retrieved from \"<a dir=\"ltr\" href=\"https://en.wikipedia.org/w/index.php?title=Data_science&amp;oldid=1087223604\">https://en.wikipedia.org/w/index.php?title=Data_science&amp;oldid=1087223604</a>\"</div></div>\\n\\t\\t<div id=\"catlinks\" class=\"catlinks\" data-mw=\"interface\"><div id=\"mw-normal-catlinks\" class=\"mw-normal-catlinks\"><a href=\"/wiki/Help:Category\" title=\"Help:Category\">Categories</a>: <ul><li><a href=\"/wiki/Category:Information_science\" title=\"Category:Information science\">Information science</a></li><li><a href=\"/wiki/Category:Computer_occupations\" title=\"Category:Computer occupations\">Computer occupations</a></li><li><a href=\"/wiki/Category:Computational_fields_of_study\" title=\"Category:Computational fields of study\">Computational fields of study</a></li><li><a href=\"/wiki/Category:Data_analysis\" title=\"Category:Data analysis\">Data analysis</a></li></ul></div><div id=\"mw-hidden-catlinks\" class=\"mw-hidden-catlinks mw-hidden-cats-hidden\">Hidden categories: <ul><li><a href=\"/wiki/Category:Articles_with_short_description\" title=\"Category:Articles with short description\">Articles with short description</a></li><li><a href=\"/wiki/Category:Short_description_matches_Wikidata\" title=\"Category:Short description matches Wikidata\">Short description matches Wikidata</a></li><li><a href=\"/wiki/Category:Use_dmy_dates_from_August_2021\" title=\"Category:Use dmy dates from August 2021\">Use dmy dates from August 2021</a></li></ul></div></div>\\n\\t</div>\\n</div>\\n<div id=\\'mw-data-after-content\\'>\\n\\t<div class=\"read-more-container\"></div>\\n</div>\\n\\n<div id=\"mw-navigation\">\\n\\t<h2>Navigation menu</h2>\\n\\t<div id=\"mw-head\">\\n\\t\\t\\n<nav id=\"p-personal\" class=\"mw-portlet mw-portlet-personal vector-user-menu-legacy vector-menu\" aria-labelledby=\"p-personal-label\" role=\"navigation\" \\n\\t >\\n\\t<label id=\"p-personal-label\" aria-label=\"\" class=\"vector-menu-heading \"  >\\n\\t\\t<span class=\"vector-menu-heading-label\">Personal tools</span>\\n\\t</label>\\n\\t<div class=\"vector-menu-content\">\\n\\t\\t\\n\\t\\t<ul class=\"vector-menu-content-list\"><li id=\"pt-anonuserpage\" class=\"mw-list-item\"><span title=\"The user page for the IP address you are editing as\">Not logged in</span></li><li id=\"pt-anontalk\" class=\"mw-list-item\"><a href=\"/wiki/Special:MyTalk\" title=\"Discussion about edits from this IP address [n]\" accesskey=\"n\"><span>Talk</span></a></li><li id=\"pt-anoncontribs\" class=\"mw-list-item\"><a href=\"/wiki/Special:MyContributions\" title=\"A list of edits made from this IP address [y]\" accesskey=\"y\"><span>Contributions</span></a></li><li id=\"pt-createaccount\" class=\"mw-list-item\"><a href=\"/w/index.php?title=Special:CreateAccount&amp;returnto=Data+science\" title=\"You are encouraged to create an account and log in; however, it is not mandatory\"><span>Create account</span></a></li><li id=\"pt-login\" class=\"mw-list-item\"><a href=\"/w/index.php?title=Special:UserLogin&amp;returnto=Data+science\" title=\"You&#039;re encouraged to log in; however, it&#039;s not mandatory. [o]\" accesskey=\"o\"><span>Log in</span></a></li></ul>\\n\\t\\t\\n\\t</div>\\n</nav>\\n\\n\\t\\t<div id=\"left-navigation\">\\n\\t\\t\\t\\n<nav id=\"p-namespaces\" class=\"mw-portlet mw-portlet-namespaces vector-menu vector-menu-tabs\" aria-labelledby=\"p-namespaces-label\" role=\"navigation\" \\n\\t >\\n\\t<label id=\"p-namespaces-label\" aria-label=\"\" class=\"vector-menu-heading \"  >\\n\\t\\t<span class=\"vector-menu-heading-label\">Namespaces</span>\\n\\t</label>\\n\\t<div class=\"vector-menu-content\">\\n\\t\\t\\n\\t\\t<ul class=\"vector-menu-content-list\"><li id=\"ca-nstab-main\" class=\"selected mw-list-item\"><a href=\"/wiki/Data_science\" title=\"View the content page [c]\" accesskey=\"c\"><span>Article</span></a></li><li id=\"ca-talk\" class=\"mw-list-item\"><a href=\"/wiki/Talk:Data_science\" rel=\"discussion\" title=\"Discuss improvements to the content page [t]\" accesskey=\"t\"><span>Talk</span></a></li></ul>\\n\\t\\t\\n\\t</div>\\n</nav>\\n\\n\\t\\t\\t\\n<nav id=\"p-variants\" class=\"mw-portlet mw-portlet-variants emptyPortlet vector-menu-dropdown-noicon vector-menu vector-menu-dropdown\" aria-labelledby=\"p-variants-label\" role=\"navigation\" \\n\\t >\\n\\t<input type=\"checkbox\"\\n\\t\\tid=\"p-variants-checkbox\"\\n\\t\\trole=\"button\"\\n\\t\\taria-haspopup=\"true\"\\n\\t\\tdata-event-name=\"ui.dropdown-p-variants\"\\n\\t\\tclass=\"vector-menu-checkbox\" aria-labelledby=\"p-variants-label\" />\\n\\t<label id=\"p-variants-label\" aria-label=\"Change language variant\" class=\"vector-menu-heading \"  >\\n\\t\\t<span class=\"vector-menu-heading-label\">English</span>\\n\\t</label>\\n\\t<div class=\"vector-menu-content\">\\n\\t\\t\\n\\t\\t<ul class=\"vector-menu-content-list\"></ul>\\n\\t\\t\\n\\t</div>\\n</nav>\\n\\n\\t\\t</div>\\n\\t\\t<div id=\"right-navigation\">\\n\\t\\t\\t\\n<nav id=\"p-views\" class=\"mw-portlet mw-portlet-views vector-menu vector-menu-tabs\" aria-labelledby=\"p-views-label\" role=\"navigation\" \\n\\t >\\n\\t<label id=\"p-views-label\" aria-label=\"\" class=\"vector-menu-heading \"  >\\n\\t\\t<span class=\"vector-menu-heading-label\">Views</span>\\n\\t</label>\\n\\t<div class=\"vector-menu-content\">\\n\\t\\t\\n\\t\\t<ul class=\"vector-menu-content-list\"><li id=\"ca-view\" class=\"selected mw-list-item\"><a href=\"/wiki/Data_science\"><span>Read</span></a></li><li id=\"ca-edit\" class=\"mw-list-item\"><a href=\"/w/index.php?title=Data_science&amp;action=edit\" title=\"Edit this page [e]\" accesskey=\"e\"><span>Edit</span></a></li><li id=\"ca-history\" class=\"mw-list-item\"><a href=\"/w/index.php?title=Data_science&amp;action=history\" title=\"Past revisions of this page [h]\" accesskey=\"h\"><span>View history</span></a></li></ul>\\n\\t\\t\\n\\t</div>\\n</nav>\\n\\n\\t\\t\\t\\n<nav id=\"p-cactions\" class=\"mw-portlet mw-portlet-cactions emptyPortlet vector-menu-dropdown-noicon vector-menu vector-menu-dropdown\" aria-labelledby=\"p-cactions-label\" role=\"navigation\"  title=\"More options\"\\n\\t >\\n\\t<input type=\"checkbox\"\\n\\t\\tid=\"p-cactions-checkbox\"\\n\\t\\trole=\"button\"\\n\\t\\taria-haspopup=\"true\"\\n\\t\\tdata-event-name=\"ui.dropdown-p-cactions\"\\n\\t\\tclass=\"vector-menu-checkbox\" aria-labelledby=\"p-cactions-label\" />\\n\\t<label id=\"p-cactions-label\" aria-label=\"\" class=\"vector-menu-heading \"  >\\n\\t\\t<span class=\"vector-menu-heading-label\">More</span>\\n\\t</label>\\n\\t<div class=\"vector-menu-content\">\\n\\t\\t\\n\\t\\t<ul class=\"vector-menu-content-list\"></ul>\\n\\t\\t\\n\\t</div>\\n</nav>\\n\\n\\t\\t\\t\\n<div id=\"p-search\" role=\"search\" class=\"vector-search-box-vue  vector-search-box-show-thumbnail vector-search-box-auto-expand-width vector-search-box\">\\n\\t<div>\\n\\t\\t\\t<h3 >\\n\\t\\t\\t\\t<label for=\"searchInput\">Search</label>\\n\\t\\t\\t</h3>\\n\\t\\t<form action=\"/w/index.php\" id=\"searchform\"\\n\\t\\t\\tclass=\"vector-search-box-form\">\\n\\t\\t\\t<div id=\"simpleSearch\"\\n\\t\\t\\t\\tclass=\"vector-search-box-inner\"\\n\\t\\t\\t\\t data-search-loc=\"header-navigation\">\\n\\t\\t\\t\\t<input class=\"vector-search-box-input\"\\n\\t\\t\\t\\t\\t type=\"search\" name=\"search\" placeholder=\"Search Wikipedia\" aria-label=\"Search Wikipedia\" autocapitalize=\"sentences\" title=\"Search Wikipedia [f]\" accesskey=\"f\" id=\"searchInput\"\\n\\t\\t\\t\\t/>\\n\\t\\t\\t\\t<input type=\"hidden\" name=\"title\" value=\"Special:Search\"/>\\n\\t\\t\\t\\t<input id=\"mw-searchButton\"\\n\\t\\t\\t\\t\\t class=\"searchButton mw-fallbackSearchButton\" type=\"submit\" name=\"fulltext\" title=\"Search Wikipedia for this text\" value=\"Search\" />\\n\\t\\t\\t\\t<input id=\"searchButton\"\\n\\t\\t\\t\\t\\t class=\"searchButton\" type=\"submit\" name=\"go\" title=\"Go to a page with this exact name if it exists\" value=\"Go\" />\\n\\t\\t\\t</div>\\n\\t\\t</form>\\n\\t</div>\\n</div>\\n\\n\\t\\t</div>\\n\\t</div>\\n\\t\\n\\n<div id=\"mw-panel\">\\n\\t<div id=\"p-logo\" role=\"banner\">\\n\\t\\t<a class=\"mw-wiki-logo\" href=\"/wiki/Main_Page\"\\n\\t\\t\\ttitle=\"Visit the main page\"></a>\\n\\t</div>\\n\\t\\n<nav id=\"p-navigation\" class=\"mw-portlet mw-portlet-navigation vector-menu vector-menu-portal portal\" aria-labelledby=\"p-navigation-label\" role=\"navigation\" \\n\\t >\\n\\t<label id=\"p-navigation-label\" aria-label=\"\" class=\"vector-menu-heading \"  >\\n\\t\\t<span class=\"vector-menu-heading-label\">Navigation</span>\\n\\t</label>\\n\\t<div class=\"vector-menu-content\">\\n\\t\\t\\n\\t\\t<ul class=\"vector-menu-content-list\"><li id=\"n-mainpage-description\" class=\"mw-list-item\"><a href=\"/wiki/Main_Page\" icon=\"home\" title=\"Visit the main page [z]\" accesskey=\"z\"><span>Main page</span></a></li><li id=\"n-contents\" class=\"mw-list-item\"><a href=\"/wiki/Wikipedia:Contents\" title=\"Guides to browsing Wikipedia\"><span>Contents</span></a></li><li id=\"n-currentevents\" class=\"mw-list-item\"><a href=\"/wiki/Portal:Current_events\" title=\"Articles related to current events\"><span>Current events</span></a></li><li id=\"n-randompage\" class=\"mw-list-item\"><a href=\"/wiki/Special:Random\" icon=\"die\" title=\"Visit a randomly selected article [x]\" accesskey=\"x\"><span>Random article</span></a></li><li id=\"n-aboutsite\" class=\"mw-list-item\"><a href=\"/wiki/Wikipedia:About\" title=\"Learn about Wikipedia and how it works\"><span>About Wikipedia</span></a></li><li id=\"n-contactpage\" class=\"mw-list-item\"><a href=\"//en.wikipedia.org/wiki/Wikipedia:Contact_us\" title=\"How to contact Wikipedia\"><span>Contact us</span></a></li><li id=\"n-sitesupport\" class=\"mw-list-item\"><a href=\"https://donate.wikimedia.org/wiki/Special:FundraiserRedirector?utm_source=donate&amp;utm_medium=sidebar&amp;utm_campaign=C13_en.wikipedia.org&amp;uselang=en\" title=\"Support us by donating to the Wikimedia Foundation\"><span>Donate</span></a></li></ul>\\n\\t\\t\\n\\t</div>\\n</nav>\\n\\n\\t\\n<nav id=\"p-interaction\" class=\"mw-portlet mw-portlet-interaction vector-menu vector-menu-portal portal\" aria-labelledby=\"p-interaction-label\" role=\"navigation\" \\n\\t >\\n\\t<label id=\"p-interaction-label\" aria-label=\"\" class=\"vector-menu-heading \"  >\\n\\t\\t<span class=\"vector-menu-heading-label\">Contribute</span>\\n\\t</label>\\n\\t<div class=\"vector-menu-content\">\\n\\t\\t\\n\\t\\t<ul class=\"vector-menu-content-list\"><li id=\"n-help\" class=\"mw-list-item\"><a href=\"/wiki/Help:Contents\" icon=\"help\" title=\"Guidance on how to use and edit Wikipedia\"><span>Help</span></a></li><li id=\"n-introduction\" class=\"mw-list-item\"><a href=\"/wiki/Help:Introduction\" title=\"Learn how to edit Wikipedia\"><span>Learn to edit</span></a></li><li id=\"n-portal\" class=\"mw-list-item\"><a href=\"/wiki/Wikipedia:Community_portal\" title=\"The hub for editors\"><span>Community portal</span></a></li><li id=\"n-recentchanges\" class=\"mw-list-item\"><a href=\"/wiki/Special:RecentChanges\" icon=\"recentChanges\" title=\"A list of recent changes to Wikipedia [r]\" accesskey=\"r\"><span>Recent changes</span></a></li><li id=\"n-upload\" class=\"mw-list-item\"><a href=\"/wiki/Wikipedia:File_Upload_Wizard\" title=\"Add images or other media for use on Wikipedia\"><span>Upload file</span></a></li></ul>\\n\\t\\t\\n\\t</div>\\n</nav>\\n\\n<nav id=\"p-tb\" class=\"mw-portlet mw-portlet-tb vector-menu vector-menu-portal portal\" aria-labelledby=\"p-tb-label\" role=\"navigation\" \\n\\t >\\n\\t<label id=\"p-tb-label\" aria-label=\"\" class=\"vector-menu-heading \"  >\\n\\t\\t<span class=\"vector-menu-heading-label\">Tools</span>\\n\\t</label>\\n\\t<div class=\"vector-menu-content\">\\n\\t\\t\\n\\t\\t<ul class=\"vector-menu-content-list\"><li id=\"t-whatlinkshere\" class=\"mw-list-item\"><a href=\"/wiki/Special:WhatLinksHere/Data_science\" title=\"List of all English Wikipedia pages containing links to this page [j]\" accesskey=\"j\"><span>What links here</span></a></li><li id=\"t-recentchangeslinked\" class=\"mw-list-item\"><a href=\"/wiki/Special:RecentChangesLinked/Data_science\" rel=\"nofollow\" title=\"Recent changes in pages linked from this page [k]\" accesskey=\"k\"><span>Related changes</span></a></li><li id=\"t-upload\" class=\"mw-list-item\"><a href=\"/wiki/Wikipedia:File_Upload_Wizard\" title=\"Upload files [u]\" accesskey=\"u\"><span>Upload file</span></a></li><li id=\"t-specialpages\" class=\"mw-list-item\"><a href=\"/wiki/Special:SpecialPages\" title=\"A list of all special pages [q]\" accesskey=\"q\"><span>Special pages</span></a></li><li id=\"t-permalink\" class=\"mw-list-item\"><a href=\"/w/index.php?title=Data_science&amp;oldid=1087223604\" title=\"Permanent link to this revision of this page\"><span>Permanent link</span></a></li><li id=\"t-info\" class=\"mw-list-item\"><a href=\"/w/index.php?title=Data_science&amp;action=info\" title=\"More information about this page\"><span>Page information</span></a></li><li id=\"t-cite\" class=\"mw-list-item\"><a href=\"/w/index.php?title=Special:CiteThisPage&amp;page=Data_science&amp;id=1087223604&amp;wpFormIdentifier=titleform\" title=\"Information on how to cite this page\"><span>Cite this page</span></a></li><li id=\"t-wikibase\" class=\"mw-list-item\"><a href=\"https://www.wikidata.org/wiki/Special:EntityPage/Q2374463\" title=\"Structured data on this page hosted by Wikidata [g]\" accesskey=\"g\"><span>Wikidata item</span></a></li></ul>\\n\\t\\t\\n\\t</div>\\n</nav>\\n\\n<nav id=\"p-coll-print_export\" class=\"mw-portlet mw-portlet-coll-print_export vector-menu vector-menu-portal portal\" aria-labelledby=\"p-coll-print_export-label\" role=\"navigation\" \\n\\t >\\n\\t<label id=\"p-coll-print_export-label\" aria-label=\"\" class=\"vector-menu-heading \"  >\\n\\t\\t<span class=\"vector-menu-heading-label\">Print/export</span>\\n\\t</label>\\n\\t<div class=\"vector-menu-content\">\\n\\t\\t\\n\\t\\t<ul class=\"vector-menu-content-list\"><li id=\"coll-download-as-rl\" class=\"mw-list-item\"><a href=\"/w/index.php?title=Special:DownloadAsPdf&amp;page=Data_science&amp;action=show-download-screen\" title=\"Download this page as a PDF file\"><span>Download as PDF</span></a></li><li id=\"t-print\" class=\"mw-list-item\"><a href=\"/w/index.php?title=Data_science&amp;printable=yes\" title=\"Printable version of this page [p]\" accesskey=\"p\"><span>Printable version</span></a></li></ul>\\n\\t\\t\\n\\t</div>\\n</nav>\\n\\n<nav id=\"p-wikibase-otherprojects\" class=\"mw-portlet mw-portlet-wikibase-otherprojects vector-menu vector-menu-portal portal\" aria-labelledby=\"p-wikibase-otherprojects-label\" role=\"navigation\" \\n\\t >\\n\\t<label id=\"p-wikibase-otherprojects-label\" aria-label=\"\" class=\"vector-menu-heading \"  >\\n\\t\\t<span class=\"vector-menu-heading-label\">In other projects</span>\\n\\t</label>\\n\\t<div class=\"vector-menu-content\">\\n\\t\\t\\n\\t\\t<ul class=\"vector-menu-content-list\"><li class=\"wb-otherproject-link wb-otherproject-commons mw-list-item\"><a href=\"https://commons.wikimedia.org/wiki/Category:Data_science\" hreflang=\"en\"><span>Wikimedia Commons</span></a></li><li class=\"wb-otherproject-link wb-otherproject-wikiversity mw-list-item\"><a href=\"https://en.wikiversity.org/wiki/Data_science\" hreflang=\"en\"><span>Wikiversity</span></a></li></ul>\\n\\t\\t\\n\\t</div>\\n</nav>\\n\\n\\t\\n<nav id=\"p-lang\" class=\"mw-portlet mw-portlet-lang vector-menu vector-menu-portal portal\" aria-labelledby=\"p-lang-label\" role=\"navigation\" \\n\\t >\\n\\t<label id=\"p-lang-label\" aria-label=\"\" class=\"vector-menu-heading \"  >\\n\\t\\t<span class=\"vector-menu-heading-label\">Languages</span>\\n\\t</label>\\n\\t<div class=\"vector-menu-content\">\\n\\t\\t\\n\\t\\t<ul class=\"vector-menu-content-list\"><li class=\"interlanguage-link interwiki-ar mw-list-item\"><a href=\"https://ar.wikipedia.org/wiki/%D8%B9%D9%84%D9%85_%D8%A7%D9%84%D8%A8%D9%8A%D8%A7%D9%86%D8%A7%D8%AA\" title=\"علم البيانات – Arabic\" lang=\"ar\" hreflang=\"ar\" class=\"interlanguage-link-target\"><span>العربية</span></a></li><li class=\"interlanguage-link interwiki-az mw-list-item\"><a href=\"https://az.wikipedia.org/wiki/Veril%C9%99nl%C9%99r_elmi_(Data_Science)\" title=\"Verilənlər elmi (Data Science) – Azerbaijani\" lang=\"az\" hreflang=\"az\" class=\"interlanguage-link-target\"><span>Azərbaycanca</span></a></li><li class=\"interlanguage-link interwiki-bn mw-list-item\"><a href=\"https://bn.wikipedia.org/wiki/%E0%A6%89%E0%A6%AA%E0%A6%BE%E0%A6%A4%E0%A7%8D%E0%A6%A4_%E0%A6%AC%E0%A6%BF%E0%A6%9C%E0%A7%8D%E0%A6%9E%E0%A6%BE%E0%A6%A8\" title=\"উপাত্ত বিজ্ঞান – Bangla\" lang=\"bn\" hreflang=\"bn\" class=\"interlanguage-link-target\"><span>বাংলা</span></a></li><li class=\"interlanguage-link interwiki-bg mw-list-item\"><a href=\"https://bg.wikipedia.org/wiki/%D0%9D%D0%B0%D1%83%D0%BA%D0%B0_%D0%B7%D0%B0_%D0%B4%D0%B0%D0%BD%D0%BD%D0%B8%D1%82%D0%B5\" title=\"Наука за данните – Bulgarian\" lang=\"bg\" hreflang=\"bg\" class=\"interlanguage-link-target\"><span>Български</span></a></li><li class=\"interlanguage-link interwiki-ca mw-list-item\"><a href=\"https://ca.wikipedia.org/wiki/Ci%C3%A8ncia_de_les_dades\" title=\"Ciència de les dades – Catalan\" lang=\"ca\" hreflang=\"ca\" class=\"interlanguage-link-target\"><span>Català</span></a></li><li class=\"interlanguage-link interwiki-cs mw-list-item\"><a href=\"https://cs.wikipedia.org/wiki/Data_science\" title=\"Data science – Czech\" lang=\"cs\" hreflang=\"cs\" class=\"interlanguage-link-target\"><span>Čeština</span></a></li><li class=\"interlanguage-link interwiki-de mw-list-item\"><a href=\"https://de.wikipedia.org/wiki/Data_Science\" title=\"Data Science – German\" lang=\"de\" hreflang=\"de\" class=\"interlanguage-link-target\"><span>Deutsch</span></a></li><li class=\"interlanguage-link interwiki-et mw-list-item\"><a href=\"https://et.wikipedia.org/wiki/Andmeteadus\" title=\"Andmeteadus – Estonian\" lang=\"et\" hreflang=\"et\" class=\"interlanguage-link-target\"><span>Eesti</span></a></li><li class=\"interlanguage-link interwiki-el mw-list-item\"><a href=\"https://el.wikipedia.org/wiki/%CE%95%CF%80%CE%B9%CF%83%CF%84%CE%AE%CE%BC%CE%B7_%CE%B4%CE%B5%CE%B4%CE%BF%CE%BC%CE%AD%CE%BD%CF%89%CE%BD\" title=\"Επιστήμη δεδομένων – Greek\" lang=\"el\" hreflang=\"el\" class=\"interlanguage-link-target\"><span>Ελληνικά</span></a></li><li class=\"interlanguage-link interwiki-es mw-list-item\"><a href=\"https://es.wikipedia.org/wiki/Ciencia_de_datos\" title=\"Ciencia de datos – Spanish\" lang=\"es\" hreflang=\"es\" class=\"interlanguage-link-target\"><span>Español</span></a></li><li class=\"interlanguage-link interwiki-eo mw-list-item\"><a href=\"https://eo.wikipedia.org/wiki/Datuma_scienco\" title=\"Datuma scienco – Esperanto\" lang=\"eo\" hreflang=\"eo\" class=\"interlanguage-link-target\"><span>Esperanto</span></a></li><li class=\"interlanguage-link interwiki-eu mw-list-item\"><a href=\"https://eu.wikipedia.org/wiki/Datu_zientzia\" title=\"Datu zientzia – Basque\" lang=\"eu\" hreflang=\"eu\" class=\"interlanguage-link-target\"><span>Euskara</span></a></li><li class=\"interlanguage-link interwiki-fa mw-list-item\"><a href=\"https://fa.wikipedia.org/wiki/%D8%B9%D9%84%D9%85_%D8%AF%D8%A7%D8%AF%D9%87%E2%80%8C%D9%87%D8%A7\" title=\"علم داده\\u200cها – Persian\" lang=\"fa\" hreflang=\"fa\" class=\"interlanguage-link-target\"><span>فارسی</span></a></li><li class=\"interlanguage-link interwiki-fr mw-list-item\"><a href=\"https://fr.wikipedia.org/wiki/Science_des_donn%C3%A9es\" title=\"Science des données – French\" lang=\"fr\" hreflang=\"fr\" class=\"interlanguage-link-target\"><span>Français</span></a></li><li class=\"interlanguage-link interwiki-ko mw-list-item\"><a href=\"https://ko.wikipedia.org/wiki/%EB%8D%B0%EC%9D%B4%ED%84%B0_%EC%82%AC%EC%9D%B4%EC%96%B8%EC%8A%A4\" title=\"데이터 사이언스 – Korean\" lang=\"ko\" hreflang=\"ko\" class=\"interlanguage-link-target\"><span>한국어</span></a></li><li class=\"interlanguage-link interwiki-hy mw-list-item\"><a href=\"https://hy.wikipedia.org/wiki/%D5%8F%D5%BE%D5%B5%D5%A1%D5%AC%D5%B6%D5%A5%D6%80%D5%AB_%D5%A3%D5%AB%D5%BF%D5%B8%D6%82%D5%A9%D5%B5%D5%B8%D6%82%D5%B6\" title=\"Տվյալների գիտություն – Armenian\" lang=\"hy\" hreflang=\"hy\" class=\"interlanguage-link-target\"><span>Հայերեն</span></a></li><li class=\"interlanguage-link interwiki-hi mw-list-item\"><a href=\"https://hi.wikipedia.org/wiki/%E0%A4%86%E0%A4%81%E0%A4%95%E0%A4%A1%E0%A4%BC%E0%A4%BE_%E0%A4%B5%E0%A4%BF%E0%A4%9C%E0%A5%8D%E0%A4%9E%E0%A4%BE%E0%A4%A8\" title=\"आँकड़ा विज्ञान – Hindi\" lang=\"hi\" hreflang=\"hi\" class=\"interlanguage-link-target\"><span>हिन्दी</span></a></li><li class=\"interlanguage-link interwiki-id mw-list-item\"><a href=\"https://id.wikipedia.org/wiki/Ilmu_data\" title=\"Ilmu data – Indonesian\" lang=\"id\" hreflang=\"id\" class=\"interlanguage-link-target\"><span>Bahasa Indonesia</span></a></li><li class=\"interlanguage-link interwiki-it mw-list-item\"><a href=\"https://it.wikipedia.org/wiki/Scienza_dei_dati\" title=\"Scienza dei dati – Italian\" lang=\"it\" hreflang=\"it\" class=\"interlanguage-link-target\"><span>Italiano</span></a></li><li class=\"interlanguage-link interwiki-he mw-list-item\"><a href=\"https://he.wikipedia.org/wiki/%D7%9E%D7%93%D7%A2_%D7%94%D7%A0%D7%AA%D7%95%D7%A0%D7%99%D7%9D\" title=\"מדע הנתונים – Hebrew\" lang=\"he\" hreflang=\"he\" class=\"interlanguage-link-target\"><span>עברית</span></a></li><li class=\"interlanguage-link interwiki-kk mw-list-item\"><a href=\"https://kk.wikipedia.org/wiki/%D0%94%D0%B5%D1%80%D0%B5%D0%BA%D1%82%D0%B5%D1%80_%D1%82%D1%83%D1%80%D0%B0%D0%BB%D1%8B_%D2%93%D1%8B%D0%BB%D1%8B%D0%BC\" title=\"Деректер туралы ғылым – Kazakh\" lang=\"kk\" hreflang=\"kk\" class=\"interlanguage-link-target\"><span>Қазақша</span></a></li><li class=\"interlanguage-link interwiki-lv mw-list-item\"><a href=\"https://lv.wikipedia.org/wiki/Datu_m%C4%81c%C4%ABba\" title=\"Datu mācība – Latvian\" lang=\"lv\" hreflang=\"lv\" class=\"interlanguage-link-target\"><span>Latviešu</span></a></li><li class=\"interlanguage-link interwiki-mk mw-list-item\"><a href=\"https://mk.wikipedia.org/wiki/%D0%9D%D0%B0%D1%83%D0%BA%D0%B0_%D0%B7%D0%B0_%D0%BF%D0%BE%D0%B4%D0%B0%D1%82%D0%BE%D1%86%D0%B8\" title=\"Наука за податоци – Macedonian\" lang=\"mk\" hreflang=\"mk\" class=\"interlanguage-link-target\"><span>Македонски</span></a></li><li class=\"interlanguage-link interwiki-ms mw-list-item\"><a href=\"https://ms.wikipedia.org/wiki/Sains_data\" title=\"Sains data – Malay\" lang=\"ms\" hreflang=\"ms\" class=\"interlanguage-link-target\"><span>Bahasa Melayu</span></a></li><li class=\"interlanguage-link interwiki-my mw-list-item\"><a href=\"https://my.wikipedia.org/wiki/%E1%80%A1%E1%80%81%E1%80%BB%E1%80%80%E1%80%BA%E1%80%A1%E1%80%9C%E1%80%80%E1%80%BA%E1%80%9E%E1%80%AD%E1%80%95%E1%80%B9%E1%80%95%E1%80%B6%E1%80%95%E1%80%8A%E1%80%AC\" title=\"အချက်အလက်သိပ္ပံပညာ – Burmese\" lang=\"my\" hreflang=\"my\" class=\"interlanguage-link-target\"><span>မြန်မာဘာသာ</span></a></li><li class=\"interlanguage-link interwiki-nl mw-list-item\"><a href=\"https://nl.wikipedia.org/wiki/Datawetenschap\" title=\"Datawetenschap – Dutch\" lang=\"nl\" hreflang=\"nl\" class=\"interlanguage-link-target\"><span>Nederlands</span></a></li><li class=\"interlanguage-link interwiki-ja mw-list-item\"><a href=\"https://ja.wikipedia.org/wiki/%E3%83%87%E3%83%BC%E3%82%BF%E3%82%B5%E3%82%A4%E3%82%A8%E3%83%B3%E3%82%B9\" title=\"データサイエンス – Japanese\" lang=\"ja\" hreflang=\"ja\" class=\"interlanguage-link-target\"><span>日本語</span></a></li><li class=\"interlanguage-link interwiki-pl mw-list-item\"><a href=\"https://pl.wikipedia.org/wiki/Danologia\" title=\"Danologia – Polish\" lang=\"pl\" hreflang=\"pl\" class=\"interlanguage-link-target\"><span>Polski</span></a></li><li class=\"interlanguage-link interwiki-pt mw-list-item\"><a href=\"https://pt.wikipedia.org/wiki/Ci%C3%AAncia_de_dados\" title=\"Ciência de dados – Portuguese\" lang=\"pt\" hreflang=\"pt\" class=\"interlanguage-link-target\"><span>Português</span></a></li><li class=\"interlanguage-link interwiki-ru mw-list-item\"><a href=\"https://ru.wikipedia.org/wiki/%D0%9D%D0%B0%D1%83%D0%BA%D0%B0_%D0%BE_%D0%B4%D0%B0%D0%BD%D0%BD%D1%8B%D1%85\" title=\"Наука о данных – Russian\" lang=\"ru\" hreflang=\"ru\" class=\"interlanguage-link-target\"><span>Русский</span></a></li><li class=\"interlanguage-link interwiki-simple mw-list-item\"><a href=\"https://simple.wikipedia.org/wiki/Data_science\" title=\"Data science – Simple English\" lang=\"en-simple\" hreflang=\"en-simple\" class=\"interlanguage-link-target\"><span>Simple English</span></a></li><li class=\"interlanguage-link interwiki-fi mw-list-item\"><a href=\"https://fi.wikipedia.org/wiki/Datatiede\" title=\"Datatiede – Finnish\" lang=\"fi\" hreflang=\"fi\" class=\"interlanguage-link-target\"><span>Suomi</span></a></li><li class=\"interlanguage-link interwiki-ta mw-list-item\"><a href=\"https://ta.wikipedia.org/wiki/%E0%AE%A4%E0%AE%B0%E0%AE%B5%E0%AF%81_%E0%AE%85%E0%AE%B1%E0%AE%BF%E0%AE%B5%E0%AE%BF%E0%AE%AF%E0%AE%B2%E0%AF%8D\" title=\"தரவு அறிவியல் – Tamil\" lang=\"ta\" hreflang=\"ta\" class=\"interlanguage-link-target\"><span>தமிழ்</span></a></li><li class=\"interlanguage-link interwiki-th mw-list-item\"><a href=\"https://th.wikipedia.org/wiki/%E0%B8%A7%E0%B8%B4%E0%B8%97%E0%B8%A2%E0%B8%B2%E0%B8%81%E0%B8%B2%E0%B8%A3%E0%B8%82%E0%B9%89%E0%B8%AD%E0%B8%A1%E0%B8%B9%E0%B8%A5\" title=\"วิทยาการข้อมูล – Thai\" lang=\"th\" hreflang=\"th\" class=\"interlanguage-link-target\"><span>ไทย</span></a></li><li class=\"interlanguage-link interwiki-tr mw-list-item\"><a href=\"https://tr.wikipedia.org/wiki/Veri_bilimi\" title=\"Veri bilimi – Turkish\" lang=\"tr\" hreflang=\"tr\" class=\"interlanguage-link-target\"><span>Türkçe</span></a></li><li class=\"interlanguage-link interwiki-uk mw-list-item\"><a href=\"https://uk.wikipedia.org/wiki/%D0%9D%D0%B0%D1%83%D0%BA%D0%B0_%D0%BF%D1%80%D0%BE_%D0%B4%D0%B0%D0%BD%D1%96\" title=\"Наука про дані – Ukrainian\" lang=\"uk\" hreflang=\"uk\" class=\"interlanguage-link-target\"><span>Українська</span></a></li><li class=\"interlanguage-link interwiki-ur mw-list-item\"><a href=\"https://ur.wikipedia.org/wiki/%DA%88%DB%8C%D9%B9%D8%A7_%D8%B3%D8%A7%D8%A6%D9%86%D8%B3\" title=\"ڈیٹا سائنس – Urdu\" lang=\"ur\" hreflang=\"ur\" class=\"interlanguage-link-target\"><span>اردو</span></a></li><li class=\"interlanguage-link interwiki-vi mw-list-item\"><a href=\"https://vi.wikipedia.org/wiki/Khoa_h%E1%BB%8Dc_d%E1%BB%AF_li%E1%BB%87u\" title=\"Khoa học dữ liệu – Vietnamese\" lang=\"vi\" hreflang=\"vi\" class=\"interlanguage-link-target\"><span>Tiếng Việt</span></a></li><li class=\"interlanguage-link interwiki-zh-yue mw-list-item\"><a href=\"https://zh-yue.wikipedia.org/wiki/%E6%95%B8%E6%93%9A%E7%A7%91%E5%AD%B8\" title=\"數據科學 – Cantonese\" lang=\"yue\" hreflang=\"yue\" class=\"interlanguage-link-target\"><span>粵語</span></a></li><li class=\"interlanguage-link interwiki-zh mw-list-item\"><a href=\"https://zh.wikipedia.org/wiki/%E6%95%B0%E6%8D%AE%E7%A7%91%E5%AD%A6\" title=\"数据科学 – Chinese\" lang=\"zh\" hreflang=\"zh\" class=\"interlanguage-link-target\"><span>中文</span></a></li></ul>\\n\\t\\t<div class=\"after-portlet after-portlet-lang\"><span class=\"wb-langlinks-edit wb-langlinks-link\"><a href=\"https://www.wikidata.org/wiki/Special:EntityPage/Q2374463#sitelinks-wikipedia\" title=\"Edit interlanguage links\" class=\"wbc-editpage\">Edit links</a></span></div>\\n\\t</div>\\n</nav>\\n\\n</div>\\n\\n</div>\\n\\n<footer id=\"footer\" class=\"mw-footer\" role=\"contentinfo\" >\\n\\t<ul id=\"footer-info\">\\n\\t<li id=\"footer-info-lastmod\"> This page was last edited on 11 May 2022, at 04:33<span class=\"anonymous-show\">&#160;(UTC)</span>.</li>\\n\\t<li id=\"footer-info-copyright\">Text is available under the <a rel=\"license\" href=\"//en.wikipedia.org/wiki/Wikipedia:Text_of_Creative_Commons_Attribution-ShareAlike_3.0_Unported_License\">Creative Commons Attribution-ShareAlike License 3.0</a><a rel=\"license\" href=\"//creativecommons.org/licenses/by-sa/3.0/\" style=\"display:none;\"></a>;\\nadditional terms may apply.  By using this site, you agree to the <a href=\"//foundation.wikimedia.org/wiki/Terms_of_Use\">Terms of Use</a> and <a href=\"//foundation.wikimedia.org/wiki/Privacy_policy\">Privacy Policy</a>. Wikipedia® is a registered trademark of the <a href=\"//www.wikimediafoundation.org/\">Wikimedia Foundation, Inc.</a>, a non-profit organization.</li>\\n</ul>\\n\\n\\t<ul id=\"footer-places\">\\n\\t<li id=\"footer-places-privacy\"><a href=\"https://foundation.wikimedia.org/wiki/Privacy_policy\" class=\"extiw\" title=\"wmf:Privacy policy\">Privacy policy</a></li>\\n\\t<li id=\"footer-places-about\"><a href=\"/wiki/Wikipedia:About\" title=\"Wikipedia:About\">About Wikipedia</a></li>\\n\\t<li id=\"footer-places-disclaimer\"><a href=\"/wiki/Wikipedia:General_disclaimer\" title=\"Wikipedia:General disclaimer\">Disclaimers</a></li>\\n\\t<li id=\"footer-places-contact\"><a href=\"//en.wikipedia.org/wiki/Wikipedia:Contact_us\">Contact Wikipedia</a></li>\\n\\t<li id=\"footer-places-mobileview\"><a href=\"//en.m.wikipedia.org/w/index.php?title=Data_science&amp;mobileaction=toggle_view_mobile\" class=\"noprint stopMobileRedirectToggle\">Mobile view</a></li>\\n\\t<li id=\"footer-places-developers\"><a href=\"https://www.mediawiki.org/wiki/Special:MyLanguage/How_to_contribute\">Developers</a></li>\\n\\t<li id=\"footer-places-statslink\"><a href=\"https://stats.wikimedia.org/#/en.wikipedia.org\">Statistics</a></li>\\n\\t<li id=\"footer-places-cookiestatement\"><a href=\"https://foundation.wikimedia.org/wiki/Cookie_statement\">Cookie statement</a></li>\\n</ul>\\n\\n\\t<ul id=\"footer-icons\" class=\"noprint\">\\n\\t<li id=\"footer-copyrightico\"><a href=\"https://wikimediafoundation.org/\"><img src=\"/static/images/footer/wikimedia-button.png\" srcset=\"/static/images/footer/wikimedia-button-1.5x.png 1.5x, /static/images/footer/wikimedia-button-2x.png 2x\" width=\"88\" height=\"31\" alt=\"Wikimedia Foundation\" loading=\"lazy\" /></a></li>\\n\\t<li id=\"footer-poweredbyico\"><a href=\"https://www.mediawiki.org/\"><img src=\"/static/images/footer/poweredby_mediawiki_88x31.png\" alt=\"Powered by MediaWiki\" srcset=\"/static/images/footer/poweredby_mediawiki_132x47.png 1.5x, /static/images/footer/poweredby_mediawiki_176x62.png 2x\" width=\"88\" height=\"31\" loading=\"lazy\"/></a></li>\\n</ul>\\n\\n</footer>\\n\\n<script>(RLQ=window.RLQ||[]).push(function(){mw.config.set({\"wgPageParseReport\":{\"limitreport\":{\"cputime\":\"0.536\",\"walltime\":\"0.614\",\"ppvisitednodes\":{\"value\":1762,\"limit\":1000000},\"postexpandincludesize\":{\"value\":63323,\"limit\":2097152},\"templateargumentsize\":{\"value\":1037,\"limit\":2097152},\"expansiondepth\":{\"value\":12,\"limit\":100},\"expensivefunctioncount\":{\"value\":2,\"limit\":500},\"unstrip-depth\":{\"value\":1,\"limit\":20},\"unstrip-size\":{\"value\":98138,\"limit\":5000000},\"entityaccesscount\":{\"value\":0,\"limit\":400},\"timingprofile\":[\"100.00%  543.642      1 -total\",\" 61.51%  334.401      1 Template:Reflist\",\" 25.88%  140.688      8 Template:Cite_journal\",\" 18.62%  101.253     18 Template:Cite_web\",\" 13.06%   70.990      1 Template:Short_description\",\" 11.41%   62.029      1 Template:Data\",\" 10.88%   59.161      1 Template:Navbox\",\"  7.11%   38.636      1 Template:Pagetype\",\"  5.49%   29.833      1 Template:Distinguish\",\"  5.43%   29.516      3 Template:Cite_book\"]},\"scribunto\":{\"limitreport-timeusage\":{\"value\":\"0.340\",\"limit\":\"10.000\"},\"limitreport-memusage\":{\"value\":6363587,\"limit\":52428800}},\"cachereport\":{\"origin\":\"mw1322\",\"timestamp\":\"20220511043356\",\"ttl\":1814400,\"transientcontent\":false}}});});</script>\\n<script type=\"application/ld+json\">{\"@context\":\"https:\\\\/\\\\/schema.org\",\"@type\":\"Article\",\"name\":\"Data science\",\"url\":\"https:\\\\/\\\\/en.wikipedia.org\\\\/wiki\\\\/Data_science\",\"sameAs\":\"http:\\\\/\\\\/www.wikidata.org\\\\/entity\\\\/Q2374463\",\"mainEntity\":\"http:\\\\/\\\\/www.wikidata.org\\\\/entity\\\\/Q2374463\",\"author\":{\"@type\":\"Organization\",\"name\":\"Contributors to Wikimedia projects\"},\"publisher\":{\"@type\":\"Organization\",\"name\":\"Wikimedia Foundation, Inc.\",\"logo\":{\"@type\":\"ImageObject\",\"url\":\"https:\\\\/\\\\/www.wikimedia.org\\\\/static\\\\/images\\\\/wmf-hor-googpub.png\"}},\"datePublished\":\"2012-04-11T17:34:10Z\",\"dateModified\":\"2022-05-11T04:33:55Z\",\"image\":\"https:\\\\/\\\\/upload.wikimedia.org\\\\/wikipedia\\\\/commons\\\\/4\\\\/45\\\\/PIA23792-1600x1200%281%29.jpg\",\"headline\":\"interdisciplinary field of study focused on deriving knowledge and insights from data\"}</script><script type=\"application/ld+json\">{\"@context\":\"https:\\\\/\\\\/schema.org\",\"@type\":\"Article\",\"name\":\"Data science\",\"url\":\"https:\\\\/\\\\/en.wikipedia.org\\\\/wiki\\\\/Data_science\",\"sameAs\":\"http:\\\\/\\\\/www.wikidata.org\\\\/entity\\\\/Q2374463\",\"mainEntity\":\"http:\\\\/\\\\/www.wikidata.org\\\\/entity\\\\/Q2374463\",\"author\":{\"@type\":\"Organization\",\"name\":\"Contributors to Wikimedia projects\"},\"publisher\":{\"@type\":\"Organization\",\"name\":\"Wikimedia Foundation, Inc.\",\"logo\":{\"@type\":\"ImageObject\",\"url\":\"https:\\\\/\\\\/www.wikimedia.org\\\\/static\\\\/images\\\\/wmf-hor-googpub.png\"}},\"datePublished\":\"2012-04-11T17:34:10Z\",\"dateModified\":\"2022-05-11T04:33:55Z\",\"image\":\"https:\\\\/\\\\/upload.wikimedia.org\\\\/wikipedia\\\\/commons\\\\/4\\\\/45\\\\/PIA23792-1600x1200%281%29.jpg\",\"headline\":\"interdisciplinary field of study focused on deriving knowledge and insights from data\"}</script>\\n<script>(RLQ=window.RLQ||[]).push(function(){mw.config.set({\"wgBackendResponseTime\":175,\"wgHostname\":\"mw1321\"});});</script>\\n</body>\\n</html>'"
      ]
     },
     "execution_count": 27,
     "metadata": {},
     "output_type": "execute_result"
    }
   ],
   "source": [
    "source = r.text\n",
    "source"
   ]
  },
  {
   "cell_type": "markdown",
   "metadata": {},
   "source": [
    "Neat! If you visit the Data Science Wikipedia page, right click with your mouse and click \"View source\" - it's the same thing! \n",
    "\n",
    "<img src=\"../../Img/page_source.gif\" alt=\"source\" style=\"width: 400px;\"/>\n",
    "\n",
    "Now we convert it into a BeautifulSoup object that makes navigating the HTML tree much easier.\n",
    "\n",
    "Note that Beautiful Soup offers a number of ways to customize how the parser treats incoming HTML and XML. We are using the `html5` parser here, but we could use [different ones](https://www.crummy.com/software/BeautifulSoup/bs4/doc/#differences-between-parsers) as well. It all depends on the website you're trying to scrape."
   ]
  },
  {
   "cell_type": "code",
   "execution_count": 165,
   "metadata": {},
   "outputs": [
    {
     "name": "stdout",
     "output_type": "stream",
     "text": [
      "<class 'bs4.BeautifulSoup'>\n"
     ]
    }
   ],
   "source": [
    "soup = BeautifulSoup(source, 'html5lib')\n",
    "print(type(soup))"
   ]
  },
  {
   "cell_type": "markdown",
   "metadata": {},
   "source": [
    "Then, use the `.prettify()` method to look at the HTML, and even get a slice of it. Let's take a look at what we have:"
   ]
  },
  {
   "cell_type": "code",
   "execution_count": 166,
   "metadata": {},
   "outputs": [
    {
     "name": "stdout",
     "output_type": "stream",
     "text": [
      "<!DOCTYPE html>\n",
      "<html class=\"client-nojs\" dir=\"ltr\" lang=\"en\">\n",
      " <head>\n",
      "  <meta charset=\"utf-8\"/>\n",
      "  <title>\n",
      "   Data science - Wikipedia\n",
      "  </title>\n",
      "  <script>\n",
      "   document.documentElement.className=\"client-js\";RLCONF={\"wgBreakFrames\":false,\"wgSeparatorTransformTable\":[\"\",\"\"],\"wgDigitTransformTable\":[\"\",\"\"],\"wgDefaultDateFormat\":\"dmy\",\"wgMonthNames\":[\"\",\"January\",\"February\",\"March\",\"April\",\"May\",\"June\",\"July\",\"August\",\"September\",\"October\",\"November\",\"December\"],\"wgRequestId\":\"2488271c-364f-4513-9742-83144321ab68\",\"wgCSPNonce\":false,\"wgCanonicalNamespace\":\"\",\"wgCanonicalSpecialPageName\":false,\"wgNamespaceNumber\":0,\"wgPageName\":\"Data_science\",\"wgTitle\":\"Data science\",\"wgCurRevisionId\":1087223604,\"wgRevisionId\":1087223604,\"wgArticleId\":35458904,\"wgIsArticle\":true,\"wgIsRedirect\":false,\"wgAction\":\"view\",\"wgUserName\":null,\"wgUserGroups\":[\"*\"],\"wgCategories\":[\"Articles with short description\",\"Short description matches Wikidata\",\"Use dmy dates from August 2021\",\"Information science\",\"Computer occupations\",\"Computational fields of study\",\"Data analysis\"],\"wgPageContentLanguage\":\"en\",\"wgPageContentModel\":\"wikitext\",\"wgRelevantPageName\":\"Data_science\",\n",
      "\"wgRelevantArticleId\":35458904,\"wgIsProbablyEditable\":true,\"wgRelevantPageIsProbablyEditable\":true,\"wgRestrictionEdit\":[],\"wgRestrictionMove\":[],\"wgFlaggedRevsParams\":{\"tags\":{\"status\":{\"levels\":1}}},\"wgVisualEditor\":{\"pageLanguageCode\":\"en\",\"pageLanguageDir\":\"ltr\",\"pageVariantFallbacks\":\"en\"},\"wgMFDisplayWikibaseDescriptions\":{\"search\":true,\"nearby\":true,\"watchlist\":true,\"tagline\":false},\"wgWMESchemaEditAttemptStepOversample\":false,\"wgWMEPageLength\":20000,\"wgNoticeProject\":\"wikipedia\",\"wgMediaViewerOnClick\":true,\"wgMediaViewerEnabledByDefault\":true,\"wgPopupsFlags\":10,\"wgULSCurrentAutonym\":\"English\",\"wgEditSubmitButtonLabelPublish\":true,\"wgCentralAuthMobileDomain\":false,\"wgULSPosition\":\"interlanguage\",\"wgULSisCompactLinksEnabled\":true,\"wgWikibaseItemId\":\"Q2374463\"};RLSTATE={\"ext.globalCssJs.user.styles\":\"ready\",\"site.styles\":\"read\n"
     ]
    }
   ],
   "source": [
    "print(soup.prettify()[:2000])"
   ]
  },
  {
   "cell_type": "markdown",
   "metadata": {},
   "source": [
    "Let's use BeautifulSoup functions to find things on a page, such as:\n",
    "\n",
    "1. HTML tags\n",
    "2. HTML Attributes\n",
    "3. CSS Selectors\n",
    "\n",
    "Let's search first for **HTML tags**. \n",
    "\n",
    "The function `find_all` searches the `soup` tree to find all the elements with a particular HTML tag, and returns a list of all those elements. Let's search for all of the [`a` tags](https://www.w3schools.com/tags/tag_a.asp) (i.e., hyperlinks)."
   ]
  },
  {
   "cell_type": "code",
   "execution_count": 167,
   "metadata": {},
   "outputs": [
    {
     "data": {
      "text/plain": [
       "[<a id=\"top\"></a>,\n",
       " <a class=\"mw-jump-link\" href=\"#mw-head\">Jump to navigation</a>,\n",
       " <a class=\"mw-jump-link\" href=\"#searchInput\">Jump to search</a>,\n",
       " <a href=\"/wiki/Information_science\" title=\"Information science\">information science</a>,\n",
       " <a class=\"image\" href=\"/wiki/File:PIA23792-1600x1200(1).jpg\"><img alt=\"\" class=\"thumbimage\" data-file-height=\"1200\" data-file-width=\"1600\" decoding=\"async\" height=\"165\" src=\"//upload.wikimedia.org/wikipedia/commons/thumb/4/45/PIA23792-1600x1200%281%29.jpg/220px-PIA23792-1600x1200%281%29.jpg\" srcset=\"//upload.wikimedia.org/wikipedia/commons/thumb/4/45/PIA23792-1600x1200%281%29.jpg/330px-PIA23792-1600x1200%281%29.jpg 1.5x, //upload.wikimedia.org/wikipedia/commons/thumb/4/45/PIA23792-1600x1200%281%29.jpg/440px-PIA23792-1600x1200%281%29.jpg 2x\" width=\"220\"/></a>,\n",
       " <a class=\"internal\" href=\"/wiki/File:PIA23792-1600x1200(1).jpg\" title=\"Enlarge\"></a>,\n",
       " <a href=\"/wiki/Comet_NEOWISE\" title=\"Comet NEOWISE\">Comet NEOWISE</a>,\n",
       " <a href=\"/wiki/Astronomical_survey\" title=\"Astronomical survey\">astronomical survey</a>,\n",
       " <a href=\"/wiki/Space_telescope\" title=\"Space telescope\">space telescope</a>,\n",
       " <a href=\"/wiki/Wide-field_Infrared_Survey_Explorer\" title=\"Wide-field Infrared Survey Explorer\">Wide-field Infrared Survey Explorer</a>,\n",
       " <a class=\"mw-redirect\" href=\"/wiki/Interdisciplinary\" title=\"Interdisciplinary\">interdisciplinary</a>,\n",
       " <a href=\"/wiki/Scientific_method\" title=\"Scientific method\">scientific methods</a>,\n",
       " <a href=\"/wiki/Algorithm\" title=\"Algorithm\">algorithms</a>,\n",
       " <a href=\"/wiki/Knowledge\" title=\"Knowledge\">knowledge</a>,\n",
       " <a href=\"/wiki/Unstructured_data\" title=\"Unstructured data\">unstructured data</a>,\n",
       " <a href=\"#cite_note-1\">[1]</a>,\n",
       " <a href=\"#cite_note-2\">[2]</a>,\n",
       " <a href=\"/wiki/Data_mining\" title=\"Data mining\">data mining</a>,\n",
       " <a href=\"/wiki/Machine_learning\" title=\"Machine learning\">machine learning</a>,\n",
       " <a href=\"/wiki/Big_data\" title=\"Big data\">big data</a>,\n",
       " <a href=\"/wiki/Statistics\" title=\"Statistics\">statistics</a>,\n",
       " <a href=\"/wiki/Data_analysis\" title=\"Data analysis\">data analysis</a>,\n",
       " <a href=\"/wiki/Informatics\" title=\"Informatics\">informatics</a>,\n",
       " <a href=\"/wiki/Scientific_method\" title=\"Scientific method\">methods</a>,\n",
       " <a class=\"mw-redirect\" href=\"/wiki/Phenomena\" title=\"Phenomena\">phenomena</a>,\n",
       " <a href=\"/wiki/Data\" title=\"Data\">data</a>,\n",
       " <a href=\"#cite_note-3\">[3]</a>,\n",
       " <a href=\"/wiki/Mathematics\" title=\"Mathematics\">mathematics</a>,\n",
       " <a href=\"/wiki/Computer_science\" title=\"Computer science\">computer science</a>,\n",
       " <a href=\"/wiki/Information_science\" title=\"Information science\">information science</a>,\n",
       " <a href=\"/wiki/Domain_knowledge\" title=\"Domain knowledge\">domain knowledge</a>,\n",
       " <a href=\"#cite_note-4\">[4]</a>,\n",
       " <a href=\"/wiki/Turing_Award\" title=\"Turing Award\">Turing Award</a>,\n",
       " <a href=\"/wiki/Jim_Gray_(computer_scientist)\" title=\"Jim Gray (computer scientist)\">Jim Gray</a>,\n",
       " <a href=\"/wiki/Empirical_research\" title=\"Empirical research\">empirical</a>,\n",
       " <a href=\"/wiki/Basic_research\" title=\"Basic research\">theoretical</a>,\n",
       " <a href=\"/wiki/Computational_science\" title=\"Computational science\">computational</a>,\n",
       " <a href=\"/wiki/Information_technology\" title=\"Information technology\">information technology</a>,\n",
       " <a href=\"/wiki/Information_explosion\" title=\"Information explosion\">data deluge</a>,\n",
       " <a href=\"#cite_note-TansleyTolle2009-5\">[5]</a>,\n",
       " <a href=\"#cite_note-BellHey2009-6\">[6]</a>,\n",
       " <a href=\"#cite_note-7\">[7]</a>,\n",
       " <a href=\"#Foundations\"><span class=\"tocnumber\">1</span> <span class=\"toctext\">Foundations</span></a>,\n",
       " <a href=\"#Relationship_to_statistics\"><span class=\"tocnumber\">1.1</span> <span class=\"toctext\">Relationship to statistics</span></a>,\n",
       " <a href=\"#Etymology\"><span class=\"tocnumber\">2</span> <span class=\"toctext\">Etymology</span></a>,\n",
       " <a href=\"#Early_usage\"><span class=\"tocnumber\">2.1</span> <span class=\"toctext\">Early usage</span></a>,\n",
       " <a href=\"#Modern_usage\"><span class=\"tocnumber\">2.2</span> <span class=\"toctext\">Modern usage</span></a>,\n",
       " <a href=\"#See_also\"><span class=\"tocnumber\">3</span> <span class=\"toctext\">See also</span></a>,\n",
       " <a href=\"#References\"><span class=\"tocnumber\">4</span> <span class=\"toctext\">References</span></a>,\n",
       " <a href=\"/w/index.php?title=Data_science&amp;action=edit&amp;section=1\" title=\"Edit section: Foundations\">edit</a>,\n",
       " <a href=\"/wiki/Interdisciplinarity\" title=\"Interdisciplinarity\">interdisciplinary</a>,\n",
       " <a href=\"/wiki/Academic_discipline\" title=\"Academic discipline\">field</a>,\n",
       " <a href=\"/wiki/Data_set\" title=\"Data set\">data sets</a>,\n",
       " <a href=\"/wiki/Big_data\" title=\"Big data\">big data</a>,\n",
       " <a href=\"/wiki/Problem_solving\" title=\"Problem solving\">solve problems</a>,\n",
       " <a href=\"#cite_note-8\">[8]</a>,\n",
       " <a href=\"/wiki/Analysis\" title=\"Analysis\">analyzing</a>,\n",
       " <a class=\"mw-redirect\" href=\"/wiki/Data_visualization\" title=\"Data visualization\">data visualization</a>,\n",
       " <a class=\"mw-redirect\" href=\"/wiki/Information_visualization\" title=\"Information visualization\">information visualization</a>,\n",
       " <a href=\"/wiki/Data_sonification\" title=\"Data sonification\">data sonification</a>,\n",
       " <a href=\"/wiki/Data_integration\" title=\"Data integration\">integration</a>,\n",
       " <a href=\"/wiki/Graphic_design\" title=\"Graphic design\">graphic design</a>,\n",
       " <a class=\"mw-redirect\" href=\"/wiki/Complex_systems\" title=\"Complex systems\">complex systems</a>,\n",
       " <a href=\"/wiki/Communication\" title=\"Communication\">communication</a>,\n",
       " <a href=\"/wiki/Business\" title=\"Business\">business</a>,\n",
       " <a href=\"#cite_note-9\">[9]</a>,\n",
       " <a href=\"#cite_note-10\">[10]</a>,\n",
       " <a href=\"/wiki/Nathan_Yau\" title=\"Nathan Yau\">Nathan Yau</a>,\n",
       " <a href=\"/wiki/Ben_Fry\" title=\"Ben Fry\">Ben Fry</a>,\n",
       " <a href=\"/wiki/Human%E2%80%93computer_interaction\" title=\"Human–computer interaction\">human–computer interaction</a>,\n",
       " <a href=\"/wiki/Exploration\" title=\"Exploration\">explore</a>,\n",
       " <a href=\"#cite_note-11\">[11]</a>,\n",
       " <a href=\"#cite_note-12\">[12]</a>,\n",
       " <a href=\"/wiki/American_Statistical_Association\" title=\"American Statistical Association\">American Statistical Association</a>,\n",
       " <a href=\"/wiki/Database\" title=\"Database\">database</a>,\n",
       " <a href=\"/wiki/Machine_learning\" title=\"Machine learning\">machine learning</a>,\n",
       " <a href=\"/wiki/Distributed_computing\" title=\"Distributed computing\">distributed and parallel systems</a>,\n",
       " <a href=\"#cite_note-13\">[13]</a>,\n",
       " <a href=\"/w/index.php?title=Data_science&amp;action=edit&amp;section=2\" title=\"Edit section: Relationship to statistics\">edit</a>,\n",
       " <a href=\"/wiki/Nate_Silver\" title=\"Nate Silver\">Nate Silver</a>,\n",
       " <a href=\"#cite_note-14\">[14]</a>,\n",
       " <a href=\"#cite_note-15\">[15]</a>,\n",
       " <a href=\"/wiki/Vasant_Dhar\" title=\"Vasant Dhar\">Vasant Dhar</a>,\n",
       " <a href=\"#cite_note-16\">[16]</a>,\n",
       " <a href=\"/wiki/Andrew_Gelman\" title=\"Andrew Gelman\">Andrew Gelman</a>,\n",
       " <a href=\"/wiki/Columbia_University\" title=\"Columbia University\">Columbia University</a>,\n",
       " <a href=\"#cite_note-17\">[17]</a>,\n",
       " <a href=\"/wiki/David_Donoho\" title=\"David Donoho\">David Donoho</a>,\n",
       " <a href=\"#cite_note-:7-18\">[18]</a>,\n",
       " <a href=\"/w/index.php?title=Data_science&amp;action=edit&amp;section=3\" title=\"Edit section: Etymology\">edit</a>,\n",
       " <a href=\"/w/index.php?title=Data_science&amp;action=edit&amp;section=4\" title=\"Edit section: Early usage\">edit</a>,\n",
       " <a href=\"/wiki/John_Tukey\" title=\"John Tukey\">John Tukey</a>,\n",
       " <a href=\"#cite_note-:7-18\">[18]</a>,\n",
       " <a href=\"/wiki/C._F._Jeff_Wu\" title=\"C. F. Jeff Wu\">C. F. Jeff Wu</a>,\n",
       " <a href=\"#cite_note-19\">[19]</a>,\n",
       " <a href=\"/wiki/Montpellier_2_University\" title=\"Montpellier 2 University\">University of Montpellier II</a>,\n",
       " <a href=\"#cite_note-20\">[20]</a>,\n",
       " <a href=\"#cite_note-Murtagh_2018_14-21\">[21]</a>,\n",
       " <a href=\"/wiki/Peter_Naur\" title=\"Peter Naur\">Peter Naur</a>,\n",
       " <a href=\"#cite_note-:0-22\">[22]</a>,\n",
       " <a href=\"#cite_note-:0-22\">[22]</a>,\n",
       " <a href=\"/wiki/C._F._Jeff_Wu\" title=\"C. F. Jeff Wu\">C. F. Jeff Wu</a>,\n",
       " <a href=\"#cite_note-23\">[23]</a>,\n",
       " <a href=\"#cite_note-Murtagh_2018_14-21\">[21]</a>,\n",
       " <a href=\"/wiki/Data_mining\" title=\"Data mining\">data mining</a>,\n",
       " <a href=\"#cite_note-:1-24\">[24]</a>,\n",
       " <a href=\"#cite_note-:0-22\">[22]</a>,\n",
       " <a href=\"/w/index.php?title=Data_science&amp;action=edit&amp;section=5\" title=\"Edit section: Modern usage\">edit</a>,\n",
       " <a href=\"/wiki/William_S._Cleveland\" title=\"William S. Cleveland\">William S. Cleveland</a>,\n",
       " <a href=\"#cite_note-25\">[25]</a>,\n",
       " <a href=\"#cite_note-:1-24\">[24]</a>,\n",
       " <a class=\"mw-redirect\" href=\"/wiki/Committee_on_Data_for_Science_and_Technology\" title=\"Committee on Data for Science and Technology\">Committee on Data for Science and Technology</a>,\n",
       " <a href=\"#cite_note-:1-24\">[24]</a>,\n",
       " <a href=\"/wiki/American_Statistical_Association\" title=\"American Statistical Association\">American Statistical Association</a>,\n",
       " <a href=\"#cite_note-26\">[26]</a>,\n",
       " <a href=\"/wiki/DJ_Patil\" title=\"DJ Patil\">DJ Patil</a>,\n",
       " <a href=\"/wiki/Jeff_Hammerbacher\" title=\"Jeff Hammerbacher\">Jeff Hammerbacher</a>,\n",
       " <a href=\"#cite_note-27\">[27]</a>,\n",
       " <a href=\"/wiki/National_Science_Board\" title=\"National Science Board\">National Science Board</a>,\n",
       " <a href=\"#cite_note-28\">[28]</a>,\n",
       " <a href=\"/wiki/Buzzword\" title=\"Buzzword\">buzzword</a>,\n",
       " <a href=\"#cite_note-29\">[29]</a>,\n",
       " <a href=\"/wiki/Big_data\" title=\"Big data\">Big data</a>,\n",
       " <a href=\"#cite_note-:5-30\">[30]</a>,\n",
       " <a href=\"#cite_note-:6-31\">[31]</a>,\n",
       " <a href=\"/w/index.php?title=Data_science&amp;action=edit&amp;section=6\" title=\"Edit section: See also\">edit</a>,\n",
       " <a href=\"/wiki/International_Journal_of_Population_Data_Science\" title=\"International Journal of Population Data Science\">International Journal of Population Data Science</a>,\n",
       " <a href=\"/w/index.php?title=Data_science&amp;action=edit&amp;section=7\" title=\"Edit section: References\">edit</a>,\n",
       " <a href=\"#cite_ref-1\">^</a>,\n",
       " <a class=\"external text\" href=\"http://cacm.acm.org/magazines/2013/12/169933-data-science-and-prediction/fulltext\" rel=\"nofollow\">\"Data science and prediction\"</a>,\n",
       " <a class=\"mw-redirect\" href=\"/wiki/Doi_(identifier)\" title=\"Doi (identifier)\">doi</a>,\n",
       " <a class=\"external text\" href=\"https://doi.org/10.1145%2F2500499\" rel=\"nofollow\">10.1145/2500499</a>,\n",
       " <a class=\"mw-redirect\" href=\"/wiki/S2CID_(identifier)\" title=\"S2CID (identifier)\">S2CID</a>,\n",
       " <a class=\"external text\" href=\"https://api.semanticscholar.org/CorpusID:6107147\" rel=\"nofollow\">6107147</a>,\n",
       " <a class=\"external text\" href=\"https://web.archive.org/web/20141109113411/http://cacm.acm.org/magazines/2013/12/169933-data-science-and-prediction/fulltext\" rel=\"nofollow\">Archived</a>,\n",
       " <a href=\"#cite_ref-2\">^</a>,\n",
       " <a href=\"/wiki/Jeffrey_T._Leek\" title=\"Jeffrey T. Leek\">Jeff Leek</a>,\n",
       " <a class=\"external text\" href=\"http://simplystatistics.org/2013/12/12/the-key-word-in-data-science-is-not-data-it-is-science/\" rel=\"nofollow\">\"The key word in \"Data Science\" is not Data, it is Science\"</a>,\n",
       " <a class=\"external text\" href=\"https://web.archive.org/web/20140102194117/http://simplystatistics.org/2013/12/12/the-key-word-in-data-science-is-not-data-it-is-science/\" rel=\"nofollow\">Archived</a>,\n",
       " <a href=\"#cite_ref-3\">^</a>,\n",
       " <a class=\"external text\" href=\"https://www.springer.com/book/9784431702085\" rel=\"nofollow\">\"What is Data Science? Fundamental Concepts and a Heuristic Example\"</a>,\n",
       " <a class=\"mw-redirect\" href=\"/wiki/Doi_(identifier)\" title=\"Doi (identifier)\">doi</a>,\n",
       " <a class=\"external text\" href=\"https://doi.org/10.1007%2F978-4-431-65950-1_3\" rel=\"nofollow\">10.1007/978-4-431-65950-1_3</a>,\n",
       " <a class=\"mw-redirect\" href=\"/wiki/ISBN_(identifier)\" title=\"ISBN (identifier)\">ISBN</a>,\n",
       " <a href=\"/wiki/Special:BookSources/9784431702085\" title=\"Special:BookSources/9784431702085\"><bdi>9784431702085</bdi></a>,\n",
       " <a href=\"#cite_ref-4\">^</a>,\n",
       " <a class=\"mw-redirect\" href=\"/wiki/Doi_(identifier)\" title=\"Doi (identifier)\">doi</a>,\n",
       " <a class=\"external text\" href=\"https://doi.org/10.1145%2F3076253\" rel=\"nofollow\">10.1145/3076253</a>,\n",
       " <a class=\"mw-redirect\" href=\"/wiki/ISSN_(identifier)\" title=\"ISSN (identifier)\">ISSN</a>,\n",
       " <a class=\"external text\" href=\"//www.worldcat.org/issn/0360-0300\" rel=\"nofollow\">0360-0300</a>,\n",
       " <a href=\"#cite_ref-TansleyTolle2009_5-0\">^</a>,\n",
       " <a class=\"external text\" href=\"https://books.google.com/books?id=oGs_AQAAIAAJ\" rel=\"nofollow\"><i>The Fourth Paradigm: Data-intensive Scientific Discovery</i></a>,\n",
       " <a class=\"mw-redirect\" href=\"/wiki/ISBN_(identifier)\" title=\"ISBN (identifier)\">ISBN</a>,\n",
       " <a href=\"/wiki/Special:BookSources/978-0-9825442-0-4\" title=\"Special:BookSources/978-0-9825442-0-4\"><bdi>978-0-9825442-0-4</bdi></a>,\n",
       " <a class=\"external text\" href=\"https://web.archive.org/web/20170320193019/https://books.google.com/books?id=oGs_AQAAIAAJ\" rel=\"nofollow\">Archived</a>,\n",
       " <a href=\"#cite_ref-BellHey2009_6-0\">^</a>,\n",
       " <a class=\"mw-redirect\" href=\"/wiki/Doi_(identifier)\" title=\"Doi (identifier)\">doi</a>,\n",
       " <a class=\"external text\" href=\"https://doi.org/10.1126%2Fscience.1170411\" rel=\"nofollow\">10.1126/science.1170411</a>,\n",
       " <a class=\"mw-redirect\" href=\"/wiki/ISSN_(identifier)\" title=\"ISSN (identifier)\">ISSN</a>,\n",
       " <a class=\"external text\" href=\"//www.worldcat.org/issn/0036-8075\" rel=\"nofollow\">0036-8075</a>,\n",
       " <a class=\"mw-redirect\" href=\"/wiki/PMID_(identifier)\" title=\"PMID (identifier)\">PMID</a>,\n",
       " <a class=\"external text\" href=\"//pubmed.ncbi.nlm.nih.gov/19265007\" rel=\"nofollow\">19265007</a>,\n",
       " <a class=\"mw-redirect\" href=\"/wiki/S2CID_(identifier)\" title=\"S2CID (identifier)\">S2CID</a>,\n",
       " <a class=\"external text\" href=\"https://api.semanticscholar.org/CorpusID:9743327\" rel=\"nofollow\">9743327</a>,\n",
       " <a href=\"#cite_ref-7\">^</a>,\n",
       " <a class=\"external text\" href=\"https://hbr.org/2012/10/data-scientist-the-sexiest-job-of-the-21st-century/\" rel=\"nofollow\">\"Data Scientist: The Sexiest Job of the 21st Century\"</a>,\n",
       " <a class=\"mw-redirect\" href=\"/wiki/PMID_(identifier)\" title=\"PMID (identifier)\">PMID</a>,\n",
       " <a class=\"external text\" href=\"//pubmed.ncbi.nlm.nih.gov/23074866\" rel=\"nofollow\">23074866</a>,\n",
       " <a href=\"#cite_ref-8\">^</a>,\n",
       " <a class=\"external text\" href=\"http://www.datascienceassn.org/about-data-science\" rel=\"nofollow\">\"About Data Science\"</a>,\n",
       " <a href=\"#cite_ref-9\">^</a>,\n",
       " <a class=\"external text\" href=\"https://www.oreilly.com/library/view/doing-data-science/9781449363871/ch01.html\" rel=\"nofollow\">\"1. Introduction: What Is Data Science?\"</a>,\n",
       " <a href=\"#cite_ref-10\">^</a>,\n",
       " <a class=\"external text\" href=\"https://medriscoll.com/post/4740157098/the-three-sexy-skills-of-data-geeks\" rel=\"nofollow\">\"the three sexy skills of data geeks\"</a>,\n",
       " <a href=\"#cite_ref-11\">^</a>,\n",
       " <a class=\"external text\" href=\"https://flowingdata.com/2009/06/04/rise-of-the-data-scientist/\" rel=\"nofollow\">\"Rise of the Data Scientist\"</a>,\n",
       " <a href=\"#cite_ref-12\">^</a>,\n",
       " <a class=\"external text\" href=\"https://benfry.com/phd/dissertation/2.html\" rel=\"nofollow\">\"Basic Example\"</a>,\n",
       " <a href=\"#cite_ref-13\">^</a>,\n",
       " <a class=\"external text\" href=\"https://magazine.amstat.org/blog/2015/10/01/asa-statement-on-the-role-of-statistics-in-data-science/\" rel=\"nofollow\">\"ASA Statement on the Role of Statistics in Data Science\"</a>,\n",
       " <a href=\"/wiki/American_Statistical_Association\" title=\"American Statistical Association\">American Statistical Association</a>,\n",
       " <a class=\"external text\" href=\"https://web.archive.org/web/20190620184935/https://magazine.amstat.org/blog/2015/10/01/asa-statement-on-the-role-of-statistics-in-data-science/\" rel=\"nofollow\">Archived</a>,\n",
       " <a href=\"#cite_ref-14\">^</a>,\n",
       " <a class=\"external text\" href=\"https://www.statisticsviews.com/article/nate-silver-what-i-need-from-statisticians/\" rel=\"nofollow\">\"Nate Silver: What I need from statisticians\"</a>,\n",
       " <a href=\"#cite_ref-15\">^</a>,\n",
       " <a class=\"external text\" href=\"http://priceonomics.com/whats-the-difference-between-data-science-and/\" rel=\"nofollow\">\"What's the Difference Between Data Science and Statistics?\"</a>,\n",
       " <a href=\"#cite_ref-16\">^</a>,\n",
       " <a class=\"mw-redirect\" href=\"/wiki/Doi_(identifier)\" title=\"Doi (identifier)\">doi</a>,\n",
       " <a class=\"external text\" href=\"https://doi.org/10.1145%2F2500499\" rel=\"nofollow\">10.1145/2500499</a>,\n",
       " <a class=\"mw-redirect\" href=\"/wiki/S2CID_(identifier)\" title=\"S2CID (identifier)\">S2CID</a>,\n",
       " <a class=\"external text\" href=\"https://api.semanticscholar.org/CorpusID:6107147\" rel=\"nofollow\">6107147</a>,\n",
       " <a href=\"#cite_ref-17\">^</a>,\n",
       " <a class=\"external text\" href=\"https://statmodeling.stat.columbia.edu/2013/11/14/statistics-least-important-part-data-science/\" rel=\"nofollow\">\"Statistics is the least important part of data science « Statistical Modeling, Causal Inference, and Social Science\"</a>,\n",
       " <a href=\"#cite_ref-:7_18-0\"><sup><i><b>a</b></i></sup></a>,\n",
       " <a href=\"#cite_ref-:7_18-1\"><sup><i><b>b</b></i></sup></a>,\n",
       " <a class=\"external text\" href=\"http://courses.csail.mit.edu/18.337/2015/docs/50YearsDataScience.pdf\" rel=\"nofollow\">\"50 years of Data Science\"</a>,\n",
       " <a href=\"#cite_ref-19\">^</a>,\n",
       " <a class=\"external text\" href=\"https://www2.isye.gatech.edu/~jeffwu/publications/fazhan.pdf\" rel=\"nofollow\">\"Future directions of statistical research in China: a historical perspective\"</a>,\n",
       " <a href=\"#cite_ref-20\">^</a>,\n",
       " <a class=\"mw-redirect\" href=\"/wiki/ISBN_(identifier)\" title=\"ISBN (identifier)\">ISBN</a>,\n",
       " <a href=\"/wiki/Special:BookSources/0-12-241770-4\" title=\"Special:BookSources/0-12-241770-4\"><bdi>0-12-241770-4</bdi></a>,\n",
       " <a class=\"mw-redirect\" href=\"/wiki/OCLC_(identifier)\" title=\"OCLC (identifier)\">OCLC</a>,\n",
       " <a class=\"external text\" href=\"//www.worldcat.org/oclc/489990740\" rel=\"nofollow\">489990740</a>,\n",
       " <a href=\"#cite_ref-Murtagh_2018_14_21-0\"><sup><i><b>a</b></i></sup></a>,\n",
       " <a href=\"#cite_ref-Murtagh_2018_14_21-1\"><sup><i><b>b</b></i></sup></a>,\n",
       " <a class=\"external text\" href=\"https://doi.org/10.3390%2Fbdcc2020014\" rel=\"nofollow\">\"The Development of Data Science: Implications for Education, Employment, Research, and the Data Revolution for Sustainable Development\"</a>,\n",
       " <a class=\"mw-redirect\" href=\"/wiki/Doi_(identifier)\" title=\"Doi (identifier)\">doi</a>,\n",
       " <a class=\"external text\" href=\"https://doi.org/10.3390%2Fbdcc2020014\" rel=\"nofollow\">10.3390/bdcc2020014</a>,\n",
       " <a href=\"#cite_ref-:0_22-0\"><sup><i><b>a</b></i></sup></a>,\n",
       " <a href=\"#cite_ref-:0_22-1\"><sup><i><b>b</b></i></sup></a>,\n",
       " <a href=\"#cite_ref-:0_22-2\"><sup><i><b>c</b></i></sup></a>,\n",
       " <a class=\"external text\" href=\"https://doi.org/10.1145%2F3076253\" rel=\"nofollow\">\"Data Science\"</a>,\n",
       " <a class=\"mw-redirect\" href=\"/wiki/ArXiv_(identifier)\" title=\"ArXiv (identifier)\">arXiv</a>,\n",
       " <a class=\"external text\" href=\"//arxiv.org/abs/2007.03606\" rel=\"nofollow\">2007.03606</a>,\n",
       " <a class=\"mw-redirect\" href=\"/wiki/Doi_(identifier)\" title=\"Doi (identifier)\">doi</a>,\n",
       " <a class=\"external text\" href=\"https://doi.org/10.1145%2F3076253\" rel=\"nofollow\">10.1145/3076253</a>,\n",
       " <a href=\"#cite_ref-23\">^</a>,\n",
       " <a class=\"external text\" href=\"http://www2.isye.gatech.edu/~jeffwu/presentations/datascience.pdf\" rel=\"nofollow\">\"Statistics=Data Science?\"</a>,\n",
       " <a href=\"#cite_ref-:1_24-0\"><sup><i><b>a</b></i></sup></a>,\n",
       " <a href=\"#cite_ref-:1_24-1\"><sup><i><b>b</b></i></sup></a>,\n",
       " <a href=\"#cite_ref-:1_24-2\"><sup><i><b>c</b></i></sup></a>,\n",
       " <a class=\"external text\" href=\"https://www.forbes.com/sites/gilpress/2013/05/28/a-very-short-history-of-data-science/\" rel=\"nofollow\">\"A Very Short History of Data Science\"</a>,\n",
       " <a href=\"#cite_ref-25\">^</a>,\n",
       " <a class=\"external text\" href=\"https://www.stat.purdue.edu/~wsc/\" rel=\"nofollow\">\"William S. Cleveland\"</a>,\n",
       " <a href=\"#cite_ref-26\">^</a>,\n",
       " <a class=\"external text\" href=\"https://magazine.amstat.org/blog/2016/06/01/datascience-2/\" rel=\"nofollow\">\"ASA Expands Scope, Outreach to Foster Growth, Collaboration in Data Science\"</a>,\n",
       " <a href=\"#cite_ref-27\">^</a>,\n",
       " <a class=\"external text\" href=\"https://hbr.org/2012/10/data-scientist-the-sexiest-job-of-the-21st-century\" rel=\"nofollow\">\"Data Scientist: The Sexiest Job of the 21st Century\"</a>,\n",
       " <a class=\"mw-redirect\" href=\"/wiki/ISSN_(identifier)\" title=\"ISSN (identifier)\">ISSN</a>,\n",
       " <a class=\"external text\" href=\"//www.worldcat.org/issn/0017-8012\" rel=\"nofollow\">0017-8012</a>,\n",
       " <a href=\"#cite_ref-28\">^</a>,\n",
       " <a class=\"external text\" href=\"https://www.nsf.gov/pubs/2005/nsb0540/\" rel=\"nofollow\">\"US NSF – NSB-05-40, Long-Lived Digital Data Collections Enabling Research and Education in the 21st Century\"</a>,\n",
       " <a href=\"#cite_ref-29\">^</a>,\n",
       " <a class=\"external text\" href=\"https://www.forbes.com/sites/gilpress/2013/08/19/data-science-whats-the-half-life-of-a-buzzword/\" rel=\"nofollow\">\"Data Science: What's The Half-Life of a Buzzword?\"</a>,\n",
       " <a href=\"#cite_ref-:5_30-0\">^</a>,\n",
       " <a class=\"external text\" href=\"https://www.forbes.com/sites/peterpham/2015/08/28/the-impacts-of-big-data-that-you-may-not-have-heard-of/\" rel=\"nofollow\">\"The Impacts of Big Data That You May Not Have Heard Of\"</a>,\n",
       " <a href=\"#cite_ref-:6_31-0\">^</a>,\n",
       " <a class=\"external text\" href=\"https://towardsdatascience.com/how-data-science-will-impact-future-of-businesses-7f11f5699c4d\" rel=\"nofollow\">\"How Data Science will Impact Future of Businesses?\"</a>,\n",
       " <a href=\"/wiki/Template:Data\" title=\"Template:Data\"><abbr style=\";;background:none transparent;border:none;box-shadow:none;padding:0;\" title=\"View this template\">v</abbr></a>,\n",
       " <a href=\"/wiki/Template_talk:Data\" title=\"Template talk:Data\"><abbr style=\";;background:none transparent;border:none;box-shadow:none;padding:0;\" title=\"Discuss this template\">t</abbr></a>,\n",
       " <a class=\"external text\" href=\"https://en.wikipedia.org/w/index.php?title=Template:Data&amp;action=edit\"><abbr style=\";;background:none transparent;border:none;box-shadow:none;padding:0;\" title=\"Edit this template\">e</abbr></a>,\n",
       " <a href=\"/wiki/Data_(computing)\" title=\"Data (computing)\">Data</a>,\n",
       " <a href=\"/wiki/Data_augmentation\" title=\"Data augmentation\">Augmentation</a>,\n",
       " <a href=\"/wiki/Data_analysis\" title=\"Data analysis\">Analysis</a>,\n",
       " <a href=\"/wiki/Data_archaeology\" title=\"Data archaeology\">Archaeology</a>,\n",
       " <a href=\"/wiki/Data_cleansing\" title=\"Data cleansing\">Cleansing</a>,\n",
       " <a href=\"/wiki/Data_collection\" title=\"Data collection\">Collection</a>,\n",
       " <a href=\"/wiki/Data_compression\" title=\"Data compression\">Compression</a>,\n",
       " <a href=\"/wiki/Data_corruption\" title=\"Data corruption\">Corruption</a>,\n",
       " <a href=\"/wiki/Data_curation\" title=\"Data curation\">Curation</a>,\n",
       " <a href=\"/wiki/Data_degradation\" title=\"Data degradation\">Degradation</a>,\n",
       " <a href=\"/wiki/Data_editing\" title=\"Data editing\">Editing</a>,\n",
       " <a href=\"/wiki/Extract,_transform,_load\" title=\"Extract, transform, load\">ETL</a>,\n",
       " <a href=\"/wiki/Extract,_load,_transform\" title=\"Extract, load, transform\">ELT</a>,\n",
       " <a href=\"/wiki/Data_extraction\" title=\"Data extraction\">Extract</a>,\n",
       " <a href=\"/wiki/Data_transformation\" title=\"Data transformation\">Transform</a>,\n",
       " <a class=\"mw-redirect\" href=\"/wiki/Data_loading\" title=\"Data loading\">Load</a>,\n",
       " <a href=\"/wiki/Data_farming\" title=\"Data farming\">Farming</a>,\n",
       " <a href=\"/wiki/Data_format_management\" title=\"Data format management\">Format management</a>,\n",
       " <a href=\"/wiki/Data_fusion\" title=\"Data fusion\">Fusion</a>,\n",
       " <a href=\"/wiki/Data_integration\" title=\"Data integration\">Integration</a>,\n",
       " <a href=\"/wiki/Data_integrity\" title=\"Data integrity\">Integrity</a>,\n",
       " <a href=\"/wiki/Data_library\" title=\"Data library\">Library</a>,\n",
       " <a href=\"/wiki/Data_loss\" title=\"Data loss\">Loss</a>,\n",
       " <a href=\"/wiki/Data_management\" title=\"Data management\">Management</a>,\n",
       " <a href=\"/wiki/Data_migration\" title=\"Data migration\">Migration</a>,\n",
       " <a href=\"/wiki/Data_mining\" title=\"Data mining\">Mining</a>,\n",
       " <a href=\"/wiki/Data_pre-processing\" title=\"Data pre-processing\">Pre-processing</a>,\n",
       " <a href=\"/wiki/Data_preservation\" title=\"Data preservation\">Preservation</a>,\n",
       " <a href=\"/wiki/Information_privacy\" title=\"Information privacy\">Protection (privacy)</a>,\n",
       " <a href=\"/wiki/Data_publishing\" title=\"Data publishing\">Publishing</a>,\n",
       " <a href=\"/wiki/Data_recovery\" title=\"Data recovery\">Recovery</a>,\n",
       " <a href=\"/wiki/Data_reduction\" title=\"Data reduction\">Reduction</a>,\n",
       " <a href=\"/wiki/Data_retention\" title=\"Data retention\">Retention</a>,\n",
       " <a href=\"/wiki/Data_quality\" title=\"Data quality\">Quality</a>,\n",
       " <a class=\"mw-selflink selflink\">Science</a>,\n",
       " <a href=\"/wiki/Data_scraping\" title=\"Data scraping\">Scraping</a>,\n",
       " <a href=\"/wiki/Data_scrubbing\" title=\"Data scrubbing\">Scrubbing</a>,\n",
       " <a href=\"/wiki/Data_security\" title=\"Data security\">Security</a>,\n",
       " <a href=\"/wiki/Data_steward\" title=\"Data steward\">Stewardship</a>,\n",
       " <a href=\"/wiki/Data_storage\" title=\"Data storage\">Storage</a>,\n",
       " <a href=\"/wiki/Data_validation\" title=\"Data validation\">Validation</a>,\n",
       " <a href=\"/wiki/Data_warehouse\" title=\"Data warehouse\">Warehouse</a>,\n",
       " <a href=\"/wiki/Data_wrangling\" title=\"Data wrangling\">Wrangling/munging</a>,\n",
       " <a dir=\"ltr\" href=\"https://en.wikipedia.org/w/index.php?title=Data_science&amp;oldid=1087223604\">https://en.wikipedia.org/w/index.php?title=Data_science&amp;oldid=1087223604</a>,\n",
       " <a href=\"/wiki/Help:Category\" title=\"Help:Category\">Categories</a>,\n",
       " <a href=\"/wiki/Category:Information_science\" title=\"Category:Information science\">Information science</a>,\n",
       " <a href=\"/wiki/Category:Computer_occupations\" title=\"Category:Computer occupations\">Computer occupations</a>,\n",
       " <a href=\"/wiki/Category:Computational_fields_of_study\" title=\"Category:Computational fields of study\">Computational fields of study</a>,\n",
       " <a href=\"/wiki/Category:Data_analysis\" title=\"Category:Data analysis\">Data analysis</a>,\n",
       " <a href=\"/wiki/Category:Articles_with_short_description\" title=\"Category:Articles with short description\">Articles with short description</a>,\n",
       " <a href=\"/wiki/Category:Short_description_matches_Wikidata\" title=\"Category:Short description matches Wikidata\">Short description matches Wikidata</a>,\n",
       " <a href=\"/wiki/Category:Use_dmy_dates_from_August_2021\" title=\"Category:Use dmy dates from August 2021\">Use dmy dates from August 2021</a>,\n",
       " <a accesskey=\"n\" href=\"/wiki/Special:MyTalk\" title=\"Discussion about edits from this IP address [n]\"><span>Talk</span></a>,\n",
       " <a accesskey=\"y\" href=\"/wiki/Special:MyContributions\" title=\"A list of edits made from this IP address [y]\"><span>Contributions</span></a>,\n",
       " <a href=\"/w/index.php?title=Special:CreateAccount&amp;returnto=Data+science\" title=\"You are encouraged to create an account and log in; however, it is not mandatory\"><span>Create account</span></a>,\n",
       " <a accesskey=\"o\" href=\"/w/index.php?title=Special:UserLogin&amp;returnto=Data+science\" title=\"You're encouraged to log in; however, it's not mandatory. [o]\"><span>Log in</span></a>,\n",
       " <a accesskey=\"c\" href=\"/wiki/Data_science\" title=\"View the content page [c]\"><span>Article</span></a>,\n",
       " <a accesskey=\"t\" href=\"/wiki/Talk:Data_science\" rel=\"discussion\" title=\"Discuss improvements to the content page [t]\"><span>Talk</span></a>,\n",
       " <a href=\"/wiki/Data_science\"><span>Read</span></a>,\n",
       " <a accesskey=\"e\" href=\"/w/index.php?title=Data_science&amp;action=edit\" title=\"Edit this page [e]\"><span>Edit</span></a>,\n",
       " <a accesskey=\"h\" href=\"/w/index.php?title=Data_science&amp;action=history\" title=\"Past revisions of this page [h]\"><span>View history</span></a>,\n",
       " <a class=\"mw-wiki-logo\" href=\"/wiki/Main_Page\" title=\"Visit the main page\"></a>,\n",
       " <a accesskey=\"z\" href=\"/wiki/Main_Page\" icon=\"home\" title=\"Visit the main page [z]\"><span>Main page</span></a>,\n",
       " <a href=\"/wiki/Wikipedia:Contents\" title=\"Guides to browsing Wikipedia\"><span>Contents</span></a>,\n",
       " <a href=\"/wiki/Portal:Current_events\" title=\"Articles related to current events\"><span>Current events</span></a>,\n",
       " <a accesskey=\"x\" href=\"/wiki/Special:Random\" icon=\"die\" title=\"Visit a randomly selected article [x]\"><span>Random article</span></a>,\n",
       " <a href=\"/wiki/Wikipedia:About\" title=\"Learn about Wikipedia and how it works\"><span>About Wikipedia</span></a>,\n",
       " <a href=\"//en.wikipedia.org/wiki/Wikipedia:Contact_us\" title=\"How to contact Wikipedia\"><span>Contact us</span></a>,\n",
       " <a href=\"https://donate.wikimedia.org/wiki/Special:FundraiserRedirector?utm_source=donate&amp;utm_medium=sidebar&amp;utm_campaign=C13_en.wikipedia.org&amp;uselang=en\" title=\"Support us by donating to the Wikimedia Foundation\"><span>Donate</span></a>,\n",
       " <a href=\"/wiki/Help:Contents\" icon=\"help\" title=\"Guidance on how to use and edit Wikipedia\"><span>Help</span></a>,\n",
       " <a href=\"/wiki/Help:Introduction\" title=\"Learn how to edit Wikipedia\"><span>Learn to edit</span></a>,\n",
       " <a href=\"/wiki/Wikipedia:Community_portal\" title=\"The hub for editors\"><span>Community portal</span></a>,\n",
       " <a accesskey=\"r\" href=\"/wiki/Special:RecentChanges\" icon=\"recentChanges\" title=\"A list of recent changes to Wikipedia [r]\"><span>Recent changes</span></a>,\n",
       " <a href=\"/wiki/Wikipedia:File_Upload_Wizard\" title=\"Add images or other media for use on Wikipedia\"><span>Upload file</span></a>,\n",
       " <a accesskey=\"j\" href=\"/wiki/Special:WhatLinksHere/Data_science\" title=\"List of all English Wikipedia pages containing links to this page [j]\"><span>What links here</span></a>,\n",
       " <a accesskey=\"k\" href=\"/wiki/Special:RecentChangesLinked/Data_science\" rel=\"nofollow\" title=\"Recent changes in pages linked from this page [k]\"><span>Related changes</span></a>,\n",
       " <a accesskey=\"u\" href=\"/wiki/Wikipedia:File_Upload_Wizard\" title=\"Upload files [u]\"><span>Upload file</span></a>,\n",
       " <a accesskey=\"q\" href=\"/wiki/Special:SpecialPages\" title=\"A list of all special pages [q]\"><span>Special pages</span></a>,\n",
       " <a href=\"/w/index.php?title=Data_science&amp;oldid=1087223604\" title=\"Permanent link to this revision of this page\"><span>Permanent link</span></a>,\n",
       " <a href=\"/w/index.php?title=Data_science&amp;action=info\" title=\"More information about this page\"><span>Page information</span></a>,\n",
       " <a href=\"/w/index.php?title=Special:CiteThisPage&amp;page=Data_science&amp;id=1087223604&amp;wpFormIdentifier=titleform\" title=\"Information on how to cite this page\"><span>Cite this page</span></a>,\n",
       " <a accesskey=\"g\" href=\"https://www.wikidata.org/wiki/Special:EntityPage/Q2374463\" title=\"Structured data on this page hosted by Wikidata [g]\"><span>Wikidata item</span></a>,\n",
       " <a href=\"/w/index.php?title=Special:DownloadAsPdf&amp;page=Data_science&amp;action=show-download-screen\" title=\"Download this page as a PDF file\"><span>Download as PDF</span></a>,\n",
       " <a accesskey=\"p\" href=\"/w/index.php?title=Data_science&amp;printable=yes\" title=\"Printable version of this page [p]\"><span>Printable version</span></a>,\n",
       " <a href=\"https://commons.wikimedia.org/wiki/Category:Data_science\" hreflang=\"en\"><span>Wikimedia Commons</span></a>,\n",
       " <a href=\"https://en.wikiversity.org/wiki/Data_science\" hreflang=\"en\"><span>Wikiversity</span></a>,\n",
       " <a class=\"interlanguage-link-target\" href=\"https://ar.wikipedia.org/wiki/%D8%B9%D9%84%D9%85_%D8%A7%D9%84%D8%A8%D9%8A%D8%A7%D9%86%D8%A7%D8%AA\" hreflang=\"ar\" lang=\"ar\" title=\"علم البيانات – Arabic\"><span>العربية</span></a>,\n",
       " <a class=\"interlanguage-link-target\" href=\"https://az.wikipedia.org/wiki/Veril%C9%99nl%C9%99r_elmi_(Data_Science)\" hreflang=\"az\" lang=\"az\" title=\"Verilənlər elmi (Data Science) – Azerbaijani\"><span>Azərbaycanca</span></a>,\n",
       " <a class=\"interlanguage-link-target\" href=\"https://bn.wikipedia.org/wiki/%E0%A6%89%E0%A6%AA%E0%A6%BE%E0%A6%A4%E0%A7%8D%E0%A6%A4_%E0%A6%AC%E0%A6%BF%E0%A6%9C%E0%A7%8D%E0%A6%9E%E0%A6%BE%E0%A6%A8\" hreflang=\"bn\" lang=\"bn\" title=\"উপাত্ত বিজ্ঞান – Bangla\"><span>বাংলা</span></a>,\n",
       " <a class=\"interlanguage-link-target\" href=\"https://bg.wikipedia.org/wiki/%D0%9D%D0%B0%D1%83%D0%BA%D0%B0_%D0%B7%D0%B0_%D0%B4%D0%B0%D0%BD%D0%BD%D0%B8%D1%82%D0%B5\" hreflang=\"bg\" lang=\"bg\" title=\"Наука за данните – Bulgarian\"><span>Български</span></a>,\n",
       " <a class=\"interlanguage-link-target\" href=\"https://ca.wikipedia.org/wiki/Ci%C3%A8ncia_de_les_dades\" hreflang=\"ca\" lang=\"ca\" title=\"Ciència de les dades – Catalan\"><span>Català</span></a>,\n",
       " <a class=\"interlanguage-link-target\" href=\"https://cs.wikipedia.org/wiki/Data_science\" hreflang=\"cs\" lang=\"cs\" title=\"Data science – Czech\"><span>Čeština</span></a>,\n",
       " <a class=\"interlanguage-link-target\" href=\"https://de.wikipedia.org/wiki/Data_Science\" hreflang=\"de\" lang=\"de\" title=\"Data Science – German\"><span>Deutsch</span></a>,\n",
       " <a class=\"interlanguage-link-target\" href=\"https://et.wikipedia.org/wiki/Andmeteadus\" hreflang=\"et\" lang=\"et\" title=\"Andmeteadus – Estonian\"><span>Eesti</span></a>,\n",
       " <a class=\"interlanguage-link-target\" href=\"https://el.wikipedia.org/wiki/%CE%95%CF%80%CE%B9%CF%83%CF%84%CE%AE%CE%BC%CE%B7_%CE%B4%CE%B5%CE%B4%CE%BF%CE%BC%CE%AD%CE%BD%CF%89%CE%BD\" hreflang=\"el\" lang=\"el\" title=\"Επιστήμη δεδομένων – Greek\"><span>Ελληνικά</span></a>,\n",
       " <a class=\"interlanguage-link-target\" href=\"https://es.wikipedia.org/wiki/Ciencia_de_datos\" hreflang=\"es\" lang=\"es\" title=\"Ciencia de datos – Spanish\"><span>Español</span></a>,\n",
       " <a class=\"interlanguage-link-target\" href=\"https://eo.wikipedia.org/wiki/Datuma_scienco\" hreflang=\"eo\" lang=\"eo\" title=\"Datuma scienco – Esperanto\"><span>Esperanto</span></a>,\n",
       " <a class=\"interlanguage-link-target\" href=\"https://eu.wikipedia.org/wiki/Datu_zientzia\" hreflang=\"eu\" lang=\"eu\" title=\"Datu zientzia – Basque\"><span>Euskara</span></a>,\n",
       " <a class=\"interlanguage-link-target\" href=\"https://fa.wikipedia.org/wiki/%D8%B9%D9%84%D9%85_%D8%AF%D8%A7%D8%AF%D9%87%E2%80%8C%D9%87%D8%A7\" hreflang=\"fa\" lang=\"fa\" title=\"علم داده‌ها – Persian\"><span>فارسی</span></a>,\n",
       " <a class=\"interlanguage-link-target\" href=\"https://fr.wikipedia.org/wiki/Science_des_donn%C3%A9es\" hreflang=\"fr\" lang=\"fr\" title=\"Science des données – French\"><span>Français</span></a>,\n",
       " <a class=\"interlanguage-link-target\" href=\"https://ko.wikipedia.org/wiki/%EB%8D%B0%EC%9D%B4%ED%84%B0_%EC%82%AC%EC%9D%B4%EC%96%B8%EC%8A%A4\" hreflang=\"ko\" lang=\"ko\" title=\"데이터 사이언스 – Korean\"><span>한국어</span></a>,\n",
       " <a class=\"interlanguage-link-target\" href=\"https://hy.wikipedia.org/wiki/%D5%8F%D5%BE%D5%B5%D5%A1%D5%AC%D5%B6%D5%A5%D6%80%D5%AB_%D5%A3%D5%AB%D5%BF%D5%B8%D6%82%D5%A9%D5%B5%D5%B8%D6%82%D5%B6\" hreflang=\"hy\" lang=\"hy\" title=\"Տվյալների գիտություն – Armenian\"><span>Հայերեն</span></a>,\n",
       " <a class=\"interlanguage-link-target\" href=\"https://hi.wikipedia.org/wiki/%E0%A4%86%E0%A4%81%E0%A4%95%E0%A4%A1%E0%A4%BC%E0%A4%BE_%E0%A4%B5%E0%A4%BF%E0%A4%9C%E0%A5%8D%E0%A4%9E%E0%A4%BE%E0%A4%A8\" hreflang=\"hi\" lang=\"hi\" title=\"आँकड़ा विज्ञान – Hindi\"><span>हिन्दी</span></a>,\n",
       " <a class=\"interlanguage-link-target\" href=\"https://id.wikipedia.org/wiki/Ilmu_data\" hreflang=\"id\" lang=\"id\" title=\"Ilmu data – Indonesian\"><span>Bahasa Indonesia</span></a>,\n",
       " <a class=\"interlanguage-link-target\" href=\"https://it.wikipedia.org/wiki/Scienza_dei_dati\" hreflang=\"it\" lang=\"it\" title=\"Scienza dei dati – Italian\"><span>Italiano</span></a>,\n",
       " <a class=\"interlanguage-link-target\" href=\"https://he.wikipedia.org/wiki/%D7%9E%D7%93%D7%A2_%D7%94%D7%A0%D7%AA%D7%95%D7%A0%D7%99%D7%9D\" hreflang=\"he\" lang=\"he\" title=\"מדע הנתונים – Hebrew\"><span>עברית</span></a>,\n",
       " <a class=\"interlanguage-link-target\" href=\"https://kk.wikipedia.org/wiki/%D0%94%D0%B5%D1%80%D0%B5%D0%BA%D1%82%D0%B5%D1%80_%D1%82%D1%83%D1%80%D0%B0%D0%BB%D1%8B_%D2%93%D1%8B%D0%BB%D1%8B%D0%BC\" hreflang=\"kk\" lang=\"kk\" title=\"Деректер туралы ғылым – Kazakh\"><span>Қазақша</span></a>,\n",
       " <a class=\"interlanguage-link-target\" href=\"https://lv.wikipedia.org/wiki/Datu_m%C4%81c%C4%ABba\" hreflang=\"lv\" lang=\"lv\" title=\"Datu mācība – Latvian\"><span>Latviešu</span></a>,\n",
       " <a class=\"interlanguage-link-target\" href=\"https://mk.wikipedia.org/wiki/%D0%9D%D0%B0%D1%83%D0%BA%D0%B0_%D0%B7%D0%B0_%D0%BF%D0%BE%D0%B4%D0%B0%D1%82%D0%BE%D1%86%D0%B8\" hreflang=\"mk\" lang=\"mk\" title=\"Наука за податоци – Macedonian\"><span>Македонски</span></a>,\n",
       " <a class=\"interlanguage-link-target\" href=\"https://ms.wikipedia.org/wiki/Sains_data\" hreflang=\"ms\" lang=\"ms\" title=\"Sains data – Malay\"><span>Bahasa Melayu</span></a>,\n",
       " <a class=\"interlanguage-link-target\" href=\"https://my.wikipedia.org/wiki/%E1%80%A1%E1%80%81%E1%80%BB%E1%80%80%E1%80%BA%E1%80%A1%E1%80%9C%E1%80%80%E1%80%BA%E1%80%9E%E1%80%AD%E1%80%95%E1%80%B9%E1%80%95%E1%80%B6%E1%80%95%E1%80%8A%E1%80%AC\" hreflang=\"my\" lang=\"my\" title=\"အချက်အလက်သိပ္ပံပညာ – Burmese\"><span>မြန်မာဘာသာ</span></a>,\n",
       " <a class=\"interlanguage-link-target\" href=\"https://nl.wikipedia.org/wiki/Datawetenschap\" hreflang=\"nl\" lang=\"nl\" title=\"Datawetenschap – Dutch\"><span>Nederlands</span></a>,\n",
       " <a class=\"interlanguage-link-target\" href=\"https://ja.wikipedia.org/wiki/%E3%83%87%E3%83%BC%E3%82%BF%E3%82%B5%E3%82%A4%E3%82%A8%E3%83%B3%E3%82%B9\" hreflang=\"ja\" lang=\"ja\" title=\"データサイエンス – Japanese\"><span>日本語</span></a>,\n",
       " <a class=\"interlanguage-link-target\" href=\"https://pl.wikipedia.org/wiki/Danologia\" hreflang=\"pl\" lang=\"pl\" title=\"Danologia – Polish\"><span>Polski</span></a>,\n",
       " <a class=\"interlanguage-link-target\" href=\"https://pt.wikipedia.org/wiki/Ci%C3%AAncia_de_dados\" hreflang=\"pt\" lang=\"pt\" title=\"Ciência de dados – Portuguese\"><span>Português</span></a>,\n",
       " <a class=\"interlanguage-link-target\" href=\"https://ru.wikipedia.org/wiki/%D0%9D%D0%B0%D1%83%D0%BA%D0%B0_%D0%BE_%D0%B4%D0%B0%D0%BD%D0%BD%D1%8B%D1%85\" hreflang=\"ru\" lang=\"ru\" title=\"Наука о данных – Russian\"><span>Русский</span></a>,\n",
       " <a class=\"interlanguage-link-target\" href=\"https://simple.wikipedia.org/wiki/Data_science\" hreflang=\"en-simple\" lang=\"en-simple\" title=\"Data science – Simple English\"><span>Simple English</span></a>,\n",
       " <a class=\"interlanguage-link-target\" href=\"https://fi.wikipedia.org/wiki/Datatiede\" hreflang=\"fi\" lang=\"fi\" title=\"Datatiede – Finnish\"><span>Suomi</span></a>,\n",
       " <a class=\"interlanguage-link-target\" href=\"https://ta.wikipedia.org/wiki/%E0%AE%A4%E0%AE%B0%E0%AE%B5%E0%AF%81_%E0%AE%85%E0%AE%B1%E0%AE%BF%E0%AE%B5%E0%AE%BF%E0%AE%AF%E0%AE%B2%E0%AF%8D\" hreflang=\"ta\" lang=\"ta\" title=\"தரவு அறிவியல் – Tamil\"><span>தமிழ்</span></a>,\n",
       " <a class=\"interlanguage-link-target\" href=\"https://th.wikipedia.org/wiki/%E0%B8%A7%E0%B8%B4%E0%B8%97%E0%B8%A2%E0%B8%B2%E0%B8%81%E0%B8%B2%E0%B8%A3%E0%B8%82%E0%B9%89%E0%B8%AD%E0%B8%A1%E0%B8%B9%E0%B8%A5\" hreflang=\"th\" lang=\"th\" title=\"วิทยาการข้อมูล – Thai\"><span>ไทย</span></a>,\n",
       " <a class=\"interlanguage-link-target\" href=\"https://tr.wikipedia.org/wiki/Veri_bilimi\" hreflang=\"tr\" lang=\"tr\" title=\"Veri bilimi – Turkish\"><span>Türkçe</span></a>,\n",
       " <a class=\"interlanguage-link-target\" href=\"https://uk.wikipedia.org/wiki/%D0%9D%D0%B0%D1%83%D0%BA%D0%B0_%D0%BF%D1%80%D0%BE_%D0%B4%D0%B0%D0%BD%D1%96\" hreflang=\"uk\" lang=\"uk\" title=\"Наука про дані – Ukrainian\"><span>Українська</span></a>,\n",
       " <a class=\"interlanguage-link-target\" href=\"https://ur.wikipedia.org/wiki/%DA%88%DB%8C%D9%B9%D8%A7_%D8%B3%D8%A7%D8%A6%D9%86%D8%B3\" hreflang=\"ur\" lang=\"ur\" title=\"ڈیٹا سائنس – Urdu\"><span>اردو</span></a>,\n",
       " <a class=\"interlanguage-link-target\" href=\"https://vi.wikipedia.org/wiki/Khoa_h%E1%BB%8Dc_d%E1%BB%AF_li%E1%BB%87u\" hreflang=\"vi\" lang=\"vi\" title=\"Khoa học dữ liệu – Vietnamese\"><span>Tiếng Việt</span></a>,\n",
       " <a class=\"interlanguage-link-target\" href=\"https://zh-yue.wikipedia.org/wiki/%E6%95%B8%E6%93%9A%E7%A7%91%E5%AD%B8\" hreflang=\"yue\" lang=\"yue\" title=\"數據科學 – Cantonese\"><span>粵語</span></a>,\n",
       " <a class=\"interlanguage-link-target\" href=\"https://zh.wikipedia.org/wiki/%E6%95%B0%E6%8D%AE%E7%A7%91%E5%AD%A6\" hreflang=\"zh\" lang=\"zh\" title=\"数据科学 – Chinese\"><span>中文</span></a>,\n",
       " <a class=\"wbc-editpage\" href=\"https://www.wikidata.org/wiki/Special:EntityPage/Q2374463#sitelinks-wikipedia\" title=\"Edit interlanguage links\">Edit links</a>,\n",
       " <a href=\"//en.wikipedia.org/wiki/Wikipedia:Text_of_Creative_Commons_Attribution-ShareAlike_3.0_Unported_License\" rel=\"license\">Creative Commons Attribution-ShareAlike License 3.0</a>,\n",
       " <a href=\"//creativecommons.org/licenses/by-sa/3.0/\" rel=\"license\" style=\"display:none;\"></a>,\n",
       " <a href=\"//foundation.wikimedia.org/wiki/Terms_of_Use\">Terms of Use</a>,\n",
       " <a href=\"//foundation.wikimedia.org/wiki/Privacy_policy\">Privacy Policy</a>,\n",
       " <a href=\"//www.wikimediafoundation.org/\">Wikimedia Foundation, Inc.</a>,\n",
       " <a class=\"extiw\" href=\"https://foundation.wikimedia.org/wiki/Privacy_policy\" title=\"wmf:Privacy policy\">Privacy policy</a>,\n",
       " <a href=\"/wiki/Wikipedia:About\" title=\"Wikipedia:About\">About Wikipedia</a>,\n",
       " <a href=\"/wiki/Wikipedia:General_disclaimer\" title=\"Wikipedia:General disclaimer\">Disclaimers</a>,\n",
       " <a href=\"//en.wikipedia.org/wiki/Wikipedia:Contact_us\">Contact Wikipedia</a>,\n",
       " <a class=\"noprint stopMobileRedirectToggle\" href=\"//en.m.wikipedia.org/w/index.php?title=Data_science&amp;mobileaction=toggle_view_mobile\">Mobile view</a>,\n",
       " <a href=\"https://www.mediawiki.org/wiki/Special:MyLanguage/How_to_contribute\">Developers</a>,\n",
       " <a href=\"https://stats.wikimedia.org/#/en.wikipedia.org\">Statistics</a>,\n",
       " <a href=\"https://foundation.wikimedia.org/wiki/Cookie_statement\">Cookie statement</a>,\n",
       " <a href=\"https://wikimediafoundation.org/\"><img alt=\"Wikimedia Foundation\" height=\"31\" loading=\"lazy\" src=\"/static/images/footer/wikimedia-button.png\" srcset=\"/static/images/footer/wikimedia-button-1.5x.png 1.5x, /static/images/footer/wikimedia-button-2x.png 2x\" width=\"88\"/></a>,\n",
       " <a href=\"https://www.mediawiki.org/\"><img alt=\"Powered by MediaWiki\" height=\"31\" loading=\"lazy\" src=\"/static/images/footer/poweredby_mediawiki_88x31.png\" srcset=\"/static/images/footer/poweredby_mediawiki_132x47.png 1.5x, /static/images/footer/poweredby_mediawiki_176x62.png 2x\" width=\"88\"/></a>]"
      ]
     },
     "execution_count": 167,
     "metadata": {},
     "output_type": "execute_result"
    }
   ],
   "source": [
    "soup.find_all(\"a\")"
   ]
  },
  {
   "cell_type": "markdown",
   "metadata": {},
   "source": [
    "Since the `.find_all()` method is used so frequently, there is a shortcut for it. You can just treat the soup object itself as a function, and pass it the tag you're looking for as an argument.\n",
    "\n",
    "So `soup.find_all('a')` is the same as `soup('a')`:"
   ]
  },
  {
   "cell_type": "code",
   "execution_count": 168,
   "metadata": {},
   "outputs": [
    {
     "data": {
      "text/plain": [
       "True"
      ]
     },
     "execution_count": 168,
     "metadata": {},
     "output_type": "execute_result"
    }
   ],
   "source": [
    "soup.find_all('a') == soup('a')"
   ]
  },
  {
   "cell_type": "markdown",
   "metadata": {},
   "source": [
    "You probably noticed that `.find_all()` returned a lot of elements, most of which we might not want. One way to narrow down our search is to specify that we're only looking for elements that have a certain CSS class. Alternatively we can use the `.select()` method. We pass an argument to the method that consists of the tag and the CSS class separated by a period. For instance, we can grab the title with the following CSS selector:"
   ]
  },
  {
   "cell_type": "code",
   "execution_count": 169,
   "metadata": {},
   "outputs": [
    {
     "data": {
      "text/plain": [
       "[<h1 class=\"firstHeading mw-first-heading\" id=\"firstHeading\">Data science</h1>]"
      ]
     },
     "execution_count": 169,
     "metadata": {},
     "output_type": "execute_result"
    }
   ],
   "source": [
    "soup.select(\"h1.firstHeading\")"
   ]
  },
  {
   "cell_type": "markdown",
   "metadata": {},
   "source": [
    "How are we getting all these tag and attribute names? Typically, you will want to go to a web page on your browser, right-click on an element you're interested in (such as the heading in the example above) and select \"inspect\" in order to see the HTML and CSS that makes up the web page. You can then also navigate to other elements in the HTML.\n",
    "\n",
    "<img src=\"../../Img/inspect.gif\" alt=\"inspect\" style=\"width: 400px;\"/>"
   ]
  },
  {
   "cell_type": "markdown",
   "metadata": {},
   "source": [
    "# Scraping text\n",
    "\n",
    "Inspecting the HTML, we can see there's a tag with an id called `bodyContent`, where all the main text of the article can be found. Let's retrieve it."
   ]
  },
  {
   "cell_type": "code",
   "execution_count": 170,
   "metadata": {},
   "outputs": [
    {
     "data": {
      "text/plain": [
       "<div class=\"mw-body-content mw-content-ltr\" dir=\"ltr\" id=\"mw-content-text\" lang=\"en\"><div class=\"mw-parser-output\"><div class=\"shortdescription nomobile noexcerpt noprint searchaux\" style=\"display:none\">Interdisciplinary field of study focused on deriving knowledge and insights from data</div>\n",
       "<style data-mw-deduplicate=\"TemplateStyles:r1033289096\">.mw-parser-output .hatnote{font-style:italic}.mw-parser-output div.hatnote{padding-left:1.6em;margin-bottom:0.5em}.mw-parser-output .hatnote i{font-style:normal}.mw-parser-output .hatnote+link+.hatnote{margin-top:-0.5em}</style><div class=\"hatnote navigation-not-searchable\" role=\"note\">Not to be confused with <a href=\"/wiki/Information_science\" title=\"Information science\">information science</a>.</div>\n",
       "<p class=\"mw-empty-elt\">\n",
       "</p>\n",
       "<div class=\"thumb tright\"><div class=\"thumbinner\" style=\"width:222px;\"><a class=\"image\" href=\"/wiki/File:PIA23792-1600x1200(1).jpg\"><img alt=\"\" class=\"thumbimage\" data-file-height=\"1200\" data-file-width=\"1600\" decoding=\"async\" height=\"165\" src=\"//upload.wikimedia.org/wikipedia/commons/thumb/4/45/PIA23792-1600x1200%281%29.jpg/220px-PIA23792-1600x1200%281%29.jpg\" srcset=\"//upload.wikimedia.org/wikipedia/commons/thumb/4/45/PIA23792-1600x1200%281%29.jpg/330px-PIA23792-1600x1200%281%29.jpg 1.5x, //upload.wikimedia.org/wikipedia/commons/thumb/4/45/PIA23792-1600x1200%281%29.jpg/440px-PIA23792-1600x1200%281%29.jpg 2x\" width=\"220\"/></a> <div class=\"thumbcaption\"><div class=\"magnify\"><a class=\"internal\" href=\"/wiki/File:PIA23792-1600x1200(1).jpg\" title=\"Enlarge\"></a></div>The existence of <a href=\"/wiki/Comet_NEOWISE\" title=\"Comet NEOWISE\">Comet NEOWISE</a> (here depicted as a series of red dots) was discovered by analyzing <a href=\"/wiki/Astronomical_survey\" title=\"Astronomical survey\">astronomical survey</a> data acquired by a <a href=\"/wiki/Space_telescope\" title=\"Space telescope\">space telescope</a>, the <a href=\"/wiki/Wide-field_Infrared_Survey_Explorer\" title=\"Wide-field Infrared Survey Explorer\">Wide-field Infrared Survey Explorer</a>.</div></div></div>\n",
       "<p><b>Data science</b> is an <a class=\"mw-redirect\" href=\"/wiki/Interdisciplinary\" title=\"Interdisciplinary\">interdisciplinary</a> field that uses <a href=\"/wiki/Scientific_method\" title=\"Scientific method\">scientific methods</a>, processes, <a href=\"/wiki/Algorithm\" title=\"Algorithm\">algorithms</a> and systems to extract <a href=\"/wiki/Knowledge\" title=\"Knowledge\">knowledge</a> and insights from noisy, structured and <a href=\"/wiki/Unstructured_data\" title=\"Unstructured data\">unstructured data</a>,<sup class=\"reference\" id=\"cite_ref-1\"><a href=\"#cite_note-1\">[1]</a></sup><sup class=\"reference\" id=\"cite_ref-2\"><a href=\"#cite_note-2\">[2]</a></sup> and apply knowledge and actionable insights from data across a broad range of application domains. Data science is related to <a href=\"/wiki/Data_mining\" title=\"Data mining\">data mining</a>, <a href=\"/wiki/Machine_learning\" title=\"Machine learning\">machine learning</a> and <a href=\"/wiki/Big_data\" title=\"Big data\">big data</a>.\n",
       "</p><p>Data science is a \"concept to unify <a href=\"/wiki/Statistics\" title=\"Statistics\">statistics</a>, <a href=\"/wiki/Data_analysis\" title=\"Data analysis\">data analysis</a>, <a href=\"/wiki/Informatics\" title=\"Informatics\">informatics</a>, and their related <a href=\"/wiki/Scientific_method\" title=\"Scientific method\">methods</a>\" in order to \"understand and analyse actual <a class=\"mw-redirect\" href=\"/wiki/Phenomena\" title=\"Phenomena\">phenomena</a>\" with <a href=\"/wiki/Data\" title=\"Data\">data</a>.<sup class=\"reference\" id=\"cite_ref-3\"><a href=\"#cite_note-3\">[3]</a></sup> It uses techniques and theories drawn from many fields within the context of <a href=\"/wiki/Mathematics\" title=\"Mathematics\">mathematics</a>, statistics, <a href=\"/wiki/Computer_science\" title=\"Computer science\">computer science</a>, <a href=\"/wiki/Information_science\" title=\"Information science\">information science</a>, and <a href=\"/wiki/Domain_knowledge\" title=\"Domain knowledge\">domain knowledge</a>.<sup class=\"reference\" id=\"cite_ref-4\"><a href=\"#cite_note-4\">[4]</a></sup> However, data science is different from computer science and information science. <a href=\"/wiki/Turing_Award\" title=\"Turing Award\">Turing Award</a> winner <a href=\"/wiki/Jim_Gray_(computer_scientist)\" title=\"Jim Gray (computer scientist)\">Jim Gray</a> imagined data science as a \"fourth paradigm\" of science (<a href=\"/wiki/Empirical_research\" title=\"Empirical research\">empirical</a>, <a href=\"/wiki/Basic_research\" title=\"Basic research\">theoretical</a>, <a href=\"/wiki/Computational_science\" title=\"Computational science\">computational</a>, and now data-driven) and asserted that \"everything about science is changing because of the impact of <a href=\"/wiki/Information_technology\" title=\"Information technology\">information technology</a>\" and the <a href=\"/wiki/Information_explosion\" title=\"Information explosion\">data deluge</a>.<sup class=\"reference\" id=\"cite_ref-TansleyTolle2009_5-0\"><a href=\"#cite_note-TansleyTolle2009-5\">[5]</a></sup><sup class=\"reference\" id=\"cite_ref-BellHey2009_6-0\"><a href=\"#cite_note-BellHey2009-6\">[6]</a></sup>\n",
       "A <b>data scientist</b> is someone who creates programming code and combines it with statistical knowledge to create insights from data.<sup class=\"reference\" id=\"cite_ref-7\"><a href=\"#cite_note-7\">[7]</a></sup>\n",
       "</p>\n",
       "<div aria-labelledby=\"mw-toc-heading\" class=\"toc\" id=\"toc\" role=\"navigation\"><input class=\"toctogglecheckbox\" id=\"toctogglecheckbox\" role=\"button\" style=\"display:none\" type=\"checkbox\"/><div class=\"toctitle\" dir=\"ltr\" lang=\"en\"><h2 id=\"mw-toc-heading\">Contents</h2><span class=\"toctogglespan\"><label class=\"toctogglelabel\" for=\"toctogglecheckbox\"></label></span></div>\n",
       "<ul>\n",
       "<li class=\"toclevel-1 tocsection-1\"><a href=\"#Foundations\"><span class=\"tocnumber\">1</span> <span class=\"toctext\">Foundations</span></a>\n",
       "<ul>\n",
       "<li class=\"toclevel-2 tocsection-2\"><a href=\"#Relationship_to_statistics\"><span class=\"tocnumber\">1.1</span> <span class=\"toctext\">Relationship to statistics</span></a></li>\n",
       "</ul>\n",
       "</li>\n",
       "<li class=\"toclevel-1 tocsection-3\"><a href=\"#Etymology\"><span class=\"tocnumber\">2</span> <span class=\"toctext\">Etymology</span></a>\n",
       "<ul>\n",
       "<li class=\"toclevel-2 tocsection-4\"><a href=\"#Early_usage\"><span class=\"tocnumber\">2.1</span> <span class=\"toctext\">Early usage</span></a></li>\n",
       "<li class=\"toclevel-2 tocsection-5\"><a href=\"#Modern_usage\"><span class=\"tocnumber\">2.2</span> <span class=\"toctext\">Modern usage</span></a></li>\n",
       "</ul>\n",
       "</li>\n",
       "<li class=\"toclevel-1 tocsection-6\"><a href=\"#See_also\"><span class=\"tocnumber\">3</span> <span class=\"toctext\">See also</span></a></li>\n",
       "<li class=\"toclevel-1 tocsection-7\"><a href=\"#References\"><span class=\"tocnumber\">4</span> <span class=\"toctext\">References</span></a></li>\n",
       "</ul>\n",
       "</div>\n",
       "<h2><span class=\"mw-headline\" id=\"Foundations\">Foundations</span><span class=\"mw-editsection\"><span class=\"mw-editsection-bracket\">[</span><a href=\"/w/index.php?title=Data_science&amp;action=edit&amp;section=1\" title=\"Edit section: Foundations\">edit</a><span class=\"mw-editsection-bracket\">]</span></span></h2>\n",
       "<p>Data science is an <a href=\"/wiki/Interdisciplinarity\" title=\"Interdisciplinarity\">interdisciplinary</a> <a href=\"/wiki/Academic_discipline\" title=\"Academic discipline\">field</a> focused on extracting knowledge from <a href=\"/wiki/Data_set\" title=\"Data set\">data sets</a>, which are typically large (see <a href=\"/wiki/Big_data\" title=\"Big data\">big data</a>), and applying the knowledge and actionable insights from data to <a href=\"/wiki/Problem_solving\" title=\"Problem solving\">solve problems</a> in a wide range of application domains.<sup class=\"reference\" id=\"cite_ref-8\"><a href=\"#cite_note-8\">[8]</a></sup> The field encompasses preparing data for analysis, formulating data science problems, <a href=\"/wiki/Analysis\" title=\"Analysis\">analyzing</a> data, developing data-driven solutions, and presenting findings to inform high-level decisions in a broad range of application domains. As such, it incorporates skills from computer science, statistics, information science, mathematics, <a class=\"mw-redirect\" href=\"/wiki/Data_visualization\" title=\"Data visualization\">data visualization</a>, <a class=\"mw-redirect\" href=\"/wiki/Information_visualization\" title=\"Information visualization\">information visualization</a>, <a href=\"/wiki/Data_sonification\" title=\"Data sonification\">data sonification</a>, data <a href=\"/wiki/Data_integration\" title=\"Data integration\">integration</a>, <a href=\"/wiki/Graphic_design\" title=\"Graphic design\">graphic design</a>, <a class=\"mw-redirect\" href=\"/wiki/Complex_systems\" title=\"Complex systems\">complex systems</a>, <a href=\"/wiki/Communication\" title=\"Communication\">communication</a> and <a href=\"/wiki/Business\" title=\"Business\">business</a>.<sup class=\"reference\" id=\"cite_ref-9\"><a href=\"#cite_note-9\">[9]</a></sup><sup class=\"reference\" id=\"cite_ref-10\"><a href=\"#cite_note-10\">[10]</a></sup> Statistician <a href=\"/wiki/Nathan_Yau\" title=\"Nathan Yau\">Nathan Yau</a>, drawing on <a href=\"/wiki/Ben_Fry\" title=\"Ben Fry\">Ben Fry</a>, also links data science to <a href=\"/wiki/Human%E2%80%93computer_interaction\" title=\"Human–computer interaction\">human–computer interaction</a>: users should be able to intuitively control and <a href=\"/wiki/Exploration\" title=\"Exploration\">explore</a> data.<sup class=\"reference\" id=\"cite_ref-11\"><a href=\"#cite_note-11\">[11]</a></sup><sup class=\"reference\" id=\"cite_ref-12\"><a href=\"#cite_note-12\">[12]</a></sup> In 2015, the <a href=\"/wiki/American_Statistical_Association\" title=\"American Statistical Association\">American Statistical Association</a> identified <a href=\"/wiki/Database\" title=\"Database\">database</a> management, statistics and <a href=\"/wiki/Machine_learning\" title=\"Machine learning\">machine learning</a>, and <a href=\"/wiki/Distributed_computing\" title=\"Distributed computing\">distributed and parallel systems</a> as the three emerging foundational professional communities.<sup class=\"reference\" id=\"cite_ref-13\"><a href=\"#cite_note-13\">[13]</a></sup>\n",
       "</p>\n",
       "<h3><span class=\"mw-headline\" id=\"Relationship_to_statistics\">Relationship to statistics</span><span class=\"mw-editsection\"><span class=\"mw-editsection-bracket\">[</span><a href=\"/w/index.php?title=Data_science&amp;action=edit&amp;section=2\" title=\"Edit section: Relationship to statistics\">edit</a><span class=\"mw-editsection-bracket\">]</span></span></h3>\n",
       "<p>Many statisticians, including <a href=\"/wiki/Nate_Silver\" title=\"Nate Silver\">Nate Silver</a>, have argued that data science is not a new field, but rather another name for statistics.<sup class=\"reference\" id=\"cite_ref-14\"><a href=\"#cite_note-14\">[14]</a></sup> Others argue that data science is distinct from statistics because it focuses on problems and techniques unique to digital data.<sup class=\"reference\" id=\"cite_ref-15\"><a href=\"#cite_note-15\">[15]</a></sup> <a href=\"/wiki/Vasant_Dhar\" title=\"Vasant Dhar\">Vasant Dhar</a> writes that statistics emphasizes quantitative data and description. In contrast, data science deals with quantitative and qualitative data (e.g. images) and emphasizes prediction and action.<sup class=\"reference\" id=\"cite_ref-16\"><a href=\"#cite_note-16\">[16]</a></sup> <a href=\"/wiki/Andrew_Gelman\" title=\"Andrew Gelman\">Andrew Gelman</a> of <a href=\"/wiki/Columbia_University\" title=\"Columbia University\">Columbia University</a> has described statistics as a nonessential part of data science.<sup class=\"reference\" id=\"cite_ref-17\"><a href=\"#cite_note-17\">[17]</a></sup>\n",
       "Stanford professor <a href=\"/wiki/David_Donoho\" title=\"David Donoho\">David Donoho</a> writes that data science is not distinguished from statistics by the size of datasets or use of computing, and that many graduate programs misleadingly advertise their analytics and statistics training as the essence of a data-science program. He describes data science as an applied field growing out of traditional statistics.<sup class=\"reference\" id=\"cite_ref-:7_18-0\"><a href=\"#cite_note-:7-18\">[18]</a></sup> \n",
       "In summary, data science can be therefore described as an applied branch of statistics.\n",
       "</p>\n",
       "<h2><span class=\"mw-headline\" id=\"Etymology\">Etymology</span><span class=\"mw-editsection\"><span class=\"mw-editsection-bracket\">[</span><a href=\"/w/index.php?title=Data_science&amp;action=edit&amp;section=3\" title=\"Edit section: Etymology\">edit</a><span class=\"mw-editsection-bracket\">]</span></span></h2>\n",
       "<h3><span class=\"mw-headline\" id=\"Early_usage\">Early usage</span><span class=\"mw-editsection\"><span class=\"mw-editsection-bracket\">[</span><a href=\"/w/index.php?title=Data_science&amp;action=edit&amp;section=4\" title=\"Edit section: Early usage\">edit</a><span class=\"mw-editsection-bracket\">]</span></span></h3>\n",
       "<p>In 1962, <a href=\"/wiki/John_Tukey\" title=\"John Tukey\">John Tukey</a> described a field he called \"data analysis\", which resembles modern data science.<sup class=\"reference\" id=\"cite_ref-:7_18-1\"><a href=\"#cite_note-:7-18\">[18]</a></sup> In 1985, in a lecture given to the Chinese Academy of Sciences in Beijing, <a href=\"/wiki/C._F._Jeff_Wu\" title=\"C. F. Jeff Wu\">C. F. Jeff Wu</a> used the term \"data science\" for the first time as an alternative name for statistics.<sup class=\"reference\" id=\"cite_ref-19\"><a href=\"#cite_note-19\">[19]</a></sup> Later, attendees at a 1992 statistics symposium at the <a href=\"/wiki/Montpellier_2_University\" title=\"Montpellier 2 University\">University of Montpellier II</a> acknowledged the emergence of a new discipline focused on data of various origins and forms, combining established concepts and principles of statistics and data analysis with computing.<sup class=\"reference\" id=\"cite_ref-20\"><a href=\"#cite_note-20\">[20]</a></sup><sup class=\"reference\" id=\"cite_ref-Murtagh_2018_14_21-0\"><a href=\"#cite_note-Murtagh_2018_14-21\">[21]</a></sup>\n",
       "</p><p>The term \"data science\" has been traced back to 1974, when <a href=\"/wiki/Peter_Naur\" title=\"Peter Naur\">Peter Naur</a> proposed it as an alternative name for computer science.<sup class=\"reference\" id=\"cite_ref-:0_22-0\"><a href=\"#cite_note-:0-22\">[22]</a></sup> In 1996, the International Federation of Classification Societies became the first conference to specifically feature data science as a topic.<sup class=\"reference\" id=\"cite_ref-:0_22-1\"><a href=\"#cite_note-:0-22\">[22]</a></sup> However, the definition was still in flux. After the 1985 lecture in the Chinese Academy of Sciences in Beijing, in 1997 <a href=\"/wiki/C._F._Jeff_Wu\" title=\"C. F. Jeff Wu\">C. F. Jeff Wu</a> again suggested that statistics should be renamed data science. He reasoned that a new name would help statistics shed inaccurate stereotypes, such as being synonymous with accounting, or limited to describing data.<sup class=\"reference\" id=\"cite_ref-23\"><a href=\"#cite_note-23\">[23]</a></sup> In 1998, Hayashi Chikio argued for data science as a new, interdisciplinary concept, with three aspects: data design, collection, and analysis.<sup class=\"reference\" id=\"cite_ref-Murtagh_2018_14_21-1\"><a href=\"#cite_note-Murtagh_2018_14-21\">[21]</a></sup>\n",
       "</p><p>During the 1990s, popular terms for the process of finding patterns in datasets (which were increasingly large) included \"knowledge discovery\" and \"<a href=\"/wiki/Data_mining\" title=\"Data mining\">data mining</a>\".<sup class=\"reference\" id=\"cite_ref-:1_24-0\"><a href=\"#cite_note-:1-24\">[24]</a></sup><sup class=\"reference\" id=\"cite_ref-:0_22-2\"><a href=\"#cite_note-:0-22\">[22]</a></sup>\n",
       "</p>\n",
       "<h3><span class=\"mw-headline\" id=\"Modern_usage\">Modern usage</span><span class=\"mw-editsection\"><span class=\"mw-editsection-bracket\">[</span><a href=\"/w/index.php?title=Data_science&amp;action=edit&amp;section=5\" title=\"Edit section: Modern usage\">edit</a><span class=\"mw-editsection-bracket\">]</span></span></h3>\n",
       "<p>The modern conception of data science as an independent discipline is sometimes attributed to <a href=\"/wiki/William_S._Cleveland\" title=\"William S. Cleveland\">William S. Cleveland</a>.<sup class=\"reference\" id=\"cite_ref-25\"><a href=\"#cite_note-25\">[25]</a></sup> In a 2001 paper, he advocated an expansion of statistics beyond theory into technical areas; because this would significantly change the field, it warranted a new name.<sup class=\"reference\" id=\"cite_ref-:1_24-1\"><a href=\"#cite_note-:1-24\">[24]</a></sup> \"Data science\" became more widely used in the next few years: in 2002, the <a class=\"mw-redirect\" href=\"/wiki/Committee_on_Data_for_Science_and_Technology\" title=\"Committee on Data for Science and Technology\">Committee on Data for Science and Technology</a> launched <i>Data Science Journal</i>. In 2003, Columbia University launched <i>The Journal of Data Science</i>.<sup class=\"reference\" id=\"cite_ref-:1_24-2\"><a href=\"#cite_note-:1-24\">[24]</a></sup> In 2014, the <a href=\"/wiki/American_Statistical_Association\" title=\"American Statistical Association\">American Statistical Association</a>'s Section on Statistical Learning and Data Mining changed its name to the Section on Statistical Learning and Data Science, reflecting the ascendant popularity of data science.<sup class=\"reference\" id=\"cite_ref-26\"><a href=\"#cite_note-26\">[26]</a></sup>\n",
       "</p><p>The professional title of \"data scientist\" has been attributed to <a href=\"/wiki/DJ_Patil\" title=\"DJ Patil\">DJ Patil</a> and <a href=\"/wiki/Jeff_Hammerbacher\" title=\"Jeff Hammerbacher\">Jeff Hammerbacher</a> in 2008.<sup class=\"reference\" id=\"cite_ref-27\"><a href=\"#cite_note-27\">[27]</a></sup> Though it was used by the <a href=\"/wiki/National_Science_Board\" title=\"National Science Board\">National Science Board</a> in their 2005 report \"Long-Lived Digital Data Collections: Enabling Research and Education in the 21st Century\", it referred broadly to any key role in managing a digital data collection.<sup class=\"reference\" id=\"cite_ref-28\"><a href=\"#cite_note-28\">[28]</a></sup>\n",
       "</p><p>There is still no consensus on the definition of data science, and it is considered by some to be a <a href=\"/wiki/Buzzword\" title=\"Buzzword\">buzzword</a>.<sup class=\"reference\" id=\"cite_ref-29\"><a href=\"#cite_note-29\">[29]</a></sup>\n",
       "<a href=\"/wiki/Big_data\" title=\"Big data\">Big data</a> is a related marketing term.<sup class=\"reference\" id=\"cite_ref-:5_30-0\"><a href=\"#cite_note-:5-30\">[30]</a></sup> Data scientists are responsible for breaking down big data into usable information and creating software and algorithms that help companies and organizations determine optimal operations.<sup class=\"reference\" id=\"cite_ref-:6_31-0\"><a href=\"#cite_note-:6-31\">[31]</a></sup>\n",
       "</p>\n",
       "<h2><span class=\"mw-headline\" id=\"See_also\">See also</span><span class=\"mw-editsection\"><span class=\"mw-editsection-bracket\">[</span><a href=\"/w/index.php?title=Data_science&amp;action=edit&amp;section=6\" title=\"Edit section: See also\">edit</a><span class=\"mw-editsection-bracket\">]</span></span></h2>\n",
       "<ul><li><a href=\"/wiki/International_Journal_of_Population_Data_Science\" title=\"International Journal of Population Data Science\">International Journal of Population Data Science</a></li></ul>\n",
       "<h2><span class=\"mw-headline\" id=\"References\">References</span><span class=\"mw-editsection\"><span class=\"mw-editsection-bracket\">[</span><a href=\"/w/index.php?title=Data_science&amp;action=edit&amp;section=7\" title=\"Edit section: References\">edit</a><span class=\"mw-editsection-bracket\">]</span></span></h2>\n",
       "<style data-mw-deduplicate=\"TemplateStyles:r1011085734\">.mw-parser-output .reflist{font-size:90%;margin-bottom:0.5em;list-style-type:decimal}.mw-parser-output .reflist .references{font-size:100%;margin-bottom:0;list-style-type:inherit}.mw-parser-output .reflist-columns-2{column-width:30em}.mw-parser-output .reflist-columns-3{column-width:25em}.mw-parser-output .reflist-columns{margin-top:0.3em}.mw-parser-output .reflist-columns ol{margin-top:0}.mw-parser-output .reflist-columns li{page-break-inside:avoid;break-inside:avoid-column}.mw-parser-output .reflist-upper-alpha{list-style-type:upper-alpha}.mw-parser-output .reflist-upper-roman{list-style-type:upper-roman}.mw-parser-output .reflist-lower-alpha{list-style-type:lower-alpha}.mw-parser-output .reflist-lower-greek{list-style-type:lower-greek}.mw-parser-output .reflist-lower-roman{list-style-type:lower-roman}</style><div class=\"reflist reflist-columns references-column-width\" style=\"column-width: 30em;\">\n",
       "<ol class=\"references\">\n",
       "<li id=\"cite_note-1\"><span class=\"mw-cite-backlink\"><b><a href=\"#cite_ref-1\">^</a></b></span> <span class=\"reference-text\"><style data-mw-deduplicate=\"TemplateStyles:r1067248974\">.mw-parser-output cite.citation{font-style:inherit;word-wrap:break-word}.mw-parser-output .citation q{quotes:\"\\\"\"\"\\\"\"\"'\"\"'\"}.mw-parser-output .citation:target{background-color:rgba(0,127,255,0.133)}.mw-parser-output .id-lock-free a,.mw-parser-output .citation .cs1-lock-free a{background:linear-gradient(transparent,transparent),url(\"//upload.wikimedia.org/wikipedia/commons/6/65/Lock-green.svg\")right 0.1em center/9px no-repeat}.mw-parser-output .id-lock-limited a,.mw-parser-output .id-lock-registration a,.mw-parser-output .citation .cs1-lock-limited a,.mw-parser-output .citation .cs1-lock-registration a{background:linear-gradient(transparent,transparent),url(\"//upload.wikimedia.org/wikipedia/commons/d/d6/Lock-gray-alt-2.svg\")right 0.1em center/9px no-repeat}.mw-parser-output .id-lock-subscription a,.mw-parser-output .citation .cs1-lock-subscription a{background:linear-gradient(transparent,transparent),url(\"//upload.wikimedia.org/wikipedia/commons/a/aa/Lock-red-alt-2.svg\")right 0.1em center/9px no-repeat}.mw-parser-output .cs1-ws-icon a{background:linear-gradient(transparent,transparent),url(\"//upload.wikimedia.org/wikipedia/commons/4/4c/Wikisource-logo.svg\")right 0.1em center/12px no-repeat}.mw-parser-output .cs1-code{color:inherit;background:inherit;border:none;padding:inherit}.mw-parser-output .cs1-hidden-error{display:none;color:#d33}.mw-parser-output .cs1-visible-error{color:#d33}.mw-parser-output .cs1-maint{display:none;color:#3a3;margin-left:0.3em}.mw-parser-output .cs1-format{font-size:95%}.mw-parser-output .cs1-kern-left{padding-left:0.2em}.mw-parser-output .cs1-kern-right{padding-right:0.2em}.mw-parser-output .citation .mw-selflink{font-weight:inherit}</style><cite class=\"citation journal cs1\" id=\"CITEREFDhar2013\">Dhar, V. (2013). <a class=\"external text\" href=\"http://cacm.acm.org/magazines/2013/12/169933-data-science-and-prediction/fulltext\" rel=\"nofollow\">\"Data science and prediction\"</a>. <i>Communications of the ACM</i>. <b>56</b> (12): 64–73. <a class=\"mw-redirect\" href=\"/wiki/Doi_(identifier)\" title=\"Doi (identifier)\">doi</a>:<a class=\"external text\" href=\"https://doi.org/10.1145%2F2500499\" rel=\"nofollow\">10.1145/2500499</a>. <a class=\"mw-redirect\" href=\"/wiki/S2CID_(identifier)\" title=\"S2CID (identifier)\">S2CID</a> <a class=\"external text\" href=\"https://api.semanticscholar.org/CorpusID:6107147\" rel=\"nofollow\">6107147</a>. <a class=\"external text\" href=\"https://web.archive.org/web/20141109113411/http://cacm.acm.org/magazines/2013/12/169933-data-science-and-prediction/fulltext\" rel=\"nofollow\">Archived</a> from the original on 9 November 2014<span class=\"reference-accessdate\">. Retrieved <span class=\"nowrap\">2 September</span> 2015</span>.</cite><span class=\"Z3988\" title=\"ctx_ver=Z39.88-2004&amp;rft_val_fmt=info%3Aofi%2Ffmt%3Akev%3Amtx%3Ajournal&amp;rft.genre=article&amp;rft.jtitle=Communications+of+the+ACM&amp;rft.atitle=Data+science+and+prediction&amp;rft.volume=56&amp;rft.issue=12&amp;rft.pages=64-73&amp;rft.date=2013&amp;rft_id=info%3Adoi%2F10.1145%2F2500499&amp;rft_id=https%3A%2F%2Fapi.semanticscholar.org%2FCorpusID%3A6107147%23id-name%3DS2CID&amp;rft.aulast=Dhar&amp;rft.aufirst=V.&amp;rft_id=http%3A%2F%2Fcacm.acm.org%2Fmagazines%2F2013%2F12%2F169933-data-science-and-prediction%2Ffulltext&amp;rfr_id=info%3Asid%2Fen.wikipedia.org%3AData+science\"></span></span>\n",
       "</li>\n",
       "<li id=\"cite_note-2\"><span class=\"mw-cite-backlink\"><b><a href=\"#cite_ref-2\">^</a></b></span> <span class=\"reference-text\"><link href=\"mw-data:TemplateStyles:r1067248974\" rel=\"mw-deduplicated-inline-style\"/><cite class=\"citation web cs1\" id=\"CITEREFJeff_Leek2013\"><a href=\"/wiki/Jeffrey_T._Leek\" title=\"Jeffrey T. Leek\">Jeff Leek</a> (12 December 2013). <a class=\"external text\" href=\"http://simplystatistics.org/2013/12/12/the-key-word-in-data-science-is-not-data-it-is-science/\" rel=\"nofollow\">\"The key word in \"Data Science\" is not Data, it is Science\"</a>. Simply Statistics. <a class=\"external text\" href=\"https://web.archive.org/web/20140102194117/http://simplystatistics.org/2013/12/12/the-key-word-in-data-science-is-not-data-it-is-science/\" rel=\"nofollow\">Archived</a> from the original on 2 January 2014<span class=\"reference-accessdate\">. Retrieved <span class=\"nowrap\">1 January</span> 2014</span>.</cite><span class=\"Z3988\" title=\"ctx_ver=Z39.88-2004&amp;rft_val_fmt=info%3Aofi%2Ffmt%3Akev%3Amtx%3Abook&amp;rft.genre=unknown&amp;rft.btitle=The+key+word+in+%22Data+Science%22+is+not+Data%2C+it+is+Science&amp;rft.pub=Simply+Statistics&amp;rft.date=2013-12-12&amp;rft.au=Jeff+Leek&amp;rft_id=http%3A%2F%2Fsimplystatistics.org%2F2013%2F12%2F12%2Fthe-key-word-in-data-science-is-not-data-it-is-science%2F&amp;rfr_id=info%3Asid%2Fen.wikipedia.org%3AData+science\"></span></span>\n",
       "</li>\n",
       "<li id=\"cite_note-3\"><span class=\"mw-cite-backlink\"><b><a href=\"#cite_ref-3\">^</a></b></span> <span class=\"reference-text\"><link href=\"mw-data:TemplateStyles:r1067248974\" rel=\"mw-deduplicated-inline-style\"/><cite class=\"citation book cs1\" id=\"CITEREFHayashi1998\">Hayashi, Chikio (1 January 1998). <a class=\"external text\" href=\"https://www.springer.com/book/9784431702085\" rel=\"nofollow\">\"What is Data Science? Fundamental Concepts and a Heuristic Example\"</a>.  In Hayashi, Chikio; Yajima, Keiji; Bock, Hans-Hermann; Ohsumi, Noboru; Tanaka, Yutaka; Baba, Yasumasa (eds.). <i>Data Science, Classification, and Related Methods</i>. Studies in Classification, Data Analysis, and Knowledge Organization. Springer Japan. pp. 40–51. <a class=\"mw-redirect\" href=\"/wiki/Doi_(identifier)\" title=\"Doi (identifier)\">doi</a>:<a class=\"external text\" href=\"https://doi.org/10.1007%2F978-4-431-65950-1_3\" rel=\"nofollow\">10.1007/978-4-431-65950-1_3</a>. <a class=\"mw-redirect\" href=\"/wiki/ISBN_(identifier)\" title=\"ISBN (identifier)\">ISBN</a> <a href=\"/wiki/Special:BookSources/9784431702085\" title=\"Special:BookSources/9784431702085\"><bdi>9784431702085</bdi></a>.</cite><span class=\"Z3988\" title=\"ctx_ver=Z39.88-2004&amp;rft_val_fmt=info%3Aofi%2Ffmt%3Akev%3Amtx%3Abook&amp;rft.genre=bookitem&amp;rft.atitle=What+is+Data+Science%3F+Fundamental+Concepts+and+a+Heuristic+Example&amp;rft.btitle=Data+Science%2C+Classification%2C+and+Related+Methods&amp;rft.series=Studies+in+Classification%2C+Data+Analysis%2C+and+Knowledge+Organization&amp;rft.pages=40-51&amp;rft.pub=Springer+Japan&amp;rft.date=1998-01-01&amp;rft_id=info%3Adoi%2F10.1007%2F978-4-431-65950-1_3&amp;rft.isbn=9784431702085&amp;rft.aulast=Hayashi&amp;rft.aufirst=Chikio&amp;rft_id=https%3A%2F%2Fwww.springer.com%2Fbook%2F9784431702085&amp;rfr_id=info%3Asid%2Fen.wikipedia.org%3AData+science\"></span></span>\n",
       "</li>\n",
       "<li id=\"cite_note-4\"><span class=\"mw-cite-backlink\"><b><a href=\"#cite_ref-4\">^</a></b></span> <span class=\"reference-text\"><link href=\"mw-data:TemplateStyles:r1067248974\" rel=\"mw-deduplicated-inline-style\"/><cite class=\"citation journal cs1\" id=\"CITEREFCao2017\">Cao, Longbing (29 June 2017). \"Data Science: A Comprehensive Overview\". <i>ACM Computing Surveys</i>. <b>50</b> (3): 43:1–43:42. <a class=\"mw-redirect\" href=\"/wiki/Doi_(identifier)\" title=\"Doi (identifier)\">doi</a>:<a class=\"external text\" href=\"https://doi.org/10.1145%2F3076253\" rel=\"nofollow\">10.1145/3076253</a>. <a class=\"mw-redirect\" href=\"/wiki/ISSN_(identifier)\" title=\"ISSN (identifier)\">ISSN</a> <a class=\"external text\" href=\"//www.worldcat.org/issn/0360-0300\" rel=\"nofollow\">0360-0300</a>.</cite><span class=\"Z3988\" title=\"ctx_ver=Z39.88-2004&amp;rft_val_fmt=info%3Aofi%2Ffmt%3Akev%3Amtx%3Ajournal&amp;rft.genre=article&amp;rft.jtitle=ACM+Computing+Surveys&amp;rft.atitle=Data+Science%3A+A+Comprehensive+Overview&amp;rft.volume=50&amp;rft.issue=3&amp;rft.pages=43%3A1-43%3A42&amp;rft.date=2017-06-29&amp;rft_id=info%3Adoi%2F10.1145%2F3076253&amp;rft.issn=0360-0300&amp;rft.aulast=Cao&amp;rft.aufirst=Longbing&amp;rfr_id=info%3Asid%2Fen.wikipedia.org%3AData+science\"></span></span>\n",
       "</li>\n",
       "<li id=\"cite_note-TansleyTolle2009-5\"><span class=\"mw-cite-backlink\"><b><a href=\"#cite_ref-TansleyTolle2009_5-0\">^</a></b></span> <span class=\"reference-text\"><link href=\"mw-data:TemplateStyles:r1067248974\" rel=\"mw-deduplicated-inline-style\"/><cite class=\"citation book cs1\" id=\"CITEREFTony_HeyStewart_TansleyKristin_Michele_Tolle2009\">Tony Hey; Stewart Tansley; Kristin Michele Tolle (2009). <a class=\"external text\" href=\"https://books.google.com/books?id=oGs_AQAAIAAJ\" rel=\"nofollow\"><i>The Fourth Paradigm: Data-intensive Scientific Discovery</i></a>. Microsoft Research. <a class=\"mw-redirect\" href=\"/wiki/ISBN_(identifier)\" title=\"ISBN (identifier)\">ISBN</a> <a href=\"/wiki/Special:BookSources/978-0-9825442-0-4\" title=\"Special:BookSources/978-0-9825442-0-4\"><bdi>978-0-9825442-0-4</bdi></a>. <a class=\"external text\" href=\"https://web.archive.org/web/20170320193019/https://books.google.com/books?id=oGs_AQAAIAAJ\" rel=\"nofollow\">Archived</a> from the original on 20 March 2017.</cite><span class=\"Z3988\" title=\"ctx_ver=Z39.88-2004&amp;rft_val_fmt=info%3Aofi%2Ffmt%3Akev%3Amtx%3Abook&amp;rft.genre=book&amp;rft.btitle=The+Fourth+Paradigm%3A+Data-intensive+Scientific+Discovery&amp;rft.pub=Microsoft+Research&amp;rft.date=2009&amp;rft.isbn=978-0-9825442-0-4&amp;rft.au=Tony+Hey&amp;rft.au=Stewart+Tansley&amp;rft.au=Kristin+Michele+Tolle&amp;rft_id=https%3A%2F%2Fbooks.google.com%2Fbooks%3Fid%3DoGs_AQAAIAAJ&amp;rfr_id=info%3Asid%2Fen.wikipedia.org%3AData+science\"></span></span>\n",
       "</li>\n",
       "<li id=\"cite_note-BellHey2009-6\"><span class=\"mw-cite-backlink\"><b><a href=\"#cite_ref-BellHey2009_6-0\">^</a></b></span> <span class=\"reference-text\"><link href=\"mw-data:TemplateStyles:r1067248974\" rel=\"mw-deduplicated-inline-style\"/><cite class=\"citation journal cs1\" id=\"CITEREFBellHeySzalay2009\">Bell, G.; Hey, T.; Szalay, A. (2009). \"Computer Science: Beyond the Data Deluge\". <i>Science</i>. <b>323</b> (5919): 1297–1298. <a class=\"mw-redirect\" href=\"/wiki/Doi_(identifier)\" title=\"Doi (identifier)\">doi</a>:<a class=\"external text\" href=\"https://doi.org/10.1126%2Fscience.1170411\" rel=\"nofollow\">10.1126/science.1170411</a>. <a class=\"mw-redirect\" href=\"/wiki/ISSN_(identifier)\" title=\"ISSN (identifier)\">ISSN</a> <a class=\"external text\" href=\"//www.worldcat.org/issn/0036-8075\" rel=\"nofollow\">0036-8075</a>. <a class=\"mw-redirect\" href=\"/wiki/PMID_(identifier)\" title=\"PMID (identifier)\">PMID</a> <a class=\"external text\" href=\"//pubmed.ncbi.nlm.nih.gov/19265007\" rel=\"nofollow\">19265007</a>. <a class=\"mw-redirect\" href=\"/wiki/S2CID_(identifier)\" title=\"S2CID (identifier)\">S2CID</a> <a class=\"external text\" href=\"https://api.semanticscholar.org/CorpusID:9743327\" rel=\"nofollow\">9743327</a>.</cite><span class=\"Z3988\" title=\"ctx_ver=Z39.88-2004&amp;rft_val_fmt=info%3Aofi%2Ffmt%3Akev%3Amtx%3Ajournal&amp;rft.genre=article&amp;rft.jtitle=Science&amp;rft.atitle=Computer+Science%3A+Beyond+the+Data+Deluge&amp;rft.volume=323&amp;rft.issue=5919&amp;rft.pages=1297-1298&amp;rft.date=2009&amp;rft.issn=0036-8075&amp;rft_id=https%3A%2F%2Fapi.semanticscholar.org%2FCorpusID%3A9743327%23id-name%3DS2CID&amp;rft_id=info%3Apmid%2F19265007&amp;rft_id=info%3Adoi%2F10.1126%2Fscience.1170411&amp;rft.aulast=Bell&amp;rft.aufirst=G.&amp;rft.au=Hey%2C+T.&amp;rft.au=Szalay%2C+A.&amp;rfr_id=info%3Asid%2Fen.wikipedia.org%3AData+science\"></span></span>\n",
       "</li>\n",
       "<li id=\"cite_note-7\"><span class=\"mw-cite-backlink\"><b><a href=\"#cite_ref-7\">^</a></b></span> <span class=\"reference-text\"><link href=\"mw-data:TemplateStyles:r1067248974\" rel=\"mw-deduplicated-inline-style\"/><cite class=\"citation journal cs1\" id=\"CITEREFDavenportPatil2012\">Davenport, Thomas H.; Patil, D. J. (October 2012). <a class=\"external text\" href=\"https://hbr.org/2012/10/data-scientist-the-sexiest-job-of-the-21st-century/\" rel=\"nofollow\">\"Data Scientist: The Sexiest Job of the 21st Century\"</a>. <i>Harvard Business Review</i>. <b>90</b> (10): 70–76, 128. <a class=\"mw-redirect\" href=\"/wiki/PMID_(identifier)\" title=\"PMID (identifier)\">PMID</a> <a class=\"external text\" href=\"//pubmed.ncbi.nlm.nih.gov/23074866\" rel=\"nofollow\">23074866</a><span class=\"reference-accessdate\">. Retrieved <span class=\"nowrap\">18 January</span> 2016</span>.</cite><span class=\"Z3988\" title=\"ctx_ver=Z39.88-2004&amp;rft_val_fmt=info%3Aofi%2Ffmt%3Akev%3Amtx%3Ajournal&amp;rft.genre=article&amp;rft.jtitle=Harvard+Business+Review&amp;rft.atitle=Data+Scientist%3A+The+Sexiest+Job+of+the+21st+Century&amp;rft.volume=90&amp;rft.issue=10&amp;rft.pages=70-76%2C+128&amp;rft.date=2012-10&amp;rft_id=info%3Apmid%2F23074866&amp;rft.aulast=Davenport&amp;rft.aufirst=Thomas+H.&amp;rft.au=Patil%2C+D.+J.&amp;rft_id=https%3A%2F%2Fhbr.org%2F2012%2F10%2Fdata-scientist-the-sexiest-job-of-the-21st-century%2F&amp;rfr_id=info%3Asid%2Fen.wikipedia.org%3AData+science\"></span></span>\n",
       "</li>\n",
       "<li id=\"cite_note-8\"><span class=\"mw-cite-backlink\"><b><a href=\"#cite_ref-8\">^</a></b></span> <span class=\"reference-text\"><link href=\"mw-data:TemplateStyles:r1067248974\" rel=\"mw-deduplicated-inline-style\"/><cite class=\"citation web cs1\"><a class=\"external text\" href=\"http://www.datascienceassn.org/about-data-science\" rel=\"nofollow\">\"About Data Science\"</a>. <i>Data Science Association</i><span class=\"reference-accessdate\">. Retrieved <span class=\"nowrap\">3 April</span> 2020</span>.</cite><span class=\"Z3988\" title=\"ctx_ver=Z39.88-2004&amp;rft_val_fmt=info%3Aofi%2Ffmt%3Akev%3Amtx%3Ajournal&amp;rft.genre=unknown&amp;rft.jtitle=Data+Science+Association&amp;rft.atitle=About+Data+Science&amp;rft_id=http%3A%2F%2Fwww.datascienceassn.org%2Fabout-data-science&amp;rfr_id=info%3Asid%2Fen.wikipedia.org%3AData+science\"></span></span>\n",
       "</li>\n",
       "<li id=\"cite_note-9\"><span class=\"mw-cite-backlink\"><b><a href=\"#cite_ref-9\">^</a></b></span> <span class=\"reference-text\"><link href=\"mw-data:TemplateStyles:r1067248974\" rel=\"mw-deduplicated-inline-style\"/><cite class=\"citation web cs1\"><a class=\"external text\" href=\"https://www.oreilly.com/library/view/doing-data-science/9781449363871/ch01.html\" rel=\"nofollow\">\"1. Introduction: What Is Data Science?\"</a>. <i>Doing Data Science [Book]</i>. O’Reilly<span class=\"reference-accessdate\">. Retrieved <span class=\"nowrap\">3 April</span> 2020</span>.</cite><span class=\"Z3988\" title=\"ctx_ver=Z39.88-2004&amp;rft_val_fmt=info%3Aofi%2Ffmt%3Akev%3Amtx%3Ajournal&amp;rft.genre=unknown&amp;rft.jtitle=Doing+Data+Science+%5BBook%5D&amp;rft.atitle=1.+Introduction%3A+What+Is+Data+Science%3F&amp;rft_id=https%3A%2F%2Fwww.oreilly.com%2Flibrary%2Fview%2Fdoing-data-science%2F9781449363871%2Fch01.html&amp;rfr_id=info%3Asid%2Fen.wikipedia.org%3AData+science\"></span></span>\n",
       "</li>\n",
       "<li id=\"cite_note-10\"><span class=\"mw-cite-backlink\"><b><a href=\"#cite_ref-10\">^</a></b></span> <span class=\"reference-text\"><link href=\"mw-data:TemplateStyles:r1067248974\" rel=\"mw-deduplicated-inline-style\"/><cite class=\"citation web cs1\"><a class=\"external text\" href=\"https://medriscoll.com/post/4740157098/the-three-sexy-skills-of-data-geeks\" rel=\"nofollow\">\"the three sexy skills of data geeks\"</a>. <i>m.e.driscoll: data utopian</i>. 27 May 2009<span class=\"reference-accessdate\">. Retrieved <span class=\"nowrap\">3 April</span> 2020</span>.</cite><span class=\"Z3988\" title=\"ctx_ver=Z39.88-2004&amp;rft_val_fmt=info%3Aofi%2Ffmt%3Akev%3Amtx%3Ajournal&amp;rft.genre=unknown&amp;rft.jtitle=m.e.driscoll%3A+data+utopian&amp;rft.atitle=the+three+sexy+skills+of+data+geeks&amp;rft.date=2009-05-27&amp;rft_id=https%3A%2F%2Fmedriscoll.com%2Fpost%2F4740157098%2Fthe-three-sexy-skills-of-data-geeks&amp;rfr_id=info%3Asid%2Fen.wikipedia.org%3AData+science\"></span></span>\n",
       "</li>\n",
       "<li id=\"cite_note-11\"><span class=\"mw-cite-backlink\"><b><a href=\"#cite_ref-11\">^</a></b></span> <span class=\"reference-text\"><link href=\"mw-data:TemplateStyles:r1067248974\" rel=\"mw-deduplicated-inline-style\"/><cite class=\"citation web cs1\" id=\"CITEREFYau2009\">Yau, Nathan (4 June 2009). <a class=\"external text\" href=\"https://flowingdata.com/2009/06/04/rise-of-the-data-scientist/\" rel=\"nofollow\">\"Rise of the Data Scientist\"</a>. <i>FlowingData</i><span class=\"reference-accessdate\">. Retrieved <span class=\"nowrap\">3 April</span> 2020</span>.</cite><span class=\"Z3988\" title=\"ctx_ver=Z39.88-2004&amp;rft_val_fmt=info%3Aofi%2Ffmt%3Akev%3Amtx%3Ajournal&amp;rft.genre=unknown&amp;rft.jtitle=FlowingData&amp;rft.atitle=Rise+of+the+Data+Scientist&amp;rft.date=2009-06-04&amp;rft.aulast=Yau&amp;rft.aufirst=Nathan&amp;rft_id=https%3A%2F%2Fflowingdata.com%2F2009%2F06%2F04%2Frise-of-the-data-scientist%2F&amp;rfr_id=info%3Asid%2Fen.wikipedia.org%3AData+science\"></span></span>\n",
       "</li>\n",
       "<li id=\"cite_note-12\"><span class=\"mw-cite-backlink\"><b><a href=\"#cite_ref-12\">^</a></b></span> <span class=\"reference-text\"><link href=\"mw-data:TemplateStyles:r1067248974\" rel=\"mw-deduplicated-inline-style\"/><cite class=\"citation web cs1\"><a class=\"external text\" href=\"https://benfry.com/phd/dissertation/2.html\" rel=\"nofollow\">\"Basic Example\"</a>. <i>benfry.com</i><span class=\"reference-accessdate\">. Retrieved <span class=\"nowrap\">3 April</span> 2020</span>.</cite><span class=\"Z3988\" title=\"ctx_ver=Z39.88-2004&amp;rft_val_fmt=info%3Aofi%2Ffmt%3Akev%3Amtx%3Ajournal&amp;rft.genre=unknown&amp;rft.jtitle=benfry.com&amp;rft.atitle=Basic+Example&amp;rft_id=https%3A%2F%2Fbenfry.com%2Fphd%2Fdissertation%2F2.html&amp;rfr_id=info%3Asid%2Fen.wikipedia.org%3AData+science\"></span></span>\n",
       "</li>\n",
       "<li id=\"cite_note-13\"><span class=\"mw-cite-backlink\"><b><a href=\"#cite_ref-13\">^</a></b></span> <span class=\"reference-text\"><link href=\"mw-data:TemplateStyles:r1067248974\" rel=\"mw-deduplicated-inline-style\"/><cite class=\"citation web cs1\"><a class=\"external text\" href=\"https://magazine.amstat.org/blog/2015/10/01/asa-statement-on-the-role-of-statistics-in-data-science/\" rel=\"nofollow\">\"ASA Statement on the Role of Statistics in Data Science\"</a>. <i>AMSTATNEWS</i>. <a href=\"/wiki/American_Statistical_Association\" title=\"American Statistical Association\">American Statistical Association</a>. 1 October 2015. <a class=\"external text\" href=\"https://web.archive.org/web/20190620184935/https://magazine.amstat.org/blog/2015/10/01/asa-statement-on-the-role-of-statistics-in-data-science/\" rel=\"nofollow\">Archived</a> from the original on 20 June 2019<span class=\"reference-accessdate\">. Retrieved <span class=\"nowrap\">29 May</span> 2019</span>.</cite><span class=\"Z3988\" title=\"ctx_ver=Z39.88-2004&amp;rft_val_fmt=info%3Aofi%2Ffmt%3Akev%3Amtx%3Ajournal&amp;rft.genre=unknown&amp;rft.jtitle=AMSTATNEWS&amp;rft.atitle=ASA+Statement+on+the+Role+of+Statistics+in+Data+Science&amp;rft.date=2015-10-01&amp;rft_id=https%3A%2F%2Fmagazine.amstat.org%2Fblog%2F2015%2F10%2F01%2Fasa-statement-on-the-role-of-statistics-in-data-science%2F&amp;rfr_id=info%3Asid%2Fen.wikipedia.org%3AData+science\"></span></span>\n",
       "</li>\n",
       "<li id=\"cite_note-14\"><span class=\"mw-cite-backlink\"><b><a href=\"#cite_ref-14\">^</a></b></span> <span class=\"reference-text\"><link href=\"mw-data:TemplateStyles:r1067248974\" rel=\"mw-deduplicated-inline-style\"/><cite class=\"citation web cs1\"><a class=\"external text\" href=\"https://www.statisticsviews.com/article/nate-silver-what-i-need-from-statisticians/\" rel=\"nofollow\">\"Nate Silver: What I need from statisticians\"</a>. <i>Statistics Views</i><span class=\"reference-accessdate\">. Retrieved <span class=\"nowrap\">3 April</span> 2020</span>.</cite><span class=\"Z3988\" title=\"ctx_ver=Z39.88-2004&amp;rft_val_fmt=info%3Aofi%2Ffmt%3Akev%3Amtx%3Ajournal&amp;rft.genre=unknown&amp;rft.jtitle=Statistics+Views&amp;rft.atitle=Nate+Silver%3A+What+I+need+from+statisticians&amp;rft_id=https%3A%2F%2Fwww.statisticsviews.com%2Farticle%2Fnate-silver-what-i-need-from-statisticians%2F&amp;rfr_id=info%3Asid%2Fen.wikipedia.org%3AData+science\"></span></span>\n",
       "</li>\n",
       "<li id=\"cite_note-15\"><span class=\"mw-cite-backlink\"><b><a href=\"#cite_ref-15\">^</a></b></span> <span class=\"reference-text\"><link href=\"mw-data:TemplateStyles:r1067248974\" rel=\"mw-deduplicated-inline-style\"/><cite class=\"citation web cs1\"><a class=\"external text\" href=\"http://priceonomics.com/whats-the-difference-between-data-science-and/\" rel=\"nofollow\">\"What's the Difference Between Data Science and Statistics?\"</a>. <i>Priceonomics</i><span class=\"reference-accessdate\">. Retrieved <span class=\"nowrap\">3 April</span> 2020</span>.</cite><span class=\"Z3988\" title=\"ctx_ver=Z39.88-2004&amp;rft_val_fmt=info%3Aofi%2Ffmt%3Akev%3Amtx%3Ajournal&amp;rft.genre=unknown&amp;rft.jtitle=Priceonomics&amp;rft.atitle=What%27s+the+Difference+Between+Data+Science+and+Statistics%3F&amp;rft_id=http%3A%2F%2Fpriceonomics.com%2Fwhats-the-difference-between-data-science-and%2F&amp;rfr_id=info%3Asid%2Fen.wikipedia.org%3AData+science\"></span></span>\n",
       "</li>\n",
       "<li id=\"cite_note-16\"><span class=\"mw-cite-backlink\"><b><a href=\"#cite_ref-16\">^</a></b></span> <span class=\"reference-text\"><link href=\"mw-data:TemplateStyles:r1067248974\" rel=\"mw-deduplicated-inline-style\"/><cite class=\"citation journal cs1\" id=\"CITEREFVasant_Dhar2013\">Vasant Dhar (1 December 2013). \"Data science and prediction\". <i>Communications of the ACM</i>. <b>56</b> (12): 64–73. <a class=\"mw-redirect\" href=\"/wiki/Doi_(identifier)\" title=\"Doi (identifier)\">doi</a>:<a class=\"external text\" href=\"https://doi.org/10.1145%2F2500499\" rel=\"nofollow\">10.1145/2500499</a>. <a class=\"mw-redirect\" href=\"/wiki/S2CID_(identifier)\" title=\"S2CID (identifier)\">S2CID</a> <a class=\"external text\" href=\"https://api.semanticscholar.org/CorpusID:6107147\" rel=\"nofollow\">6107147</a>.</cite><span class=\"Z3988\" title=\"ctx_ver=Z39.88-2004&amp;rft_val_fmt=info%3Aofi%2Ffmt%3Akev%3Amtx%3Ajournal&amp;rft.genre=article&amp;rft.jtitle=Communications+of+the+ACM&amp;rft.atitle=Data+science+and+prediction&amp;rft.volume=56&amp;rft.issue=12&amp;rft.pages=64-73&amp;rft.date=2013-12-01&amp;rft_id=info%3Adoi%2F10.1145%2F2500499&amp;rft_id=https%3A%2F%2Fapi.semanticscholar.org%2FCorpusID%3A6107147%23id-name%3DS2CID&amp;rft.au=Vasant+Dhar&amp;rfr_id=info%3Asid%2Fen.wikipedia.org%3AData+science\"></span></span>\n",
       "</li>\n",
       "<li id=\"cite_note-17\"><span class=\"mw-cite-backlink\"><b><a href=\"#cite_ref-17\">^</a></b></span> <span class=\"reference-text\"><link href=\"mw-data:TemplateStyles:r1067248974\" rel=\"mw-deduplicated-inline-style\"/><cite class=\"citation web cs1\"><a class=\"external text\" href=\"https://statmodeling.stat.columbia.edu/2013/11/14/statistics-least-important-part-data-science/\" rel=\"nofollow\">\"Statistics is the least important part of data science « Statistical Modeling, Causal Inference, and Social Science\"</a>. <i>statmodeling.stat.columbia.edu</i><span class=\"reference-accessdate\">. Retrieved <span class=\"nowrap\">3 April</span> 2020</span>.</cite><span class=\"Z3988\" title=\"ctx_ver=Z39.88-2004&amp;rft_val_fmt=info%3Aofi%2Ffmt%3Akev%3Amtx%3Ajournal&amp;rft.genre=unknown&amp;rft.jtitle=statmodeling.stat.columbia.edu&amp;rft.atitle=Statistics+is+the+least+important+part+of+data+science+%C2%AB+Statistical+Modeling%2C+Causal+Inference%2C+and+Social+Science&amp;rft_id=https%3A%2F%2Fstatmodeling.stat.columbia.edu%2F2013%2F11%2F14%2Fstatistics-least-important-part-data-science%2F&amp;rfr_id=info%3Asid%2Fen.wikipedia.org%3AData+science\"></span></span>\n",
       "</li>\n",
       "<li id=\"cite_note-:7-18\"><span class=\"mw-cite-backlink\">^ <a href=\"#cite_ref-:7_18-0\"><sup><i><b>a</b></i></sup></a> <a href=\"#cite_ref-:7_18-1\"><sup><i><b>b</b></i></sup></a></span> <span class=\"reference-text\"><link href=\"mw-data:TemplateStyles:r1067248974\" rel=\"mw-deduplicated-inline-style\"/><cite class=\"citation web cs1\" id=\"CITEREFDonoho2015\">Donoho, David (18 September 2015). <a class=\"external text\" href=\"http://courses.csail.mit.edu/18.337/2015/docs/50YearsDataScience.pdf\" rel=\"nofollow\">\"50 years of Data Science\"</a> <span class=\"cs1-format\">(PDF)</span><span class=\"reference-accessdate\">. Retrieved <span class=\"nowrap\">2 April</span> 2020</span>.</cite><span class=\"Z3988\" title=\"ctx_ver=Z39.88-2004&amp;rft_val_fmt=info%3Aofi%2Ffmt%3Akev%3Amtx%3Abook&amp;rft.genre=unknown&amp;rft.btitle=50+years+of+Data+Science&amp;rft.date=2015-09-18&amp;rft.aulast=Donoho&amp;rft.aufirst=David&amp;rft_id=http%3A%2F%2Fcourses.csail.mit.edu%2F18.337%2F2015%2Fdocs%2F50YearsDataScience.pdf&amp;rfr_id=info%3Asid%2Fen.wikipedia.org%3AData+science\"></span></span>\n",
       "</li>\n",
       "<li id=\"cite_note-19\"><span class=\"mw-cite-backlink\"><b><a href=\"#cite_ref-19\">^</a></b></span> <span class=\"reference-text\"><link href=\"mw-data:TemplateStyles:r1067248974\" rel=\"mw-deduplicated-inline-style\"/><cite class=\"citation journal cs1\" id=\"CITEREFWu1986\">Wu, C. F. Jeff (1986). <a class=\"external text\" href=\"https://www2.isye.gatech.edu/~jeffwu/publications/fazhan.pdf\" rel=\"nofollow\">\"Future directions of statistical research in China: a historical perspective\"</a> <span class=\"cs1-format\">(PDF)</span>. <i>Application of Statistics and Management</i>. <b>1</b>: 1–7<span class=\"reference-accessdate\">. Retrieved <span class=\"nowrap\">29 November</span> 2020</span>.</cite><span class=\"Z3988\" title=\"ctx_ver=Z39.88-2004&amp;rft_val_fmt=info%3Aofi%2Ffmt%3Akev%3Amtx%3Ajournal&amp;rft.genre=article&amp;rft.jtitle=Application+of+Statistics+and+Management&amp;rft.atitle=Future+directions+of+statistical+research+in+China%3A+a+historical+perspective&amp;rft.volume=1&amp;rft.pages=1-7&amp;rft.date=1986&amp;rft.aulast=Wu&amp;rft.aufirst=C.+F.+Jeff&amp;rft_id=https%3A%2F%2Fwww2.isye.gatech.edu%2F~jeffwu%2Fpublications%2Ffazhan.pdf&amp;rfr_id=info%3Asid%2Fen.wikipedia.org%3AData+science\"></span></span>\n",
       "</li>\n",
       "<li id=\"cite_note-20\"><span class=\"mw-cite-backlink\"><b><a href=\"#cite_ref-20\">^</a></b></span> <span class=\"reference-text\"><link href=\"mw-data:TemplateStyles:r1067248974\" rel=\"mw-deduplicated-inline-style\"/><cite class=\"citation book cs1\" id=\"CITEREFEscoufierHayashiFichet1995\">Escoufier, Yves; Hayashi, Chikio; Fichet, Bernard, eds. (1995). <i>Data science and its applications</i>. Tokyo: Academic Press/Harcourt Brace. <a class=\"mw-redirect\" href=\"/wiki/ISBN_(identifier)\" title=\"ISBN (identifier)\">ISBN</a> <a href=\"/wiki/Special:BookSources/0-12-241770-4\" title=\"Special:BookSources/0-12-241770-4\"><bdi>0-12-241770-4</bdi></a>. <a class=\"mw-redirect\" href=\"/wiki/OCLC_(identifier)\" title=\"OCLC (identifier)\">OCLC</a> <a class=\"external text\" href=\"//www.worldcat.org/oclc/489990740\" rel=\"nofollow\">489990740</a>.</cite><span class=\"Z3988\" title=\"ctx_ver=Z39.88-2004&amp;rft_val_fmt=info%3Aofi%2Ffmt%3Akev%3Amtx%3Abook&amp;rft.genre=book&amp;rft.btitle=Data+science+and+its+applications&amp;rft.place=Tokyo&amp;rft.pub=Academic+Press%2FHarcourt+Brace&amp;rft.date=1995&amp;rft_id=info%3Aoclcnum%2F489990740&amp;rft.isbn=0-12-241770-4&amp;rfr_id=info%3Asid%2Fen.wikipedia.org%3AData+science\"></span></span>\n",
       "</li>\n",
       "<li id=\"cite_note-Murtagh_2018_14-21\"><span class=\"mw-cite-backlink\">^ <a href=\"#cite_ref-Murtagh_2018_14_21-0\"><sup><i><b>a</b></i></sup></a> <a href=\"#cite_ref-Murtagh_2018_14_21-1\"><sup><i><b>b</b></i></sup></a></span> <span class=\"reference-text\"><link href=\"mw-data:TemplateStyles:r1067248974\" rel=\"mw-deduplicated-inline-style\"/><cite class=\"citation journal cs1\" id=\"CITEREFMurtaghDevlin2018\">Murtagh, Fionn; Devlin, Keith (2018). <a class=\"external text\" href=\"https://doi.org/10.3390%2Fbdcc2020014\" rel=\"nofollow\">\"The Development of Data Science: Implications for Education, Employment, Research, and the Data Revolution for Sustainable Development\"</a>. <i>Big Data and Cognitive Computing</i>. <b>2</b> (2): 14. <a class=\"mw-redirect\" href=\"/wiki/Doi_(identifier)\" title=\"Doi (identifier)\">doi</a>:<span class=\"cs1-lock-free\" title=\"Freely accessible\"><a class=\"external text\" href=\"https://doi.org/10.3390%2Fbdcc2020014\" rel=\"nofollow\">10.3390/bdcc2020014</a></span>.</cite><span class=\"Z3988\" title=\"ctx_ver=Z39.88-2004&amp;rft_val_fmt=info%3Aofi%2Ffmt%3Akev%3Amtx%3Ajournal&amp;rft.genre=article&amp;rft.jtitle=Big+Data+and+Cognitive+Computing&amp;rft.atitle=The+Development+of+Data+Science%3A+Implications+for+Education%2C+Employment%2C+Research%2C+and+the+Data+Revolution+for+Sustainable+Development&amp;rft.volume=2&amp;rft.issue=2&amp;rft.pages=14&amp;rft.date=2018&amp;rft_id=info%3Adoi%2F10.3390%2Fbdcc2020014&amp;rft.aulast=Murtagh&amp;rft.aufirst=Fionn&amp;rft.au=Devlin%2C+Keith&amp;rft_id=%2F%2Fdoi.org%2F10.3390%252Fbdcc2020014&amp;rfr_id=info%3Asid%2Fen.wikipedia.org%3AData+science\"></span></span>\n",
       "</li>\n",
       "<li id=\"cite_note-:0-22\"><span class=\"mw-cite-backlink\">^ <a href=\"#cite_ref-:0_22-0\"><sup><i><b>a</b></i></sup></a> <a href=\"#cite_ref-:0_22-1\"><sup><i><b>b</b></i></sup></a> <a href=\"#cite_ref-:0_22-2\"><sup><i><b>c</b></i></sup></a></span> <span class=\"reference-text\"><link href=\"mw-data:TemplateStyles:r1067248974\" rel=\"mw-deduplicated-inline-style\"/><cite class=\"citation journal cs1\" id=\"CITEREFCaoLongbing2017\">CaoLongbing (29 June 2017). <a class=\"external text\" href=\"https://doi.org/10.1145%2F3076253\" rel=\"nofollow\">\"Data Science\"</a>. <i>ACM Computing Surveys</i>. <b>50</b> (3): 1–42. <a class=\"mw-redirect\" href=\"/wiki/ArXiv_(identifier)\" title=\"ArXiv (identifier)\">arXiv</a>:<span class=\"cs1-lock-free\" title=\"Freely accessible\"><a class=\"external text\" href=\"//arxiv.org/abs/2007.03606\" rel=\"nofollow\">2007.03606</a></span>. <a class=\"mw-redirect\" href=\"/wiki/Doi_(identifier)\" title=\"Doi (identifier)\">doi</a>:<span class=\"cs1-lock-free\" title=\"Freely accessible\"><a class=\"external text\" href=\"https://doi.org/10.1145%2F3076253\" rel=\"nofollow\">10.1145/3076253</a></span>.</cite><span class=\"Z3988\" title=\"ctx_ver=Z39.88-2004&amp;rft_val_fmt=info%3Aofi%2Ffmt%3Akev%3Amtx%3Ajournal&amp;rft.genre=article&amp;rft.jtitle=ACM+Computing+Surveys&amp;rft.atitle=Data+Science&amp;rft.volume=50&amp;rft.issue=3&amp;rft.pages=1-42&amp;rft.date=2017-06-29&amp;rft_id=info%3Aarxiv%2F2007.03606&amp;rft_id=info%3Adoi%2F10.1145%2F3076253&amp;rft.au=CaoLongbing&amp;rft_id=%2F%2Fdoi.org%2F10.1145%252F3076253&amp;rfr_id=info%3Asid%2Fen.wikipedia.org%3AData+science\"></span></span>\n",
       "</li>\n",
       "<li id=\"cite_note-23\"><span class=\"mw-cite-backlink\"><b><a href=\"#cite_ref-23\">^</a></b></span> <span class=\"reference-text\"><link href=\"mw-data:TemplateStyles:r1067248974\" rel=\"mw-deduplicated-inline-style\"/><cite class=\"citation web cs1\" id=\"CITEREFWu\">Wu, C. F. Jeff. <a class=\"external text\" href=\"http://www2.isye.gatech.edu/~jeffwu/presentations/datascience.pdf\" rel=\"nofollow\">\"Statistics=Data Science?\"</a> <span class=\"cs1-format\">(PDF)</span><span class=\"reference-accessdate\">. Retrieved <span class=\"nowrap\">2 April</span> 2020</span>.</cite><span class=\"Z3988\" title=\"ctx_ver=Z39.88-2004&amp;rft_val_fmt=info%3Aofi%2Ffmt%3Akev%3Amtx%3Abook&amp;rft.genre=unknown&amp;rft.btitle=Statistics%3DData+Science%3F&amp;rft.aulast=Wu&amp;rft.aufirst=C.+F.+Jeff&amp;rft_id=http%3A%2F%2Fwww2.isye.gatech.edu%2F~jeffwu%2Fpresentations%2Fdatascience.pdf&amp;rfr_id=info%3Asid%2Fen.wikipedia.org%3AData+science\"></span></span>\n",
       "</li>\n",
       "<li id=\"cite_note-:1-24\"><span class=\"mw-cite-backlink\">^ <a href=\"#cite_ref-:1_24-0\"><sup><i><b>a</b></i></sup></a> <a href=\"#cite_ref-:1_24-1\"><sup><i><b>b</b></i></sup></a> <a href=\"#cite_ref-:1_24-2\"><sup><i><b>c</b></i></sup></a></span> <span class=\"reference-text\"><link href=\"mw-data:TemplateStyles:r1067248974\" rel=\"mw-deduplicated-inline-style\"/><cite class=\"citation web cs1\" id=\"CITEREFPress\">Press, Gil. <a class=\"external text\" href=\"https://www.forbes.com/sites/gilpress/2013/05/28/a-very-short-history-of-data-science/\" rel=\"nofollow\">\"A Very Short History of Data Science\"</a>. <i>Forbes</i><span class=\"reference-accessdate\">. Retrieved <span class=\"nowrap\">3 April</span> 2020</span>.</cite><span class=\"Z3988\" title=\"ctx_ver=Z39.88-2004&amp;rft_val_fmt=info%3Aofi%2Ffmt%3Akev%3Amtx%3Ajournal&amp;rft.genre=unknown&amp;rft.jtitle=Forbes&amp;rft.atitle=A+Very+Short+History+of+Data+Science&amp;rft.aulast=Press&amp;rft.aufirst=Gil&amp;rft_id=https%3A%2F%2Fwww.forbes.com%2Fsites%2Fgilpress%2F2013%2F05%2F28%2Fa-very-short-history-of-data-science%2F&amp;rfr_id=info%3Asid%2Fen.wikipedia.org%3AData+science\"></span></span>\n",
       "</li>\n",
       "<li id=\"cite_note-25\"><span class=\"mw-cite-backlink\"><b><a href=\"#cite_ref-25\">^</a></b></span> <span class=\"reference-text\"><link href=\"mw-data:TemplateStyles:r1067248974\" rel=\"mw-deduplicated-inline-style\"/><cite class=\"citation web cs1\" id=\"CITEREFGupta2015\">Gupta, Shanti (11 December 2015). <a class=\"external text\" href=\"https://www.stat.purdue.edu/~wsc/\" rel=\"nofollow\">\"William S. Cleveland\"</a><span class=\"reference-accessdate\">. Retrieved <span class=\"nowrap\">2 April</span> 2020</span>.</cite><span class=\"Z3988\" title=\"ctx_ver=Z39.88-2004&amp;rft_val_fmt=info%3Aofi%2Ffmt%3Akev%3Amtx%3Abook&amp;rft.genre=unknown&amp;rft.btitle=William+S.+Cleveland&amp;rft.date=2015-12-11&amp;rft.aulast=Gupta&amp;rft.aufirst=Shanti&amp;rft_id=https%3A%2F%2Fwww.stat.purdue.edu%2F~wsc%2F&amp;rfr_id=info%3Asid%2Fen.wikipedia.org%3AData+science\"></span></span>\n",
       "</li>\n",
       "<li id=\"cite_note-26\"><span class=\"mw-cite-backlink\"><b><a href=\"#cite_ref-26\">^</a></b></span> <span class=\"reference-text\"><link href=\"mw-data:TemplateStyles:r1067248974\" rel=\"mw-deduplicated-inline-style\"/><cite class=\"citation news cs1\" id=\"CITEREFTalley2016\">Talley, Jill (1 June 2016). <a class=\"external text\" href=\"https://magazine.amstat.org/blog/2016/06/01/datascience-2/\" rel=\"nofollow\">\"ASA Expands Scope, Outreach to Foster Growth, Collaboration in Data Science\"</a>. <i>Amstat News</i>. American Statistical Association.</cite><span class=\"Z3988\" title=\"ctx_ver=Z39.88-2004&amp;rft_val_fmt=info%3Aofi%2Ffmt%3Akev%3Amtx%3Ajournal&amp;rft.genre=article&amp;rft.jtitle=Amstat+News&amp;rft.atitle=ASA+Expands+Scope%2C+Outreach+to+Foster+Growth%2C+Collaboration+in+Data+Science&amp;rft.date=2016-06-01&amp;rft.aulast=Talley&amp;rft.aufirst=Jill&amp;rft_id=https%3A%2F%2Fmagazine.amstat.org%2Fblog%2F2016%2F06%2F01%2Fdatascience-2%2F&amp;rfr_id=info%3Asid%2Fen.wikipedia.org%3AData+science\"></span></span>\n",
       "</li>\n",
       "<li id=\"cite_note-27\"><span class=\"mw-cite-backlink\"><b><a href=\"#cite_ref-27\">^</a></b></span> <span class=\"reference-text\"><link href=\"mw-data:TemplateStyles:r1067248974\" rel=\"mw-deduplicated-inline-style\"/><cite class=\"citation news cs1\" id=\"CITEREFDavenportPatil2012\">Davenport, Thomas H.; Patil, D. J. (1 October 2012). <a class=\"external text\" href=\"https://hbr.org/2012/10/data-scientist-the-sexiest-job-of-the-21st-century\" rel=\"nofollow\">\"Data Scientist: The Sexiest Job of the 21st Century\"</a>. <i>Harvard Business Review</i>. No. October 2012. <a class=\"mw-redirect\" href=\"/wiki/ISSN_(identifier)\" title=\"ISSN (identifier)\">ISSN</a> <a class=\"external text\" href=\"//www.worldcat.org/issn/0017-8012\" rel=\"nofollow\">0017-8012</a><span class=\"reference-accessdate\">. Retrieved <span class=\"nowrap\">3 April</span> 2020</span>.</cite><span class=\"Z3988\" title=\"ctx_ver=Z39.88-2004&amp;rft_val_fmt=info%3Aofi%2Ffmt%3Akev%3Amtx%3Ajournal&amp;rft.genre=article&amp;rft.jtitle=Harvard+Business+Review&amp;rft.atitle=Data+Scientist%3A+The+Sexiest+Job+of+the+21st+Century&amp;rft.issue=October+2012&amp;rft.date=2012-10-01&amp;rft.issn=0017-8012&amp;rft.aulast=Davenport&amp;rft.aufirst=Thomas+H.&amp;rft.au=Patil%2C+D.+J.&amp;rft_id=https%3A%2F%2Fhbr.org%2F2012%2F10%2Fdata-scientist-the-sexiest-job-of-the-21st-century&amp;rfr_id=info%3Asid%2Fen.wikipedia.org%3AData+science\"></span></span>\n",
       "</li>\n",
       "<li id=\"cite_note-28\"><span class=\"mw-cite-backlink\"><b><a href=\"#cite_ref-28\">^</a></b></span> <span class=\"reference-text\"><link href=\"mw-data:TemplateStyles:r1067248974\" rel=\"mw-deduplicated-inline-style\"/><cite class=\"citation web cs1\"><a class=\"external text\" href=\"https://www.nsf.gov/pubs/2005/nsb0540/\" rel=\"nofollow\">\"US NSF – NSB-05-40, Long-Lived Digital Data Collections Enabling Research and Education in the 21st Century\"</a>. <i>www.nsf.gov</i><span class=\"reference-accessdate\">. Retrieved <span class=\"nowrap\">3 April</span> 2020</span>.</cite><span class=\"Z3988\" title=\"ctx_ver=Z39.88-2004&amp;rft_val_fmt=info%3Aofi%2Ffmt%3Akev%3Amtx%3Ajournal&amp;rft.genre=unknown&amp;rft.jtitle=www.nsf.gov&amp;rft.atitle=US+NSF+%E2%80%93+NSB-05-40%2C+Long-Lived+Digital+Data+Collections+Enabling+Research+and+Education+in+the+21st+Century&amp;rft_id=https%3A%2F%2Fwww.nsf.gov%2Fpubs%2F2005%2Fnsb0540%2F&amp;rfr_id=info%3Asid%2Fen.wikipedia.org%3AData+science\"></span></span>\n",
       "</li>\n",
       "<li id=\"cite_note-29\"><span class=\"mw-cite-backlink\"><b><a href=\"#cite_ref-29\">^</a></b></span> <span class=\"reference-text\"><link href=\"mw-data:TemplateStyles:r1067248974\" rel=\"mw-deduplicated-inline-style\"/><cite class=\"citation web cs1\" id=\"CITEREFPress\">Press, Gil. <a class=\"external text\" href=\"https://www.forbes.com/sites/gilpress/2013/08/19/data-science-whats-the-half-life-of-a-buzzword/\" rel=\"nofollow\">\"Data Science: What's The Half-Life of a Buzzword?\"</a>. <i>Forbes</i><span class=\"reference-accessdate\">. Retrieved <span class=\"nowrap\">3 April</span> 2020</span>.</cite><span class=\"Z3988\" title=\"ctx_ver=Z39.88-2004&amp;rft_val_fmt=info%3Aofi%2Ffmt%3Akev%3Amtx%3Ajournal&amp;rft.genre=unknown&amp;rft.jtitle=Forbes&amp;rft.atitle=Data+Science%3A+What%27s+The+Half-Life+of+a+Buzzword%3F&amp;rft.aulast=Press&amp;rft.aufirst=Gil&amp;rft_id=https%3A%2F%2Fwww.forbes.com%2Fsites%2Fgilpress%2F2013%2F08%2F19%2Fdata-science-whats-the-half-life-of-a-buzzword%2F&amp;rfr_id=info%3Asid%2Fen.wikipedia.org%3AData+science\"></span></span>\n",
       "</li>\n",
       "<li id=\"cite_note-:5-30\"><span class=\"mw-cite-backlink\"><b><a href=\"#cite_ref-:5_30-0\">^</a></b></span> <span class=\"reference-text\"><link href=\"mw-data:TemplateStyles:r1067248974\" rel=\"mw-deduplicated-inline-style\"/><cite class=\"citation web cs1\" id=\"CITEREFPham\">Pham, Peter. <a class=\"external text\" href=\"https://www.forbes.com/sites/peterpham/2015/08/28/the-impacts-of-big-data-that-you-may-not-have-heard-of/\" rel=\"nofollow\">\"The Impacts of Big Data That You May Not Have Heard Of\"</a>. <i>Forbes</i><span class=\"reference-accessdate\">. Retrieved <span class=\"nowrap\">3 April</span> 2020</span>.</cite><span class=\"Z3988\" title=\"ctx_ver=Z39.88-2004&amp;rft_val_fmt=info%3Aofi%2Ffmt%3Akev%3Amtx%3Ajournal&amp;rft.genre=unknown&amp;rft.jtitle=Forbes&amp;rft.atitle=The+Impacts+of+Big+Data+That+You+May+Not+Have+Heard+Of&amp;rft.aulast=Pham&amp;rft.aufirst=Peter&amp;rft_id=https%3A%2F%2Fwww.forbes.com%2Fsites%2Fpeterpham%2F2015%2F08%2F28%2Fthe-impacts-of-big-data-that-you-may-not-have-heard-of%2F&amp;rfr_id=info%3Asid%2Fen.wikipedia.org%3AData+science\"></span></span>\n",
       "</li>\n",
       "<li id=\"cite_note-:6-31\"><span class=\"mw-cite-backlink\"><b><a href=\"#cite_ref-:6_31-0\">^</a></b></span> <span class=\"reference-text\"><link href=\"mw-data:TemplateStyles:r1067248974\" rel=\"mw-deduplicated-inline-style\"/><cite class=\"citation web cs1\" id=\"CITEREFMartin2019\">Martin, Sophia (20 September 2019). <a class=\"external text\" href=\"https://towardsdatascience.com/how-data-science-will-impact-future-of-businesses-7f11f5699c4d\" rel=\"nofollow\">\"How Data Science will Impact Future of Businesses?\"</a>. <i>Medium</i><span class=\"reference-accessdate\">. Retrieved <span class=\"nowrap\">3 April</span> 2020</span>.</cite><span class=\"Z3988\" title=\"ctx_ver=Z39.88-2004&amp;rft_val_fmt=info%3Aofi%2Ffmt%3Akev%3Amtx%3Ajournal&amp;rft.genre=unknown&amp;rft.jtitle=Medium&amp;rft.atitle=How+Data+Science+will+Impact+Future+of+Businesses%3F&amp;rft.date=2019-09-20&amp;rft.aulast=Martin&amp;rft.aufirst=Sophia&amp;rft_id=https%3A%2F%2Ftowardsdatascience.com%2Fhow-data-science-will-impact-future-of-businesses-7f11f5699c4d&amp;rfr_id=info%3Asid%2Fen.wikipedia.org%3AData+science\"></span></span>\n",
       "</li>\n",
       "</ol></div>\n",
       "<div class=\"navbox-styles nomobile\"><style data-mw-deduplicate=\"TemplateStyles:r1061467846\">.mw-parser-output .navbox{box-sizing:border-box;border:1px solid #a2a9b1;width:100%;clear:both;font-size:88%;text-align:center;padding:1px;margin:1em auto 0}.mw-parser-output .navbox .navbox{margin-top:0}.mw-parser-output .navbox+.navbox,.mw-parser-output .navbox+.navbox-styles+.navbox{margin-top:-1px}.mw-parser-output .navbox-inner,.mw-parser-output .navbox-subgroup{width:100%}.mw-parser-output .navbox-group,.mw-parser-output .navbox-title,.mw-parser-output .navbox-abovebelow{padding:0.25em 1em;line-height:1.5em;text-align:center}.mw-parser-output .navbox-group{white-space:nowrap;text-align:right}.mw-parser-output .navbox,.mw-parser-output .navbox-subgroup{background-color:#fdfdfd}.mw-parser-output .navbox-list{line-height:1.5em;border-color:#fdfdfd}.mw-parser-output .navbox-list-with-group{text-align:left;border-left-width:2px;border-left-style:solid}.mw-parser-output tr+tr>.navbox-abovebelow,.mw-parser-output tr+tr>.navbox-group,.mw-parser-output tr+tr>.navbox-image,.mw-parser-output tr+tr>.navbox-list{border-top:2px solid #fdfdfd}.mw-parser-output .navbox-title{background-color:#ccf}.mw-parser-output .navbox-abovebelow,.mw-parser-output .navbox-group,.mw-parser-output .navbox-subgroup .navbox-title{background-color:#ddf}.mw-parser-output .navbox-subgroup .navbox-group,.mw-parser-output .navbox-subgroup .navbox-abovebelow{background-color:#e6e6ff}.mw-parser-output .navbox-even{background-color:#f7f7f7}.mw-parser-output .navbox-odd{background-color:transparent}.mw-parser-output .navbox .hlist td dl,.mw-parser-output .navbox .hlist td ol,.mw-parser-output .navbox .hlist td ul,.mw-parser-output .navbox td.hlist dl,.mw-parser-output .navbox td.hlist ol,.mw-parser-output .navbox td.hlist ul{padding:0.125em 0}.mw-parser-output .navbox .navbar{display:block;font-size:100%}.mw-parser-output .navbox-title .navbar{float:left;text-align:left;margin-right:0.5em}</style></div><div aria-labelledby=\"Data\" class=\"navbox\" role=\"navigation\" style=\"padding:3px\"><table class=\"nowraplinks mw-collapsible autocollapse navbox-inner\" style=\"border-spacing:0;background:transparent;color:inherit\"><tbody><tr><th class=\"navbox-title\" colspan=\"2\" scope=\"col\"><style data-mw-deduplicate=\"TemplateStyles:r1063604349\">.mw-parser-output .navbar{display:inline;font-size:88%;font-weight:normal}.mw-parser-output .navbar-collapse{float:left;text-align:left}.mw-parser-output .navbar-boxtext{word-spacing:0}.mw-parser-output .navbar ul{display:inline-block;white-space:nowrap;line-height:inherit}.mw-parser-output .navbar-brackets::before{margin-right:-0.125em;content:\"[ \"}.mw-parser-output .navbar-brackets::after{margin-left:-0.125em;content:\" ]\"}.mw-parser-output .navbar li{word-spacing:-0.125em}.mw-parser-output .navbar a>span,.mw-parser-output .navbar a>abbr{text-decoration:inherit}.mw-parser-output .navbar-mini abbr{font-variant:small-caps;border-bottom:none;text-decoration:none;cursor:inherit}.mw-parser-output .navbar-ct-full{font-size:114%;margin:0 7em}.mw-parser-output .navbar-ct-mini{font-size:114%;margin:0 4em}</style><div class=\"navbar plainlinks hlist navbar-mini\"><ul><li class=\"nv-view\"><a href=\"/wiki/Template:Data\" title=\"Template:Data\"><abbr style=\";;background:none transparent;border:none;box-shadow:none;padding:0;\" title=\"View this template\">v</abbr></a></li><li class=\"nv-talk\"><a href=\"/wiki/Template_talk:Data\" title=\"Template talk:Data\"><abbr style=\";;background:none transparent;border:none;box-shadow:none;padding:0;\" title=\"Discuss this template\">t</abbr></a></li><li class=\"nv-edit\"><a class=\"external text\" href=\"https://en.wikipedia.org/w/index.php?title=Template:Data&amp;action=edit\"><abbr style=\";;background:none transparent;border:none;box-shadow:none;padding:0;\" title=\"Edit this template\">e</abbr></a></li></ul></div><div id=\"Data\" style=\"font-size:114%;margin:0 4em\"><a href=\"/wiki/Data_(computing)\" title=\"Data (computing)\">Data</a></div></th></tr><tr><td class=\"navbox-list navbox-odd hlist\" colspan=\"2\" style=\"width:100%;padding:0\"><div style=\"padding:0 0.25em\">\n",
       "<ul><li><a href=\"/wiki/Data_augmentation\" title=\"Data augmentation\">Augmentation</a></li>\n",
       "<li><a href=\"/wiki/Data_analysis\" title=\"Data analysis\">Analysis</a></li>\n",
       "<li><a href=\"/wiki/Data_archaeology\" title=\"Data archaeology\">Archaeology</a></li>\n",
       "<li><a href=\"/wiki/Data_cleansing\" title=\"Data cleansing\">Cleansing</a></li>\n",
       "<li><a href=\"/wiki/Data_collection\" title=\"Data collection\">Collection</a></li>\n",
       "<li><a href=\"/wiki/Data_compression\" title=\"Data compression\">Compression</a></li>\n",
       "<li><a href=\"/wiki/Data_corruption\" title=\"Data corruption\">Corruption</a></li>\n",
       "<li><a href=\"/wiki/Data_curation\" title=\"Data curation\">Curation</a></li>\n",
       "<li><a href=\"/wiki/Data_degradation\" title=\"Data degradation\">Degradation</a></li>\n",
       "<li><a href=\"/wiki/Data_editing\" title=\"Data editing\">Editing</a></li>\n",
       "<li><a href=\"/wiki/Extract,_transform,_load\" title=\"Extract, transform, load\">ETL</a>/<a href=\"/wiki/Extract,_load,_transform\" title=\"Extract, load, transform\">ELT</a>\n",
       "<ul><li><a href=\"/wiki/Data_extraction\" title=\"Data extraction\">Extract</a></li>\n",
       "<li><a href=\"/wiki/Data_transformation\" title=\"Data transformation\">Transform</a></li>\n",
       "<li><a class=\"mw-redirect\" href=\"/wiki/Data_loading\" title=\"Data loading\">Load</a></li></ul></li>\n",
       "<li><a href=\"/wiki/Data_farming\" title=\"Data farming\">Farming</a></li>\n",
       "<li><a href=\"/wiki/Data_format_management\" title=\"Data format management\">Format management</a></li>\n",
       "<li><a href=\"/wiki/Data_fusion\" title=\"Data fusion\">Fusion</a></li>\n",
       "<li><a href=\"/wiki/Data_integration\" title=\"Data integration\">Integration</a></li>\n",
       "<li><a href=\"/wiki/Data_integrity\" title=\"Data integrity\">Integrity</a></li>\n",
       "<li><a href=\"/wiki/Data_library\" title=\"Data library\">Library</a></li>\n",
       "<li><a href=\"/wiki/Data_loss\" title=\"Data loss\">Loss</a></li>\n",
       "<li><a href=\"/wiki/Data_management\" title=\"Data management\">Management</a></li>\n",
       "<li><a href=\"/wiki/Data_migration\" title=\"Data migration\">Migration</a></li>\n",
       "<li><a href=\"/wiki/Data_mining\" title=\"Data mining\">Mining</a></li>\n",
       "<li><a href=\"/wiki/Data_pre-processing\" title=\"Data pre-processing\">Pre-processing</a></li>\n",
       "<li><a href=\"/wiki/Data_preservation\" title=\"Data preservation\">Preservation</a></li>\n",
       "<li><a href=\"/wiki/Information_privacy\" title=\"Information privacy\">Protection (privacy)</a></li>\n",
       "<li><a href=\"/wiki/Data_publishing\" title=\"Data publishing\">Publishing</a></li>\n",
       "<li><a href=\"/wiki/Data_recovery\" title=\"Data recovery\">Recovery</a></li>\n",
       "<li><a href=\"/wiki/Data_reduction\" title=\"Data reduction\">Reduction</a></li>\n",
       "<li><a href=\"/wiki/Data_retention\" title=\"Data retention\">Retention</a></li>\n",
       "<li><a href=\"/wiki/Data_quality\" title=\"Data quality\">Quality</a></li>\n",
       "<li><a class=\"mw-selflink selflink\">Science</a></li>\n",
       "<li><a href=\"/wiki/Data_scraping\" title=\"Data scraping\">Scraping</a></li>\n",
       "<li><a href=\"/wiki/Data_scrubbing\" title=\"Data scrubbing\">Scrubbing</a></li>\n",
       "<li><a href=\"/wiki/Data_security\" title=\"Data security\">Security</a></li>\n",
       "<li><a href=\"/wiki/Data_steward\" title=\"Data steward\">Stewardship</a></li>\n",
       "<li><a href=\"/wiki/Data_storage\" title=\"Data storage\">Storage</a></li>\n",
       "<li><a href=\"/wiki/Data_validation\" title=\"Data validation\">Validation</a></li>\n",
       "<li><a href=\"/wiki/Data_warehouse\" title=\"Data warehouse\">Warehouse</a></li>\n",
       "<li><a href=\"/wiki/Data_wrangling\" title=\"Data wrangling\">Wrangling/munging</a></li></ul>\n",
       "</div></td></tr></tbody></table></div>\n",
       "<!-- \n",
       "NewPP limit report\n",
       "Parsed by mw1322\n",
       "Cached time: 20220511043356\n",
       "Cache expiry: 1814400\n",
       "Reduced expiry: false\n",
       "Complications: [vary‐revision‐sha1]\n",
       "CPU time usage: 0.536 seconds\n",
       "Real time usage: 0.614 seconds\n",
       "Preprocessor visited node count: 1762/1000000\n",
       "Post‐expand include size: 63323/2097152 bytes\n",
       "Template argument size: 1037/2097152 bytes\n",
       "Highest expansion depth: 12/100\n",
       "Expensive parser function count: 2/500\n",
       "Unstrip recursion depth: 1/20\n",
       "Unstrip post‐expand size: 98138/5000000 bytes\n",
       "Lua time usage: 0.340/10.000 seconds\n",
       "Lua memory usage: 6363587/52428800 bytes\n",
       "Number of Wikibase entities loaded: 0/400\n",
       "-->\n",
       "<!--\n",
       "Transclusion expansion time report (%,ms,calls,template)\n",
       "100.00%  543.642      1 -total\n",
       " 61.51%  334.401      1 Template:Reflist\n",
       " 25.88%  140.688      8 Template:Cite_journal\n",
       " 18.62%  101.253     18 Template:Cite_web\n",
       " 13.06%   70.990      1 Template:Short_description\n",
       " 11.41%   62.029      1 Template:Data\n",
       " 10.88%   59.161      1 Template:Navbox\n",
       "  7.11%   38.636      1 Template:Pagetype\n",
       "  5.49%   29.833      1 Template:Distinguish\n",
       "  5.43%   29.516      3 Template:Cite_book\n",
       "-->\n",
       "<!-- Saved in parser cache with key enwiki:pcache:idhash:35458904-0!canonical and timestamp 20220511043355 and revision id 1087223604. Serialized with JSON.\n",
       " -->\n",
       "</div><noscript><img alt=\"\" height=\"1\" src=\"//en.wikipedia.org/wiki/Special:CentralAutoLogin/start?type=1x1\" style=\"border: none; position: absolute;\" title=\"\" width=\"1\"/></noscript>\n",
       "<div class=\"printfooter\">Retrieved from \"<a dir=\"ltr\" href=\"https://en.wikipedia.org/w/index.php?title=Data_science&amp;oldid=1087223604\">https://en.wikipedia.org/w/index.php?title=Data_science&amp;oldid=1087223604</a>\"</div></div>"
      ]
     },
     "execution_count": 170,
     "metadata": {},
     "output_type": "execute_result"
    }
   ],
   "source": [
    "# This is an attribute - not a method :D\n",
    "body = soup.find(id=\"mw-content-text\")\n",
    "body"
   ]
  },
  {
   "cell_type": "code",
   "execution_count": 171,
   "metadata": {},
   "outputs": [
    {
     "data": {
      "text/plain": [
       "bs4.element.Tag"
      ]
     },
     "execution_count": 171,
     "metadata": {},
     "output_type": "execute_result"
    }
   ],
   "source": [
    "type(body)"
   ]
  },
  {
   "cell_type": "markdown",
   "metadata": {},
   "source": [
    "Once we identify elements, we want to access the information in a certain element. This usually means two things:\n",
    "\n",
    "1. Text\n",
    "2. Attributes\n",
    "\n",
    "Here, our `body` variable here is a BeautifulSoup `Tag` object. This means it has a `text` attribute. Let's grab all the `p` (paragraph) tags from our resulting BeautifulSoup object and print these `text` attributes."
   ]
  },
  {
   "cell_type": "code",
   "execution_count": 172,
   "metadata": {},
   "outputs": [
    {
     "name": "stdout",
     "output_type": "stream",
     "text": [
      "\n",
      "\n",
      "Data science is an interdisciplinary field that uses scientific methods, processes, algorithms and systems to extract knowledge and insights from noisy, structured and unstructured data,[1][2] and apply knowledge and actionable insights from data across a broad range of application domains. Data science is related to data mining, machine learning and big data.\n",
      "\n",
      "Data science is a \"concept to unify statistics, data analysis, informatics, and their related methods\" in order to \"understand and analyse actual phenomena\" with data.[3] It uses techniques and theories drawn from many fields within the context of mathematics, statistics, computer science, information science, and domain knowledge.[4] However, data science is different from computer science and information science. Turing Award winner Jim Gray imagined data science as a \"fourth paradigm\" of science (empirical, theoretical, computational, and now data-driven) and asserted that \"everything about science is changing because of the impact of information technology\" and the data deluge.[5][6]\n",
      "A data scientist is someone who creates programming code and combines it with statistical knowledge to create insights from data.[7]\n",
      "\n",
      "Data science is an interdisciplinary field focused on extracting knowledge from data sets, which are typically large (see big data), and applying the knowledge and actionable insights from data to solve problems in a wide range of application domains.[8] The field encompasses preparing data for analysis, formulating data science problems, analyzing data, developing data-driven solutions, and presenting findings to inform high-level decisions in a broad range of application domains. As such, it incorporates skills from computer science, statistics, information science, mathematics, data visualization, information visualization, data sonification, data integration, graphic design, complex systems, communication and business.[9][10] Statistician Nathan Yau, drawing on Ben Fry, also links data science to human–computer interaction: users should be able to intuitively control and explore data.[11][12] In 2015, the American Statistical Association identified database management, statistics and machine learning, and distributed and parallel systems as the three emerging foundational professional communities.[13]\n",
      "\n",
      "Many statisticians, including Nate Silver, have argued that data science is not a new field, but rather another name for statistics.[14] Others argue that data science is distinct from statistics because it focuses on problems and techniques unique to digital data.[15] Vasant Dhar writes that statistics emphasizes quantitative data and description. In contrast, data science deals with quantitative and qualitative data (e.g. images) and emphasizes prediction and action.[16] Andrew Gelman of Columbia University has described statistics as a nonessential part of data science.[17]\n",
      "Stanford professor David Donoho writes that data science is not distinguished from statistics by the size of datasets or use of computing, and that many graduate programs misleadingly advertise their analytics and statistics training as the essence of a data-science program. He describes data science as an applied field growing out of traditional statistics.[18] \n",
      "In summary, data science can be therefore described as an applied branch of statistics.\n",
      "\n",
      "In 1962, John Tukey described a field he called \"data analysis\", which resembles modern data science.[18] In 1985, in a lecture given to the Chinese Academy of Sciences in Beijing, C. F. Jeff Wu used the term \"data science\" for the first time as an alternative name for statistics.[19] Later, attendees at a 1992 statistics symposium at the University of Montpellier II acknowledged the emergence of a new discipline focused on data of various origins and forms, combining established concepts and principles of statistics and data analysis with computing.[20][21]\n",
      "\n",
      "The term \"data science\" has been traced back to 1974, when Peter Naur proposed it as an alternative name for computer science.[22] In 1996, the International Federation of Classification Societies became the first conference to specifically feature data science as a topic.[22] However, the definition was still in flux. After the 1985 lecture in the Chinese Academy of Sciences in Beijing, in 1997 C. F. Jeff Wu again suggested that statistics should be renamed data science. He reasoned that a new name would help statistics shed inaccurate stereotypes, such as being synonymous with accounting, or limited to describing data.[23] In 1998, Hayashi Chikio argued for data science as a new, interdisciplinary concept, with three aspects: data design, collection, and analysis.[21]\n",
      "\n",
      "During the 1990s, popular terms for the process of finding patterns in datasets (which were increasingly large) included \"knowledge discovery\" and \"data mining\".[24][22]\n",
      "\n",
      "The modern conception of data science as an independent discipline is sometimes attributed to William S. Cleveland.[25] In a 2001 paper, he advocated an expansion of statistics beyond theory into technical areas; because this would significantly change the field, it warranted a new name.[24] \"Data science\" became more widely used in the next few years: in 2002, the Committee on Data for Science and Technology launched Data Science Journal. In 2003, Columbia University launched The Journal of Data Science.[24] In 2014, the American Statistical Association's Section on Statistical Learning and Data Mining changed its name to the Section on Statistical Learning and Data Science, reflecting the ascendant popularity of data science.[26]\n",
      "\n",
      "The professional title of \"data scientist\" has been attributed to DJ Patil and Jeff Hammerbacher in 2008.[27] Though it was used by the National Science Board in their 2005 report \"Long-Lived Digital Data Collections: Enabling Research and Education in the 21st Century\", it referred broadly to any key role in managing a digital data collection.[28]\n",
      "\n",
      "There is still no consensus on the definition of data science, and it is considered by some to be a buzzword.[29]\n",
      "Big data is a related marketing term.[30] Data scientists are responsible for breaking down big data into usable information and creating software and algorithms that help companies and organizations determine optimal operations.[31]\n",
      "\n"
     ]
    }
   ],
   "source": [
    "for t in body.find_all(\"p\"):\n",
    "    print(t.text)"
   ]
  },
  {
   "cell_type": "markdown",
   "metadata": {},
   "source": [
    "# Scraping links \n",
    "\n",
    "Next, let's find all the places in the text where there is a link to another website. Using the `.find()` method, we can find all the links on the page that are within the main text. "
   ]
  },
  {
   "cell_type": "markdown",
   "metadata": {},
   "source": [
    "Note that we have a special beautifulSoup `Tag` object, meaning we can use its methods on our `text` variable as well. Let's use the `.attrs` attribute to see the attributes for the first `a` tag (i.e., the first hyperlink in this BeautifulSoup object). We can get that with indexing :)"
   ]
  },
  {
   "cell_type": "code",
   "execution_count": 173,
   "metadata": {
    "scrolled": false
   },
   "outputs": [
    {
     "name": "stdout",
     "output_type": "stream",
     "text": [
      "{'href': '/wiki/Information_science', 'title': 'Information science'}\n"
     ]
    }
   ],
   "source": [
    "first_link = body(\"a\")[0].attrs\n",
    "print(first_link)"
   ]
  },
  {
   "cell_type": "markdown",
   "metadata": {},
   "source": [
    "You'll notice that it looks a lot like a dictionary, so we can index it as such. Since we want the link, we can use the `href` attribute like a dictionary key to get the corresponding value."
   ]
  },
  {
   "cell_type": "code",
   "execution_count": 174,
   "metadata": {},
   "outputs": [
    {
     "data": {
      "text/plain": [
       "'/wiki/Information_science'"
      ]
     },
     "execution_count": 174,
     "metadata": {},
     "output_type": "execute_result"
    }
   ],
   "source": [
    "first_link['href']"
   ]
  },
  {
   "cell_type": "markdown",
   "metadata": {},
   "source": [
    "Knowing this, we can now iterate over all `a` tags and access them as dictionaries to retrieve the [\"href\" attribute](https://www.w3schools.com/tags/att_a_href.asp), which specifies the URL of the page the link goes to."
   ]
  },
  {
   "cell_type": "code",
   "execution_count": 175,
   "metadata": {},
   "outputs": [
    {
     "name": "stdout",
     "output_type": "stream",
     "text": [
      "/wiki/Information_science\n",
      "/wiki/File:PIA23792-1600x1200(1).jpg\n",
      "/wiki/File:PIA23792-1600x1200(1).jpg\n",
      "/wiki/Comet_NEOWISE\n",
      "/wiki/Astronomical_survey\n",
      "/wiki/Space_telescope\n",
      "/wiki/Wide-field_Infrared_Survey_Explorer\n",
      "/wiki/Interdisciplinary\n",
      "/wiki/Scientific_method\n",
      "/wiki/Algorithm\n",
      "/wiki/Knowledge\n",
      "/wiki/Unstructured_data\n",
      "#cite_note-1\n",
      "#cite_note-2\n",
      "/wiki/Data_mining\n",
      "/wiki/Machine_learning\n",
      "/wiki/Big_data\n",
      "/wiki/Statistics\n",
      "/wiki/Data_analysis\n",
      "/wiki/Informatics\n",
      "/wiki/Scientific_method\n",
      "/wiki/Phenomena\n",
      "/wiki/Data\n",
      "#cite_note-3\n",
      "/wiki/Mathematics\n",
      "/wiki/Computer_science\n",
      "/wiki/Information_science\n",
      "/wiki/Domain_knowledge\n",
      "#cite_note-4\n",
      "/wiki/Turing_Award\n",
      "/wiki/Jim_Gray_(computer_scientist)\n",
      "/wiki/Empirical_research\n",
      "/wiki/Basic_research\n",
      "/wiki/Computational_science\n",
      "/wiki/Information_technology\n",
      "/wiki/Information_explosion\n",
      "#cite_note-TansleyTolle2009-5\n",
      "#cite_note-BellHey2009-6\n",
      "#cite_note-7\n",
      "#Foundations\n",
      "#Relationship_to_statistics\n",
      "#Etymology\n",
      "#Early_usage\n",
      "#Modern_usage\n",
      "#See_also\n",
      "#References\n",
      "/w/index.php?title=Data_science&action=edit&section=1\n",
      "/wiki/Interdisciplinarity\n",
      "/wiki/Academic_discipline\n",
      "/wiki/Data_set\n",
      "/wiki/Big_data\n",
      "/wiki/Problem_solving\n",
      "#cite_note-8\n",
      "/wiki/Analysis\n",
      "/wiki/Data_visualization\n",
      "/wiki/Information_visualization\n",
      "/wiki/Data_sonification\n",
      "/wiki/Data_integration\n",
      "/wiki/Graphic_design\n",
      "/wiki/Complex_systems\n",
      "/wiki/Communication\n",
      "/wiki/Business\n",
      "#cite_note-9\n",
      "#cite_note-10\n",
      "/wiki/Nathan_Yau\n",
      "/wiki/Ben_Fry\n",
      "/wiki/Human%E2%80%93computer_interaction\n",
      "/wiki/Exploration\n",
      "#cite_note-11\n",
      "#cite_note-12\n",
      "/wiki/American_Statistical_Association\n",
      "/wiki/Database\n",
      "/wiki/Machine_learning\n",
      "/wiki/Distributed_computing\n",
      "#cite_note-13\n",
      "/w/index.php?title=Data_science&action=edit&section=2\n",
      "/wiki/Nate_Silver\n",
      "#cite_note-14\n",
      "#cite_note-15\n",
      "/wiki/Vasant_Dhar\n",
      "#cite_note-16\n",
      "/wiki/Andrew_Gelman\n",
      "/wiki/Columbia_University\n",
      "#cite_note-17\n",
      "/wiki/David_Donoho\n",
      "#cite_note-:7-18\n",
      "/w/index.php?title=Data_science&action=edit&section=3\n",
      "/w/index.php?title=Data_science&action=edit&section=4\n",
      "/wiki/John_Tukey\n",
      "#cite_note-:7-18\n",
      "/wiki/C._F._Jeff_Wu\n",
      "#cite_note-19\n",
      "/wiki/Montpellier_2_University\n",
      "#cite_note-20\n",
      "#cite_note-Murtagh_2018_14-21\n",
      "/wiki/Peter_Naur\n",
      "#cite_note-:0-22\n",
      "#cite_note-:0-22\n",
      "/wiki/C._F._Jeff_Wu\n",
      "#cite_note-23\n",
      "#cite_note-Murtagh_2018_14-21\n",
      "/wiki/Data_mining\n",
      "#cite_note-:1-24\n",
      "#cite_note-:0-22\n",
      "/w/index.php?title=Data_science&action=edit&section=5\n",
      "/wiki/William_S._Cleveland\n",
      "#cite_note-25\n",
      "#cite_note-:1-24\n",
      "/wiki/Committee_on_Data_for_Science_and_Technology\n",
      "#cite_note-:1-24\n",
      "/wiki/American_Statistical_Association\n",
      "#cite_note-26\n",
      "/wiki/DJ_Patil\n",
      "/wiki/Jeff_Hammerbacher\n",
      "#cite_note-27\n",
      "/wiki/National_Science_Board\n",
      "#cite_note-28\n",
      "/wiki/Buzzword\n",
      "#cite_note-29\n",
      "/wiki/Big_data\n",
      "#cite_note-:5-30\n",
      "#cite_note-:6-31\n",
      "/w/index.php?title=Data_science&action=edit&section=6\n",
      "/wiki/International_Journal_of_Population_Data_Science\n",
      "/w/index.php?title=Data_science&action=edit&section=7\n",
      "#cite_ref-1\n",
      "http://cacm.acm.org/magazines/2013/12/169933-data-science-and-prediction/fulltext\n",
      "/wiki/Doi_(identifier)\n",
      "https://doi.org/10.1145%2F2500499\n",
      "/wiki/S2CID_(identifier)\n",
      "https://api.semanticscholar.org/CorpusID:6107147\n",
      "https://web.archive.org/web/20141109113411/http://cacm.acm.org/magazines/2013/12/169933-data-science-and-prediction/fulltext\n",
      "#cite_ref-2\n",
      "/wiki/Jeffrey_T._Leek\n",
      "http://simplystatistics.org/2013/12/12/the-key-word-in-data-science-is-not-data-it-is-science/\n",
      "https://web.archive.org/web/20140102194117/http://simplystatistics.org/2013/12/12/the-key-word-in-data-science-is-not-data-it-is-science/\n",
      "#cite_ref-3\n",
      "https://www.springer.com/book/9784431702085\n",
      "/wiki/Doi_(identifier)\n",
      "https://doi.org/10.1007%2F978-4-431-65950-1_3\n",
      "/wiki/ISBN_(identifier)\n",
      "/wiki/Special:BookSources/9784431702085\n",
      "#cite_ref-4\n",
      "/wiki/Doi_(identifier)\n",
      "https://doi.org/10.1145%2F3076253\n",
      "/wiki/ISSN_(identifier)\n",
      "//www.worldcat.org/issn/0360-0300\n",
      "#cite_ref-TansleyTolle2009_5-0\n",
      "https://books.google.com/books?id=oGs_AQAAIAAJ\n",
      "/wiki/ISBN_(identifier)\n",
      "/wiki/Special:BookSources/978-0-9825442-0-4\n",
      "https://web.archive.org/web/20170320193019/https://books.google.com/books?id=oGs_AQAAIAAJ\n",
      "#cite_ref-BellHey2009_6-0\n",
      "/wiki/Doi_(identifier)\n",
      "https://doi.org/10.1126%2Fscience.1170411\n",
      "/wiki/ISSN_(identifier)\n",
      "//www.worldcat.org/issn/0036-8075\n",
      "/wiki/PMID_(identifier)\n",
      "//pubmed.ncbi.nlm.nih.gov/19265007\n",
      "/wiki/S2CID_(identifier)\n",
      "https://api.semanticscholar.org/CorpusID:9743327\n",
      "#cite_ref-7\n",
      "https://hbr.org/2012/10/data-scientist-the-sexiest-job-of-the-21st-century/\n",
      "/wiki/PMID_(identifier)\n",
      "//pubmed.ncbi.nlm.nih.gov/23074866\n",
      "#cite_ref-8\n",
      "http://www.datascienceassn.org/about-data-science\n",
      "#cite_ref-9\n",
      "https://www.oreilly.com/library/view/doing-data-science/9781449363871/ch01.html\n",
      "#cite_ref-10\n",
      "https://medriscoll.com/post/4740157098/the-three-sexy-skills-of-data-geeks\n",
      "#cite_ref-11\n",
      "https://flowingdata.com/2009/06/04/rise-of-the-data-scientist/\n",
      "#cite_ref-12\n",
      "https://benfry.com/phd/dissertation/2.html\n",
      "#cite_ref-13\n",
      "https://magazine.amstat.org/blog/2015/10/01/asa-statement-on-the-role-of-statistics-in-data-science/\n",
      "/wiki/American_Statistical_Association\n",
      "https://web.archive.org/web/20190620184935/https://magazine.amstat.org/blog/2015/10/01/asa-statement-on-the-role-of-statistics-in-data-science/\n",
      "#cite_ref-14\n",
      "https://www.statisticsviews.com/article/nate-silver-what-i-need-from-statisticians/\n",
      "#cite_ref-15\n",
      "http://priceonomics.com/whats-the-difference-between-data-science-and/\n",
      "#cite_ref-16\n",
      "/wiki/Doi_(identifier)\n",
      "https://doi.org/10.1145%2F2500499\n",
      "/wiki/S2CID_(identifier)\n",
      "https://api.semanticscholar.org/CorpusID:6107147\n",
      "#cite_ref-17\n",
      "https://statmodeling.stat.columbia.edu/2013/11/14/statistics-least-important-part-data-science/\n",
      "#cite_ref-:7_18-0\n",
      "#cite_ref-:7_18-1\n",
      "http://courses.csail.mit.edu/18.337/2015/docs/50YearsDataScience.pdf\n",
      "#cite_ref-19\n",
      "https://www2.isye.gatech.edu/~jeffwu/publications/fazhan.pdf\n",
      "#cite_ref-20\n",
      "/wiki/ISBN_(identifier)\n",
      "/wiki/Special:BookSources/0-12-241770-4\n",
      "/wiki/OCLC_(identifier)\n",
      "//www.worldcat.org/oclc/489990740\n",
      "#cite_ref-Murtagh_2018_14_21-0\n",
      "#cite_ref-Murtagh_2018_14_21-1\n",
      "https://doi.org/10.3390%2Fbdcc2020014\n",
      "/wiki/Doi_(identifier)\n",
      "https://doi.org/10.3390%2Fbdcc2020014\n",
      "#cite_ref-:0_22-0\n",
      "#cite_ref-:0_22-1\n",
      "#cite_ref-:0_22-2\n",
      "https://doi.org/10.1145%2F3076253\n",
      "/wiki/ArXiv_(identifier)\n",
      "//arxiv.org/abs/2007.03606\n",
      "/wiki/Doi_(identifier)\n",
      "https://doi.org/10.1145%2F3076253\n",
      "#cite_ref-23\n",
      "http://www2.isye.gatech.edu/~jeffwu/presentations/datascience.pdf\n",
      "#cite_ref-:1_24-0\n",
      "#cite_ref-:1_24-1\n",
      "#cite_ref-:1_24-2\n",
      "https://www.forbes.com/sites/gilpress/2013/05/28/a-very-short-history-of-data-science/\n",
      "#cite_ref-25\n",
      "https://www.stat.purdue.edu/~wsc/\n",
      "#cite_ref-26\n",
      "https://magazine.amstat.org/blog/2016/06/01/datascience-2/\n",
      "#cite_ref-27\n",
      "https://hbr.org/2012/10/data-scientist-the-sexiest-job-of-the-21st-century\n",
      "/wiki/ISSN_(identifier)\n",
      "//www.worldcat.org/issn/0017-8012\n",
      "#cite_ref-28\n",
      "https://www.nsf.gov/pubs/2005/nsb0540/\n",
      "#cite_ref-29\n",
      "https://www.forbes.com/sites/gilpress/2013/08/19/data-science-whats-the-half-life-of-a-buzzword/\n",
      "#cite_ref-:5_30-0\n",
      "https://www.forbes.com/sites/peterpham/2015/08/28/the-impacts-of-big-data-that-you-may-not-have-heard-of/\n",
      "#cite_ref-:6_31-0\n",
      "https://towardsdatascience.com/how-data-science-will-impact-future-of-businesses-7f11f5699c4d\n",
      "/wiki/Template:Data\n",
      "/wiki/Template_talk:Data\n",
      "https://en.wikipedia.org/w/index.php?title=Template:Data&action=edit\n",
      "/wiki/Data_(computing)\n",
      "/wiki/Data_augmentation\n",
      "/wiki/Data_analysis\n",
      "/wiki/Data_archaeology\n",
      "/wiki/Data_cleansing\n",
      "/wiki/Data_collection\n",
      "/wiki/Data_compression\n",
      "/wiki/Data_corruption\n",
      "/wiki/Data_curation\n",
      "/wiki/Data_degradation\n",
      "/wiki/Data_editing\n",
      "/wiki/Extract,_transform,_load\n",
      "/wiki/Extract,_load,_transform\n",
      "/wiki/Data_extraction\n",
      "/wiki/Data_transformation\n",
      "/wiki/Data_loading\n",
      "/wiki/Data_farming\n",
      "/wiki/Data_format_management\n",
      "/wiki/Data_fusion\n",
      "/wiki/Data_integration\n",
      "/wiki/Data_integrity\n",
      "/wiki/Data_library\n",
      "/wiki/Data_loss\n",
      "/wiki/Data_management\n",
      "/wiki/Data_migration\n",
      "/wiki/Data_mining\n",
      "/wiki/Data_pre-processing\n",
      "/wiki/Data_preservation\n",
      "/wiki/Information_privacy\n",
      "/wiki/Data_publishing\n",
      "/wiki/Data_recovery\n",
      "/wiki/Data_reduction\n",
      "/wiki/Data_retention\n",
      "/wiki/Data_quality\n"
     ]
    },
    {
     "ename": "KeyError",
     "evalue": "'href'",
     "output_type": "error",
     "traceback": [
      "\u001b[0;31m---------------------------------------------------------------------------\u001b[0m",
      "\u001b[0;31mKeyError\u001b[0m                                  Traceback (most recent call last)",
      "Input \u001b[0;32mIn [175]\u001b[0m, in \u001b[0;36m<cell line: 1>\u001b[0;34m()\u001b[0m\n\u001b[1;32m      1\u001b[0m \u001b[38;5;28;01mfor\u001b[39;00m line \u001b[38;5;129;01min\u001b[39;00m text\u001b[38;5;241m.\u001b[39mfind_all(\u001b[38;5;124m'\u001b[39m\u001b[38;5;124ma\u001b[39m\u001b[38;5;124m'\u001b[39m):\n\u001b[0;32m----> 2\u001b[0m     \u001b[38;5;28mprint\u001b[39m(\u001b[43mline\u001b[49m\u001b[43m[\u001b[49m\u001b[38;5;124;43m'\u001b[39;49m\u001b[38;5;124;43mhref\u001b[39;49m\u001b[38;5;124;43m'\u001b[39;49m\u001b[43m]\u001b[49m)\n",
      "File \u001b[0;32m~/opt/anaconda3/lib/python3.8/site-packages/bs4/element.py:1486\u001b[0m, in \u001b[0;36mTag.__getitem__\u001b[0;34m(self, key)\u001b[0m\n\u001b[1;32m   1483\u001b[0m \u001b[38;5;28;01mdef\u001b[39;00m \u001b[38;5;21m__getitem__\u001b[39m(\u001b[38;5;28mself\u001b[39m, key):\n\u001b[1;32m   1484\u001b[0m     \u001b[38;5;124;03m\"\"\"tag[key] returns the value of the 'key' attribute for the Tag,\u001b[39;00m\n\u001b[1;32m   1485\u001b[0m \u001b[38;5;124;03m    and throws an exception if it's not there.\"\"\"\u001b[39;00m\n\u001b[0;32m-> 1486\u001b[0m     \u001b[38;5;28;01mreturn\u001b[39;00m \u001b[38;5;28;43mself\u001b[39;49m\u001b[38;5;241;43m.\u001b[39;49m\u001b[43mattrs\u001b[49m\u001b[43m[\u001b[49m\u001b[43mkey\u001b[49m\u001b[43m]\u001b[49m\n",
      "\u001b[0;31mKeyError\u001b[0m: 'href'"
     ]
    }
   ],
   "source": [
    "for line in text.find_all('a'):\n",
    "    print(line['href'])"
   ]
  },
  {
   "cell_type": "markdown",
   "metadata": {},
   "source": [
    "# Scraping references\n",
    "Next, let's get the references one can find at the bottom of a Wikipedia page. Let's `find` the references part of the website first and save that to a new variable."
   ]
  },
  {
   "cell_type": "code",
   "execution_count": 176,
   "metadata": {},
   "outputs": [],
   "source": [
    "refs = soup.find(\"div\", class_=\"reflist\")\n",
    "# or, using find_all: \n",
    "#refs = soup.find_all(\"div\", class_=\"reflist\")"
   ]
  },
  {
   "cell_type": "markdown",
   "metadata": {},
   "source": [
    "Next, we'll `select` the first `reference-text` attribute.\n",
    "\n",
    "*Note that in this case, we could either use `find_all` or `select`. Usage often depends on the use case. See [here](https://stackoverflow.com/questions/38028384/beautifulsoup-difference-between-find-and-select) if you want to learn more.*"
   ]
  },
  {
   "cell_type": "code",
   "execution_count": 177,
   "metadata": {
    "scrolled": true
   },
   "outputs": [
    {
     "data": {
      "text/plain": [
       "<span class=\"reference-text\"><style data-mw-deduplicate=\"TemplateStyles:r1067248974\">.mw-parser-output cite.citation{font-style:inherit;word-wrap:break-word}.mw-parser-output .citation q{quotes:\"\\\"\"\"\\\"\"\"'\"\"'\"}.mw-parser-output .citation:target{background-color:rgba(0,127,255,0.133)}.mw-parser-output .id-lock-free a,.mw-parser-output .citation .cs1-lock-free a{background:linear-gradient(transparent,transparent),url(\"//upload.wikimedia.org/wikipedia/commons/6/65/Lock-green.svg\")right 0.1em center/9px no-repeat}.mw-parser-output .id-lock-limited a,.mw-parser-output .id-lock-registration a,.mw-parser-output .citation .cs1-lock-limited a,.mw-parser-output .citation .cs1-lock-registration a{background:linear-gradient(transparent,transparent),url(\"//upload.wikimedia.org/wikipedia/commons/d/d6/Lock-gray-alt-2.svg\")right 0.1em center/9px no-repeat}.mw-parser-output .id-lock-subscription a,.mw-parser-output .citation .cs1-lock-subscription a{background:linear-gradient(transparent,transparent),url(\"//upload.wikimedia.org/wikipedia/commons/a/aa/Lock-red-alt-2.svg\")right 0.1em center/9px no-repeat}.mw-parser-output .cs1-ws-icon a{background:linear-gradient(transparent,transparent),url(\"//upload.wikimedia.org/wikipedia/commons/4/4c/Wikisource-logo.svg\")right 0.1em center/12px no-repeat}.mw-parser-output .cs1-code{color:inherit;background:inherit;border:none;padding:inherit}.mw-parser-output .cs1-hidden-error{display:none;color:#d33}.mw-parser-output .cs1-visible-error{color:#d33}.mw-parser-output .cs1-maint{display:none;color:#3a3;margin-left:0.3em}.mw-parser-output .cs1-format{font-size:95%}.mw-parser-output .cs1-kern-left{padding-left:0.2em}.mw-parser-output .cs1-kern-right{padding-right:0.2em}.mw-parser-output .citation .mw-selflink{font-weight:inherit}</style><cite class=\"citation journal cs1\" id=\"CITEREFDhar2013\">Dhar, V. (2013). <a class=\"external text\" href=\"http://cacm.acm.org/magazines/2013/12/169933-data-science-and-prediction/fulltext\" rel=\"nofollow\">\"Data science and prediction\"</a>. <i>Communications of the ACM</i>. <b>56</b> (12): 64–73. <a class=\"mw-redirect\" href=\"/wiki/Doi_(identifier)\" title=\"Doi (identifier)\">doi</a>:<a class=\"external text\" href=\"https://doi.org/10.1145%2F2500499\" rel=\"nofollow\">10.1145/2500499</a>. <a class=\"mw-redirect\" href=\"/wiki/S2CID_(identifier)\" title=\"S2CID (identifier)\">S2CID</a> <a class=\"external text\" href=\"https://api.semanticscholar.org/CorpusID:6107147\" rel=\"nofollow\">6107147</a>. <a class=\"external text\" href=\"https://web.archive.org/web/20141109113411/http://cacm.acm.org/magazines/2013/12/169933-data-science-and-prediction/fulltext\" rel=\"nofollow\">Archived</a> from the original on 9 November 2014<span class=\"reference-accessdate\">. Retrieved <span class=\"nowrap\">2 September</span> 2015</span>.</cite><span class=\"Z3988\" title=\"ctx_ver=Z39.88-2004&amp;rft_val_fmt=info%3Aofi%2Ffmt%3Akev%3Amtx%3Ajournal&amp;rft.genre=article&amp;rft.jtitle=Communications+of+the+ACM&amp;rft.atitle=Data+science+and+prediction&amp;rft.volume=56&amp;rft.issue=12&amp;rft.pages=64-73&amp;rft.date=2013&amp;rft_id=info%3Adoi%2F10.1145%2F2500499&amp;rft_id=https%3A%2F%2Fapi.semanticscholar.org%2FCorpusID%3A6107147%23id-name%3DS2CID&amp;rft.aulast=Dhar&amp;rft.aufirst=V.&amp;rft_id=http%3A%2F%2Fcacm.acm.org%2Fmagazines%2F2013%2F12%2F169933-data-science-and-prediction%2Ffulltext&amp;rfr_id=info%3Asid%2Fen.wikipedia.org%3AData+science\"></span></span>"
      ]
     },
     "execution_count": 177,
     "metadata": {},
     "output_type": "execute_result"
    }
   ],
   "source": [
    "first_citation = refs.select(\"span.reference-text\")[0]\n",
    "# or, using find_all\n",
    "#first_citation = refs.find_all(\"span\", class_=\"reference-text\")[0]\n",
    "\n",
    "first_citation\n"
   ]
  },
  {
   "cell_type": "code",
   "execution_count": 178,
   "metadata": {},
   "outputs": [
    {
     "name": "stdout",
     "output_type": "stream",
     "text": [
      "<class 'bs4.element.Tag'>\n"
     ]
    }
   ],
   "source": [
    "# check out its type\n",
    "print(type(first_citation))"
   ]
  },
  {
   "cell_type": "markdown",
   "metadata": {},
   "source": [
    "If we want to get the link to this citation, we just have to navigate to it. We can again find whatever `a` elements are in this tag, just like we did before."
   ]
  },
  {
   "cell_type": "code",
   "execution_count": 179,
   "metadata": {},
   "outputs": [
    {
     "name": "stdout",
     "output_type": "stream",
     "text": [
      "[<a class=\"external text\" href=\"http://cacm.acm.org/magazines/2013/12/169933-data-science-and-prediction/fulltext\" rel=\"nofollow\">\"Data science and prediction\"</a>, <a class=\"mw-redirect\" href=\"/wiki/Doi_(identifier)\" title=\"Doi (identifier)\">doi</a>, <a class=\"external text\" href=\"https://doi.org/10.1145%2F2500499\" rel=\"nofollow\">10.1145/2500499</a>, <a class=\"mw-redirect\" href=\"/wiki/S2CID_(identifier)\" title=\"S2CID (identifier)\">S2CID</a>, <a class=\"external text\" href=\"https://api.semanticscholar.org/CorpusID:6107147\" rel=\"nofollow\">6107147</a>, <a class=\"external text\" href=\"https://web.archive.org/web/20141109113411/http://cacm.acm.org/magazines/2013/12/169933-data-science-and-prediction/fulltext\" rel=\"nofollow\">Archived</a>]\n"
     ]
    }
   ],
   "source": [
    "# Find the \"a\" elements\n",
    "print(first_citation(\"a\"))"
   ]
  },
  {
   "cell_type": "markdown",
   "metadata": {},
   "source": [
    "As you can see, this returns a list. \n",
    "Note that we have a special beautifulSoup \"Tag\" object. Let's use the `.attrs` attribute to see the attributes for the first `a` tag (using indexing)."
   ]
  },
  {
   "cell_type": "code",
   "execution_count": 180,
   "metadata": {},
   "outputs": [
    {
     "name": "stdout",
     "output_type": "stream",
     "text": [
      "<a class=\"external text\" href=\"http://cacm.acm.org/magazines/2013/12/169933-data-science-and-prediction/fulltext\" rel=\"nofollow\">\"Data science and prediction\"</a>\n"
     ]
    }
   ],
   "source": [
    "# Get the first one\n",
    "print(first_citation(\"a\")[0])"
   ]
  },
  {
   "cell_type": "markdown",
   "metadata": {},
   "source": [
    "Since we want the link, we can use the `href` attribute again to get the corresponding value."
   ]
  },
  {
   "cell_type": "code",
   "execution_count": 181,
   "metadata": {},
   "outputs": [
    {
     "name": "stdout",
     "output_type": "stream",
     "text": [
      "http://cacm.acm.org/magazines/2013/12/169933-data-science-and-prediction/fulltext\n"
     ]
    }
   ],
   "source": [
    "print(first_citation(\"a\")[0]['href'])"
   ]
  },
  {
   "cell_type": "markdown",
   "metadata": {},
   "source": [
    "Now, get all the links contained in the references and add them to a list:"
   ]
  },
  {
   "cell_type": "code",
   "execution_count": 182,
   "metadata": {},
   "outputs": [
    {
     "data": {
      "text/plain": [
       "['http://cacm.acm.org/magazines/2013/12/169933-data-science-and-prediction/fulltext',\n",
       " 'https://www.springer.com/book/9784431702085',\n",
       " 'https://books.google.com/books?id=oGs_AQAAIAAJ',\n",
       " 'https://hbr.org/2012/10/data-scientist-the-sexiest-job-of-the-21st-century/',\n",
       " 'http://www.datascienceassn.org/about-data-science',\n",
       " 'https://www.oreilly.com/library/view/doing-data-science/9781449363871/ch01.html',\n",
       " 'https://medriscoll.com/post/4740157098/the-three-sexy-skills-of-data-geeks',\n",
       " 'https://flowingdata.com/2009/06/04/rise-of-the-data-scientist/',\n",
       " 'https://benfry.com/phd/dissertation/2.html',\n",
       " 'https://magazine.amstat.org/blog/2015/10/01/asa-statement-on-the-role-of-statistics-in-data-science/',\n",
       " 'https://www.statisticsviews.com/article/nate-silver-what-i-need-from-statisticians/',\n",
       " 'http://priceonomics.com/whats-the-difference-between-data-science-and/',\n",
       " 'https://statmodeling.stat.columbia.edu/2013/11/14/statistics-least-important-part-data-science/',\n",
       " 'http://courses.csail.mit.edu/18.337/2015/docs/50YearsDataScience.pdf',\n",
       " 'https://www2.isye.gatech.edu/~jeffwu/publications/fazhan.pdf',\n",
       " 'https://doi.org/10.3390%2Fbdcc2020014',\n",
       " 'https://doi.org/10.1145%2F3076253',\n",
       " 'http://www2.isye.gatech.edu/~jeffwu/presentations/datascience.pdf',\n",
       " 'https://www.forbes.com/sites/gilpress/2013/05/28/a-very-short-history-of-data-science/',\n",
       " 'https://www.stat.purdue.edu/~wsc/',\n",
       " 'https://magazine.amstat.org/blog/2016/06/01/datascience-2/',\n",
       " 'https://hbr.org/2012/10/data-scientist-the-sexiest-job-of-the-21st-century',\n",
       " 'https://www.nsf.gov/pubs/2005/nsb0540/',\n",
       " 'https://www.forbes.com/sites/gilpress/2013/08/19/data-science-whats-the-half-life-of-a-buzzword/',\n",
       " 'https://www.forbes.com/sites/peterpham/2015/08/28/the-impacts-of-big-data-that-you-may-not-have-heard-of/',\n",
       " 'https://towardsdatascience.com/how-data-science-will-impact-future-of-businesses-7f11f5699c4d']"
      ]
     },
     "execution_count": 182,
     "metadata": {},
     "output_type": "execute_result"
    }
   ],
   "source": [
    "# make accumulator list\n",
    "refs_list = []\n",
    "\n",
    "# start at the endnotes\n",
    "references = soup.select(\"span.reference-text\")\n",
    "\n",
    "# loop through references\n",
    "for ref in references:\n",
    "    if ref(\"a\") != []:  # ignore the references without links\n",
    "        \n",
    "        a_element = ref(\"a\")[0]\n",
    "        link = a_element['href']\n",
    "        \n",
    "        refs_list.append(link)\n",
    "\n",
    "# get rid of links to wiki articles\n",
    "refs_list = [ref for ref in refs_list if not ref.startswith('/wiki')]\n",
    "\n",
    "refs_list"
   ]
  },
  {
   "cell_type": "code",
   "execution_count": 183,
   "metadata": {},
   "outputs": [
    {
     "data": {
      "text/html": [
       "<div>\n",
       "<style scoped>\n",
       "    .dataframe tbody tr th:only-of-type {\n",
       "        vertical-align: middle;\n",
       "    }\n",
       "\n",
       "    .dataframe tbody tr th {\n",
       "        vertical-align: top;\n",
       "    }\n",
       "\n",
       "    .dataframe thead th {\n",
       "        text-align: right;\n",
       "    }\n",
       "</style>\n",
       "<table border=\"1\" class=\"dataframe\">\n",
       "  <thead>\n",
       "    <tr style=\"text-align: right;\">\n",
       "      <th></th>\n",
       "      <th>Citation</th>\n",
       "    </tr>\n",
       "  </thead>\n",
       "  <tbody>\n",
       "    <tr>\n",
       "      <th>0</th>\n",
       "      <td>http://cacm.acm.org/magazines/2013/12/169933-d...</td>\n",
       "    </tr>\n",
       "    <tr>\n",
       "      <th>1</th>\n",
       "      <td>https://www.springer.com/book/9784431702085</td>\n",
       "    </tr>\n",
       "    <tr>\n",
       "      <th>2</th>\n",
       "      <td>https://books.google.com/books?id=oGs_AQAAIAAJ</td>\n",
       "    </tr>\n",
       "    <tr>\n",
       "      <th>3</th>\n",
       "      <td>https://hbr.org/2012/10/data-scientist-the-sex...</td>\n",
       "    </tr>\n",
       "    <tr>\n",
       "      <th>4</th>\n",
       "      <td>http://www.datascienceassn.org/about-data-science</td>\n",
       "    </tr>\n",
       "  </tbody>\n",
       "</table>\n",
       "</div>"
      ],
      "text/plain": [
       "                                            Citation\n",
       "0  http://cacm.acm.org/magazines/2013/12/169933-d...\n",
       "1        https://www.springer.com/book/9784431702085\n",
       "2     https://books.google.com/books?id=oGs_AQAAIAAJ\n",
       "3  https://hbr.org/2012/10/data-scientist-the-sex...\n",
       "4  http://www.datascienceassn.org/about-data-science"
      ]
     },
     "execution_count": 183,
     "metadata": {},
     "output_type": "execute_result"
    }
   ],
   "source": [
    "# Convert to data frame\n",
    "citations_df = pd.DataFrame(refs_list, columns = [\"Citation\"])\n",
    "citations_df.head()"
   ]
  },
  {
   "cell_type": "code",
   "execution_count": 184,
   "metadata": {},
   "outputs": [],
   "source": [
    "# Export to .csv\n",
    "citations_df.to_csv(\"citations.csv\")"
   ]
  },
  {
   "cell_type": "code",
   "execution_count": null,
   "metadata": {},
   "outputs": [],
   "source": []
  }
 ],
 "metadata": {
  "kernelspec": {
   "display_name": "Python 3",
   "language": "python",
   "name": "python3"
  },
  "language_info": {
   "codemirror_mode": {
    "name": "ipython",
    "version": 3
   },
   "file_extension": ".py",
   "mimetype": "text/x-python",
   "name": "python",
   "nbconvert_exporter": "python",
   "pygments_lexer": "ipython3",
   "version": "3.8.5"
  }
 },
 "nbformat": 4,
 "nbformat_minor": 4
}
