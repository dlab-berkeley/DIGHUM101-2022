{
 "cells": [
  {
   "cell_type": "markdown",
   "metadata": {},
   "source": [
    "# Learning objectives\n",
    "\n",
    "1. Understand geospatial data in Python\n",
    "2. Download map of USA and plot it; do the same thing with States and California counties\n",
    "3. Learn how to join population data with the spatial-geometric data"
   ]
  },
  {
   "cell_type": "code",
   "execution_count": 1,
   "metadata": {
    "scrolled": true
   },
   "outputs": [],
   "source": [
    "# In case you haven't installed the libraries yet, uncomment the following:\n",
    "\n",
    "#!pip install geopandas \n",
    "#!pip install mapclassify\n",
    "#!pip install descartes"
   ]
  },
  {
   "cell_type": "code",
   "execution_count": 2,
   "metadata": {},
   "outputs": [],
   "source": [
    "import os\n",
    "\n",
    "import pandas as pd\n",
    "import geopandas as gpd\n",
    "\n",
    "import matplotlib\n",
    "%matplotlib inline"
   ]
  },
  {
   "cell_type": "markdown",
   "metadata": {},
   "source": [
    "# Introduction to geospatial data in Python\n",
    "\n",
    "\"[GeoPandas](https://geopandas.org/) is an open source project to make working with geospatial data in python easier. GeoPandas extends the datatypes used by pandas to allow spatial operations on geometric types. Geometric operations are performed by shapely. `geopandas` further depends on `fiona` for file access and `descartes` and `matplotlib` for plotting.\""
   ]
  },
  {
   "cell_type": "markdown",
   "metadata": {},
   "source": [
    "![geo1](../../Img/Geo1.png)"
   ]
  },
  {
   "cell_type": "markdown",
   "metadata": {},
   "source": [
    "![geo2](../../Img/Geo2.png)"
   ]
  },
  {
   "cell_type": "markdown",
   "metadata": {},
   "source": [
    "![geo3](../../Img/Geo3.png)"
   ]
  },
  {
   "cell_type": "markdown",
   "metadata": {},
   "source": [
    "![geo4](../../Img/Geo4.png)"
   ]
  },
  {
   "cell_type": "markdown",
   "metadata": {},
   "source": [
    "![geo5](../../Img/Geo5.png)"
   ]
  },
  {
   "cell_type": "markdown",
   "metadata": {},
   "source": [
    "![geo6](../../Img/Geo6.png)"
   ]
  },
  {
   "cell_type": "markdown",
   "metadata": {},
   "source": [
    "![geo7](../../Img/Geo7.png)"
   ]
  },
  {
   "cell_type": "markdown",
   "metadata": {},
   "source": [
    "![geo8](../../Img/Geo8.png)"
   ]
  },
  {
   "cell_type": "markdown",
   "metadata": {},
   "source": [
    "![geo9](../../Img/Geo9.png)"
   ]
  },
  {
   "cell_type": "markdown",
   "metadata": {},
   "source": [
    "![geo10](../../Img/Geo10.png)"
   ]
  },
  {
   "cell_type": "markdown",
   "metadata": {},
   "source": [
    "![geo11](../../Img/Geo11.png)"
   ]
  },
  {
   "cell_type": "markdown",
   "metadata": {},
   "source": [
    "![geo12](../../Img/Geo12.png)"
   ]
  },
  {
   "cell_type": "markdown",
   "metadata": {},
   "source": [
    "# DIVA (Data-Interpolating Variational Analysis)\n",
    "\n",
    "[DIVA-GIS](https://www.diva-gis.org/gdata) is an excellent website for downloading free geographic (GIS) data for any country in the world. The [DIVA-GIS software manual](https://www.diva-gis.org/docs/DIVA-GIS_manual_7.pdf) is worth a read as well. \n",
    "\n",
    "### USA example\n",
    "1. Create a folder named USA (or whatever country/state/region you are working with) in your DIGHUM101-2019 directory (this has already been done for you)\n",
    "2. Visit [DIVA-GIS](https://www.diva-gis.org/gdata) and select \"United States\" from the \"Country\" dropdown menu\n",
    "3. Select \"Administrative Areas\" from the \"Subject\" dropdown menu\n",
    "4. Click \"OK\"\n",
    "5. Click \"Download\""
   ]
  },
  {
   "cell_type": "code",
   "execution_count": 3,
   "metadata": {},
   "outputs": [
    {
     "data": {
      "text/plain": [
       "'/Users/tomvannuenen/Documents/GitHub/DIGHUM101-2022/Notebooks/Week3'"
      ]
     },
     "execution_count": 3,
     "metadata": {},
     "output_type": "execute_result"
    }
   ],
   "source": [
    "# Check the working directory\n",
    "\n",
    "%pwd"
   ]
  },
  {
   "cell_type": "code",
   "execution_count": 4,
   "metadata": {},
   "outputs": [
    {
     "name": "stdout",
     "output_type": "stream",
     "text": [
      "<class 'geopandas.geodataframe.GeoDataFrame'>\n"
     ]
    },
    {
     "data": {
      "text/html": [
       "<div>\n",
       "<style scoped>\n",
       "    .dataframe tbody tr th:only-of-type {\n",
       "        vertical-align: middle;\n",
       "    }\n",
       "\n",
       "    .dataframe tbody tr th {\n",
       "        vertical-align: top;\n",
       "    }\n",
       "\n",
       "    .dataframe thead th {\n",
       "        text-align: right;\n",
       "    }\n",
       "</style>\n",
       "<table border=\"1\" class=\"dataframe\">\n",
       "  <thead>\n",
       "    <tr style=\"text-align: right;\">\n",
       "      <th></th>\n",
       "      <th>ID_0</th>\n",
       "      <th>ISO</th>\n",
       "      <th>NAME_0</th>\n",
       "      <th>OBJECTID_1</th>\n",
       "      <th>ISO3</th>\n",
       "      <th>NAME_ENGLI</th>\n",
       "      <th>NAME_ISO</th>\n",
       "      <th>NAME_FAO</th>\n",
       "      <th>NAME_LOCAL</th>\n",
       "      <th>NAME_OBSOL</th>\n",
       "      <th>...</th>\n",
       "      <th>CARICOM</th>\n",
       "      <th>EU</th>\n",
       "      <th>CAN</th>\n",
       "      <th>ACP</th>\n",
       "      <th>Landlocked</th>\n",
       "      <th>AOSIS</th>\n",
       "      <th>SIDS</th>\n",
       "      <th>Islands</th>\n",
       "      <th>LDC</th>\n",
       "      <th>geometry</th>\n",
       "    </tr>\n",
       "  </thead>\n",
       "  <tbody>\n",
       "    <tr>\n",
       "      <th>0</th>\n",
       "      <td>244</td>\n",
       "      <td>USA</td>\n",
       "      <td>United States</td>\n",
       "      <td>238</td>\n",
       "      <td>USA</td>\n",
       "      <td>United States</td>\n",
       "      <td>UNITED STATES</td>\n",
       "      <td>United States of America</td>\n",
       "      <td>United States</td>\n",
       "      <td>None</td>\n",
       "      <td>...</td>\n",
       "      <td>0.0</td>\n",
       "      <td>0.0</td>\n",
       "      <td>0.0</td>\n",
       "      <td>0.0</td>\n",
       "      <td>0.0</td>\n",
       "      <td>0.0</td>\n",
       "      <td>0.0</td>\n",
       "      <td>0.0</td>\n",
       "      <td>0.0</td>\n",
       "      <td>MULTIPOLYGON (((-155.84998 20.26800, -155.8494...</td>\n",
       "    </tr>\n",
       "  </tbody>\n",
       "</table>\n",
       "<p>1 rows × 71 columns</p>\n",
       "</div>"
      ],
      "text/plain": [
       "   ID_0  ISO         NAME_0  OBJECTID_1 ISO3     NAME_ENGLI       NAME_ISO  \\\n",
       "0   244  USA  United States         238  USA  United States  UNITED STATES   \n",
       "\n",
       "                   NAME_FAO     NAME_LOCAL NAME_OBSOL  ... CARICOM   EU  CAN  \\\n",
       "0  United States of America  United States       None  ...     0.0  0.0  0.0   \n",
       "\n",
       "   ACP Landlocked AOSIS SIDS Islands  LDC  \\\n",
       "0  0.0        0.0   0.0  0.0     0.0  0.0   \n",
       "\n",
       "                                            geometry  \n",
       "0  MULTIPOLYGON (((-155.84998 20.26800, -155.8494...  \n",
       "\n",
       "[1 rows x 71 columns]"
      ]
     },
     "execution_count": 4,
     "metadata": {},
     "output_type": "execute_result"
    }
   ],
   "source": [
    "# Read in the data as a GeoDataFrame\n",
    "# Note the format for reading a zip file.\n",
    "\n",
    "usa = gpd.read_file(\"USA_adm.zip\")\n",
    "print(type(usa))\n",
    "usa"
   ]
  },
  {
   "cell_type": "code",
   "execution_count": 5,
   "metadata": {},
   "outputs": [
    {
     "data": {
      "text/plain": [
       "Index(['ID_0', 'ISO', 'NAME_0', 'OBJECTID_1', 'ISO3', 'NAME_ENGLI', 'NAME_ISO',\n",
       "       'NAME_FAO', 'NAME_LOCAL', 'NAME_OBSOL', 'NAME_VARIA', 'NAME_NONLA',\n",
       "       'NAME_FRENC', 'NAME_SPANI', 'NAME_RUSSI', 'NAME_ARABI', 'NAME_CHINE',\n",
       "       'WASPARTOF', 'CONTAINS', 'SOVEREIGN', 'ISO2', 'WWW', 'FIPS', 'ISON',\n",
       "       'VALIDFR', 'VALIDTO', 'POP2000', 'SQKM', 'POPSQKM', 'UNREGION1',\n",
       "       'UNREGION2', 'DEVELOPING', 'CIS', 'Transition', 'OECD', 'WBREGION',\n",
       "       'WBINCOME', 'WBDEBT', 'WBOTHER', 'CEEAC', 'CEMAC', 'CEPLG', 'COMESA',\n",
       "       'EAC', 'ECOWAS', 'IGAD', 'IOC', 'MRU', 'SACU', 'UEMOA', 'UMA', 'PALOP',\n",
       "       'PARTA', 'CACM', 'EurAsEC', 'Agadir', 'SAARC', 'ASEAN', 'NAFTA', 'GCC',\n",
       "       'CSN', 'CARICOM', 'EU', 'CAN', 'ACP', 'Landlocked', 'AOSIS', 'SIDS',\n",
       "       'Islands', 'LDC', 'geometry'],\n",
       "      dtype='object')"
      ]
     },
     "execution_count": 5,
     "metadata": {},
     "output_type": "execute_result"
    }
   ],
   "source": [
    "usa.columns"
   ]
  },
  {
   "cell_type": "code",
   "execution_count": 6,
   "metadata": {
    "scrolled": false
   },
   "outputs": [
    {
     "data": {
      "text/plain": [
       "ID_0             int64\n",
       "ISO             object\n",
       "NAME_0          object\n",
       "OBJECTID_1       int64\n",
       "ISO3            object\n",
       "                ...   \n",
       "AOSIS          float64\n",
       "SIDS           float64\n",
       "Islands        float64\n",
       "LDC            float64\n",
       "geometry      geometry\n",
       "Length: 71, dtype: object"
      ]
     },
     "execution_count": 6,
     "metadata": {},
     "output_type": "execute_result"
    }
   ],
   "source": [
    "usa.dtypes"
   ]
  },
  {
   "cell_type": "markdown",
   "metadata": {},
   "source": [
    "Note the \"geometry\" datatype above, which is what makes this a geopandas dataframe."
   ]
  },
  {
   "cell_type": "code",
   "execution_count": 7,
   "metadata": {},
   "outputs": [
    {
     "data": {
      "image/png": "[encoded data removed]",
      "text/plain": [
       "<Figure size 432x288 with 1 Axes>"
      ]
     },
     "metadata": {
      "needs_background": "light"
     },
     "output_type": "display_data"
    }
   ],
   "source": [
    "# Plot it!\n",
    "usa.plot();"
   ]
  },
  {
   "cell_type": "markdown",
   "metadata": {},
   "source": [
    "# State boundaries\n",
    "\n",
    "Now we need to get the state boundaries to overlay on this map."
   ]
  },
  {
   "cell_type": "code",
   "execution_count": 8,
   "metadata": {},
   "outputs": [
    {
     "name": "stdout",
     "output_type": "stream",
     "text": [
      "(56, 4)\n"
     ]
    },
    {
     "data": {
      "text/html": [
       "<div>\n",
       "<style scoped>\n",
       "    .dataframe tbody tr th:only-of-type {\n",
       "        vertical-align: middle;\n",
       "    }\n",
       "\n",
       "    .dataframe tbody tr th {\n",
       "        vertical-align: top;\n",
       "    }\n",
       "\n",
       "    .dataframe thead th {\n",
       "        text-align: right;\n",
       "    }\n",
       "</style>\n",
       "<table border=\"1\" class=\"dataframe\">\n",
       "  <thead>\n",
       "    <tr style=\"text-align: right;\">\n",
       "      <th></th>\n",
       "      <th>STATE</th>\n",
       "      <th>GEOID</th>\n",
       "      <th>ABBREV</th>\n",
       "      <th>geometry</th>\n",
       "    </tr>\n",
       "  </thead>\n",
       "  <tbody>\n",
       "    <tr>\n",
       "      <th>0</th>\n",
       "      <td>Alabama</td>\n",
       "      <td>01</td>\n",
       "      <td>AL</td>\n",
       "      <td>MULTIPOLYGON (((-88.05338 30.50699, -88.05109 ...</td>\n",
       "    </tr>\n",
       "    <tr>\n",
       "      <th>1</th>\n",
       "      <td>Alaska</td>\n",
       "      <td>02</td>\n",
       "      <td>AK</td>\n",
       "      <td>MULTIPOLYGON (((-134.73726 58.26135, -134.7344...</td>\n",
       "    </tr>\n",
       "    <tr>\n",
       "      <th>2</th>\n",
       "      <td>Arizona</td>\n",
       "      <td>04</td>\n",
       "      <td>AZ</td>\n",
       "      <td>POLYGON ((-114.81629 32.50804, -114.81432 32.5...</td>\n",
       "    </tr>\n",
       "    <tr>\n",
       "      <th>3</th>\n",
       "      <td>Arkansas</td>\n",
       "      <td>05</td>\n",
       "      <td>AR</td>\n",
       "      <td>POLYGON ((-94.61783 36.49941, -94.61765 36.499...</td>\n",
       "    </tr>\n",
       "    <tr>\n",
       "      <th>4</th>\n",
       "      <td>California</td>\n",
       "      <td>06</td>\n",
       "      <td>CA</td>\n",
       "      <td>MULTIPOLYGON (((-118.60442 33.47855, -118.5987...</td>\n",
       "    </tr>\n",
       "  </tbody>\n",
       "</table>\n",
       "</div>"
      ],
      "text/plain": [
       "        STATE GEOID ABBREV                                           geometry\n",
       "0     Alabama    01     AL  MULTIPOLYGON (((-88.05338 30.50699, -88.05109 ...\n",
       "1      Alaska    02     AK  MULTIPOLYGON (((-134.73726 58.26135, -134.7344...\n",
       "2     Arizona    04     AZ  POLYGON ((-114.81629 32.50804, -114.81432 32.5...\n",
       "3    Arkansas    05     AR  POLYGON ((-94.61783 36.49941, -94.61765 36.499...\n",
       "4  California    06     CA  MULTIPOLYGON (((-118.60442 33.47855, -118.5987..."
      ]
     },
     "execution_count": 8,
     "metadata": {},
     "output_type": "execute_result"
    }
   ],
   "source": [
    "# Read the file\n",
    "\n",
    "state_boundaries = gpd.read_file(\"../../Data/Geo/us_states.zip\")\n",
    "print(state_boundaries.shape)\n",
    "state_boundaries.head()"
   ]
  },
  {
   "cell_type": "code",
   "execution_count": 9,
   "metadata": {},
   "outputs": [],
   "source": [
    "app_states = [\"KY\", \"VA\", \"TN\", \"WV\"]"
   ]
  },
  {
   "cell_type": "code",
   "execution_count": 10,
   "metadata": {},
   "outputs": [
    {
     "data": {
      "text/html": [
       "<div>\n",
       "<style scoped>\n",
       "    .dataframe tbody tr th:only-of-type {\n",
       "        vertical-align: middle;\n",
       "    }\n",
       "\n",
       "    .dataframe tbody tr th {\n",
       "        vertical-align: top;\n",
       "    }\n",
       "\n",
       "    .dataframe thead th {\n",
       "        text-align: right;\n",
       "    }\n",
       "</style>\n",
       "<table border=\"1\" class=\"dataframe\">\n",
       "  <thead>\n",
       "    <tr style=\"text-align: right;\">\n",
       "      <th></th>\n",
       "      <th>STATE</th>\n",
       "      <th>GEOID</th>\n",
       "      <th>ABBREV</th>\n",
       "      <th>geometry</th>\n",
       "    </tr>\n",
       "  </thead>\n",
       "  <tbody>\n",
       "    <tr>\n",
       "      <th>30</th>\n",
       "      <td>West Virginia</td>\n",
       "      <td>54</td>\n",
       "      <td>WV</td>\n",
       "      <td>POLYGON ((-82.64320 38.16909, -82.64300 38.169...</td>\n",
       "    </tr>\n",
       "    <tr>\n",
       "      <th>35</th>\n",
       "      <td>Kentucky</td>\n",
       "      <td>21</td>\n",
       "      <td>KY</td>\n",
       "      <td>MULTIPOLYGON (((-89.40565 36.52817, -89.39869 ...</td>\n",
       "    </tr>\n",
       "    <tr>\n",
       "      <th>48</th>\n",
       "      <td>Tennessee</td>\n",
       "      <td>47</td>\n",
       "      <td>TN</td>\n",
       "      <td>POLYGON ((-90.31030 35.00429, -90.30988 35.009...</td>\n",
       "    </tr>\n",
       "    <tr>\n",
       "      <th>50</th>\n",
       "      <td>Virginia</td>\n",
       "      <td>51</td>\n",
       "      <td>VA</td>\n",
       "      <td>MULTIPOLYGON (((-75.74241 37.80835, -75.74151 ...</td>\n",
       "    </tr>\n",
       "  </tbody>\n",
       "</table>\n",
       "</div>"
      ],
      "text/plain": [
       "            STATE GEOID ABBREV  \\\n",
       "30  West Virginia    54     WV   \n",
       "35       Kentucky    21     KY   \n",
       "48      Tennessee    47     TN   \n",
       "50       Virginia    51     VA   \n",
       "\n",
       "                                             geometry  \n",
       "30  POLYGON ((-82.64320 38.16909, -82.64300 38.169...  \n",
       "35  MULTIPOLYGON (((-89.40565 36.52817, -89.39869 ...  \n",
       "48  POLYGON ((-90.31030 35.00429, -90.30988 35.009...  \n",
       "50  MULTIPOLYGON (((-75.74241 37.80835, -75.74151 ...  "
      ]
     },
     "execution_count": 10,
     "metadata": {},
     "output_type": "execute_result"
    }
   ],
   "source": [
    "app_states_df = state_boundaries.loc[state_boundaries[\"ABBREV\"].isin([\"KY\", \"VA\", \"TN\", \"WV\"])]\n",
    "app_states_df"
   ]
  },
  {
   "cell_type": "code",
   "execution_count": 11,
   "metadata": {},
   "outputs": [
    {
     "data": {
      "image/png": "[encoded data removed]",
      "text/plain": [
       "<Figure size 432x288 with 1 Axes>"
      ]
     },
     "metadata": {
      "needs_background": "light"
     },
     "output_type": "display_data"
    }
   ],
   "source": [
    "app_states_df.plot();"
   ]
  },
  {
   "cell_type": "code",
   "execution_count": 12,
   "metadata": {},
   "outputs": [
    {
     "data": {
      "image/png": "[encoded data removed]",
      "text/plain": [
       "<Figure size 1008x720 with 1 Axes>"
      ]
     },
     "metadata": {
      "needs_background": "light"
     },
     "output_type": "display_data"
    }
   ],
   "source": [
    "# Plot the state boundaries\n",
    "state_boundaries.plot(\n",
    "    \n",
    "    # Width of boundary line\n",
    "    linewidth=0.25, \n",
    "    \n",
    "    # Boundary color line\n",
    "    edgecolor='white', \n",
    "    \n",
    "    # State color\n",
    "    facecolor='green',\n",
    "    \n",
    "    # Figure size\n",
    "    figsize=(14,10)\n",
    ");"
   ]
  },
  {
   "cell_type": "code",
   "execution_count": 13,
   "metadata": {},
   "outputs": [],
   "source": [
    "state_boundaries.cx?"
   ]
  },
  {
   "cell_type": "code",
   "execution_count": 14,
   "metadata": {},
   "outputs": [
    {
     "data": {
      "image/png": "[encoded data removed]",
      "text/plain": [
       "<Figure size 1008x720 with 1 Axes>"
      ]
     },
     "metadata": {
      "needs_background": "light"
     },
     "output_type": "display_data"
    }
   ],
   "source": [
    "# Spatial subset of the contiguous US (zoom in!)\n",
    "state_boundaries.cx[-130:-70,25:50].plot(linewidth=0.25, \n",
    "                                         edgecolor='white', \n",
    "                                         facecolor='black', \n",
    "                                         figsize=(14,10));"
   ]
  },
  {
   "cell_type": "markdown",
   "metadata": {},
   "source": [
    "# Individual county polygons\n",
    "\n",
    "To get individual state county boundaries, visit https://www.census.gov/geographies/mapping-files/2018/geo/carto-boundary-file.html\n",
    "\n",
    "We want the file \"cb_2018_us_county_5m.zip\" What is California's STATEFP code? "
   ]
  },
  {
   "cell_type": "code",
   "execution_count": 15,
   "metadata": {},
   "outputs": [
    {
     "name": "stdout",
     "output_type": "stream",
     "text": [
      "(3233, 10)\n"
     ]
    },
    {
     "data": {
      "text/html": [
       "<div>\n",
       "<style scoped>\n",
       "    .dataframe tbody tr th:only-of-type {\n",
       "        vertical-align: middle;\n",
       "    }\n",
       "\n",
       "    .dataframe tbody tr th {\n",
       "        vertical-align: top;\n",
       "    }\n",
       "\n",
       "    .dataframe thead th {\n",
       "        text-align: right;\n",
       "    }\n",
       "</style>\n",
       "<table border=\"1\" class=\"dataframe\">\n",
       "  <thead>\n",
       "    <tr style=\"text-align: right;\">\n",
       "      <th></th>\n",
       "      <th>STATEFP</th>\n",
       "      <th>COUNTYFP</th>\n",
       "      <th>COUNTYNS</th>\n",
       "      <th>AFFGEOID</th>\n",
       "      <th>GEOID</th>\n",
       "      <th>NAME</th>\n",
       "      <th>LSAD</th>\n",
       "      <th>ALAND</th>\n",
       "      <th>AWATER</th>\n",
       "      <th>geometry</th>\n",
       "    </tr>\n",
       "  </thead>\n",
       "  <tbody>\n",
       "    <tr>\n",
       "      <th>0</th>\n",
       "      <td>39</td>\n",
       "      <td>071</td>\n",
       "      <td>01074048</td>\n",
       "      <td>0500000US39071</td>\n",
       "      <td>39071</td>\n",
       "      <td>Highland</td>\n",
       "      <td>06</td>\n",
       "      <td>1432479992</td>\n",
       "      <td>12194983</td>\n",
       "      <td>POLYGON ((-83.86976 39.05553, -83.86568 39.247...</td>\n",
       "    </tr>\n",
       "    <tr>\n",
       "      <th>1</th>\n",
       "      <td>06</td>\n",
       "      <td>003</td>\n",
       "      <td>01675840</td>\n",
       "      <td>0500000US06003</td>\n",
       "      <td>06003</td>\n",
       "      <td>Alpine</td>\n",
       "      <td>06</td>\n",
       "      <td>1912292630</td>\n",
       "      <td>12557304</td>\n",
       "      <td>POLYGON ((-120.07248 38.50987, -120.07239 38.7...</td>\n",
       "    </tr>\n",
       "    <tr>\n",
       "      <th>2</th>\n",
       "      <td>12</td>\n",
       "      <td>033</td>\n",
       "      <td>00295737</td>\n",
       "      <td>0500000US12033</td>\n",
       "      <td>12033</td>\n",
       "      <td>Escambia</td>\n",
       "      <td>06</td>\n",
       "      <td>1701544502</td>\n",
       "      <td>563927612</td>\n",
       "      <td>POLYGON ((-87.62999 30.87766, -87.62946 30.880...</td>\n",
       "    </tr>\n",
       "    <tr>\n",
       "      <th>3</th>\n",
       "      <td>17</td>\n",
       "      <td>101</td>\n",
       "      <td>00424252</td>\n",
       "      <td>0500000US17101</td>\n",
       "      <td>17101</td>\n",
       "      <td>Lawrence</td>\n",
       "      <td>06</td>\n",
       "      <td>963936864</td>\n",
       "      <td>5077783</td>\n",
       "      <td>POLYGON ((-87.91028 38.57493, -87.90811 38.850...</td>\n",
       "    </tr>\n",
       "    <tr>\n",
       "      <th>4</th>\n",
       "      <td>28</td>\n",
       "      <td>153</td>\n",
       "      <td>00695797</td>\n",
       "      <td>0500000US28153</td>\n",
       "      <td>28153</td>\n",
       "      <td>Wayne</td>\n",
       "      <td>06</td>\n",
       "      <td>2099745573</td>\n",
       "      <td>7255476</td>\n",
       "      <td>POLYGON ((-88.94317 31.78421, -88.94335 31.824...</td>\n",
       "    </tr>\n",
       "  </tbody>\n",
       "</table>\n",
       "</div>"
      ],
      "text/plain": [
       "  STATEFP COUNTYFP  COUNTYNS        AFFGEOID  GEOID      NAME LSAD  \\\n",
       "0      39      071  01074048  0500000US39071  39071  Highland   06   \n",
       "1      06      003  01675840  0500000US06003  06003    Alpine   06   \n",
       "2      12      033  00295737  0500000US12033  12033  Escambia   06   \n",
       "3      17      101  00424252  0500000US17101  17101  Lawrence   06   \n",
       "4      28      153  00695797  0500000US28153  28153     Wayne   06   \n",
       "\n",
       "        ALAND     AWATER                                           geometry  \n",
       "0  1432479992   12194983  POLYGON ((-83.86976 39.05553, -83.86568 39.247...  \n",
       "1  1912292630   12557304  POLYGON ((-120.07248 38.50987, -120.07239 38.7...  \n",
       "2  1701544502  563927612  POLYGON ((-87.62999 30.87766, -87.62946 30.880...  \n",
       "3   963936864    5077783  POLYGON ((-87.91028 38.57493, -87.90811 38.850...  \n",
       "4  2099745573    7255476  POLYGON ((-88.94317 31.78421, -88.94335 31.824...  "
      ]
     },
     "execution_count": 15,
     "metadata": {},
     "output_type": "execute_result"
    }
   ],
   "source": [
    "counties = gpd.read_file(\"zip://../../Data/Geo/cb_2018_us_county_5m.zip\")\n",
    "print(counties.shape)\n",
    "counties.head()"
   ]
  },
  {
   "cell_type": "code",
   "execution_count": 16,
   "metadata": {},
   "outputs": [
    {
     "name": "stdout",
     "output_type": "stream",
     "text": [
      "(58, 10)\n"
     ]
    },
    {
     "data": {
      "text/html": [
       "<div>\n",
       "<style scoped>\n",
       "    .dataframe tbody tr th:only-of-type {\n",
       "        vertical-align: middle;\n",
       "    }\n",
       "\n",
       "    .dataframe tbody tr th {\n",
       "        vertical-align: top;\n",
       "    }\n",
       "\n",
       "    .dataframe thead th {\n",
       "        text-align: right;\n",
       "    }\n",
       "</style>\n",
       "<table border=\"1\" class=\"dataframe\">\n",
       "  <thead>\n",
       "    <tr style=\"text-align: right;\">\n",
       "      <th></th>\n",
       "      <th>STATEFP</th>\n",
       "      <th>COUNTYFP</th>\n",
       "      <th>COUNTYNS</th>\n",
       "      <th>AFFGEOID</th>\n",
       "      <th>GEOID</th>\n",
       "      <th>NAME</th>\n",
       "      <th>LSAD</th>\n",
       "      <th>ALAND</th>\n",
       "      <th>AWATER</th>\n",
       "      <th>geometry</th>\n",
       "    </tr>\n",
       "  </thead>\n",
       "  <tbody>\n",
       "    <tr>\n",
       "      <th>1</th>\n",
       "      <td>06</td>\n",
       "      <td>003</td>\n",
       "      <td>01675840</td>\n",
       "      <td>0500000US06003</td>\n",
       "      <td>06003</td>\n",
       "      <td>Alpine</td>\n",
       "      <td>06</td>\n",
       "      <td>1912292630</td>\n",
       "      <td>12557304</td>\n",
       "      <td>POLYGON ((-120.07248 38.50987, -120.07239 38.7...</td>\n",
       "    </tr>\n",
       "    <tr>\n",
       "      <th>21</th>\n",
       "      <td>06</td>\n",
       "      <td>109</td>\n",
       "      <td>00277319</td>\n",
       "      <td>0500000US06109</td>\n",
       "      <td>06109</td>\n",
       "      <td>Tuolumne</td>\n",
       "      <td>06</td>\n",
       "      <td>5752079372</td>\n",
       "      <td>138722707</td>\n",
       "      <td>POLYGON ((-120.65255 37.83346, -120.64407 37.8...</td>\n",
       "    </tr>\n",
       "    <tr>\n",
       "      <th>51</th>\n",
       "      <td>06</td>\n",
       "      <td>103</td>\n",
       "      <td>01692767</td>\n",
       "      <td>0500000US06103</td>\n",
       "      <td>06103</td>\n",
       "      <td>Tehama</td>\n",
       "      <td>06</td>\n",
       "      <td>7638228750</td>\n",
       "      <td>33767783</td>\n",
       "      <td>POLYGON ((-123.05927 40.28548, -123.04970 40.2...</td>\n",
       "    </tr>\n",
       "    <tr>\n",
       "      <th>52</th>\n",
       "      <td>06</td>\n",
       "      <td>105</td>\n",
       "      <td>00277317</td>\n",
       "      <td>0500000US06105</td>\n",
       "      <td>06105</td>\n",
       "      <td>Trinity</td>\n",
       "      <td>06</td>\n",
       "      <td>8234265085</td>\n",
       "      <td>73407950</td>\n",
       "      <td>POLYGON ((-123.61749 40.93114, -123.60956 40.9...</td>\n",
       "    </tr>\n",
       "    <tr>\n",
       "      <th>114</th>\n",
       "      <td>06</td>\n",
       "      <td>069</td>\n",
       "      <td>00277299</td>\n",
       "      <td>0500000US06069</td>\n",
       "      <td>06069</td>\n",
       "      <td>San Benito</td>\n",
       "      <td>06</td>\n",
       "      <td>3596590995</td>\n",
       "      <td>4719296</td>\n",
       "      <td>POLYGON ((-121.64400 36.89400, -121.62946 36.9...</td>\n",
       "    </tr>\n",
       "  </tbody>\n",
       "</table>\n",
       "</div>"
      ],
      "text/plain": [
       "    STATEFP COUNTYFP  COUNTYNS        AFFGEOID  GEOID        NAME LSAD  \\\n",
       "1        06      003  01675840  0500000US06003  06003      Alpine   06   \n",
       "21       06      109  00277319  0500000US06109  06109    Tuolumne   06   \n",
       "51       06      103  01692767  0500000US06103  06103      Tehama   06   \n",
       "52       06      105  00277317  0500000US06105  06105     Trinity   06   \n",
       "114      06      069  00277299  0500000US06069  06069  San Benito   06   \n",
       "\n",
       "          ALAND     AWATER                                           geometry  \n",
       "1    1912292630   12557304  POLYGON ((-120.07248 38.50987, -120.07239 38.7...  \n",
       "21   5752079372  138722707  POLYGON ((-120.65255 37.83346, -120.64407 37.8...  \n",
       "51   7638228750   33767783  POLYGON ((-123.05927 40.28548, -123.04970 40.2...  \n",
       "52   8234265085   73407950  POLYGON ((-123.61749 40.93114, -123.60956 40.9...  \n",
       "114  3596590995    4719296  POLYGON ((-121.64400 36.89400, -121.62946 36.9...  "
      ]
     },
     "execution_count": 16,
     "metadata": {},
     "output_type": "execute_result"
    }
   ],
   "source": [
    "# Just California...\n",
    "cal_counties = counties.loc[counties[\"STATEFP\"] == \"06\"]\n",
    "print(cal_counties.shape)\n",
    "cal_counties.head()"
   ]
  },
  {
   "cell_type": "code",
   "execution_count": 17,
   "metadata": {},
   "outputs": [
    {
     "data": {
      "text/html": [
       "<div>\n",
       "<style scoped>\n",
       "    .dataframe tbody tr th:only-of-type {\n",
       "        vertical-align: middle;\n",
       "    }\n",
       "\n",
       "    .dataframe tbody tr th {\n",
       "        vertical-align: top;\n",
       "    }\n",
       "\n",
       "    .dataframe thead th {\n",
       "        text-align: right;\n",
       "    }\n",
       "</style>\n",
       "<table border=\"1\" class=\"dataframe\">\n",
       "  <thead>\n",
       "    <tr style=\"text-align: right;\">\n",
       "      <th></th>\n",
       "      <th>STATE</th>\n",
       "      <th>GEOID</th>\n",
       "      <th>ABBREV</th>\n",
       "      <th>geometry</th>\n",
       "    </tr>\n",
       "  </thead>\n",
       "  <tbody>\n",
       "    <tr>\n",
       "      <th>0</th>\n",
       "      <td>Alabama</td>\n",
       "      <td>01</td>\n",
       "      <td>AL</td>\n",
       "      <td>MULTIPOLYGON (((-88.05338 30.50699, -88.05109 ...</td>\n",
       "    </tr>\n",
       "    <tr>\n",
       "      <th>1</th>\n",
       "      <td>Alaska</td>\n",
       "      <td>02</td>\n",
       "      <td>AK</td>\n",
       "      <td>MULTIPOLYGON (((-134.73726 58.26135, -134.7344...</td>\n",
       "    </tr>\n",
       "    <tr>\n",
       "      <th>2</th>\n",
       "      <td>Arizona</td>\n",
       "      <td>04</td>\n",
       "      <td>AZ</td>\n",
       "      <td>POLYGON ((-114.81629 32.50804, -114.81432 32.5...</td>\n",
       "    </tr>\n",
       "    <tr>\n",
       "      <th>3</th>\n",
       "      <td>Arkansas</td>\n",
       "      <td>05</td>\n",
       "      <td>AR</td>\n",
       "      <td>POLYGON ((-94.61783 36.49941, -94.61765 36.499...</td>\n",
       "    </tr>\n",
       "    <tr>\n",
       "      <th>4</th>\n",
       "      <td>California</td>\n",
       "      <td>06</td>\n",
       "      <td>CA</td>\n",
       "      <td>MULTIPOLYGON (((-118.60442 33.47855, -118.5987...</td>\n",
       "    </tr>\n",
       "  </tbody>\n",
       "</table>\n",
       "</div>"
      ],
      "text/plain": [
       "        STATE GEOID ABBREV                                           geometry\n",
       "0     Alabama    01     AL  MULTIPOLYGON (((-88.05338 30.50699, -88.05109 ...\n",
       "1      Alaska    02     AK  MULTIPOLYGON (((-134.73726 58.26135, -134.7344...\n",
       "2     Arizona    04     AZ  POLYGON ((-114.81629 32.50804, -114.81432 32.5...\n",
       "3    Arkansas    05     AR  POLYGON ((-94.61783 36.49941, -94.61765 36.499...\n",
       "4  California    06     CA  MULTIPOLYGON (((-118.60442 33.47855, -118.5987..."
      ]
     },
     "execution_count": 17,
     "metadata": {},
     "output_type": "execute_result"
    }
   ],
   "source": [
    "# Pull the state info for California\n",
    "state_boundaries.head()"
   ]
  },
  {
   "cell_type": "code",
   "execution_count": 18,
   "metadata": {},
   "outputs": [
    {
     "data": {
      "text/html": [
       "<div>\n",
       "<style scoped>\n",
       "    .dataframe tbody tr th:only-of-type {\n",
       "        vertical-align: middle;\n",
       "    }\n",
       "\n",
       "    .dataframe tbody tr th {\n",
       "        vertical-align: top;\n",
       "    }\n",
       "\n",
       "    .dataframe thead th {\n",
       "        text-align: right;\n",
       "    }\n",
       "</style>\n",
       "<table border=\"1\" class=\"dataframe\">\n",
       "  <thead>\n",
       "    <tr style=\"text-align: right;\">\n",
       "      <th></th>\n",
       "      <th>STATE</th>\n",
       "      <th>GEOID</th>\n",
       "      <th>ABBREV</th>\n",
       "      <th>geometry</th>\n",
       "    </tr>\n",
       "  </thead>\n",
       "  <tbody>\n",
       "    <tr>\n",
       "      <th>4</th>\n",
       "      <td>California</td>\n",
       "      <td>06</td>\n",
       "      <td>CA</td>\n",
       "      <td>MULTIPOLYGON (((-118.60442 33.47855, -118.5987...</td>\n",
       "    </tr>\n",
       "  </tbody>\n",
       "</table>\n",
       "</div>"
      ],
      "text/plain": [
       "        STATE GEOID ABBREV                                           geometry\n",
       "4  California    06     CA  MULTIPOLYGON (((-118.60442 33.47855, -118.5987..."
      ]
     },
     "execution_count": 18,
     "metadata": {},
     "output_type": "execute_result"
    }
   ],
   "source": [
    "# Subset to California\n",
    "\n",
    "california = state_boundaries.loc[state_boundaries[\"ABBREV\"] == \"CA\"]\n",
    "california"
   ]
  },
  {
   "cell_type": "code",
   "execution_count": 19,
   "metadata": {},
   "outputs": [
    {
     "data": {
      "image/png": "[encoded data removed]",
      "text/plain": [
       "<Figure size 432x288 with 1 Axes>"
      ]
     },
     "metadata": {
      "needs_background": "light"
     },
     "output_type": "display_data"
    }
   ],
   "source": [
    "# Plot it\n",
    "california.plot(); "
   ]
  },
  {
   "cell_type": "markdown",
   "metadata": {},
   "source": [
    "Let's bring in some more information about these counties, such as the population, the housing units, density, and so on. These data come from the Census Bureau. Visit the [Census Bureau website](https://www.census.gov/data/datasets/time-series/demo/popest/2010s-counties-total.html) to get more information about these counties. "
   ]
  },
  {
   "cell_type": "code",
   "execution_count": 20,
   "metadata": {},
   "outputs": [
    {
     "name": "stdout",
     "output_type": "stream",
     "text": [
      "(58, 14)\n"
     ]
    },
    {
     "data": {
      "text/html": [
       "<div>\n",
       "<style scoped>\n",
       "    .dataframe tbody tr th:only-of-type {\n",
       "        vertical-align: middle;\n",
       "    }\n",
       "\n",
       "    .dataframe tbody tr th {\n",
       "        vertical-align: top;\n",
       "    }\n",
       "\n",
       "    .dataframe thead th {\n",
       "        text-align: right;\n",
       "    }\n",
       "</style>\n",
       "<table border=\"1\" class=\"dataframe\">\n",
       "  <thead>\n",
       "    <tr style=\"text-align: right;\">\n",
       "      <th></th>\n",
       "      <th>Id</th>\n",
       "      <th>Id2</th>\n",
       "      <th>Geography</th>\n",
       "      <th>Target Geo Id</th>\n",
       "      <th>Target Geo Id2</th>\n",
       "      <th>Geographic area</th>\n",
       "      <th>Geographic area.1</th>\n",
       "      <th>Population</th>\n",
       "      <th>Housing units</th>\n",
       "      <th>Area in square miles - Total area</th>\n",
       "      <th>Area in square miles - Water area</th>\n",
       "      <th>Area in square miles - Land area</th>\n",
       "      <th>Density per square mile of land area - Population</th>\n",
       "      <th>Density per square mile of land area - Housing units</th>\n",
       "    </tr>\n",
       "  </thead>\n",
       "  <tbody>\n",
       "    <tr>\n",
       "      <th>0</th>\n",
       "      <td>0400000US06</td>\n",
       "      <td>6</td>\n",
       "      <td>California</td>\n",
       "      <td>0500000US06001</td>\n",
       "      <td>6001</td>\n",
       "      <td>California - Alameda County</td>\n",
       "      <td>Alameda County</td>\n",
       "      <td>1510271</td>\n",
       "      <td>582549</td>\n",
       "      <td>821.33</td>\n",
       "      <td>82.31</td>\n",
       "      <td>739.02</td>\n",
       "      <td>2043.6</td>\n",
       "      <td>788.3</td>\n",
       "    </tr>\n",
       "    <tr>\n",
       "      <th>1</th>\n",
       "      <td>0400000US06</td>\n",
       "      <td>6</td>\n",
       "      <td>California</td>\n",
       "      <td>0500000US06003</td>\n",
       "      <td>6003</td>\n",
       "      <td>California - Alpine County</td>\n",
       "      <td>Alpine County</td>\n",
       "      <td>1175</td>\n",
       "      <td>1760</td>\n",
       "      <td>743.18</td>\n",
       "      <td>4.85</td>\n",
       "      <td>738.33</td>\n",
       "      <td>1.6</td>\n",
       "      <td>2.4</td>\n",
       "    </tr>\n",
       "    <tr>\n",
       "      <th>2</th>\n",
       "      <td>0400000US06</td>\n",
       "      <td>6</td>\n",
       "      <td>California</td>\n",
       "      <td>0500000US06005</td>\n",
       "      <td>6005</td>\n",
       "      <td>California - Amador County</td>\n",
       "      <td>Amador County</td>\n",
       "      <td>38091</td>\n",
       "      <td>18032</td>\n",
       "      <td>605.96</td>\n",
       "      <td>11.37</td>\n",
       "      <td>594.58</td>\n",
       "      <td>64.1</td>\n",
       "      <td>30.3</td>\n",
       "    </tr>\n",
       "    <tr>\n",
       "      <th>3</th>\n",
       "      <td>0400000US06</td>\n",
       "      <td>6</td>\n",
       "      <td>California</td>\n",
       "      <td>0500000US06007</td>\n",
       "      <td>6007</td>\n",
       "      <td>California - Butte County</td>\n",
       "      <td>Butte County</td>\n",
       "      <td>220000</td>\n",
       "      <td>95835</td>\n",
       "      <td>1677.13</td>\n",
       "      <td>40.67</td>\n",
       "      <td>1636.46</td>\n",
       "      <td>134.4</td>\n",
       "      <td>58.6</td>\n",
       "    </tr>\n",
       "    <tr>\n",
       "      <th>4</th>\n",
       "      <td>0400000US06</td>\n",
       "      <td>6</td>\n",
       "      <td>California</td>\n",
       "      <td>0500000US06009</td>\n",
       "      <td>6009</td>\n",
       "      <td>California - Calaveras County</td>\n",
       "      <td>Calaveras County</td>\n",
       "      <td>45578</td>\n",
       "      <td>27925</td>\n",
       "      <td>1036.93</td>\n",
       "      <td>16.92</td>\n",
       "      <td>1020.01</td>\n",
       "      <td>44.7</td>\n",
       "      <td>27.4</td>\n",
       "    </tr>\n",
       "  </tbody>\n",
       "</table>\n",
       "</div>"
      ],
      "text/plain": [
       "            Id  Id2   Geography   Target Geo Id  Target Geo Id2  \\\n",
       "0  0400000US06    6  California  0500000US06001            6001   \n",
       "1  0400000US06    6  California  0500000US06003            6003   \n",
       "2  0400000US06    6  California  0500000US06005            6005   \n",
       "3  0400000US06    6  California  0500000US06007            6007   \n",
       "4  0400000US06    6  California  0500000US06009            6009   \n",
       "\n",
       "                 Geographic area Geographic area.1  Population  Housing units  \\\n",
       "0    California - Alameda County    Alameda County     1510271         582549   \n",
       "1     California - Alpine County     Alpine County        1175           1760   \n",
       "2     California - Amador County     Amador County       38091          18032   \n",
       "3      California - Butte County      Butte County      220000          95835   \n",
       "4  California - Calaveras County  Calaveras County       45578          27925   \n",
       "\n",
       "   Area in square miles - Total area  Area in square miles - Water area  \\\n",
       "0                             821.33                              82.31   \n",
       "1                             743.18                               4.85   \n",
       "2                             605.96                              11.37   \n",
       "3                            1677.13                              40.67   \n",
       "4                            1036.93                              16.92   \n",
       "\n",
       "   Area in square miles - Land area  \\\n",
       "0                            739.02   \n",
       "1                            738.33   \n",
       "2                            594.58   \n",
       "3                           1636.46   \n",
       "4                           1020.01   \n",
       "\n",
       "   Density per square mile of land area - Population  \\\n",
       "0                                             2043.6   \n",
       "1                                                1.6   \n",
       "2                                               64.1   \n",
       "3                                              134.4   \n",
       "4                                               44.7   \n",
       "\n",
       "   Density per square mile of land area - Housing units  \n",
       "0                                              788.3     \n",
       "1                                                2.4     \n",
       "2                                               30.3     \n",
       "3                                               58.6     \n",
       "4                                               27.4     "
      ]
     },
     "execution_count": 20,
     "metadata": {},
     "output_type": "execute_result"
    }
   ],
   "source": [
    "pop = pd.read_csv(\"../../Data/Geo/DEC_10_SF1_GCTPH1.ST05_with_ann.csv\")\n",
    "print(pop.shape)\n",
    "pop.head()"
   ]
  },
  {
   "cell_type": "markdown",
   "metadata": {},
   "source": [
    "Note that this is not geospatial data (it does not have coordinates in the \"Geography\" column). \n",
    "We need to use  \"Target Geo Id2\" column to match the other dataset later. However, to do so we need to add a 0 to each row in this column first (so it matches the \"GEOID\" column in our `cal_countries` geodataframe."
   ]
  },
  {
   "cell_type": "code",
   "execution_count": 21,
   "metadata": {},
   "outputs": [
    {
     "data": {
      "text/html": [
       "<div>\n",
       "<style scoped>\n",
       "    .dataframe tbody tr th:only-of-type {\n",
       "        vertical-align: middle;\n",
       "    }\n",
       "\n",
       "    .dataframe tbody tr th {\n",
       "        vertical-align: top;\n",
       "    }\n",
       "\n",
       "    .dataframe thead th {\n",
       "        text-align: right;\n",
       "    }\n",
       "</style>\n",
       "<table border=\"1\" class=\"dataframe\">\n",
       "  <thead>\n",
       "    <tr style=\"text-align: right;\">\n",
       "      <th></th>\n",
       "      <th>Id</th>\n",
       "      <th>Id2</th>\n",
       "      <th>Geography</th>\n",
       "      <th>Target Geo Id</th>\n",
       "      <th>Target Geo Id2</th>\n",
       "      <th>Geographic area</th>\n",
       "      <th>Geographic area.1</th>\n",
       "      <th>Population</th>\n",
       "      <th>Housing units</th>\n",
       "      <th>Area in square miles - Total area</th>\n",
       "      <th>Area in square miles - Water area</th>\n",
       "      <th>Area in square miles - Land area</th>\n",
       "      <th>Density per square mile of land area - Population</th>\n",
       "      <th>Density per square mile of land area - Housing units</th>\n",
       "      <th>GEOID</th>\n",
       "    </tr>\n",
       "  </thead>\n",
       "  <tbody>\n",
       "    <tr>\n",
       "      <th>0</th>\n",
       "      <td>0400000US06</td>\n",
       "      <td>6</td>\n",
       "      <td>California</td>\n",
       "      <td>0500000US06001</td>\n",
       "      <td>6001</td>\n",
       "      <td>California - Alameda County</td>\n",
       "      <td>Alameda County</td>\n",
       "      <td>1510271</td>\n",
       "      <td>582549</td>\n",
       "      <td>821.33</td>\n",
       "      <td>82.31</td>\n",
       "      <td>739.02</td>\n",
       "      <td>2043.6</td>\n",
       "      <td>788.3</td>\n",
       "      <td>06001</td>\n",
       "    </tr>\n",
       "    <tr>\n",
       "      <th>1</th>\n",
       "      <td>0400000US06</td>\n",
       "      <td>6</td>\n",
       "      <td>California</td>\n",
       "      <td>0500000US06003</td>\n",
       "      <td>6003</td>\n",
       "      <td>California - Alpine County</td>\n",
       "      <td>Alpine County</td>\n",
       "      <td>1175</td>\n",
       "      <td>1760</td>\n",
       "      <td>743.18</td>\n",
       "      <td>4.85</td>\n",
       "      <td>738.33</td>\n",
       "      <td>1.6</td>\n",
       "      <td>2.4</td>\n",
       "      <td>06003</td>\n",
       "    </tr>\n",
       "    <tr>\n",
       "      <th>2</th>\n",
       "      <td>0400000US06</td>\n",
       "      <td>6</td>\n",
       "      <td>California</td>\n",
       "      <td>0500000US06005</td>\n",
       "      <td>6005</td>\n",
       "      <td>California - Amador County</td>\n",
       "      <td>Amador County</td>\n",
       "      <td>38091</td>\n",
       "      <td>18032</td>\n",
       "      <td>605.96</td>\n",
       "      <td>11.37</td>\n",
       "      <td>594.58</td>\n",
       "      <td>64.1</td>\n",
       "      <td>30.3</td>\n",
       "      <td>06005</td>\n",
       "    </tr>\n",
       "    <tr>\n",
       "      <th>3</th>\n",
       "      <td>0400000US06</td>\n",
       "      <td>6</td>\n",
       "      <td>California</td>\n",
       "      <td>0500000US06007</td>\n",
       "      <td>6007</td>\n",
       "      <td>California - Butte County</td>\n",
       "      <td>Butte County</td>\n",
       "      <td>220000</td>\n",
       "      <td>95835</td>\n",
       "      <td>1677.13</td>\n",
       "      <td>40.67</td>\n",
       "      <td>1636.46</td>\n",
       "      <td>134.4</td>\n",
       "      <td>58.6</td>\n",
       "      <td>06007</td>\n",
       "    </tr>\n",
       "    <tr>\n",
       "      <th>4</th>\n",
       "      <td>0400000US06</td>\n",
       "      <td>6</td>\n",
       "      <td>California</td>\n",
       "      <td>0500000US06009</td>\n",
       "      <td>6009</td>\n",
       "      <td>California - Calaveras County</td>\n",
       "      <td>Calaveras County</td>\n",
       "      <td>45578</td>\n",
       "      <td>27925</td>\n",
       "      <td>1036.93</td>\n",
       "      <td>16.92</td>\n",
       "      <td>1020.01</td>\n",
       "      <td>44.7</td>\n",
       "      <td>27.4</td>\n",
       "      <td>06009</td>\n",
       "    </tr>\n",
       "  </tbody>\n",
       "</table>\n",
       "</div>"
      ],
      "text/plain": [
       "            Id  Id2   Geography   Target Geo Id  Target Geo Id2  \\\n",
       "0  0400000US06    6  California  0500000US06001            6001   \n",
       "1  0400000US06    6  California  0500000US06003            6003   \n",
       "2  0400000US06    6  California  0500000US06005            6005   \n",
       "3  0400000US06    6  California  0500000US06007            6007   \n",
       "4  0400000US06    6  California  0500000US06009            6009   \n",
       "\n",
       "                 Geographic area Geographic area.1  Population  Housing units  \\\n",
       "0    California - Alameda County    Alameda County     1510271         582549   \n",
       "1     California - Alpine County     Alpine County        1175           1760   \n",
       "2     California - Amador County     Amador County       38091          18032   \n",
       "3      California - Butte County      Butte County      220000          95835   \n",
       "4  California - Calaveras County  Calaveras County       45578          27925   \n",
       "\n",
       "   Area in square miles - Total area  Area in square miles - Water area  \\\n",
       "0                             821.33                              82.31   \n",
       "1                             743.18                               4.85   \n",
       "2                             605.96                              11.37   \n",
       "3                            1677.13                              40.67   \n",
       "4                            1036.93                              16.92   \n",
       "\n",
       "   Area in square miles - Land area  \\\n",
       "0                            739.02   \n",
       "1                            738.33   \n",
       "2                            594.58   \n",
       "3                           1636.46   \n",
       "4                           1020.01   \n",
       "\n",
       "   Density per square mile of land area - Population  \\\n",
       "0                                             2043.6   \n",
       "1                                                1.6   \n",
       "2                                               64.1   \n",
       "3                                              134.4   \n",
       "4                                               44.7   \n",
       "\n",
       "   Density per square mile of land area - Housing units  GEOID  \n",
       "0                                              788.3     06001  \n",
       "1                                                2.4     06003  \n",
       "2                                               30.3     06005  \n",
       "3                                               58.6     06007  \n",
       "4                                               27.4     06009  "
      ]
     },
     "execution_count": 21,
     "metadata": {},
     "output_type": "execute_result"
    }
   ],
   "source": [
    "# Add a zero to the new GEOID column\n",
    "pop[\"GEOID\"] = [\"0\" + str(x) for x in pop[\"Target Geo Id2\"]]\n",
    "pop.head()"
   ]
  },
  {
   "cell_type": "markdown",
   "metadata": {},
   "source": [
    "# Do the join!\n",
    "\n",
    "Now we can combine `cal_counties` and `pop` because they have the same number of rows. We use the `.merge()` method from pandas, similar to what we would do in SQL. \n",
    "\n",
    "In this case, we use the \"GEOID\" column to do an \"inner join\" of these dataframes. This only keep rows where the merge `on` value (in our case, values in the \"GEOID\" column) exists in both the left and right dataframes. (Note we could have also done another type of join as we expect all values in \"GEOID\" to be present). \n",
    "\n",
    "If you want to read more about joining dataframes, check out [this post](https://www.shanelynn.ie/merge-join-dataframes-python-pandas-index-1/) and the [pandas documentation](https://pandas.pydata.org/docs/reference/api/pandas.DataFrame.merge.html).\n",
    "\n",
    "![join](../../Img/join-types-merge-names.jpeg)"
   ]
  },
  {
   "cell_type": "code",
   "execution_count": 22,
   "metadata": {
    "scrolled": true
   },
   "outputs": [
    {
     "name": "stdout",
     "output_type": "stream",
     "text": [
      "(58, 24)\n"
     ]
    },
    {
     "data": {
      "text/html": [
       "<div>\n",
       "<style scoped>\n",
       "    .dataframe tbody tr th:only-of-type {\n",
       "        vertical-align: middle;\n",
       "    }\n",
       "\n",
       "    .dataframe tbody tr th {\n",
       "        vertical-align: top;\n",
       "    }\n",
       "\n",
       "    .dataframe thead th {\n",
       "        text-align: right;\n",
       "    }\n",
       "</style>\n",
       "<table border=\"1\" class=\"dataframe\">\n",
       "  <thead>\n",
       "    <tr style=\"text-align: right;\">\n",
       "      <th></th>\n",
       "      <th>STATEFP</th>\n",
       "      <th>COUNTYFP</th>\n",
       "      <th>COUNTYNS</th>\n",
       "      <th>AFFGEOID</th>\n",
       "      <th>GEOID</th>\n",
       "      <th>NAME</th>\n",
       "      <th>LSAD</th>\n",
       "      <th>ALAND</th>\n",
       "      <th>AWATER</th>\n",
       "      <th>geometry</th>\n",
       "      <th>...</th>\n",
       "      <th>Target Geo Id2</th>\n",
       "      <th>Geographic area</th>\n",
       "      <th>Geographic area.1</th>\n",
       "      <th>Population</th>\n",
       "      <th>Housing units</th>\n",
       "      <th>Area in square miles - Total area</th>\n",
       "      <th>Area in square miles - Water area</th>\n",
       "      <th>Area in square miles - Land area</th>\n",
       "      <th>Density per square mile of land area - Population</th>\n",
       "      <th>Density per square mile of land area - Housing units</th>\n",
       "    </tr>\n",
       "  </thead>\n",
       "  <tbody>\n",
       "    <tr>\n",
       "      <th>0</th>\n",
       "      <td>06</td>\n",
       "      <td>003</td>\n",
       "      <td>01675840</td>\n",
       "      <td>0500000US06003</td>\n",
       "      <td>06003</td>\n",
       "      <td>Alpine</td>\n",
       "      <td>06</td>\n",
       "      <td>1912292630</td>\n",
       "      <td>12557304</td>\n",
       "      <td>POLYGON ((-120.07248 38.50987, -120.07239 38.7...</td>\n",
       "      <td>...</td>\n",
       "      <td>6003</td>\n",
       "      <td>California - Alpine County</td>\n",
       "      <td>Alpine County</td>\n",
       "      <td>1175</td>\n",
       "      <td>1760</td>\n",
       "      <td>743.18</td>\n",
       "      <td>4.85</td>\n",
       "      <td>738.33</td>\n",
       "      <td>1.6</td>\n",
       "      <td>2.4</td>\n",
       "    </tr>\n",
       "    <tr>\n",
       "      <th>1</th>\n",
       "      <td>06</td>\n",
       "      <td>109</td>\n",
       "      <td>00277319</td>\n",
       "      <td>0500000US06109</td>\n",
       "      <td>06109</td>\n",
       "      <td>Tuolumne</td>\n",
       "      <td>06</td>\n",
       "      <td>5752079372</td>\n",
       "      <td>138722707</td>\n",
       "      <td>POLYGON ((-120.65255 37.83346, -120.64407 37.8...</td>\n",
       "      <td>...</td>\n",
       "      <td>6109</td>\n",
       "      <td>California - Tuolumne County</td>\n",
       "      <td>Tuolumne County</td>\n",
       "      <td>55365</td>\n",
       "      <td>31244</td>\n",
       "      <td>2274.43</td>\n",
       "      <td>53.55</td>\n",
       "      <td>2220.88</td>\n",
       "      <td>24.9</td>\n",
       "      <td>14.1</td>\n",
       "    </tr>\n",
       "    <tr>\n",
       "      <th>2</th>\n",
       "      <td>06</td>\n",
       "      <td>103</td>\n",
       "      <td>01692767</td>\n",
       "      <td>0500000US06103</td>\n",
       "      <td>06103</td>\n",
       "      <td>Tehama</td>\n",
       "      <td>06</td>\n",
       "      <td>7638228750</td>\n",
       "      <td>33767783</td>\n",
       "      <td>POLYGON ((-123.05927 40.28548, -123.04970 40.2...</td>\n",
       "      <td>...</td>\n",
       "      <td>6103</td>\n",
       "      <td>California - Tehama County</td>\n",
       "      <td>Tehama County</td>\n",
       "      <td>63463</td>\n",
       "      <td>26987</td>\n",
       "      <td>2962.17</td>\n",
       "      <td>12.46</td>\n",
       "      <td>2949.71</td>\n",
       "      <td>21.5</td>\n",
       "      <td>9.1</td>\n",
       "    </tr>\n",
       "    <tr>\n",
       "      <th>3</th>\n",
       "      <td>06</td>\n",
       "      <td>105</td>\n",
       "      <td>00277317</td>\n",
       "      <td>0500000US06105</td>\n",
       "      <td>06105</td>\n",
       "      <td>Trinity</td>\n",
       "      <td>06</td>\n",
       "      <td>8234265085</td>\n",
       "      <td>73407950</td>\n",
       "      <td>POLYGON ((-123.61749 40.93114, -123.60956 40.9...</td>\n",
       "      <td>...</td>\n",
       "      <td>6105</td>\n",
       "      <td>California - Trinity County</td>\n",
       "      <td>Trinity County</td>\n",
       "      <td>13786</td>\n",
       "      <td>8681</td>\n",
       "      <td>3207.60</td>\n",
       "      <td>28.34</td>\n",
       "      <td>3179.25</td>\n",
       "      <td>4.3</td>\n",
       "      <td>2.7</td>\n",
       "    </tr>\n",
       "    <tr>\n",
       "      <th>4</th>\n",
       "      <td>06</td>\n",
       "      <td>069</td>\n",
       "      <td>00277299</td>\n",
       "      <td>0500000US06069</td>\n",
       "      <td>06069</td>\n",
       "      <td>San Benito</td>\n",
       "      <td>06</td>\n",
       "      <td>3596590995</td>\n",
       "      <td>4719296</td>\n",
       "      <td>POLYGON ((-121.64400 36.89400, -121.62946 36.9...</td>\n",
       "      <td>...</td>\n",
       "      <td>6069</td>\n",
       "      <td>California - San Benito County</td>\n",
       "      <td>San Benito County</td>\n",
       "      <td>55269</td>\n",
       "      <td>17870</td>\n",
       "      <td>1390.47</td>\n",
       "      <td>1.76</td>\n",
       "      <td>1388.71</td>\n",
       "      <td>39.8</td>\n",
       "      <td>12.9</td>\n",
       "    </tr>\n",
       "  </tbody>\n",
       "</table>\n",
       "<p>5 rows × 24 columns</p>\n",
       "</div>"
      ],
      "text/plain": [
       "  STATEFP COUNTYFP  COUNTYNS        AFFGEOID  GEOID        NAME LSAD  \\\n",
       "0      06      003  01675840  0500000US06003  06003      Alpine   06   \n",
       "1      06      109  00277319  0500000US06109  06109    Tuolumne   06   \n",
       "2      06      103  01692767  0500000US06103  06103      Tehama   06   \n",
       "3      06      105  00277317  0500000US06105  06105     Trinity   06   \n",
       "4      06      069  00277299  0500000US06069  06069  San Benito   06   \n",
       "\n",
       "        ALAND     AWATER                                           geometry  \\\n",
       "0  1912292630   12557304  POLYGON ((-120.07248 38.50987, -120.07239 38.7...   \n",
       "1  5752079372  138722707  POLYGON ((-120.65255 37.83346, -120.64407 37.8...   \n",
       "2  7638228750   33767783  POLYGON ((-123.05927 40.28548, -123.04970 40.2...   \n",
       "3  8234265085   73407950  POLYGON ((-123.61749 40.93114, -123.60956 40.9...   \n",
       "4  3596590995    4719296  POLYGON ((-121.64400 36.89400, -121.62946 36.9...   \n",
       "\n",
       "   ... Target Geo Id2                 Geographic area  Geographic area.1  \\\n",
       "0  ...           6003      California - Alpine County      Alpine County   \n",
       "1  ...           6109    California - Tuolumne County    Tuolumne County   \n",
       "2  ...           6103      California - Tehama County      Tehama County   \n",
       "3  ...           6105     California - Trinity County     Trinity County   \n",
       "4  ...           6069  California - San Benito County  San Benito County   \n",
       "\n",
       "  Population  Housing units Area in square miles - Total area  \\\n",
       "0       1175           1760                            743.18   \n",
       "1      55365          31244                           2274.43   \n",
       "2      63463          26987                           2962.17   \n",
       "3      13786           8681                           3207.60   \n",
       "4      55269          17870                           1390.47   \n",
       "\n",
       "  Area in square miles - Water area  Area in square miles - Land area  \\\n",
       "0                              4.85                            738.33   \n",
       "1                             53.55                           2220.88   \n",
       "2                             12.46                           2949.71   \n",
       "3                             28.34                           3179.25   \n",
       "4                              1.76                           1388.71   \n",
       "\n",
       "   Density per square mile of land area - Population  \\\n",
       "0                                                1.6   \n",
       "1                                               24.9   \n",
       "2                                               21.5   \n",
       "3                                                4.3   \n",
       "4                                               39.8   \n",
       "\n",
       "   Density per square mile of land area - Housing units  \n",
       "0                                                2.4     \n",
       "1                                               14.1     \n",
       "2                                                9.1     \n",
       "3                                                2.7     \n",
       "4                                               12.9     \n",
       "\n",
       "[5 rows x 24 columns]"
      ]
     },
     "execution_count": 22,
     "metadata": {},
     "output_type": "execute_result"
    }
   ],
   "source": [
    "geo_pop = pd.merge(cal_counties, pop, on = \"GEOID\", how = \"inner\")\n",
    "print(geo_pop.shape)\n",
    "geo_pop.head()"
   ]
  },
  {
   "cell_type": "markdown",
   "metadata": {},
   "source": [
    "Note that we now have 24 columns for each row (the combined 10 and 15 columns of our previous 2 dataframes, with the \"GEOID\" column only counting as 1)."
   ]
  },
  {
   "cell_type": "markdown",
   "metadata": {},
   "source": [
    "# Plot\n",
    "\n",
    "Finally, we can plot this new dataframe, making use of the fact we have this census data!"
   ]
  },
  {
   "cell_type": "code",
   "execution_count": 23,
   "metadata": {},
   "outputs": [
    {
     "data": {
      "image/png": "[encoded data removed]",
      "text/plain": [
       "<Figure size 720x720 with 1 Axes>"
      ]
     },
     "metadata": {
      "needs_background": "light"
     },
     "output_type": "display_data"
    }
   ],
   "source": [
    "geo_pop.plot(\n",
    "    # Which column to visualize?\n",
    "    column = \"Housing units\", \n",
    "    \n",
    "    # Which color palette to use?\n",
    "    cmap = \"Reds\", \n",
    "    \n",
    "    # What color should be used to separate the counties?\n",
    "    edgecolor = \"black\", \n",
    "    \n",
    "    # Width of the county boundary lines\n",
    "    linewidth = 0.5, \n",
    "    \n",
    "    # Change figure size\n",
    "    figsize = (10, 10),\n",
    "    \n",
    "    # Add legend\n",
    "    legend = True,\n",
    "    \n",
    "    # What do the different classifier schemes do? \n",
    "    scheme = \"quantiles\",\n",
    "    k = 10\n",
    ");"
   ]
  },
  {
   "cell_type": "markdown",
   "metadata": {},
   "source": [
    "The `scheme` attribute above is especially noteworthy. This is a classification scheme that decides how we color-code our data.\n",
    "\n",
    "Visit the [this page](https://pysal.org/mapclassify/_modules/mapclassify/classifiers.html) and pass in different schemes. For instance, how does `scheme = \"Equal_Interval\"` differ from \"quantiles\"? \n",
    "\n",
    "> By the way: This is how people [lie with maps](https://www.amazon.com/How-Lie-Maps-Mark-Monmonier/dp/0226534219)! \n",
    "\n",
    "Let's make one more map, this time using the population density."
   ]
  },
  {
   "cell_type": "code",
   "execution_count": 24,
   "metadata": {
    "scrolled": false
   },
   "outputs": [
    {
     "data": {
      "image/png": "[encoded data removed]",
      "text/plain": [
       "<Figure size 432x432 with 1 Axes>"
      ]
     },
     "metadata": {
      "needs_background": "light"
     },
     "output_type": "display_data"
    }
   ],
   "source": [
    "geo_pop.plot(column = \"Density per square mile of land area - Population\", \n",
    "             cmap = \"Greens\", \n",
    "             edgecolor = \"black\", \n",
    "             linewidth = 0.1, \n",
    "             scheme = \"Quantiles\", \n",
    "             legend = True, \n",
    "             figsize = (6,6),\n",
    "             k = 7   # if you want to change the number of classes\n",
    "            );"
   ]
  },
  {
   "cell_type": "markdown",
   "metadata": {},
   "source": [
    "# Going further\n",
    "\n",
    "Much of the information in this notebook came from the [Geospatial Fundamentals in Python](https://github.com/dlab-berkeley/Geospatial-Fundamentals-in-Python) workshop. If you want to learn more, have a look!\n"
   ]
  }
 ],
 "metadata": {
  "kernelspec": {
   "display_name": "Python 3",
   "language": "python",
   "name": "python3"
  },
  "language_info": {
   "codemirror_mode": {
    "name": "ipython",
    "version": 3
   },
   "file_extension": ".py",
   "mimetype": "text/x-python",
   "name": "python",
   "nbconvert_exporter": "python",
   "pygments_lexer": "ipython3",
   "version": "3.8.5"
  }
 },
 "nbformat": 4,
 "nbformat_minor": 4
}
