{
 "cells": [
  {
   "cell_type": "code",
   "execution_count": 1,
   "metadata": {},
   "outputs": [
    {
     "name": "stderr",
     "output_type": "stream",
     "text": [
      "[nltk_data] Downloading package stopwords to\n",
      "[nltk_data]     /Users/tomvannuenen/nltk_data...\n",
      "[nltk_data]   Package stopwords is already up-to-date!\n",
      "[nltk_data] Downloading package averaged_perceptron_tagger to\n",
      "[nltk_data]     /Users/tomvannuenen/nltk_data...\n",
      "[nltk_data]   Package averaged_perceptron_tagger is already up-to-\n",
      "[nltk_data]       date!\n"
     ]
    }
   ],
   "source": [
    "import os\n",
    "import pandas as pd\n",
    "# import matplotlib as mpl\n",
    "import matplotlib\n",
    "import matplotlib.pyplot as plt\n",
    "# !pip install seaborn\n",
    "import seaborn as sns\n",
    "\n",
    "import nltk\n",
    "nltk.download(\"stopwords\")\n",
    "nltk.download(\"averaged_perceptron_tagger\")\n",
    "from nltk.corpus import stopwords"
   ]
  },
  {
   "cell_type": "markdown",
   "metadata": {},
   "source": [
    "# Challenge 1: Histogram\n",
    "\n",
    "1. Create a histogram of life expectency across all 142 countries in the gapminder dataset. Play with the `bins=` parameter to find the most informative bin number."
   ]
  },
  {
   "cell_type": "code",
   "execution_count": 2,
   "metadata": {},
   "outputs": [
    {
     "data": {
      "text/plain": [
       "'/Users/tomvannuenen/Documents/GitHub/DIGHUM101-2022/Notebooks/Challenges/Solutions/Week2'"
      ]
     },
     "execution_count": 2,
     "metadata": {},
     "output_type": "execute_result"
    }
   ],
   "source": [
    "# Set working directory\n",
    "# %pwd\n",
    "os.getcwd()"
   ]
  },
  {
   "cell_type": "code",
   "execution_count": 3,
   "metadata": {},
   "outputs": [
    {
     "data": {
      "text/plain": [
       "'/Users/tomvannuenen/Documents/GitHub/DIGHUM101-2022/Data'"
      ]
     },
     "execution_count": 3,
     "metadata": {},
     "output_type": "execute_result"
    }
   ],
   "source": [
    "# Change working directory\n",
    "os.chdir(\"../../../../Data/\")\n",
    "os.getcwd()"
   ]
  },
  {
   "cell_type": "code",
   "execution_count": 4,
   "metadata": {},
   "outputs": [
    {
     "name": "stdout",
     "output_type": "stream",
     "text": [
      "\u001b[34mGeo\u001b[m\u001b[m/                          feminism.json\r\n",
      "childrens_lit.csv             feminism.xml\r\n",
      "compound_figure.pdf           frankenstein.txt\r\n",
      "correspondence-data-1585.csv  gapminder-FiveYearData.csv\r\n",
      "dracula.txt                   \u001b[34mhuman-rights\u001b[m\u001b[m/\r\n",
      "example.json                  iris.csv\r\n",
      "example.xml                   music_reviews.csv\r\n"
     ]
    }
   ],
   "source": [
    "# List files in working directory\n",
    "%ls"
   ]
  },
  {
   "cell_type": "code",
   "execution_count": 5,
   "metadata": {},
   "outputs": [
    {
     "data": {
      "text/html": [
       "<div>\n",
       "<style scoped>\n",
       "    .dataframe tbody tr th:only-of-type {\n",
       "        vertical-align: middle;\n",
       "    }\n",
       "\n",
       "    .dataframe tbody tr th {\n",
       "        vertical-align: top;\n",
       "    }\n",
       "\n",
       "    .dataframe thead th {\n",
       "        text-align: right;\n",
       "    }\n",
       "</style>\n",
       "<table border=\"1\" class=\"dataframe\">\n",
       "  <thead>\n",
       "    <tr style=\"text-align: right;\">\n",
       "      <th></th>\n",
       "      <th>country</th>\n",
       "      <th>year</th>\n",
       "      <th>pop</th>\n",
       "      <th>continent</th>\n",
       "      <th>lifeExp</th>\n",
       "      <th>gdpPercap</th>\n",
       "    </tr>\n",
       "  </thead>\n",
       "  <tbody>\n",
       "    <tr>\n",
       "      <th>0</th>\n",
       "      <td>Afghanistan</td>\n",
       "      <td>1952</td>\n",
       "      <td>8425333.0</td>\n",
       "      <td>Asia</td>\n",
       "      <td>28.801</td>\n",
       "      <td>779.445314</td>\n",
       "    </tr>\n",
       "    <tr>\n",
       "      <th>1</th>\n",
       "      <td>Afghanistan</td>\n",
       "      <td>1957</td>\n",
       "      <td>9240934.0</td>\n",
       "      <td>Asia</td>\n",
       "      <td>30.332</td>\n",
       "      <td>820.853030</td>\n",
       "    </tr>\n",
       "    <tr>\n",
       "      <th>2</th>\n",
       "      <td>Afghanistan</td>\n",
       "      <td>1962</td>\n",
       "      <td>10267083.0</td>\n",
       "      <td>Asia</td>\n",
       "      <td>31.997</td>\n",
       "      <td>853.100710</td>\n",
       "    </tr>\n",
       "    <tr>\n",
       "      <th>3</th>\n",
       "      <td>Afghanistan</td>\n",
       "      <td>1967</td>\n",
       "      <td>11537966.0</td>\n",
       "      <td>Asia</td>\n",
       "      <td>34.020</td>\n",
       "      <td>836.197138</td>\n",
       "    </tr>\n",
       "    <tr>\n",
       "      <th>4</th>\n",
       "      <td>Afghanistan</td>\n",
       "      <td>1972</td>\n",
       "      <td>13079460.0</td>\n",
       "      <td>Asia</td>\n",
       "      <td>36.088</td>\n",
       "      <td>739.981106</td>\n",
       "    </tr>\n",
       "  </tbody>\n",
       "</table>\n",
       "</div>"
      ],
      "text/plain": [
       "       country  year         pop continent  lifeExp   gdpPercap\n",
       "0  Afghanistan  1952   8425333.0      Asia   28.801  779.445314\n",
       "1  Afghanistan  1957   9240934.0      Asia   30.332  820.853030\n",
       "2  Afghanistan  1962  10267083.0      Asia   31.997  853.100710\n",
       "3  Afghanistan  1967  11537966.0      Asia   34.020  836.197138\n",
       "4  Afghanistan  1972  13079460.0      Asia   36.088  739.981106"
      ]
     },
     "execution_count": 5,
     "metadata": {},
     "output_type": "execute_result"
    }
   ],
   "source": [
    "# Import gapminder\n",
    "gap = pd.read_csv(\"gapminder-FiveYearData.csv\")\n",
    "gap.head()"
   ]
  },
  {
   "cell_type": "code",
   "execution_count": 6,
   "metadata": {
    "scrolled": true
   },
   "outputs": [
    {
     "data": {
      "image/png": "[encoded data removed]",
      "text/plain": [
       "<Figure size 432x288 with 1 Axes>"
      ]
     },
     "metadata": {
      "needs_background": "light"
     },
     "output_type": "display_data"
    }
   ],
   "source": [
    "plt.hist(gap['lifeExp'], bins=20)\n",
    "plt.title('Distribution of Global Life Expectantcy in 2007')\n",
    "plt.xlabel('Life Expectantcy (Years)')\n",
    "plt.ylabel('# of Countries');"
   ]
  },
  {
   "cell_type": "markdown",
   "metadata": {},
   "source": [
    "# Challenge 2: Bar plot\n",
    "\n",
    "Make a bar plot for the 20 most frequently occuring words found in \"fiji2014.txt\""
   ]
  },
  {
   "cell_type": "code",
   "execution_count": 7,
   "metadata": {},
   "outputs": [
    {
     "name": "stdout",
     "output_type": "stream",
     "text": [
      " \n",
      " United Nations \n",
      " A/HRC/28/8 \n",
      " \n",
      " \n",
      "\n",
      " General Assembly \n",
      " Distr.: General \n",
      "17 December 2014 \n",
      " \n",
      "Original: English \n",
      " \n",
      "\n",
      "Human Rights Council \n",
      "\n",
      "Twenty-eighth session \n",
      "Agenda item 6 \n",
      "Universal Periodic Review \n",
      "  Report of the Working Group on the Universal Periodic Review* \n",
      " * The annex to the present report is circulated as received. \n",
      "  Fiji \n",
      "Contents \n",
      " Paragraphs Page \n",
      "  Introduction .............................................................................................................  1Ð4 3 \n",
      " I. Summary of the proceedings of the review process ................................................  5Ð98 3 \n",
      "  A. Presentation by the State under review ...........................................................  5Ð20 3 \n",
      "  B. Interactive dialogue and responses by the State under review ........................  21Ð98 5 \n",
      " II. Conclusions and/or recommendations .....................................................................  99Ð102 13 \n",
      " Annex \n",
      "  Composition of the delegation .........................................................................................................  24 \n",
      "  Introduction \n",
      "1. The Working Group on the Universal Periodic Review, established in accordance with Human Rights Council resolution 5/1 of 18 June 2007, held its twentieth session from 27 October to 7 November 2014. The review of Fiji was held at the 5th meeting, on 29 October 2014. The delegation of Fiji was headed by Aiyaz Sayed-Khaiyum, Attorney-General and Minister of Justice. At its 10th meeting, held on 31 October 2014, the Working Group adopted the report on Fiji. \n",
      "2. On 15 January 2014, the Human Rights Council selected the following group of rapporteurs (troika) to facilitate the review of Fiji: Japan, Namibia and the Russian Federation. \n",
      "3. In accordance with paragraph 15 of the annex to resolution 5/1 and paragraph 5 of the annex to resolution 16/21, the following documents were issued for the review of Fiji: \n",
      "(a) A national report submitted/written presentation made in accordance with paragraph 15 (a) (A/HRC/WG.6/20/FJI/1);  \n",
      "(b) A compilation prepared by the Office of the United Nations High Commissioner for Human Rights (OHCHR) in accordance with paragraph 15 (b) (A/HRC/WG.6/20/FJI/2); \n",
      "(c) A summary prepared by OHCHR in accordance with paragraph 15 (c) (A/HRC/WG.6/20/FJI/3).  \n",
      "4. A list of questions prepared in advance by Belgium, Germany, Liechtenstein, Mexico, Netherlands, Slovenia, Spain and the United Kingdom of Great Britain and Northern Ireland was transmitted to Fiji through the troika. The questions are available on the extranet of the universal periodic review (UPR). \n",
      " I. Summary of the proceedings of the review process \n",
      " A. Presentation by the State under review \n",
      "5. Opening statements by the Fijian delegation were made by the Attorney-General and Minister for Justice, the Chief Justice, the Director of Public Prosecutions and the Chairman of the Media Industry Development Authority. \n",
      "6. The commitment of Fiji to promoting and protecting the fundamental principles and values of universal human rights set forth in the Universal Declaration of Human Rights had been affirmed in the Fijian Constitution adopted on 7 September 2013. The first Constitution in Fiji to eliminate the legal enforcement of ethnic voting and to include social and economic rights, as well as civil and political rights, it had created a transformative human rights normative framework for the people of Fiji. Under the Constitution, the State was legally obliged to protect and promote those rights. \n",
      "7. Fiji had held elections under the Constitution on 17 September 2014, with an 84.6 per cent participation rate of registered voters, and a record low 0.75 per cent of invalid ballots. In a preliminary statement, the Multinational Observer Group had deemed the elections credible and representative of the will of the Fijian people. \n",
      "8. In addition to the human rights set forth in the core international human rights instruments, Fiji urged the Human Rights Council to address emerging human rights issues \n",
      "including trans-border impacts of climate change, asylum policies and consequences of free trade agreements on social and economic rights. \n",
      "9. In response to questions on the ratification of international human rights instruments from Belgium, Mexico and the United Kingdom, Fiji confirmed that it was not a party to the International Covenant on Civil and Political Rights, the International Covenant on Economic, Social and Cultural Rights, or the Convention against Torture and Other Cruel, Inhuman or Degrading Treatment or Punishment. Nonetheless, the robust Bill of Rights in the Constitution went beyond obligations under those instruments and placed an obligation on the State to promote and protect those rights for all Fijians. Those rights were applied directly by the Fijian judiciary. Approval of the ratification of those international instruments was the prerogative of Parliament. \n",
      "10. Fiji remained amenable to inviting special procedures mandate holders to visit the country. However, it was operating in an entirely new political, social and legislative environment. Fiji wanted to be in a position to ratify those instruments and have the resources to host and meet the standards of the mandate holders before inviting them. \n",
      "11. WomenÕs rights in Fiji were in line with the Convention on the Elimination of All Forms of Discrimination against Women (CEDAW), which Fiji had ratified in 1995. In response to questions from ten countries on steps taken to end discrimination and violence against women, Fiji acknowledged the challenges posed by those issues. New initiatives included updated provisions in the Crimes Decree for the offences of rape and sexual assault, the passing and application of the Domestic Violence Decree, judicial training, a new National Gender Policy and gender training for civil servants. Fiji corrected the claim made by the Netherlands that the Constitution did not protect women by listing the newly protected grounds, in addition to sex and gender, in the Bill of Rights, which included gender identity and expression, pregnancy and marital status, and constituted broad protection from discrimination against women, allowing for the legal expression of intersectional discrimination. It was also clarified that the higher levels of reported cases of domestic violence, about which concern had been raised, in fact reflected higher reporting by victims owing to their confidence in the above-mentioned initiatives. \n",
      "12. Those measures would only be meaningful if all stakeholders played their part in shaping societyÕs attitudes towards zero tolerance of discrimination and violence against women. Training and participation by the police, civil society, the judiciary and prosecutors was also required. It was important for civil society organizations to familiarize themselves with those laws and initiatives because they were empowered to represent women in the legal system under the Domestic Violence Decree. \n",
      "13. The Domestic Violence Decree did not establish domestic violence as an offence; the charge would remain one of assault under the Crimes Decree. However, there were important provisions in the Domestic Violence Decree that could be used to protect women. \n",
      "14. Responding to questions from Belgium and Estonia on the International Criminal Court, the delegation said that Fiji had been one of the first States to ratify the Rome Statute and it remained steadfastly committed to the International Criminal Court. The countryÕs domestic legislation is in full complementarity with the provisions of the Rome Statute and domestic legislation through the Crimes Decree. \n",
      "15. Responding to questions from Ethiopia and Switzerland on rights vis-ˆ-vis limitations in the Fijian Constitution, Fiji explained that the burden was on the State to prove that the limitations were necessary. The law must always promote the values that underlay a democratic society based on human dignity, equality and freedom. In addition, section 7 of the Bill of Rights, underpinning those democratic principles, guided the courtsÕ interpretations and allowed them to consider international law in their decisions. \n",
      "16. Responding to questions about the abolition of the death penalty asked by France, Germany and Namibia, Fiji noted that it had abolished the death penalty in 2001. However, it remained in the Military Code indirectly, by virtue of the applicability of the Army Act 1955 of the United Kingdom. Fiji announced that in the forthcoming session of Parliament, the Military Code would be amended to remove the reference to the death penalty altogether. \n",
      "17. Responding to questions and recommendations from Germany, New Zealand and the Republic of Korea on human rights abuses, in particular alleged torture and ill-treatment by the police, Fiji explained that, in cases in which complaints were made to the police, and in which the Director of Public Prosecutions determined that there was sufficient evidence for prosecution, the perpetrators had been prosecuted. Indeed, some were currently serving terms of imprisonment for such acts. \n",
      "18. The new legal framework of Fiji under the Constitution allowed steps to be taken to ensure that police procedures were modernized and made more transparent. It was acknowledged that torture during interrogation had been a long-standing problem in Fiji, owing to cultural misconceptions inherited from attitudes prevalent in Europe within living memory. Therefore, in order to avoid lengthy court proceedings to determine whether confessions and statements had been obtained under torture, the judiciary had itself provided budgetary resources to launch a project under which all interviews of suspects in custody would be video recorded, and would provide additional funds and training for the investigators. That had been done in recognition of the fact that institutions must combine their resources in order to eliminate impropriety and violent treatment, and to ensure a more efficient justice system. \n",
      "19. The police had also acknowledged deficiencies in police investigations and aspects of police culture that in the past had excused or ignored police brutality, and that training was needed in the areas of domestic violence and interrogations. Specialized organizations had been invited to cooperate with relevant Fijian agencies in the provision of such training so as to improve the human rights standing of the criminal justice system in Fiji. In further response to concerns raised about assaults and brutality in police custody, the delegation explained that, in cases in which evidence had been obtained by means of assault by the police, the prosecution would not continue and the matter would be referred to the Commissioner of Police for investigation and possible criminal charges against the officers. Such cases had most recently resulted in the prosecution and conviction of three police officers who had been convicted of murder by joint enterprise, and two who had been convicted of being accessories after the fact when a young man had died in police custody. \n",
      "20. The Fijian criminal justice system was explained, with particular emphasis on the processes followed between the lodging of a criminal complaint and the decision on whether or not to proceed with the prosecution. It was emphasized that the police were also independent of the Government and the Director of Public Prosecutions with regard to how police investigations were conducted, and that the police could only act if a formal written complaint was made by a person, including if the complaint was one of unfair treatment by the police.  \n",
      " B. Interactive dialogue and responses by the State under review \n",
      "21. During the interactive dialogue, 54 delegations made statements. Recommendations made during the dialogue can be found in section II of the present report. \n",
      "22. Venezuela (Bolivarian Republic of) commended efforts on social development, poverty reduction, the health service, decent housing and the risk of natural disasters. The \n",
      "National Policy on Persons Living with Disabilities and free primary and secondary education were noted. It made recommendations. \n",
      "23. Algeria welcomed the Constitution establishing universal principles and the strengthened legal framework for human rights, particularly regarding elections and political participation. Policies addressing persons with disabilities and older persons, and efforts to address living standards were appreciated. Algeria made recommendations. \n",
      "24. Argentina offered its congratulations on the introduction of the National Gender Policy promoting gender equality, social justice and sustainable development. Argentina referred to its work with France and other countries on an international campaign to encourage ratification of the International Convention for the Protection of All Persons from Enforced Disappearance (ICPPED) and made recommendations. \n",
      "25. Australia welcomed the 2014 elections and the provisional recognition of their credibility from the Multinational Observer Group. Australia noted the importance of supporting the democratic role of civil society and the media. Australia commended the International Labour Organization (ILO) direct contacts mission and noted the continued need for close engagement with labour partners. Australia made recommendations. \n",
      "26. Bangladesh noted progress, despite the challenges faced and the vulnerability of Fiji to natural disasters, highlighting the Constitution, improvements in womenÕs and childrenÕs health and resources for education. WomenÕs involvement in public life and decision-making, and gender-based violence were reported areas of concern. Bangladesh made recommendations. \n",
      "27. Belgium welcomed the introduction of electoral legislation and the revocation of the Public Emergency Regulations 2009, while recognizing ongoing human rights challenges. The National Gender Policy was noted, although gender-based violence was prevalent, and the importance of freedom of expression and assembly were emphasized. Belgium made recommendations. \n",
      "28. Brazil commended Fiji for the successful general elections and the appointment of women to ministerial and assistant ministerial positions. It was concerned about restrictions on freedom of opinion and expression and the percentage of the population living below the poverty line. Brazil made recommendations. \n",
      "29. Canada asked what steps were being taken to ensure full protection of the rights to freedom of expression, opinion, association and assembly. It welcomed the news that women accounted for 16 per cent of the new Parliament and the election of a female Speaker of Parliament. It made recommendations. \n",
      "30. Chile encouraged action to ensure the independence of the judiciary, restrict the scope of emergency legislation, guarantee freedom of expression, and compensate victims of human rights violations. It made recommendations. \n",
      "31. China commended Fiji for its commitment to gender equality and social justice, the National Policy on Persons Living with Disabilities and the National Council for Older Persons. It also commended the increase in investment aimed at guaranteeing free primary and secondary education. It made a recommendation. \n",
      "32. Costa Rica encouraged speedier action to ratify core human rights instruments, and urged Fiji to continue cooperating with treaty bodies and special procedures. It welcomed the steps that were being taken to remove the death penalty from all legal instruments. It made recommendations. \n",
      "33. Cuba commended the steps being taken by Fiji to meet the needs of persons with disabilities and to ensure access to free primary and secondary education. Cuba urged the \n",
      "international community to support national efforts for issues identified as priorities. It made a recommendation. \n",
      "34. Denmark welcomed the new GovernmentÕs undertaking to ratify all core human rights instruments. Noting that steps to ratify the Convention against Torture (CAT) were already under way, it encouraged the Government to seek the assistance of the Convention against Torture Initiative. Denmark made recommendations. \n",
      "35. Estonia noted that the drafting of the Constitution had not been all-inclusive. It urged Fiji to abolish decrees restricting media freedom, put a stop to the intimidation and harassment of persons who criticized the State, and ensure zero tolerance of violence against women. It made recommendations. \n",
      "36. Ethiopia enquired about the impact of legal restrictions applicable to certain constitutional rights on individualsÕ enjoyment of the rights concerned. It noted the existence of restrictions on the capacity of law enforcement bodies to interpret the countryÕs human rights obligations. It made a recommendation. \n",
      "37. France welcomed the restoration of parliamentary democracy and the adoption of the new Constitution, which had put an end to major discrimination on ethnic grounds. France made recommendations. \n",
      "38. Germany welcomed the Bill of Rights contained in the new Constitution. It commended the abolitionist approach taken towards the death penalty for over two decades. Germany made recommendations. \n",
      "39. Fiji indicated that the Human Rights and Anti-Discrimination Commission would now serve as the predominant enforcement body for the Bill of Rights guaranteed under the Constitution. The Constitution provided for the independence of the Commission in its functions and in the exercise of its authority and powers, including administrative autonomy and control over its own budget and finances. In order to fulfil its mandate, which included enforcing and monitoring compliance with the human rights instruments ratified by the Government, including by bringing proceedings before the courts, Parliament had to provide adequate funding and resources for the Commission. OHCHR and development partners were invited to work with the Government to strengthen the capacity of the Commission and ensure compliance with the principles relating to the status of national institutions for the promotion and protection of human rights (Paris Principles). \n",
      "40. The meritocracy approach to the Fijian public service had done away with discriminatory policies that had promoted an elite agenda and clique rather than addressing the inequalities they had claimed to address. \n",
      "41. The Chief Justice refuted any insinuations that the Fijian judiciary was not independent and that it was subject to the direction and control of the Government. The appointment of judicial officers was handled by the Judicial Services Commission, and consultation with, not concurrence or approval of, the Attorney-General was required. In the case of disagreement, it was ultimately the CommissionÕs final decision. Comments to the effect that the Government controlled the judiciary were therefore erroneous. Representation on the Commission of members and non-members of the Bar, and video recording of its proceedings, were a noticeable improvement from the situation under the 1997 Constitution. The appointment process of members to the Commission was considerably less subject to political influence and control. Furthermore, new protections had been introduced into the 2013 Constitution providing for the independence and autonomy of the judiciary, in section 97. \n",
      "42. The only two judicial appointments controlled by the Government were those of the Chief Justice and the President of the Court of Appeal, under procedures that were the same as those contained in the 1997 Constitution, and similar to other jurisdictions. The \n",
      "arrangements under the current Constitution for judicial appointments were a noticeable improvement from previous constitutions. \n",
      "43. The only interference in the Fijian judiciary had been the travel bans placed by Australia and New Zealand on members of the Fijian judiciary appointed after 2009, which had prevented suitably qualified persons who might have served on the judicial bench from doing so. Sri Lankan assistance in allowing the secondment of its judiciary to Fiji had enabled the judiciary in Fiji to continue to function effectively. \n",
      "44. Section 97 of the Fijian Constitution had brought the judiciary into compliance with the Basic Principles on the Independence of the Judiciary and the Basic Principles on the Role of Lawyers. \n",
      "45. The Chief Justice said that a substantial training programme had been put in place for the judiciary in order to enable all its members to be fully cognizant with human rights issues, including awareness of and sensitivity to gender issues and children in court. Training input and assistance from specialist non-governmental organizations (NGOs) would be welcomed. However, the judiciary could not discuss individual cases with NGOs, and requests for information and letters seeking intervention with a view to appeal were better addressed to the Director of Public Prosecutions. \n",
      "46. Other developments in the judicial sector had included the introduction of sittings conducted in open court, except in cases involving childrenÕs evidence, trade secrets, copyright or national security. Video recording of all court proceedings would also be introduced in the near future. In order to improve access to justice, and in line with the Bill of Rights in the Constitution, new lifts for the disabled, crches, and rooms for vulnerable witnesses had been introduced in courts. \n",
      "47. The Chief Justice had issued a directive indicating that no case in which the applicability of ouster clauses was challenged could be rejected by registry staff on initial filing. All such cases must be listed before a judge for his/her ruling on that jurisdictional matter. Discussions would be ongoing with organizations such as ILO on providing training sessions for judges and lawyers in relevant areas. \n",
      "48. Ghana welcomed the entry into force of the new Constitution, which took into account the rights of children and of persons with disabilities. Ghana made recommendations. \n",
      "49. India commended the holding of democratic elections, the adoption of the Constitution, the commitment to ratifying core human rights treaties, the allocation of resources to promote access to justice, the HIV/AIDS Decree, the National Policy on Persons Living with Disabilities and the National Gender Policy. India made recommendations. \n",
      "50. Indonesia welcomed the results of the elections, in which Fijians had freely exercised their right to vote. It recalled the ten-year time frame set by the Government to ratify the core human rights treaties. It commended efforts to combat discrimination against women, particularly through the National Gender Policy. Indonesia made recommendations. \n",
      "51. Ireland urged Fiji to cooperate fully with special procedures. It expressed concern about restrictions on freedom of expression under the Constitution and the Media Decree and the impact of the Public Order Amendment Decree on the exercise of freedom of peaceful assembly. Ireland made recommendations. \n",
      "52. Israel commended the holding of free and fair elections and the adoption of the Constitution, which enshrined non-negotiable principles and values such as a common and equal citizenry, a secular State and social justice. It asked whether concrete measures were \n",
      "being taken to maintain a judiciary that was independent of the Government and the military. Israel made a recommendation. \n",
      "53. Italy appreciated the GovernmentÕs commitment to ratify the outstanding human rights instruments within ten years. It welcomed the steps taken to strengthen womenÕs rights and commended the ratification of CEDAW and the adoption of the National Gender Policy. It encouraged the authorities to combat stereotypical attitudes to women and violence against women. Italy made recommendations. \n",
      "54. Japan welcomed the positive developments to promote the democratic process, but expressed concern about the broad grounds under the Constitution for restrictions on freedom of expression, opinion, association and assembly. It encouraged Fiji to further promote womenÕs status and increase their participation in decision-making processes. Japan made recommendations. \n",
      "55. Kenya enquired about progress in ratifying core human rights instruments. It noted that the 2009 Human Rights Commission Decree affected the CommissionÕs independence and functionality. Kenya made recommendations. \n",
      "56. Kuwait commended Fiji for its commitment to ratifying all core human rights treaties and the steps it had taken to enhance and implement the Strategic Development Plan. Kuwait made a recommendation. \n",
      "57. Lebanon welcomed the steps taken to safeguard political, social, economic and cultural freedoms and freedom of the media, thereby consolidating democracy and equal rights. It commended in particular the adoption of the Constitution and the holding of general elections. Lebanon made recommendations. \n",
      "58. Malaysia appreciated the implementation of various policies and plans, as recommended during the first review. Positive updates in education, information and communications technology, housing, womenÕs empowerment and childrenÕs rights were welcomed, alongside the Constitution and free elections. Engagement with the international community was noted. Malaysia made recommendations. \n",
      "59. Maldives welcomed the Constitution and congratulated the Government on successful elections and its commitment to democratic consolidation and the rule of law. It also welcomed the efforts to reduce carbon emissions and mitigate and adapt to climate change. Maldives made a recommendation. \n",
      "60. Montenegro asked about progress towards ratification of core human rights treaties, implementation of the National Gender Policy, measures to ensure gender equality in law and practice, and discussions on removing the death penalty from the Military Code. Montenegro made recommendations. \n",
      "61. Morocco welcomed the holding of elections, the implementation of the Roadmap for Democracy, which targeted revitalization of the national economy and the elimination of ethnic discrimination, and the progressive Constitution. It asked for an update on the implementation of the Domestic Violence Decree. Morocco made recommendations. \n",
      "62. Namibia commended progress in the sphere of civil and political rights. It noted strengthened human rights institutions and the new Constitution, which provided for an independent judiciary, human rights for all and equal access to the law. Namibia made recommendations. \n",
      "63. The Netherlands appreciated the return to democracy, the Constitution and the WomenÕs Plan of Action. Concerns were raised that gender equality had not been established in the Constitution and that no comprehensive law criminalized all forms of gender-based violence. The Netherlands made recommendations. \n",
      "64. New Zealand welcomed recent elections, the successful first sitting of Parliament and the ILO direct contacts mission. The situation of human rights defenders was a concern. It noted investigations into violence in custody and the reconvening of the Fiji Law Society. It made recommendations. \n",
      "65. Norway noted that the Constitution enshrined the principles of equality, non-discrimination and an independent judiciary and established the rights of indigenous Fijians. The September elections had been a significant step. An active role for Fiji in the Human Rights Council would be welcomed. Norway made recommendations. \n",
      "66. The Philippines noted the strengthening of democratic processes and protection for vulnerable groups. It asked whether resources for socioeconomic programmes had been allocated and how development partners could help. It also asked what barriers there were to the functioning of the judiciary and how the international community could provide assistance. It made a recommendation. \n",
      "67. In response to the questions pertaining to the media and freedom of speech, of expression and of the press, Fiji stated that it did not accept the premise of the questions asked on the Media Industry Development Decree, since those questions had implied or stated outright that the media framework was restrictive and/or that there was censorship of the media. \n",
      "68. Through its Bill of Rights, the Fijian Constitution unequivocally recognized freedom of the press as pivotal to the realization of freedom of speech, expression, thought, opinion and publication. \n",
      "69. Fiji shared the concerns that had been voiced about the fact that repressive laws could severely restrict press freedom. Fiji had taken significant steps in securing greater rights and freedoms. However, no country guaranteed unfettered freedom without responsibility. While guaranteeing freedom of speech, expression, thought, opinion and of the press, the Constitution explicitly prohibited any speech, opinion or expression that was tantamount to war propaganda, incitement to violence or insurrection against the Constitution, or advocated hatred based on any of the prohibited grounds of discrimination, which included race, culture, ethnic or social origin, sex, gender, sexual orientation and gender identity, language, economic, social or health status, disability, age and religion. Those limitations were also in line with general recommendation No. 35 of the Committee on the Elimination of Racial Discrimination on combating racist hate speech. \n",
      "70. The Fijian Constitution contained a definition of hate speech that was comparable to that in the German legal framework, given the history of religious and racial intolerance. Training to ensure that the media understood where to draw the line between free speech and limitations on free speech in accordance with international law, especially the jurisprudence of the European Court of Human Rights, was of paramount importance. \n",
      "71. The Public Emergency Regulations had been revoked. The Media Industry Development Decree 2010, through a very progressive Media Code of Ethics and the Constitution, guaranteed the freedom of the press and protected the confidentiality of journalistic sources, in line with a decision of the European Court of Human Rights and article 10 of the European Convention on Human Rights. It also encouraged robust debate without inciting hatred and was consistent with the law on justifiable limitations to free speech under the International Covenant on Civil and Political Rights (ICCPR) and the European Convention. It should be noted that the Media Code of Ethics in the Media Industry Development Decree 2010 had been copied verbatim from the Code of Ethics adopted by the previous self-regulated Media Council. \n",
      "72. The Media Industry Development Authority had called for balanced, accurate and evidence-based reporting, encouraging quality journalism that was ethical and followed internationally recognized protocols of responsible journalism. \n",
      "73. The Media Industry Development Decree 2010 provided for an independent media tribunal, presided over by a High Court judge, which adjudicated in cases of breaches of media codes or matters relating to media disputes. Only one prosecution had taken place under the Media Industry Development Authority, in relation to foreign ownership of a media organization. There had been no prosecution of any media organization for breaches of the Code of Ethics, or regarding media content. \n",
      "74. The Media Industry Development Authority had actively encouraged the mainstream media, both print and broadcast, to report freely and critically on public opinion and views, including those which were critical of the Government. The consistent call from the Media Industry Development Authority for self-regulation and continuous education of the media was consistent with the recent call from the United Nations Educational, Scientific and Cultural Organization (UNESCO) in its 2014 report, ÒWorld trends in freedom of expression and media developmentÓ, to strengthen national legislative frameworks and the training of journalists in order to build capacity and improve media and information literacy, and to support media independence by promoting professional standards and self-regulation. \n",
      "75. Training for journalists had been conducted on the Media Code of Ethics, the Bill of Rights and on reporting the elections. In addition, there were plans to work with the United Nations Development Programme on training for the Fijian media on reporting parliamentary debates. The Government welcomed the ILO proposal to provide training for the Fijian media on labour rights. Those collaborative efforts between Fiji and the international community signalled an encouraging, positive step towards constructive engagement in improving the freedom of the press. Civil society organizations were invited to enter into similar collaborative arrangements to further strengthen the media. \n",
      "76. Portugal welcomed the Constitution, emphasized the importance of Human Rights Council special procedures and noted the participation of women in Parliament. It encouraged Fiji to enhance the participation of women in political and public affairs. It asked for information on measures to ensure gender equality in law and in practice. Portugal made recommendations. \n",
      "77. The Republic of Korea noted the Constitution, the national elections and the lifting of the Public Emergency Regulations. It expressed concern at alleged human rights abuses perpetrated by the police and the military, gender-based violence and reports that decrees could justify curbs of fundamental freedoms. It made recommendations. \n",
      "78. The Russian Federation welcomed the new Constitution of Fiji and took positive note of the establishment of the Human Rights and Anti-Discrimination Commission. It noted the implementation of the National Policy on Persons Living with Disabilities. The Russian Federation made recommendations. \n",
      "79. Sierra Leone noted the lifting of the Public Emergency Regulations, the national elections and the new Constitution. It observed that the Bill of Rights contained no provisions on womenÕs rights. It asked how children were protected from abuse at home, which challenges hindered the promotion of socioeconomic rights, and what steps were taken to mitigate the effects of climate change on socioeconomic rights. Sierra Leone made recommendations. \n",
      "80. Singapore noted the successful elections, the strengthened legislative framework and efforts to improve access to justice, including for underprivileged communities, through the \n",
      "Legal Aid Commission. Plans to expand poorer childrenÕs access to tertiary education and the granting of scholarships were welcomed. Singapore made recommendations. \n",
      "81. Slovenia asked about the timeline for removing the death penalty from the Military Code and welcomed the Constitution and the Human Rights and Anti-Discrimination Commission. It noted that no information had been provided on sexual and reproductive health education in schools. Slovenia made recommendations. \n",
      "82. Solomon Islands noted the appointment of a female Speaker of Parliament following parliamentary elections and commended action on gender equality, housing and education. It encouraged the involvement of Parliamentarians in the follow-up to the UPR. Interest in inviting the Special Rapporteur on the independence of judges and lawyers was noted. Solomon Islands made recommendations. \n",
      "83. Spain commended Fiji for its new Constitution, particularly the provisions on social and economic rights, for its recent elections, progress regarding the right to water and the signing of the Convention on the Rights of Persons with Disabilities (CRPD). Spain was concerned that the Essential National Industries (Employment) Decree was contrary to international labour and human rights standards. It was also concerned about the low reporting rates by women of gender-based violence. Spain made recommendations. \n",
      "84. Sri Lanka welcomed the Constitution and commended measures for economic growth. It asked what barriers there were to an effective judiciary and how the international community could help. Sri Lanka encouraged the provision of technical assistance and capacity-building to Fiji. It made recommendations. \n",
      "85. Swaziland welcomed the parliamentary elections and the appointment of a female Speaker of Parliament. It noted that amendments to the new Constitution required approval by a national referendum. Given the allegations of the lack of consultation prior to the passing of the Constitution, Swaziland asked what the rationale was behind that provision. Swaziland made a recommendation. \n",
      "86. Switzerland welcomed the new Constitution and the lifting of the Public Emergency Regulations. Legislation on public order, the media industry and crimes continued to disproportionately restrict the freedoms of expression, assembly and association. The invitation of Fiji to the Human Rights Council special procedures was noted. Switzerland made recommendations. \n",
      "87. Thailand commended Fiji for its recent democratic elections and its enhanced engagement with civil society regarding human rights. Thailand noted that women in Fiji continued to be underrepresented in decision-making and urged it to consider ratifying international human rights treaties. Thailand made recommendations. \n",
      "88. The United Kingdom of Great Britain and Northern Ireland recognized the crucial democratic steps taken by Fiji. It urged Fiji to engage constructively with NGOs in order to ensure that they could operate freely. It noted the positive increase in the number of female MPs, but remained concerned that women were still underrepresented and faced high levels of violence. It made recommendations. \n",
      "89. The United Republic of Tanzania commended the Government for its commitment to human rights, the new Constitution, the recent democratic elections and the provision of free education. It encouraged Fiji to continue efforts to attain the right to water, housing and a clean environment. It made recommendations. \n",
      "90. The United States of America urged the Government to ensure that all stakeholders could make their voices heard and participate in the political process. It also called for further cooperation between the Government and ILO. The United States was concerned at the persistence of gender-based violence, the fact that certain decrees unduly restricted \n",
      "fundamental freedoms and the low level of respect for internationally recognized labour rights. It made recommendations. \n",
      "91. Uruguay encouraged Fiji to redouble its efforts regarding economic, social and cultural rights, especially concerning commitments to education. It hoped that the death penalty would be removed from the Military Code and urged Fiji to adopt measures consolidating respect for human rights, including for press freedom. Uruguay made recommendations. \n",
      "92. Vanuatu commended the recent elections and the return to democracy. It congratulated Fiji on its reinstatement as a full Commonwealth member. It noted the effective strategies devised to alleviate poverty and the fact that Fiji had signed CRPD and the Optional Protocol thereto, and was considering extending an invitation to some special procedures mandate holders. Vanuatu made recommendations. \n",
      "93. Mexico recognized the efforts made since the first UPR cycle, particularly the new Constitution and the holding of elections. It commended Fiji for being one of the first Pacific nations to adopt a national policy for older persons and for removing the death penalty from the Criminal Code. Mexico made recommendations. \n",
      "94. Fiji noted that the Administration of Justice Decree had been repealed in 2013 and that the repeal of any other decrees was the prerogative of Parliament. \n",
      "95. The decision had been taken to hold referendums on amendments to the Constitution as they were a direct form of democracy which did not entail third party intervention. They therefore represented an important and unprecedented consultative means of amending the Constitution. \n",
      "96. Fiji expressed its willingness to cooperate with special procedures mandate holders based on the areas of critical importance and provided that it had the resources to receive such visits. \n",
      "97. Fiji reiterated that the human rights aspects of climate change, such as the sovereignty issues faced by low-lying countries facing flooding, and the human rights of peoples facing displacement as a result of climate change, must be addressed by the Council. As a small island developing State at the forefront of the adverse impacts of climate change, Fiji had adopted an integrated response to climate change and disaster risk management, and a National Green Growth Framework which aimed for sustainable development, economic growth and resilience to the anticipated adverse effects of climate change. \n",
      "98. Fiji thanked the Vice-President of the Human Rights Council for the interactive dialogue and stated that the extensive reforms conducted since the last cycle, which went beyond the requirements of international instruments, showed the long way that Fiji had come. Fiji trusted that its responses to the concerns raised had shown such progress, and that the entire process and its constructive engagement would help provide tangible benefits and a substantive positive impact on the lives of individual Fijians. \n",
      "II. Conclusions and/or recommendations\n",
      "99. The recommendations formulated during the interactive dialogue and listed below have been examined by and enjoy the support of Fiji: \n",
      "99.1 Consider expediting the ratifications of the core human rights treaties to which it is not yet a party, as recommended previously (Republic of Korea); \n",
      "99.2 Consider positively signing core human rights treaties to which it is not yet a party (United Republic of Tanzania); \n",
      "99.3 Consider the timely ratification of the major international human rights instruments, including the International Covenant on Economic, Social and Cultural Rights (ICESCR), the International Covenant on Civil and Political Rights (ICCPR) and the Convention against Torture and Other Cruel, Inhuman or Degrading Treatment or Punishment (CAT) (Japan); \n",
      "99.4 Ratify ICCPR (Montenegro); Ratify ICCPR (Uruguay); Ratify the International Covenant on Civil and Political Rights (Algeria); Accord priority to the ratification of ICCPR (India); Accelerate the ratification process of ICCPR (Switzerland); Take steps to ratify and implement ICCPR (Kenya); Ratify the core international human rights instruments such as ICCPR (Sierra Leone); Ratify ICCPR (Estonia); Consider becoming a party to ICCPR (New Zealand); Ratify, in particular, ICCPR (Italy); Move on speedily to the ratification and/or application of human rights instruments, particularly the International Covenant on Civil and Political Rights (Chile); Accede to the international treaties on human rights and ratify ICCPR (Portugal); \n",
      "99.5 Accede to the Second Optional Protocol to ICCPR aiming at the abolition of the death penalty (Germany); \n",
      "99.6 Ratify the Second Optional Protocol to ICCPR (Estonia); Accede to the international treaties on human rights and ratify the Second Optional Protocol to ICCPR (Portugal); \n",
      "99.7 Ratify ICESCR (Algeria); Accord priority to the ratification of ICESCR (India); Accelerate the ratification process of ICESCR (Switzerland); Take steps to ratify and implement ICESCR (Kenya); Ratify the core international human rights instruments such as ICESCR (Sierra Leone); Ratify, in particular, ICESCR (Italy); Accede to the international treaties on human rights and ratify ICESCR (Portugal); \n",
      "99.8 Ratify CAT (Algeria); Speed up the process of ratification of CAT as one of the important steps in its commitment to the observance of human rights (Indonesia); Accelerate the ratification process of CAT (Switzerland); Take steps to ratify and implement CAT (Kenya); Ratify the core international human rights instruments such as CAT (Sierra Leone); Consider becoming a party to CAT (New Zealand); Ratify, in particular, CAT (Italy); Move on speedily to the ratification and/or application of human rights instruments, particularly CAT (Chile); Accede to the international treaties on human rights and ratify CAT (Portugal);  \n",
      "99.9 Take the necessary steps to ratify CAT (Ghana); \n",
      "99.10 Consider ratifying the optional protocols to the Convention on the Rights of the Child, which, inter alia, guard against the involvement of children in armed conflict (OP-CRC-AC) and guard against the sale of children, child prostitution and child pornography (OP-CRC-SC), which Fiji signed in 2005 (Namibia); Accede to the international treaties on human rights and ratify OP-CRC-AC and OP-CRC-SC (Portugal); \n",
      "99.11 Take the necessary steps to ratify the International Convention on the Protection of the Rights of All Migrant Workers and Members of Their Families (Ghana); \n",
      "99.12 Consider the issue of ratification of the Convention on the Rights of Persons with Disabilities (Russian Federation); Take steps to ratify and implement CRPD (Kenya); \n",
      "99.13 Ratify CRPD as soon as possible to ensure that there is equal treatment for persons with disabilities pursuant to the new Constitution, as recommended previously (Spain);  \n",
      "99.14 Take further steps in view of the ratification of CRPD as soon as possible within a 10 yearsÕ timeframe (Vanuatu);  \n",
      "99.15 Ratify the International Convention for the Protection of All Persons from Enforced Disappearance (Uruguay); Ratify the core international human rights instruments such as ICPPED (Sierra Leone); Accede to the international treaties on human rights and ratify ICPPED (Portugal); \n",
      "99.16 Continue with the efforts aiming at the ratification of the International Convention for the Protection of All Persons from Enforced Disappearance as well as the ratification of the main international human rights instruments to which Fiji is not yet a party to (Argentina); \n",
      "99.17 Appoint a Chairperson to the Fiji Human Rights and Anti-Discrimination Commission (Australia); \n",
      "99.18 Take steps to seek the CommissionÕs reaccreditation under the Paris Principles (Australia); \n",
      "99.19 Take appropriate steps to ensure that the Human Rights and Anti-Discrimination Commission functions in compliance with the Paris Principles (India); \n",
      "99.20 Reinstate the full independence and functionality of the Human Rights Commission to bring it in line with the Paris Principles and in accordance with the recommendations it had already accepted at the last UPR review (Kenya); \n",
      "99.21 Bring the Human Rights and Anti-Discrimination Commission into line with the Paris Principles (Morocco); \n",
      "99.22 Provide adequate funding to the Human Rights and Anti-Discrimination Commission and take steps to ensure its conformity with the Paris Principles (Sierra Leone);  \n",
      "99.23 Ensure adequate funding from the budget for the National Human Rights and Anti-Discrimination Commission (Russian Federation); \n",
      "99.24 Provide adequate funding and resources for the work of the Human Rights and Anti-Discrimination Commission (Slovenia); \n",
      "99.25 Consider developing human rights indicators as suggested by OHCHR as an instrument that allows for a more precise and coherent evaluation of national human rights policies (Portugal); \n",
      "99.26 Put in place technical assistance programmes in order to strengthen FijiÕs national capacities in the area of human rights (Morocco);  \n",
      "99.27 Continue to seek technical assistance from the international community in the implementation of the accepted recommendations in the first and second cycles of the UPR (Vanuatu); \n",
      "99.28. Continue the networking by the Fijian Judiciary and FijiÕs Human Rights and Anti-Discrimination Commission with relevant international organizations to strengthen the protection and promotion of human rights in the country (Thailand);  \n",
      "99.29. Intensify the cooperation with the international human rights bodies, including through country visits and the provision of assistance to Fiji (Uruguay); \n",
      "99.30 Examine issuing a standing invitation to special procedures (Japan); \n",
      "99.31 Prior to the next cycle of the UPR for Fiji, take further steps in the consideration of extending an invitation to special rapporteurs (Vanuatu); \n",
      "99.32 Take further action to ensure the effective implementation and formulation of legislation that guarantees/ensures equality and protection of women (Argentina); \n",
      "99.33 Redouble its efforts in implementing such policy as the Fiji National Gender Policy through a set of clear and measurable strategies (Indonesia); \n",
      "99.34 Give effective implementation to the Fiji National Gender Policy and the WomenÕs Plan of Action for 2010Ð2019, and renew efforts in fighting all cases of discrimination and violence against women (Italy); \n",
      "99.35 Build on the work of FijiÕs Ministry of Women, Social Welfare and Poverty Alleviation to improve the protection of women and girls by effectively addressing gender-based violence, particularly intimate partner violence, and by advancing programmes to combat gender discrimination (United States of America); \n",
      "99.36 Continue its efforts in promoting gender equality, including expanding the role of women in its national development by providing the necessary financial and human resources to strengthen the implementation of policies and programmes for the empowerment of women in social and public life (Malaysia);  \n",
      "99.37 Take concrete measures to eliminate gender stereotypes and discrimination against women (Bangladesh); \n",
      "99.38 Ensure equality and non-discrimination between men and women as regards access to land, employment, and economic and political participation (Ghana); \n",
      "99.39 Take further measures to ensure equality and non-discrimination of men and women in law and practice, including in access to land, employment and economic and political participation (Netherlands); \n",
      "99.40 Promote actively womenÕs participation in different sectors of the society, especially in public services (Thailand); \n",
      "99.41 Work at reducing the high incidence of all forms of violence against women, prosecute perpetrators of such acts and criminalize all forms of violence against women (Ghana); \n",
      "99.42 Take decisive steps to end violence against women, for instance by sending a strong public message of zero tolerance and by working together with men and women to break the cycle of violence (Netherlands); \n",
      "99.43 Take the necessary measures to combat violence against women (Algeria); \n",
      "99.44 Take the necessary measures to ensure that the decree on domestic violence be effectively implemented and that the perpetrators of violence against women, including within the family, be duly prosecuted and punished (Belgium); \n",
      "99.45 Ensure the effective implementation of the law on domestic violence (Spain); \n",
      "99.46 Take effective measures to prevent violence against women and children (Japan); \n",
      "99.47 Take more vigorous public action against all forms of child trafficking for sexual exploitation, labour or other purposes (Lebanon); \n",
      "99.48 Strengthen and implement policy measures to eliminate child trafficking (Maldives);  \n",
      "99.49 Continue to strengthen efforts to eliminate racial discrimination (Bangladesh); \n",
      "99.50 Continue its efforts to eliminate discrimination on political, economic, social and ethnic grounds, in line with the Constitution, in order to achieve equality among all citizens (Lebanon); \n",
      "99.51 Take concrete measures to end discrimination and counter stigmatization of marginalized groups, including minorities and lesbian, gay, bisexual, transgender and intersex persons (Germany);  \n",
      "99.52 Abolish completely and definitively the death penalty for all crimes (France); \n",
      "99.53 Take the necessary measures to abolish the death penalty under its Military Law (Namibia);  \n",
      "99.54 Eliminate definitively and without further delay capital punishment from the military code (Switzerland); \n",
      "99.55 Take measures to properly handle the case of alleged torture and ill-treatment in the military and police and to put a halt to discrimination and violence against women (Republic of Korea); \n",
      "99.56 Continue to take steps to implement stronger accountability mechanisms and ensure the independence of investigations into allegations of human rights abuses when they occur (New Zealand); \n",
      "99.57 Offer programmes for education and training in human rights for law enforcement officials, the army, the police and prison services in order to prevent human rights violations, especially torture and mistreatment (Costa Rica); \n",
      "99.58 Enhance its cooperation with United Nations human rights bodies and other regional/international partners, particularly in providing the police force with appropriate training in contemporary custodial and interrogation \n",
      "techniques in accordance with international human rights standards (Philippines);  \n",
      "99.59 Continue partnerships with Member States and United Nations bodies as it deems necessary in furthering its efforts to ensure the independence of the judiciary (Sri Lanka); \n",
      "99.60 In cooperation with relevant international organizations, continue to enhance the rule of law to ensure a safe and stable living environment for the people (Singapore); \n",
      "99.61 Ensure that national labour legislation respects international law in this field (Spain); \n",
      "99.62 Continue to take measures to ensure freedoms of expression and opinion especially of trade unions (Ghana); \n",
      "99.63 Ensure respect for freedoms of expression, assembly and association, including for the exercise of trade union rights (France); \n",
      "99.64 Step up its efforts to consolidate political, social, economic and cultural freedoms and freedom of the media (Lebanon);  \n",
      "99.65 Protect and promote freedom of expression and media pluralism (France); \n",
      "99.66 Expedite the enactment of the Freedom of Information Bill (India);  \n",
      "99.67 Take all necessary measures to guarantee that its citizens, particularly journalists, enjoy full freedom of opinion and expression (Brazil); \n",
      "99.68 Adopt effective measures to ensure freedom of expression and the protection of journalists, as well as of opposition and critics of the Government (Italy); \n",
      "99.69 Take all relevant steps to protect human rights defenders (New Zealand); \n",
      "99.70 Take further steps to ensure a safe and enabling environment for human rights defenders (Norway); \n",
      "99.71 Adopt concrete measures to guarantee that human rights defenders are able to realize their work with no obstacles and that their freedoms of expression, association and assembly are ensured, as recommended previously (Spain); \n",
      "99.72 Ensure free, transparent and broad-ranging participation of civil society, minorities and ethnic communities in the national public debate (Chile); \n",
      "99.73 Ensure greater civic education on electoral and Constitutional rights to ensure that referendums are useful and effective (Swaziland); \n",
      "99.74 Adopt measures to continue to democratize local government elections, based on equal suffrage (United Republic of Tanzania); \n",
      "99.75 Intensify its efforts to fight against poverty, including through international cooperation and the implementation of lessons learned from successful experiences (Brazil); \n",
      "99.76 Continue to prioritize poverty elimination in its national development and enhance its peopleÕs well-being (China); \n",
      "99.77 Take further steps to implement the Strategic Development Plan (Kuwait); \n",
      "99.78 Continue to strengthen the implementation of the rights to drinking water and sanitation for the whole population, especially for rural communities (Spain);  \n",
      "99.79 Further strengthen measures to ensure equal access to health services for all, while giving special attention to the needs of children, women and the elderly (Sri Lanka);  \n",
      "99.80 Consider mainstreaming sexual and reproductive health education in schools and improving access to contraception for adults and young people (Slovenia); \n",
      "99.81 Continue consolidating its successful educational programmes, which provide the whole population with free access to quality education for the purpose of developing an integrated education system based on the principles of accessibility and quality (Venezuela (Bolivarian Republic of)); \n",
      "99.82 Continue its efforts to provide free education for primary and secondary school students (Malaysia); \n",
      "99.83 Continue to improve its education system and ensure access to quality education for all (Singapore);  \n",
      "99.84 Adopt specific measures to combat discrimination against children with disabilities in accessing an inclusive education (Spain); \n",
      "99.85 Continue promoting awareness and empowerment policies for persons with disabilities (Venezuela (Bolivarian Republic of)); \n",
      "99.86 Continue implementing the national policy for persons with disabilities which lays out the fundamental pillars of development to ensure that an integrative society can truly take root (Cuba).  \n",
      "100. The following recommendations enjoy the support of Fiji, which considers that they have already been implemented or are in the process of implementation: \n",
      "100.1 Move on speedily to the ratification and/or application of human rights instruments, particularly the Convention on the Elimination of All Forms of Discrimination against Women (Chile); \n",
      "100.2 Transpose these international instruments, the International Covenant on Civil and Political Rights and its first Optional Protocol, the Convention against Torture and Other Cruel, Inhuman or Degrading Treatment or Punishment and its Optional Protocol, the Convention on the Elimination of All Forms of Discrimination against Women, into domestic law strengthening among others legislative protection from gender violence and all forms of discrimination, particularly against women, children and on the ground of sexual orientation (Chile); \n",
      "100.3 Ensure that articles on human rights in the new Constitution fully comply with international standards on promotion and protection of human rights (Uruguay); \n",
      "100.4 Pass legislation to criminalize violence against women (Sierra Leone); \n",
      "100.5 Repeal the right Òto administer reasonable punishmentÓ in the Juveniles Act 1974 and prohibit all corporal punishment of children, including in the home (Germany); \n",
      "100.6 Ensure all alleged cases of human rights violations by security forces are investigated urgently and transparently, with those held responsible brought to trial swiftly (United Kingdom of Great Britain and Northern Ireland); \n",
      "100.7 Train its lawyers and judges on the interpretation of human rights in accordance with the principle of international human rights law (Ethiopia); \n",
      "100.8 Adopt actions aimed at protecting/safeguarding the independence of judges, including measures ensuring autonomy from the executive power with regard to appointment and security of tenure (Mexico); \n",
      "100.9 Take steps to bring labour laws and practices in line with its international obligations, including under relevant ILO Conventions (United States of America); \n",
      "100.10 Take the necessary measures to ensure freedom of expression and opinion, as well as freedom of association and assembly, in accordance with international human rights standards (Portugal); \n",
      "100.11 Take steps to bring domestic law and practice into line with existing international human rights standards in relation to freedom of expression, including media freedom (Ireland); \n",
      "100.12 Harmonize the Media Decree with international standards and enact a law on freedom of information in conformity with international standards, as recommended by UNESCO (Mexico). \n",
      "101. The following recommendations will be examined by Fiji, which will respond to them in due course, but no later than the twenty-eighth session of the Human Rights Council, in March 2015: \n",
      "101.1 Bolster the constitutional Bill of Rights by acceding to ICCPR and the first Optional Protocol thereto and, in that context, initiate a process in order to ensure compatibility of existing national laws and decrees with the new Constitution. Part of this process should be strengthening the judiciary (Germany); \n",
      "101.2 Demonstrate its commitment toward protecting and promoting human rights and fundamental freedoms by acceding to, without delay, the International Covenant on Civil and Political Rights and the International Covenant on Economic, Social and Cultural Rights (Canada); \n",
      "101.3 Complete the work towards the ratification of the core international human rights treaties, firstly ICCPR and ICESCR within the period of the next review (Russian Federation); \n",
      "101.4 Ratify the first optional protocol to ICCPR (Uruguay); Ratify the first optional protocol to ICCPR (Estonia); Move on speedily to the ratification and/or application of human rights instruments and optional protocols, particularly the first Optional Protocol to the International Covenant on Civil and Political Rights (Chile); Accede to the international treaties on human rights and ratify the first Optional Protocol to ICCPR (Portugal); \n",
      "101.5 Accede to the international treaties on human rights and ratify the Optional Protocol to ICESCR (Portugal); \n",
      "101.6 Move on speedily to the ratification and/or application of human rights instruments and optional protocols, particularly the Optional Protocol to \n",
      "the Convention against Torture and Other Cruel, Inhuman or Degrading Treatment or Punishment (Chile); \n",
      "101.7 Consider ratifying OP-CAT, as well (Denmark); \n",
      "101.8 Ratify the Optional Protocol to CEDAW (Portugal); \n",
      "101.9 Accede to the international treaties on human rights and ratify OP-CRC-IC (Portugal); \n",
      "101.10 Establish a Constitutional Commission to conduct a comprehensive review of the 2013 Constitution and carry out national consultations to ensure that the Constitution is reflective of the will of the people (Estonia);  \n",
      "101.11 Consider establishing a Constitutional Commission to conduct a comprehensive review of the Constitution, thereby ensuring that it is reflective of the will and aspirations of the citizens of Fiji, seeing that this might help to bring about a more stable political structure (Namibia); \n",
      "101.12 Establish, in consultation with civil society, a mechanism to develop and harmonize a legislative framework derived from the new Constitution and in accordance with international human rights standards (Mexico); \n",
      "101.13 Fully align its national legislation with the Rome Statute of the International Criminal Court and ratify the Agreement on Privileges and Immunities of the Court (Estonia); \n",
      "101.14 Consider ensuring that the issue of violence against women be considered by the Human Rights and Anti-Discrimination Commission as one of its priorities (Slovenia); \n",
      "101.15 Extend a standing invitation to special procedures to allow them easy access in visiting Fiji and thus assist the authorities in pursuing progress (Belgium); \n",
      "101.16 Extend an open and standing invitation to the United Nations special procedures mandate holders (Chile); \n",
      "101.17 Extend a standing invitation to the special procedures of the Human Rights Council and coordinate in the shortest possible terms the requested visits (Costa Rica); \n",
      "101.18 Issue standing invitations to all special procedures (Ghana); \n",
      "101.19 Extend a standing invitation to the special procedures of the Human Rights Council (Portugal); \n",
      "101.20 Respond to the numerous requests for visits issued by the special procedures and extend a standing invitation to the special procedures as soon as possible (Slovenia);  \n",
      "101.21 Extend a standing invitation to all United Nations Human Rights Council special procedures and receive those that have requested to visit (Montenegro); \n",
      "101.22 Issue a standing invitation to all Human Rights Council thematic special procedures, and facilitate requested visits and respond promptly and substantially to the communications transmitted to Fiji by the special procedures mandate holders (Norway); \n",
      "101.23 Accept visits from and provide full cooperation to the special procedures of the Human Rights Council, in order for them to fulfil their mandates and pursuant to commitments of the Government (Uruguay); \n",
      "101.24 Accept outstanding requests from special mandate holders, including that of the Special Rapporteur on the independence of judges and lawyers, to visit Fiji (New Zealand); \n",
      "101.25 Welcome the visit of the Special Rapporteur on the independence of judges and lawyers, in order to provide expertise and assistance in the process of maintaining an independent judiciary (Israel); \n",
      "101.26 Facilitate a visit of the Special Rapporteur on the independence of judges and lawyers prior to the third review of Fiji under the UPR (Solomon Islands); \n",
      "101.27 Extend a standing invitation to United Nations special procedures mandate holders and initiate without delay cooperation with the Special Rapporteur on torture and other cruel, inhuman or degrading treatment or punishment (Switzerland); \n",
      "101.28 Respond favourably to the request of the Special Rapporteur on the question of torture to visit the country (Denmark); \n",
      "101.29 Facilitate a visit by the Special Rapporteur on the situation of human rights defenders (Norway); \n",
      "101.30 Strengthen existing mechanisms in the current social, political and economic structures of the Fijian society to safeguard the rights of ethnic minorities (Solomon Islands); \n",
      "101.31 Amend the legislative and constitutional framework to maintain the separation of powers and cease any executive interference with the independence of the judiciary and lawyers, and ensure that the processes governing the qualification and discipline of lawyers and judges are free from political interference (Canada); \n",
      "101.32 Conclude the Tripartite Memorandum of Understanding on the future of labour relations in Fiji (Australia); \n",
      "101.33 Take the necessary measures to amend existing legislation in order to bring possible restrictions to freedom of expression or assembly in line with international human rights norms and standards (Belgium); \n",
      "101.34 Amend the Constitution as well as national legislation to ensure that the rights to freedoms of expression, assembly and association be guaranteed without restrictions other than those provided for within the framework of international law (Switzerland); \n",
      "101.35 Ensure respect for freedoms of expression, peaceful assembly, and association by amending aspects of decrees such as the Public Order Act Amendment Decree, the Political Parties Decree, and the Media Industry Development Decree, that unduly restrict fundamental freedoms (United States of America); \n",
      "101.36 Favourably consider revising the Public Order Amendment Decree and the Media Industry Development Decree in a way that fully ensures the rights to freedoms of association, assembly, press and expression (Republic of Korea); \n",
      "101.37 Review and amend or repeal as necessary all decrees limiting freedom of expression and association, particularly the Media, Essential National Industries and Public Order Decrees (United Kingdom of Great Britain and Northern Ireland); \n",
      "101.38 Bring legislation on freedom of expression, assembly and association in line with international human rights standards, in particular by repealing the ÒMedia Industry Development DecreeÓ 2010 in order to end intimidation and harassment of those that express criticism of the State, to change the climate of fear and self-censorship and to ensure that no one is arbitrarily arrested and detained for exercising their rights (Germany);  \n",
      "101.39 Ensure respect for freedom of expression and protection of journalists by reforming the Media Industry Development Decree 2010 and introducing freedom of information legislation that accords with international human rights standards (Canada); \n",
      "101.40 Create and maintain a safe and enabling environment for civil society actors to freely associate, by amending relevant laws and ensuring they are not invoked to curtail the right to freedom of peaceful assembly (Ireland). \n",
      "102. All conclusions and/or recommendations contained in the present report reflect the position of the submitting State(s) and/or the State under review. They should not be construed as endorsed by the Working Group as a whole. \n",
      " \n",
      "Annex \n",
      "[English only] \n",
      "  Composition of the delegation \n",
      "The Fijian delegation was headed by Honourable Mr. Aiyaz Sayed-Khaiyum, Attorney-General and Minister of Justice, and composed of the following members: \n",
      "¥ Mr. Anthony Gates, Chief Justice; \n",
      "¥ H.E. Nazhat Shameen Khan, Ambassador and Permanent Representative; \n",
      "¥ Mr. Christopher Pryde, Director of Public Prosecutions; \n",
      "¥ Mr. Ashwin Raj, Chairperson, Media Industry and Development Authority;  \n",
      "¥ Ms. Namita Khatri, Deputy Permanent Representative; \n",
      "¥ Ms. Robyn-Ann Mani, Acting Senior Legal Officer, Solicitor-GeneralÕs Office; \n",
      "¥ Ms. TupoutuaÕh Baravilala, Acting Senior Legal Officer, Solicitor-GeneralÕs Office; \n",
      "¥ Ms. Seema Chand, Legal Officer, Solicitor-GeneralÕs Office;  \n",
      "¥ Mr. Romain Simona, intern, Permanent Mission of Fiji; and \n",
      "¥ Ms. Faazilah Adam, intern, Permanent Mission of Fiji. \n",
      "    \n",
      "\n",
      "\n"
     ]
    }
   ],
   "source": [
    "# Import fiji2014.txt\n",
    "fiji = open(\"./human-rights/fiji2014.txt\", encoding = \"utf-8\").read()\n",
    "print(fiji)"
   ]
  },
  {
   "cell_type": "code",
   "execution_count": 8,
   "metadata": {},
   "outputs": [],
   "source": [
    "from collections import Counter"
   ]
  },
  {
   "cell_type": "code",
   "execution_count": 9,
   "metadata": {},
   "outputs": [],
   "source": [
    "# Tokenize single words in fiji\n",
    "fiji_tokens = fiji.split()"
   ]
  },
  {
   "cell_type": "code",
   "execution_count": 10,
   "metadata": {},
   "outputs": [
    {
     "data": {
      "text/plain": [
       "[('the', 812),\n",
       " ('and', 469),\n",
       " ('of', 461),\n",
       " ('to', 344),\n",
       " ('in', 178),\n",
       " ('on', 122),\n",
       " ('for', 102),\n",
       " ('rights', 99),\n",
       " ('that', 96),\n",
       " ('human', 86),\n",
       " ('a', 86),\n",
       " ('with', 85),\n",
       " ('Fiji', 70),\n",
       " ('by', 64),\n",
       " ('made', 63),\n",
       " ('It', 62),\n",
       " ('had', 60),\n",
       " ('The', 51),\n",
       " ('Rights', 50),\n",
       " ('as', 50)]"
      ]
     },
     "execution_count": 10,
     "metadata": {},
     "output_type": "execute_result"
    }
   ],
   "source": [
    "# Show the ten most common\n",
    "freq = Counter(fiji_tokens)\n",
    "for_bar = freq.most_common(20)\n",
    "for_bar"
   ]
  },
  {
   "cell_type": "code",
   "execution_count": 11,
   "metadata": {},
   "outputs": [
    {
     "data": {
      "text/html": [
       "<div>\n",
       "<style scoped>\n",
       "    .dataframe tbody tr th:only-of-type {\n",
       "        vertical-align: middle;\n",
       "    }\n",
       "\n",
       "    .dataframe tbody tr th {\n",
       "        vertical-align: top;\n",
       "    }\n",
       "\n",
       "    .dataframe thead th {\n",
       "        text-align: right;\n",
       "    }\n",
       "</style>\n",
       "<table border=\"1\" class=\"dataframe\">\n",
       "  <thead>\n",
       "    <tr style=\"text-align: right;\">\n",
       "      <th></th>\n",
       "      <th>Word</th>\n",
       "      <th>Frequency</th>\n",
       "    </tr>\n",
       "  </thead>\n",
       "  <tbody>\n",
       "    <tr>\n",
       "      <th>0</th>\n",
       "      <td>the</td>\n",
       "      <td>812</td>\n",
       "    </tr>\n",
       "    <tr>\n",
       "      <th>1</th>\n",
       "      <td>and</td>\n",
       "      <td>469</td>\n",
       "    </tr>\n",
       "    <tr>\n",
       "      <th>2</th>\n",
       "      <td>of</td>\n",
       "      <td>461</td>\n",
       "    </tr>\n",
       "    <tr>\n",
       "      <th>3</th>\n",
       "      <td>to</td>\n",
       "      <td>344</td>\n",
       "    </tr>\n",
       "    <tr>\n",
       "      <th>4</th>\n",
       "      <td>in</td>\n",
       "      <td>178</td>\n",
       "    </tr>\n",
       "    <tr>\n",
       "      <th>5</th>\n",
       "      <td>on</td>\n",
       "      <td>122</td>\n",
       "    </tr>\n",
       "    <tr>\n",
       "      <th>6</th>\n",
       "      <td>for</td>\n",
       "      <td>102</td>\n",
       "    </tr>\n",
       "    <tr>\n",
       "      <th>7</th>\n",
       "      <td>rights</td>\n",
       "      <td>99</td>\n",
       "    </tr>\n",
       "    <tr>\n",
       "      <th>8</th>\n",
       "      <td>that</td>\n",
       "      <td>96</td>\n",
       "    </tr>\n",
       "    <tr>\n",
       "      <th>9</th>\n",
       "      <td>human</td>\n",
       "      <td>86</td>\n",
       "    </tr>\n",
       "    <tr>\n",
       "      <th>10</th>\n",
       "      <td>a</td>\n",
       "      <td>86</td>\n",
       "    </tr>\n",
       "    <tr>\n",
       "      <th>11</th>\n",
       "      <td>with</td>\n",
       "      <td>85</td>\n",
       "    </tr>\n",
       "    <tr>\n",
       "      <th>12</th>\n",
       "      <td>Fiji</td>\n",
       "      <td>70</td>\n",
       "    </tr>\n",
       "    <tr>\n",
       "      <th>13</th>\n",
       "      <td>by</td>\n",
       "      <td>64</td>\n",
       "    </tr>\n",
       "    <tr>\n",
       "      <th>14</th>\n",
       "      <td>made</td>\n",
       "      <td>63</td>\n",
       "    </tr>\n",
       "    <tr>\n",
       "      <th>15</th>\n",
       "      <td>It</td>\n",
       "      <td>62</td>\n",
       "    </tr>\n",
       "    <tr>\n",
       "      <th>16</th>\n",
       "      <td>had</td>\n",
       "      <td>60</td>\n",
       "    </tr>\n",
       "    <tr>\n",
       "      <th>17</th>\n",
       "      <td>The</td>\n",
       "      <td>51</td>\n",
       "    </tr>\n",
       "    <tr>\n",
       "      <th>18</th>\n",
       "      <td>Rights</td>\n",
       "      <td>50</td>\n",
       "    </tr>\n",
       "    <tr>\n",
       "      <th>19</th>\n",
       "      <td>as</td>\n",
       "      <td>50</td>\n",
       "    </tr>\n",
       "  </tbody>\n",
       "</table>\n",
       "</div>"
      ],
      "text/plain": [
       "      Word  Frequency\n",
       "0      the        812\n",
       "1      and        469\n",
       "2       of        461\n",
       "3       to        344\n",
       "4       in        178\n",
       "5       on        122\n",
       "6      for        102\n",
       "7   rights         99\n",
       "8     that         96\n",
       "9    human         86\n",
       "10       a         86\n",
       "11    with         85\n",
       "12    Fiji         70\n",
       "13      by         64\n",
       "14    made         63\n",
       "15      It         62\n",
       "16     had         60\n",
       "17     The         51\n",
       "18  Rights         50\n",
       "19      as         50"
      ]
     },
     "execution_count": 11,
     "metadata": {},
     "output_type": "execute_result"
    }
   ],
   "source": [
    "# or\n",
    "fiji_df = pd.DataFrame(for_bar, columns = [\"Word\", \"Frequency\"])\n",
    "fiji_df"
   ]
  },
  {
   "cell_type": "code",
   "execution_count": 12,
   "metadata": {},
   "outputs": [
    {
     "data": {
      "image/png": "[encoded data removed]",
      "text/plain": [
       "<Figure size 432x288 with 1 Axes>"
      ]
     },
     "metadata": {
      "needs_background": "light"
     },
     "output_type": "display_data"
    }
   ],
   "source": [
    "fiji_df.plot.bar(x = \"Word\", y = \"Frequency\");"
   ]
  },
  {
   "cell_type": "markdown",
   "metadata": {},
   "source": [
    "How would this visualization change if you first removed the stopwords? "
   ]
  },
  {
   "cell_type": "code",
   "execution_count": 13,
   "metadata": {},
   "outputs": [
    {
     "data": {
      "text/plain": [
       "[('rights', 99),\n",
       " ('human', 86),\n",
       " ('Fiji', 70),\n",
       " ('made', 63),\n",
       " ('It', 62),\n",
       " ('The', 51),\n",
       " ('Rights', 50),\n",
       " ('international', 50),\n",
       " ('recommendations.', 46),\n",
       " ('Constitution', 35),\n",
       " ('ensure', 34),\n",
       " ('Human', 32),\n",
       " ('steps', 31),\n",
       " ('freedom', 31),\n",
       " ('Take', 28),\n",
       " ('women', 26),\n",
       " ('violence', 25),\n",
       " ('measures', 25),\n",
       " ('noted', 24),\n",
       " ('welcomed', 24)]"
      ]
     },
     "execution_count": 13,
     "metadata": {},
     "output_type": "execute_result"
    }
   ],
   "source": [
    "stop = stopwords.words(\"english\")\n",
    "no_stops = [word for word in fiji_tokens if word not in stopwords.words('english')]\n",
    "freq_fiji = Counter(no_stops)\n",
    "for_nostops = freq_fiji.most_common(20)\n",
    "for_nostops"
   ]
  },
  {
   "cell_type": "code",
   "execution_count": 14,
   "metadata": {
    "scrolled": true
   },
   "outputs": [
    {
     "data": {
      "text/html": [
       "<div>\n",
       "<style scoped>\n",
       "    .dataframe tbody tr th:only-of-type {\n",
       "        vertical-align: middle;\n",
       "    }\n",
       "\n",
       "    .dataframe tbody tr th {\n",
       "        vertical-align: top;\n",
       "    }\n",
       "\n",
       "    .dataframe thead th {\n",
       "        text-align: right;\n",
       "    }\n",
       "</style>\n",
       "<table border=\"1\" class=\"dataframe\">\n",
       "  <thead>\n",
       "    <tr style=\"text-align: right;\">\n",
       "      <th></th>\n",
       "      <th>Word</th>\n",
       "      <th>Frequency</th>\n",
       "    </tr>\n",
       "  </thead>\n",
       "  <tbody>\n",
       "    <tr>\n",
       "      <th>0</th>\n",
       "      <td>rights</td>\n",
       "      <td>99</td>\n",
       "    </tr>\n",
       "    <tr>\n",
       "      <th>1</th>\n",
       "      <td>human</td>\n",
       "      <td>86</td>\n",
       "    </tr>\n",
       "    <tr>\n",
       "      <th>2</th>\n",
       "      <td>Fiji</td>\n",
       "      <td>70</td>\n",
       "    </tr>\n",
       "    <tr>\n",
       "      <th>3</th>\n",
       "      <td>made</td>\n",
       "      <td>63</td>\n",
       "    </tr>\n",
       "    <tr>\n",
       "      <th>4</th>\n",
       "      <td>It</td>\n",
       "      <td>62</td>\n",
       "    </tr>\n",
       "    <tr>\n",
       "      <th>5</th>\n",
       "      <td>The</td>\n",
       "      <td>51</td>\n",
       "    </tr>\n",
       "    <tr>\n",
       "      <th>6</th>\n",
       "      <td>Rights</td>\n",
       "      <td>50</td>\n",
       "    </tr>\n",
       "    <tr>\n",
       "      <th>7</th>\n",
       "      <td>international</td>\n",
       "      <td>50</td>\n",
       "    </tr>\n",
       "    <tr>\n",
       "      <th>8</th>\n",
       "      <td>recommendations.</td>\n",
       "      <td>46</td>\n",
       "    </tr>\n",
       "    <tr>\n",
       "      <th>9</th>\n",
       "      <td>Constitution</td>\n",
       "      <td>35</td>\n",
       "    </tr>\n",
       "    <tr>\n",
       "      <th>10</th>\n",
       "      <td>ensure</td>\n",
       "      <td>34</td>\n",
       "    </tr>\n",
       "    <tr>\n",
       "      <th>11</th>\n",
       "      <td>Human</td>\n",
       "      <td>32</td>\n",
       "    </tr>\n",
       "    <tr>\n",
       "      <th>12</th>\n",
       "      <td>steps</td>\n",
       "      <td>31</td>\n",
       "    </tr>\n",
       "    <tr>\n",
       "      <th>13</th>\n",
       "      <td>freedom</td>\n",
       "      <td>31</td>\n",
       "    </tr>\n",
       "    <tr>\n",
       "      <th>14</th>\n",
       "      <td>Take</td>\n",
       "      <td>28</td>\n",
       "    </tr>\n",
       "    <tr>\n",
       "      <th>15</th>\n",
       "      <td>women</td>\n",
       "      <td>26</td>\n",
       "    </tr>\n",
       "    <tr>\n",
       "      <th>16</th>\n",
       "      <td>violence</td>\n",
       "      <td>25</td>\n",
       "    </tr>\n",
       "    <tr>\n",
       "      <th>17</th>\n",
       "      <td>measures</td>\n",
       "      <td>25</td>\n",
       "    </tr>\n",
       "    <tr>\n",
       "      <th>18</th>\n",
       "      <td>noted</td>\n",
       "      <td>24</td>\n",
       "    </tr>\n",
       "    <tr>\n",
       "      <th>19</th>\n",
       "      <td>welcomed</td>\n",
       "      <td>24</td>\n",
       "    </tr>\n",
       "  </tbody>\n",
       "</table>\n",
       "</div>"
      ],
      "text/plain": [
       "                Word  Frequency\n",
       "0             rights         99\n",
       "1              human         86\n",
       "2               Fiji         70\n",
       "3               made         63\n",
       "4                 It         62\n",
       "5                The         51\n",
       "6             Rights         50\n",
       "7      international         50\n",
       "8   recommendations.         46\n",
       "9       Constitution         35\n",
       "10            ensure         34\n",
       "11             Human         32\n",
       "12             steps         31\n",
       "13           freedom         31\n",
       "14              Take         28\n",
       "15             women         26\n",
       "16          violence         25\n",
       "17          measures         25\n",
       "18             noted         24\n",
       "19          welcomed         24"
      ]
     },
     "execution_count": 14,
     "metadata": {},
     "output_type": "execute_result"
    }
   ],
   "source": [
    "# or\n",
    "fiji_nostops = pd.DataFrame(for_nostops, columns = [\"Word\", \"Frequency\"])\n",
    "fiji_nostops"
   ]
  },
  {
   "cell_type": "code",
   "execution_count": 15,
   "metadata": {},
   "outputs": [
    {
     "data": {
      "image/png": "[encoded data removed]",
      "text/plain": [
       "<Figure size 432x288 with 1 Axes>"
      ]
     },
     "metadata": {
      "needs_background": "light"
     },
     "output_type": "display_data"
    }
   ],
   "source": [
    "# What changed?\n",
    "fiji_nostops.plot.bar(x = \"Word\", y = \"Frequency\");"
   ]
  },
  {
   "cell_type": "markdown",
   "metadata": {},
   "source": [
    "# Challenge 3: Understanding Seaborn Code\n",
    "\n",
    "Matplotlib is good, but seaborn is better! We can do more with less code - you might even find the syntax a little easier to understand. [Start looking through examples here](https://seaborn.pydata.org/tutorial.html).\n",
    "\n",
    "What can you understand from the code for the [seaborn scatterplot documentation](https://seaborn.pydata.org/generated/seaborn.scatterplot.html)? **_Why_** does the code in the below cell produce the figure that it does? Experiemnt by changing the various arguments and see what happens!\n",
    "\n",
    "The code below shows a scatterplot for life expectancy and GDP per capita income from the gapminder dataset."
   ]
  },
  {
   "cell_type": "code",
   "execution_count": 16,
   "metadata": {},
   "outputs": [
    {
     "data": {
      "text/plain": [
       "Index(['country', 'year', 'pop', 'continent', 'lifeExp', 'gdpPercap'], dtype='object')"
      ]
     },
     "execution_count": 16,
     "metadata": {},
     "output_type": "execute_result"
    }
   ],
   "source": [
    "gap.columns"
   ]
  },
  {
   "cell_type": "code",
   "execution_count": 17,
   "metadata": {},
   "outputs": [
    {
     "data": {
      "image/png": "[encoded data removed]",
      "text/plain": [
       "<Figure size 432x288 with 1 Axes>"
      ]
     },
     "metadata": {
      "needs_background": "light"
     },
     "output_type": "display_data"
    }
   ],
   "source": [
    "scatterplot = sns.scatterplot(x = \"lifeExp\", y = \"gdpPercap\", \n",
    "                              hue = \"continent\", style = \"continent\", \n",
    "                              s = 100, alpha = 0.05, data = gap)\n",
    "scatterplot.legend(loc = \"center left\", bbox_to_anchor = (0, 0.7), ncol = 1)\n",
    "scatterplot.set(xlabel = \"Life Expectancy (years)\", \n",
    "                ylabel = \"GDP Per Cap Income (USD)\", \n",
    "                title = \"Scatterplot\");"
   ]
  },
  {
   "cell_type": "markdown",
   "metadata": {},
   "source": [
    "# Challenge 4: Faceting\n",
    "\n",
    "In the iris dataset, facet out each of the species into its own facetted plot, and make a scatterplot of the \"Sepal.Length\" and \"Sepal.Width\" (hint: look at the end of notebook 2-2 to find out how to do this)."
   ]
  },
  {
   "cell_type": "code",
   "execution_count": 18,
   "metadata": {},
   "outputs": [
    {
     "data": {
      "text/html": [
       "<div>\n",
       "<style scoped>\n",
       "    .dataframe tbody tr th:only-of-type {\n",
       "        vertical-align: middle;\n",
       "    }\n",
       "\n",
       "    .dataframe tbody tr th {\n",
       "        vertical-align: top;\n",
       "    }\n",
       "\n",
       "    .dataframe thead th {\n",
       "        text-align: right;\n",
       "    }\n",
       "</style>\n",
       "<table border=\"1\" class=\"dataframe\">\n",
       "  <thead>\n",
       "    <tr style=\"text-align: right;\">\n",
       "      <th></th>\n",
       "      <th>Unnamed: 0</th>\n",
       "      <th>Sepal.Length</th>\n",
       "      <th>Sepal.Width</th>\n",
       "      <th>Petal.Length</th>\n",
       "      <th>Petal.Width</th>\n",
       "      <th>Species</th>\n",
       "    </tr>\n",
       "  </thead>\n",
       "  <tbody>\n",
       "    <tr>\n",
       "      <th>0</th>\n",
       "      <td>1</td>\n",
       "      <td>5.1</td>\n",
       "      <td>3.5</td>\n",
       "      <td>1.4</td>\n",
       "      <td>0.2</td>\n",
       "      <td>setosa</td>\n",
       "    </tr>\n",
       "    <tr>\n",
       "      <th>1</th>\n",
       "      <td>2</td>\n",
       "      <td>4.9</td>\n",
       "      <td>3.0</td>\n",
       "      <td>1.4</td>\n",
       "      <td>0.2</td>\n",
       "      <td>setosa</td>\n",
       "    </tr>\n",
       "    <tr>\n",
       "      <th>2</th>\n",
       "      <td>3</td>\n",
       "      <td>4.7</td>\n",
       "      <td>3.2</td>\n",
       "      <td>1.3</td>\n",
       "      <td>0.2</td>\n",
       "      <td>setosa</td>\n",
       "    </tr>\n",
       "    <tr>\n",
       "      <th>3</th>\n",
       "      <td>4</td>\n",
       "      <td>4.6</td>\n",
       "      <td>3.1</td>\n",
       "      <td>1.5</td>\n",
       "      <td>0.2</td>\n",
       "      <td>setosa</td>\n",
       "    </tr>\n",
       "    <tr>\n",
       "      <th>4</th>\n",
       "      <td>5</td>\n",
       "      <td>5.0</td>\n",
       "      <td>3.6</td>\n",
       "      <td>1.4</td>\n",
       "      <td>0.2</td>\n",
       "      <td>setosa</td>\n",
       "    </tr>\n",
       "  </tbody>\n",
       "</table>\n",
       "</div>"
      ],
      "text/plain": [
       "   Unnamed: 0  Sepal.Length  Sepal.Width  Petal.Length  Petal.Width Species\n",
       "0           1           5.1          3.5           1.4          0.2  setosa\n",
       "1           2           4.9          3.0           1.4          0.2  setosa\n",
       "2           3           4.7          3.2           1.3          0.2  setosa\n",
       "3           4           4.6          3.1           1.5          0.2  setosa\n",
       "4           5           5.0          3.6           1.4          0.2  setosa"
      ]
     },
     "execution_count": 18,
     "metadata": {},
     "output_type": "execute_result"
    }
   ],
   "source": [
    "# Import iris\n",
    "iris = pd.read_csv(\"iris.csv\")\n",
    "iris.head()"
   ]
  },
  {
   "cell_type": "code",
   "execution_count": 19,
   "metadata": {},
   "outputs": [
    {
     "data": {
      "image/png": "[encoded data removed]",
      "text/plain": [
       "<Figure size 864x288 with 3 Axes>"
      ]
     },
     "metadata": {
      "needs_background": "light"
     },
     "output_type": "display_data"
    }
   ],
   "source": [
    "scatterplot_facet = sns.FacetGrid(iris, col = \"Species\", \n",
    "                                  col_wrap = 3, height = 4, sharex = False)\n",
    "scatterplot_facet.map(plt.scatter, \"Sepal.Length\", \"Sepal.Width\", marker = \".\");"
   ]
  },
  {
   "cell_type": "markdown",
   "metadata": {},
   "source": [
    "# Challenge 5: Seaborn Boxplot\n",
    "\n",
    "Make boxplots for each Species (x-axis) by Petal.Length (Y-axis) in the iris dataset."
   ]
  },
  {
   "cell_type": "code",
   "execution_count": 20,
   "metadata": {},
   "outputs": [
    {
     "data": {
      "image/png": "[encoded data removed]",
      "text/plain": [
       "<Figure size 432x288 with 1 Axes>"
      ]
     },
     "metadata": {
      "needs_background": "light"
     },
     "output_type": "display_data"
    }
   ],
   "source": [
    "iris_box = sns.boxplot(x = \"Species\", y = \"Petal.Length\", \n",
    "                       data = iris)\n",
    "iris_box.set(xlabel = \"Species of Iris Flower\", \n",
    "             ylabel = \"Petal Length (cm)\", \n",
    "             title = \"Variation in Iris Petal Length\");"
   ]
  },
  {
   "cell_type": "markdown",
   "metadata": {},
   "source": [
    "# Challenge 6: Line plot\n",
    "\n",
    "What if we are interested in _something_ and how it has changed through time? Line plots are the standard for doing so - let's look at change in per-capita GDP through time for Mexico, USA, and Canada. "
   ]
  },
  {
   "cell_type": "code",
   "execution_count": 21,
   "metadata": {},
   "outputs": [],
   "source": [
    "# Create a subset of only Mexico data\n",
    "mexico = gap[gap[\"country\"] == \"Mexico\"]\n",
    "\n",
    "# ... of USA data\n",
    "usa = gap[gap[\"country\"] == \"United States\"]\n",
    "\n",
    "# ... and of Canada data\n",
    "canada = gap[gap[\"country\"] == \"Canada\"]"
   ]
  },
  {
   "cell_type": "code",
   "execution_count": 22,
   "metadata": {
    "scrolled": true
   },
   "outputs": [
    {
     "data": {
      "image/png": "[encoded data removed]",
      "text/plain": [
       "<Figure size 432x288 with 1 Axes>"
      ]
     },
     "metadata": {
      "needs_background": "light"
     },
     "output_type": "display_data"
    }
   ],
   "source": [
    "# Plot!\n",
    "plt.plot(mexico[\"year\"], mexico[\"gdpPercap\"], label = \"Mexico\")\n",
    "plt.plot(usa[\"year\"], usa[\"gdpPercap\"], label = \"USA\")\n",
    "plt.plot(canada[\"year\"], canada[\"gdpPercap\"], label = \"Canada\")\n",
    "plt.title('Per-capita GDP')\n",
    "plt.xlabel('Time (Years)')\n",
    "plt.ylabel('Per-capita GPD (Millions of USD)')\n",
    "plt.legend();"
   ]
  },
  {
   "cell_type": "markdown",
   "metadata": {},
   "source": [
    "# Challenge 7: Subplots\n",
    "\n",
    "Create one compoud plot that contains to line plots for Mexico's and Canada's gdpPercap through time! Combine these into a single figure. Don't forget the `label` and `color` attributes when calling the plot. Add relevant labels for the x and y-axes using `xlabel` and `ylabel`. Save your figure to your working directory, naming it \"compound_figure.pdf\" at 600 dpi. Good luck!\n",
    "\n",
    "Tip: try doing `plt.plot` twice, using both dataframe columns (e.g. `plt.plot(mexico[\"year\"], mexico[\"gdpPercap\"]`) ."
   ]
  },
  {
   "cell_type": "code",
   "execution_count": 23,
   "metadata": {
    "scrolled": true
   },
   "outputs": [
    {
     "data": {
      "image/png": "[encoded data removed]",
      "text/plain": [
       "<Figure size 720x360 with 1 Axes>"
      ]
     },
     "metadata": {
      "needs_background": "light"
     },
     "output_type": "display_data"
    }
   ],
   "source": [
    "plt.figure(figsize=(10,5))\n",
    "\n",
    "plt.plot(mexico[\"year\"], mexico[\"gdpPercap\"], label = \"Mexico\", color = \"green\")\n",
    "plt.xlabel('Time (Years)')\n",
    "plt.ylabel('Per-capita GPD (Millions of USD)')\n",
    "\n",
    "plt.plot(canada[\"year\"], canada[\"gdpPercap\"], label=\"Canada\", color=\"red\")\n",
    "plt.xlabel('Time (Years)')\n",
    "plt.ylabel('Per-capita GPD (Millions of USD)')\n",
    "plt.legend()\n",
    "plt.savefig(\"compound_figure.pdf\", dpi = 600);"
   ]
  }
 ],
 "metadata": {
  "kernelspec": {
   "display_name": "Python 3",
   "language": "python",
   "name": "python3"
  },
  "language_info": {
   "codemirror_mode": {
    "name": "ipython",
    "version": 3
   },
   "file_extension": ".py",
   "mimetype": "text/x-python",
   "name": "python",
   "nbconvert_exporter": "python",
   "pygments_lexer": "ipython3",
   "version": "3.8.5"
  }
 },
 "nbformat": 4,
 "nbformat_minor": 2
}
