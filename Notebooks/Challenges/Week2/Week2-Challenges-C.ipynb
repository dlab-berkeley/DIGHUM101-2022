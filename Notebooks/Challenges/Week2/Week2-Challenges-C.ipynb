{
 "cells": [
  {
   "cell_type": "markdown",
   "metadata": {},
   "source": [
    "# Challenge 1 - The Working Directory\n",
    "\n",
    "Set your working directory to the Data folder in your DIGHUM101-2020 course materials"
   ]
  },
  {
   "cell_type": "code",
   "execution_count": 1,
   "metadata": {},
   "outputs": [],
   "source": [
    "import os"
   ]
  },
  {
   "cell_type": "code",
   "execution_count": 2,
   "metadata": {},
   "outputs": [
    {
     "data": {
      "text/plain": [
       "'/Users/brooks/Projects/D-Lab/DIGHUM101-2021/Notebooks/Challenges/Week2'"
      ]
     },
     "execution_count": 2,
     "metadata": {},
     "output_type": "execute_result"
    }
   ],
   "source": [
    "## YOUR CODE HERE\n",
    "\n"
   ]
  },
  {
   "cell_type": "markdown",
   "metadata": {},
   "source": [
    "# Challenge 2: Pandas - Import .csv File\n",
    "\n",
    "Import the music_reviews.csv file and save it in a variable named music. Use the head method to show the first twelve rows. \n",
    "\n",
    "> HINT: remember this is a TAB separated .csv file, so you have to add a second argument to tell Python that the file is tab-delineated (not comma delineated)."
   ]
  },
  {
   "cell_type": "code",
   "execution_count": 2,
   "metadata": {},
   "outputs": [
    {
     "data": {
      "text/plain": [
       "'/Users/brooks/Projects/D-Lab/DIGHUM101-2021/Notebooks/Challenges/Week2'"
      ]
     },
     "execution_count": 2,
     "metadata": {},
     "output_type": "execute_result"
    }
   ],
   "source": [
    "## YOUR CODE HERE\n",
    "\n"
   ]
  },
  {
   "cell_type": "markdown",
   "metadata": {},
   "source": [
    "# Challenge 3: `.describe()`\n",
    "\n",
    "Use the .describe() method to find the average review score for all albums in this dataset."
   ]
  },
  {
   "cell_type": "code",
   "execution_count": 2,
   "metadata": {},
   "outputs": [
    {
     "data": {
      "text/plain": [
       "'/Users/brooks/Projects/D-Lab/DIGHUM101-2021/Notebooks/Challenges/Week2'"
      ]
     },
     "execution_count": 2,
     "metadata": {},
     "output_type": "execute_result"
    }
   ],
   "source": [
    "## YOUR CODE HERE\n",
    "\n"
   ]
  },
  {
   "cell_type": "markdown",
   "metadata": {},
   "source": [
    "# Challenge 4: Rename Column Names\n",
    "\n",
    "Recall how to print the columns of a data frame. It looks like a method but without the trailing round parentheses is called an attribute!"
   ]
  },
  {
   "cell_type": "code",
   "execution_count": 15,
   "metadata": {},
   "outputs": [
    {
     "data": {
      "text/plain": [
       "Index(['album', 'artist', 'genre', 'release_date', 'critic', 'score', 'body'], dtype='object')"
      ]
     },
     "execution_count": 15,
     "metadata": {},
     "output_type": "execute_result"
    }
   ],
   "source": [
    "music.columns"
   ]
  },
  {
   "cell_type": "markdown",
   "metadata": {},
   "source": [
    "Rename the \"album\" column name to \"ALBUM\" and the \"body\" column name to \"Body\"."
   ]
  },
  {
   "cell_type": "code",
   "execution_count": 22,
   "metadata": {},
   "outputs": [],
   "source": [
    "## YOUR CODE HERE\n",
    "\n"
   ]
  },
  {
   "cell_type": "code",
   "execution_count": 24,
   "metadata": {},
   "outputs": [
    {
     "data": {
      "text/html": [
       "<div>\n",
       "<style scoped>\n",
       "    .dataframe tbody tr th:only-of-type {\n",
       "        vertical-align: middle;\n",
       "    }\n",
       "\n",
       "    .dataframe tbody tr th {\n",
       "        vertical-align: top;\n",
       "    }\n",
       "\n",
       "    .dataframe thead th {\n",
       "        text-align: right;\n",
       "    }\n",
       "</style>\n",
       "<table border=\"1\" class=\"dataframe\">\n",
       "  <thead>\n",
       "    <tr style=\"text-align: right;\">\n",
       "      <th></th>\n",
       "      <th>ALBUM</th>\n",
       "      <th>artist</th>\n",
       "      <th>genre</th>\n",
       "      <th>release_date</th>\n",
       "      <th>critic</th>\n",
       "      <th>score</th>\n",
       "      <th>Body</th>\n",
       "    </tr>\n",
       "  </thead>\n",
       "  <tbody>\n",
       "    <tr>\n",
       "      <th>0</th>\n",
       "      <td>Don't Panic</td>\n",
       "      <td>All Time Low</td>\n",
       "      <td>Pop/Rock</td>\n",
       "      <td>2012-10-09 00:00:00</td>\n",
       "      <td>Kerrang!</td>\n",
       "      <td>74.0</td>\n",
       "      <td>While For Baltimore proves they can still writ...</td>\n",
       "    </tr>\n",
       "    <tr>\n",
       "      <th>1</th>\n",
       "      <td>Fear and Saturday Night</td>\n",
       "      <td>Ryan Bingham</td>\n",
       "      <td>Country</td>\n",
       "      <td>2015-01-20 00:00:00</td>\n",
       "      <td>Uncut</td>\n",
       "      <td>70.0</td>\n",
       "      <td>There's nothing fake about the purgatorial nar...</td>\n",
       "    </tr>\n",
       "    <tr>\n",
       "      <th>2</th>\n",
       "      <td>The Way I'm Livin'</td>\n",
       "      <td>Lee Ann Womack</td>\n",
       "      <td>Country</td>\n",
       "      <td>2014-09-23 00:00:00</td>\n",
       "      <td>Q Magazine</td>\n",
       "      <td>84.0</td>\n",
       "      <td>All life's disastrous lows are here on a caree...</td>\n",
       "    </tr>\n",
       "    <tr>\n",
       "      <th>3</th>\n",
       "      <td>Doris</td>\n",
       "      <td>Earl Sweatshirt</td>\n",
       "      <td>Rap</td>\n",
       "      <td>2013-08-20 00:00:00</td>\n",
       "      <td>Pitchfork</td>\n",
       "      <td>82.0</td>\n",
       "      <td>With Doris, Odd Future’s Odysseus is finally b...</td>\n",
       "    </tr>\n",
       "    <tr>\n",
       "      <th>4</th>\n",
       "      <td>Giraffe</td>\n",
       "      <td>Echoboy</td>\n",
       "      <td>Rock</td>\n",
       "      <td>2003-02-25 00:00:00</td>\n",
       "      <td>AllMusic</td>\n",
       "      <td>71.0</td>\n",
       "      <td>Though Giraffe is definitely Echoboy's most im...</td>\n",
       "    </tr>\n",
       "  </tbody>\n",
       "</table>\n",
       "</div>"
      ],
      "text/plain": [
       "                     ALBUM           artist     genre         release_date  \\\n",
       "0              Don't Panic     All Time Low  Pop/Rock  2012-10-09 00:00:00   \n",
       "1  Fear and Saturday Night     Ryan Bingham   Country  2015-01-20 00:00:00   \n",
       "2       The Way I'm Livin'   Lee Ann Womack   Country  2014-09-23 00:00:00   \n",
       "3                    Doris  Earl Sweatshirt       Rap  2013-08-20 00:00:00   \n",
       "4                  Giraffe          Echoboy      Rock  2003-02-25 00:00:00   \n",
       "\n",
       "       critic  score                                               Body  \n",
       "0    Kerrang!   74.0  While For Baltimore proves they can still writ...  \n",
       "1       Uncut   70.0  There's nothing fake about the purgatorial nar...  \n",
       "2  Q Magazine   84.0  All life's disastrous lows are here on a caree...  \n",
       "3   Pitchfork   82.0  With Doris, Odd Future’s Odysseus is finally b...  \n",
       "4    AllMusic   71.0  Though Giraffe is definitely Echoboy's most im...  "
      ]
     },
     "execution_count": 24,
     "metadata": {},
     "output_type": "execute_result"
    }
   ],
   "source": [
    "# See if it worked\n",
    "music.head()"
   ]
  },
  {
   "cell_type": "markdown",
   "metadata": {},
   "source": [
    "# Challenge 5: Slice It! \n",
    "\n",
    "Slice music to return just the 3rd, 4th, and 5th reviews (note that they start on 0). Save this in a variable named `music_subset`."
   ]
  },
  {
   "cell_type": "code",
   "execution_count": 26,
   "metadata": {},
   "outputs": [
    {
     "data": {
      "text/html": [
       "<div>\n",
       "<style scoped>\n",
       "    .dataframe tbody tr th:only-of-type {\n",
       "        vertical-align: middle;\n",
       "    }\n",
       "\n",
       "    .dataframe tbody tr th {\n",
       "        vertical-align: top;\n",
       "    }\n",
       "\n",
       "    .dataframe thead th {\n",
       "        text-align: right;\n",
       "    }\n",
       "</style>\n",
       "<table border=\"1\" class=\"dataframe\">\n",
       "  <thead>\n",
       "    <tr style=\"text-align: right;\">\n",
       "      <th></th>\n",
       "      <th>ALBUM</th>\n",
       "      <th>artist</th>\n",
       "      <th>genre</th>\n",
       "      <th>release_date</th>\n",
       "      <th>critic</th>\n",
       "      <th>score</th>\n",
       "      <th>Body</th>\n",
       "    </tr>\n",
       "  </thead>\n",
       "  <tbody>\n",
       "    <tr>\n",
       "      <th>2</th>\n",
       "      <td>The Way I'm Livin'</td>\n",
       "      <td>Lee Ann Womack</td>\n",
       "      <td>Country</td>\n",
       "      <td>2014-09-23 00:00:00</td>\n",
       "      <td>Q Magazine</td>\n",
       "      <td>84.0</td>\n",
       "      <td>All life's disastrous lows are here on a caree...</td>\n",
       "    </tr>\n",
       "    <tr>\n",
       "      <th>3</th>\n",
       "      <td>Doris</td>\n",
       "      <td>Earl Sweatshirt</td>\n",
       "      <td>Rap</td>\n",
       "      <td>2013-08-20 00:00:00</td>\n",
       "      <td>Pitchfork</td>\n",
       "      <td>82.0</td>\n",
       "      <td>With Doris, Odd Future’s Odysseus is finally b...</td>\n",
       "    </tr>\n",
       "    <tr>\n",
       "      <th>4</th>\n",
       "      <td>Giraffe</td>\n",
       "      <td>Echoboy</td>\n",
       "      <td>Rock</td>\n",
       "      <td>2003-02-25 00:00:00</td>\n",
       "      <td>AllMusic</td>\n",
       "      <td>71.0</td>\n",
       "      <td>Though Giraffe is definitely Echoboy's most im...</td>\n",
       "    </tr>\n",
       "  </tbody>\n",
       "</table>\n",
       "</div>"
      ],
      "text/plain": [
       "                ALBUM           artist    genre         release_date  \\\n",
       "2  The Way I'm Livin'   Lee Ann Womack  Country  2014-09-23 00:00:00   \n",
       "3               Doris  Earl Sweatshirt      Rap  2013-08-20 00:00:00   \n",
       "4             Giraffe          Echoboy     Rock  2003-02-25 00:00:00   \n",
       "\n",
       "       critic  score                                               Body  \n",
       "2  Q Magazine   84.0  All life's disastrous lows are here on a caree...  \n",
       "3   Pitchfork   82.0  With Doris, Odd Future’s Odysseus is finally b...  \n",
       "4    AllMusic   71.0  Though Giraffe is definitely Echoboy's most im...  "
      ]
     },
     "execution_count": 26,
     "metadata": {},
     "output_type": "execute_result"
    }
   ],
   "source": [
    "## YOUR CODE HERE\n",
    "\n"
   ]
  },
  {
   "cell_type": "markdown",
   "metadata": {},
   "source": [
    "# Challenge 6: `iloc`\n",
    "\n",
    "Use `.iloc` to return just the 1st, 82nd, 988th, 2561st, 4002nd, and and last review in a variable named music2"
   ]
  },
  {
   "cell_type": "code",
   "execution_count": 32,
   "metadata": {},
   "outputs": [
    {
     "data": {
      "text/html": [
       "<div>\n",
       "<style scoped>\n",
       "    .dataframe tbody tr th:only-of-type {\n",
       "        vertical-align: middle;\n",
       "    }\n",
       "\n",
       "    .dataframe tbody tr th {\n",
       "        vertical-align: top;\n",
       "    }\n",
       "\n",
       "    .dataframe thead th {\n",
       "        text-align: right;\n",
       "    }\n",
       "</style>\n",
       "<table border=\"1\" class=\"dataframe\">\n",
       "  <thead>\n",
       "    <tr style=\"text-align: right;\">\n",
       "      <th></th>\n",
       "      <th>ALBUM</th>\n",
       "      <th>artist</th>\n",
       "      <th>genre</th>\n",
       "      <th>release_date</th>\n",
       "      <th>critic</th>\n",
       "      <th>score</th>\n",
       "      <th>Body</th>\n",
       "    </tr>\n",
       "  </thead>\n",
       "  <tbody>\n",
       "    <tr>\n",
       "      <th>0</th>\n",
       "      <td>Don't Panic</td>\n",
       "      <td>All Time Low</td>\n",
       "      <td>Pop/Rock</td>\n",
       "      <td>2012-10-09 00:00:00</td>\n",
       "      <td>Kerrang!</td>\n",
       "      <td>74.0</td>\n",
       "      <td>While For Baltimore proves they can still writ...</td>\n",
       "    </tr>\n",
       "    <tr>\n",
       "      <th>81</th>\n",
       "      <td>The Music</td>\n",
       "      <td>The Music</td>\n",
       "      <td>Indie</td>\n",
       "      <td>2003-02-25 00:00:00</td>\n",
       "      <td>Spin</td>\n",
       "      <td>58.0</td>\n",
       "      <td>What's most British about the Music is their t...</td>\n",
       "    </tr>\n",
       "    <tr>\n",
       "      <th>987</th>\n",
       "      <td>Inni [Live]</td>\n",
       "      <td>Sigur Rós</td>\n",
       "      <td>Pop/Rock</td>\n",
       "      <td>2011-11-15 00:00:00</td>\n",
       "      <td>williamplong</td>\n",
       "      <td>78.0</td>\n",
       "      <td>Emotional and brilliant! This live production ...</td>\n",
       "    </tr>\n",
       "    <tr>\n",
       "      <th>2560</th>\n",
       "      <td>Now</td>\n",
       "      <td>Maxwell</td>\n",
       "      <td>Pop</td>\n",
       "      <td>2001-08-14 00:00:00</td>\n",
       "      <td>Sonicnet</td>\n",
       "      <td>78.0</td>\n",
       "      <td>Now is Maxwell's best album, because he's lear...</td>\n",
       "    </tr>\n",
       "    <tr>\n",
       "      <th>4001</th>\n",
       "      <td>Into The Blue Again</td>\n",
       "      <td>The Album Leaf</td>\n",
       "      <td>Indie</td>\n",
       "      <td>2006-09-12 00:00:00</td>\n",
       "      <td>Playlouder</td>\n",
       "      <td>67.0</td>\n",
       "      <td>A lesson in understatement, 'Into The Blue Aga...</td>\n",
       "    </tr>\n",
       "    <tr>\n",
       "      <th>5000</th>\n",
       "      <td>And Their Refinement Of The Decline</td>\n",
       "      <td>Stars Of The Lid</td>\n",
       "      <td>Rock</td>\n",
       "      <td>2007-04-07 00:00:00</td>\n",
       "      <td>PopMatters</td>\n",
       "      <td>87.0</td>\n",
       "      <td>Their work, especially that displayed on Refin...</td>\n",
       "    </tr>\n",
       "  </tbody>\n",
       "</table>\n",
       "</div>"
      ],
      "text/plain": [
       "                                    ALBUM            artist     genre  \\\n",
       "0                             Don't Panic      All Time Low  Pop/Rock   \n",
       "81                              The Music         The Music     Indie   \n",
       "987                           Inni [Live]         Sigur Rós  Pop/Rock   \n",
       "2560                                  Now           Maxwell       Pop   \n",
       "4001                  Into The Blue Again    The Album Leaf     Indie   \n",
       "5000  And Their Refinement Of The Decline  Stars Of The Lid      Rock   \n",
       "\n",
       "             release_date        critic  score  \\\n",
       "0     2012-10-09 00:00:00      Kerrang!   74.0   \n",
       "81    2003-02-25 00:00:00          Spin   58.0   \n",
       "987   2011-11-15 00:00:00  williamplong   78.0   \n",
       "2560  2001-08-14 00:00:00      Sonicnet   78.0   \n",
       "4001  2006-09-12 00:00:00    Playlouder   67.0   \n",
       "5000  2007-04-07 00:00:00    PopMatters   87.0   \n",
       "\n",
       "                                                   Body  \n",
       "0     While For Baltimore proves they can still writ...  \n",
       "81    What's most British about the Music is their t...  \n",
       "987   Emotional and brilliant! This live production ...  \n",
       "2560  Now is Maxwell's best album, because he's lear...  \n",
       "4001  A lesson in understatement, 'Into The Blue Aga...  \n",
       "5000  Their work, especially that displayed on Refin...  "
      ]
     },
     "execution_count": 32,
     "metadata": {},
     "output_type": "execute_result"
    }
   ],
   "source": [
    "## YOUR CODE HERE\n",
    "\n"
   ]
  },
  {
   "cell_type": "markdown",
   "metadata": {},
   "source": [
    "# Challenge 7: `iloc` Slice and Stride\n",
    "\n",
    "Use `.iloc` to return every 40th album between reviews 20 and 200 and save this subset in a variable named music3"
   ]
  },
  {
   "cell_type": "code",
   "execution_count": 36,
   "metadata": {},
   "outputs": [
    {
     "data": {
      "text/html": [
       "<div>\n",
       "<style scoped>\n",
       "    .dataframe tbody tr th:only-of-type {\n",
       "        vertical-align: middle;\n",
       "    }\n",
       "\n",
       "    .dataframe tbody tr th {\n",
       "        vertical-align: top;\n",
       "    }\n",
       "\n",
       "    .dataframe thead th {\n",
       "        text-align: right;\n",
       "    }\n",
       "</style>\n",
       "<table border=\"1\" class=\"dataframe\">\n",
       "  <thead>\n",
       "    <tr style=\"text-align: right;\">\n",
       "      <th></th>\n",
       "      <th>ALBUM</th>\n",
       "      <th>artist</th>\n",
       "      <th>genre</th>\n",
       "      <th>release_date</th>\n",
       "      <th>critic</th>\n",
       "      <th>score</th>\n",
       "      <th>Body</th>\n",
       "    </tr>\n",
       "  </thead>\n",
       "  <tbody>\n",
       "    <tr>\n",
       "      <th>20</th>\n",
       "      <td>July Flame</td>\n",
       "      <td>Laura Veirs</td>\n",
       "      <td>Indie</td>\n",
       "      <td>2010-01-12 00:00:00</td>\n",
       "      <td>musicOMH.com</td>\n",
       "      <td>81.0</td>\n",
       "      <td>Laura Veirs makes an excellent case for hersel...</td>\n",
       "    </tr>\n",
       "    <tr>\n",
       "      <th>60</th>\n",
       "      <td>Angels &amp; Devils</td>\n",
       "      <td>The Bug</td>\n",
       "      <td>Electronic</td>\n",
       "      <td>2014-08-26 00:00:00</td>\n",
       "      <td>The Quietus</td>\n",
       "      <td>83.0</td>\n",
       "      <td>An album that's otherwise remarkably deft at u...</td>\n",
       "    </tr>\n",
       "    <tr>\n",
       "      <th>100</th>\n",
       "      <td>Pilot Talk III</td>\n",
       "      <td>Curren$y</td>\n",
       "      <td>Rap</td>\n",
       "      <td>2015-04-04 00:00:00</td>\n",
       "      <td>bossmanrwat11</td>\n",
       "      <td>78.0</td>\n",
       "      <td>Big Spitta fan here, but his remarkable consis...</td>\n",
       "    </tr>\n",
       "    <tr>\n",
       "      <th>140</th>\n",
       "      <td>A Thousand Shark's Teeth</td>\n",
       "      <td>My Brightest Diamond</td>\n",
       "      <td>Indie</td>\n",
       "      <td>2008-06-17 00:00:00</td>\n",
       "      <td>PopMatters</td>\n",
       "      <td>72.0</td>\n",
       "      <td>It’s a swooning, big-gestured album to get los...</td>\n",
       "    </tr>\n",
       "    <tr>\n",
       "      <th>180</th>\n",
       "      <td>Television Man</td>\n",
       "      <td>Naomi Punk</td>\n",
       "      <td>Pop/Rock</td>\n",
       "      <td>2014-08-05 00:00:00</td>\n",
       "      <td>Rolling Stone</td>\n",
       "      <td>71.0</td>\n",
       "      <td>Sure, the songs' formulaic stop-and-spurt atta...</td>\n",
       "    </tr>\n",
       "  </tbody>\n",
       "</table>\n",
       "</div>"
      ],
      "text/plain": [
       "                        ALBUM                artist       genre  \\\n",
       "20                 July Flame           Laura Veirs       Indie   \n",
       "60            Angels & Devils               The Bug  Electronic   \n",
       "100            Pilot Talk III              Curren$y         Rap   \n",
       "140  A Thousand Shark's Teeth  My Brightest Diamond       Indie   \n",
       "180            Television Man            Naomi Punk    Pop/Rock   \n",
       "\n",
       "            release_date         critic  score  \\\n",
       "20   2010-01-12 00:00:00   musicOMH.com   81.0   \n",
       "60   2014-08-26 00:00:00    The Quietus   83.0   \n",
       "100  2015-04-04 00:00:00  bossmanrwat11   78.0   \n",
       "140  2008-06-17 00:00:00     PopMatters   72.0   \n",
       "180  2014-08-05 00:00:00  Rolling Stone   71.0   \n",
       "\n",
       "                                                  Body  \n",
       "20   Laura Veirs makes an excellent case for hersel...  \n",
       "60   An album that's otherwise remarkably deft at u...  \n",
       "100  Big Spitta fan here, but his remarkable consis...  \n",
       "140  It’s a swooning, big-gestured album to get los...  \n",
       "180  Sure, the songs' formulaic stop-and-spurt atta...  "
      ]
     },
     "execution_count": 36,
     "metadata": {},
     "output_type": "execute_result"
    }
   ],
   "source": [
    "## YOUR CODE HERE\n",
    "\n"
   ]
  },
  {
   "cell_type": "markdown",
   "metadata": {},
   "source": [
    "# Challenge 8: `iloc` Rows and Columns\n",
    "\n",
    "Use `iloc` to extract the last five rows in the music data set but only the \"artist\", \"ALBUM\", and \"score\" columns - in that order!\n",
    "\n",
    "> HINT: How do `iloc` and `loc` differ?"
   ]
  },
  {
   "cell_type": "code",
   "execution_count": 46,
   "metadata": {},
   "outputs": [
    {
     "data": {
      "text/html": [
       "<div>\n",
       "<style scoped>\n",
       "    .dataframe tbody tr th:only-of-type {\n",
       "        vertical-align: middle;\n",
       "    }\n",
       "\n",
       "    .dataframe tbody tr th {\n",
       "        vertical-align: top;\n",
       "    }\n",
       "\n",
       "    .dataframe thead th {\n",
       "        text-align: right;\n",
       "    }\n",
       "</style>\n",
       "<table border=\"1\" class=\"dataframe\">\n",
       "  <thead>\n",
       "    <tr style=\"text-align: right;\">\n",
       "      <th></th>\n",
       "      <th>artist</th>\n",
       "      <th>ALBUM</th>\n",
       "      <th>score</th>\n",
       "    </tr>\n",
       "  </thead>\n",
       "  <tbody>\n",
       "    <tr>\n",
       "      <th>4996</th>\n",
       "      <td>Conor Oberst And The Mystic Valley Band</td>\n",
       "      <td>Outer South</td>\n",
       "      <td>67.0</td>\n",
       "    </tr>\n",
       "    <tr>\n",
       "      <th>4997</th>\n",
       "      <td>David Gilmour</td>\n",
       "      <td>On An Island</td>\n",
       "      <td>67.0</td>\n",
       "    </tr>\n",
       "    <tr>\n",
       "      <th>4998</th>\n",
       "      <td>Gossip</td>\n",
       "      <td>Movement</td>\n",
       "      <td>81.0</td>\n",
       "    </tr>\n",
       "    <tr>\n",
       "      <th>4999</th>\n",
       "      <td>Dr. John</td>\n",
       "      <td>Locked Down</td>\n",
       "      <td>86.0</td>\n",
       "    </tr>\n",
       "    <tr>\n",
       "      <th>5000</th>\n",
       "      <td>Stars Of The Lid</td>\n",
       "      <td>And Their Refinement Of The Decline</td>\n",
       "      <td>87.0</td>\n",
       "    </tr>\n",
       "  </tbody>\n",
       "</table>\n",
       "</div>"
      ],
      "text/plain": [
       "                                       artist  \\\n",
       "4996  Conor Oberst And The Mystic Valley Band   \n",
       "4997                            David Gilmour   \n",
       "4998                                   Gossip   \n",
       "4999                                 Dr. John   \n",
       "5000                         Stars Of The Lid   \n",
       "\n",
       "                                    ALBUM  score  \n",
       "4996                          Outer South   67.0  \n",
       "4997                         On An Island   67.0  \n",
       "4998                             Movement   81.0  \n",
       "4999                          Locked Down   86.0  \n",
       "5000  And Their Refinement Of The Decline   87.0  "
      ]
     },
     "execution_count": 46,
     "metadata": {},
     "output_type": "execute_result"
    }
   ],
   "source": [
    "## YOUR CODE HERE\n",
    "\n"
   ]
  },
  {
   "cell_type": "markdown",
   "metadata": {},
   "source": [
    "# Challenge 9: `.loc` Rows and Columns \n",
    "\n",
    "Use `loc` to extract the first 5 rows in the music data set but only the \"artist\", \"ALBUM\", and \"score\" columns - in that order!"
   ]
  },
  {
   "cell_type": "code",
   "execution_count": 53,
   "metadata": {},
   "outputs": [
    {
     "data": {
      "text/html": [
       "<div>\n",
       "<style scoped>\n",
       "    .dataframe tbody tr th:only-of-type {\n",
       "        vertical-align: middle;\n",
       "    }\n",
       "\n",
       "    .dataframe tbody tr th {\n",
       "        vertical-align: top;\n",
       "    }\n",
       "\n",
       "    .dataframe thead th {\n",
       "        text-align: right;\n",
       "    }\n",
       "</style>\n",
       "<table border=\"1\" class=\"dataframe\">\n",
       "  <thead>\n",
       "    <tr style=\"text-align: right;\">\n",
       "      <th></th>\n",
       "      <th>ALBUM</th>\n",
       "      <th>artist</th>\n",
       "      <th>genre</th>\n",
       "      <th>release_date</th>\n",
       "      <th>critic</th>\n",
       "      <th>score</th>\n",
       "      <th>Body</th>\n",
       "    </tr>\n",
       "  </thead>\n",
       "  <tbody>\n",
       "    <tr>\n",
       "      <th>0</th>\n",
       "      <td>Don't Panic</td>\n",
       "      <td>All Time Low</td>\n",
       "      <td>Pop/Rock</td>\n",
       "      <td>2012-10-09 00:00:00</td>\n",
       "      <td>Kerrang!</td>\n",
       "      <td>74.0</td>\n",
       "      <td>While For Baltimore proves they can still writ...</td>\n",
       "    </tr>\n",
       "    <tr>\n",
       "      <th>1</th>\n",
       "      <td>Fear and Saturday Night</td>\n",
       "      <td>Ryan Bingham</td>\n",
       "      <td>Country</td>\n",
       "      <td>2015-01-20 00:00:00</td>\n",
       "      <td>Uncut</td>\n",
       "      <td>70.0</td>\n",
       "      <td>There's nothing fake about the purgatorial nar...</td>\n",
       "    </tr>\n",
       "    <tr>\n",
       "      <th>2</th>\n",
       "      <td>The Way I'm Livin'</td>\n",
       "      <td>Lee Ann Womack</td>\n",
       "      <td>Country</td>\n",
       "      <td>2014-09-23 00:00:00</td>\n",
       "      <td>Q Magazine</td>\n",
       "      <td>84.0</td>\n",
       "      <td>All life's disastrous lows are here on a caree...</td>\n",
       "    </tr>\n",
       "    <tr>\n",
       "      <th>3</th>\n",
       "      <td>Doris</td>\n",
       "      <td>Earl Sweatshirt</td>\n",
       "      <td>Rap</td>\n",
       "      <td>2013-08-20 00:00:00</td>\n",
       "      <td>Pitchfork</td>\n",
       "      <td>82.0</td>\n",
       "      <td>With Doris, Odd Future’s Odysseus is finally b...</td>\n",
       "    </tr>\n",
       "    <tr>\n",
       "      <th>4</th>\n",
       "      <td>Giraffe</td>\n",
       "      <td>Echoboy</td>\n",
       "      <td>Rock</td>\n",
       "      <td>2003-02-25 00:00:00</td>\n",
       "      <td>AllMusic</td>\n",
       "      <td>71.0</td>\n",
       "      <td>Though Giraffe is definitely Echoboy's most im...</td>\n",
       "    </tr>\n",
       "    <tr>\n",
       "      <th>5</th>\n",
       "      <td>Weathervanes</td>\n",
       "      <td>Freelance Whales</td>\n",
       "      <td>Indie</td>\n",
       "      <td>2010-04-13 00:00:00</td>\n",
       "      <td>Q Magazine</td>\n",
       "      <td>68.0</td>\n",
       "      <td>Fans of Owl City and The Postal Service will r...</td>\n",
       "    </tr>\n",
       "  </tbody>\n",
       "</table>\n",
       "</div>"
      ],
      "text/plain": [
       "                     ALBUM            artist     genre         release_date  \\\n",
       "0              Don't Panic      All Time Low  Pop/Rock  2012-10-09 00:00:00   \n",
       "1  Fear and Saturday Night      Ryan Bingham   Country  2015-01-20 00:00:00   \n",
       "2       The Way I'm Livin'    Lee Ann Womack   Country  2014-09-23 00:00:00   \n",
       "3                    Doris   Earl Sweatshirt       Rap  2013-08-20 00:00:00   \n",
       "4                  Giraffe           Echoboy      Rock  2003-02-25 00:00:00   \n",
       "5             Weathervanes  Freelance Whales     Indie  2010-04-13 00:00:00   \n",
       "\n",
       "       critic  score                                               Body  \n",
       "0    Kerrang!   74.0  While For Baltimore proves they can still writ...  \n",
       "1       Uncut   70.0  There's nothing fake about the purgatorial nar...  \n",
       "2  Q Magazine   84.0  All life's disastrous lows are here on a caree...  \n",
       "3   Pitchfork   82.0  With Doris, Odd Future’s Odysseus is finally b...  \n",
       "4    AllMusic   71.0  Though Giraffe is definitely Echoboy's most im...  \n",
       "5  Q Magazine   68.0  Fans of Owl City and The Postal Service will r...  "
      ]
     },
     "execution_count": 53,
     "metadata": {},
     "output_type": "execute_result"
    }
   ],
   "source": [
    "## YOUR CODE HERE\n",
    "\n"
   ]
  },
  {
   "cell_type": "markdown",
   "metadata": {},
   "source": [
    "# Challenge 10: Create New Column\n",
    "\n",
    "Create a new column in music3 named \"score_int\" that is a copy of \"score\" - but converted to an integer."
   ]
  },
  {
   "cell_type": "code",
   "execution_count": null,
   "metadata": {},
   "outputs": [],
   "source": [
    "## YOUR CODE HERE\n",
    "\n"
   ]
  },
  {
   "cell_type": "markdown",
   "metadata": {},
   "source": [
    "# Challenge 11: Create New Column with Calculation\n",
    "\n",
    "Create a new column named \"decimal\" that is a copy of \"score_int\" but that is divided by 100 and rounded to two decimal places."
   ]
  },
  {
   "cell_type": "code",
   "execution_count": null,
   "metadata": {
    "scrolled": true
   },
   "outputs": [],
   "source": [
    "## YOUR CODE HERE\n",
    "\n"
   ]
  },
  {
   "cell_type": "markdown",
   "metadata": {},
   "source": [
    "# Challenge 12: Reorder Columns\n",
    "\n",
    "Reorder the columns of music3 in this order: critic, genre, artist, ALBUM, score, score_int, decimal, Body, release_date"
   ]
  },
  {
   "cell_type": "code",
   "execution_count": null,
   "metadata": {},
   "outputs": [],
   "source": [
    "## YOUR CODE HERE\n",
    "\n"
   ]
  },
  {
   "cell_type": "markdown",
   "metadata": {},
   "source": [
    "# Challenge 13: `.value_counts()`\n",
    "\n",
    "Use `.value_counts()` to sum the total number of reviews for each critic. Return only the top 20. "
   ]
  },
  {
   "cell_type": "code",
   "execution_count": null,
   "metadata": {},
   "outputs": [],
   "source": [
    "## YOUR CODE \n",
    "\n"
   ]
  },
  {
   "cell_type": "markdown",
   "metadata": {},
   "source": [
    "# Challenge 14: Import .csv file from a URL\n",
    "\n",
    "You can also import data from web addresses. Import the file found at this URL and save it in a variable named countries: https://raw.githubusercontent.com/dlab-berkeley/introduction-to-pandas/master/data/countries.csv\n",
    "\n",
    "Use `.value_counts()` to state how many of these countries are EU versus non-EU; save this as a DataFrame named summary"
   ]
  },
  {
   "cell_type": "code",
   "execution_count": null,
   "metadata": {},
   "outputs": [],
   "source": [
    "## YOUR CODE HERE\n",
    "\n"
   ]
  },
  {
   "cell_type": "markdown",
   "metadata": {},
   "source": [
    "Use `.value_counts()` to show how many EU versus non-EU countries are in this dataset:"
   ]
  },
  {
   "cell_type": "code",
   "execution_count": null,
   "metadata": {},
   "outputs": [],
   "source": [
    "## YOUR CODE HERE\n",
    "\n"
   ]
  }
 ],
 "metadata": {
  "kernelspec": {
   "display_name": "Python 3",
   "language": "python",
   "name": "python3"
  },
  "language_info": {
   "codemirror_mode": {
    "name": "ipython",
    "version": 3
   },
   "file_extension": ".py",
   "mimetype": "text/x-python",
   "name": "python",
   "nbconvert_exporter": "python",
   "pygments_lexer": "ipython3",
   "version": "3.8.5"
  }
 },
 "nbformat": 4,
 "nbformat_minor": 4
}
