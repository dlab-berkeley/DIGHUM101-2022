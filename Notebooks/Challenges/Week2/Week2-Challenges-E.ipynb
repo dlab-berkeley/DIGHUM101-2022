{
 "cells": [
  {
   "cell_type": "code",
   "execution_count": null,
   "metadata": {},
   "outputs": [],
   "source": [
    "import os\n",
    "import pandas as pd\n",
    "# import matplotlib as mpl\n",
    "import matplotlib\n",
    "import matplotlib.pyplot as plt\n",
    "# !pip install seaborn\n",
    "import seaborn as sns\n",
    "from collections import Counter\n",
    "\n",
    "import nltk\n",
    "nltk.download(\"stopwords\")\n",
    "nltk.download(\"averaged_perceptron_tagger\")\n",
    "from nltk.corpus import stopwords"
   ]
  },
  {
   "cell_type": "markdown",
   "metadata": {},
   "source": [
    "# Challenge 1: Histogram\n",
    "\n",
    "1. Create a histogram of life expectency across all 142 countries in the gapminder dataset. Play with the `bins=` parameter to find the most informative bin number."
   ]
  },
  {
   "cell_type": "code",
   "execution_count": null,
   "metadata": {},
   "outputs": [],
   "source": [
    "## YOUR CODE HERE\n",
    "# Begin by opening the file\n",
    "\n",
    "\n"
   ]
  },
  {
   "cell_type": "markdown",
   "metadata": {},
   "source": [
    "# Challenge 2: Bar plot\n",
    "\n",
    "Make a bar plot for the 20 most frequently occuring words found in \"fiji2014.txt\""
   ]
  },
  {
   "cell_type": "code",
   "execution_count": null,
   "metadata": {},
   "outputs": [],
   "source": [
    "## YOUR CODE HERE\n",
    "# Begin by opening the file\n",
    "\n",
    "\n",
    "\n"
   ]
  },
  {
   "cell_type": "markdown",
   "metadata": {},
   "source": [
    "How would this visualization change if you first removed the stopwords? "
   ]
  },
  {
   "cell_type": "code",
   "execution_count": null,
   "metadata": {},
   "outputs": [],
   "source": [
    "## YOUR CODE HERE\n",
    "\n",
    "\n"
   ]
  },
  {
   "cell_type": "markdown",
   "metadata": {},
   "source": [
    "# Challenge 3: Understanding Seaborn Code\n",
    "\n",
    "What can you understand from the code for the [seaborn scatterplot documentation](https://seaborn.pydata.org/generated/seaborn.scatterplot.html)? **_Why_** does the code in the below cell produce the figure that it does? Experiemnt by changing the various arguments and see what happens!\n"
   ]
  },
  {
   "cell_type": "markdown",
   "metadata": {},
   "source": [
    "# Challenge 4: Faceting\n",
    "\n",
    "In the iris dataset, facet out each of the species into its own facetted plot, and make a scatterplot of the \"Sepal.Length\" and \"Sepal.Width\" (hint: look at the end of notebook 2-2 to find out how to do this)."
   ]
  },
  {
   "cell_type": "code",
   "execution_count": null,
   "metadata": {},
   "outputs": [],
   "source": [
    "## YOUR CODE HERE\n",
    "\n"
   ]
  },
  {
   "cell_type": "markdown",
   "metadata": {},
   "source": [
    "# Challenge 5: Seaborn Boxplot\n",
    "\n",
    "Make boxplots for each Species (x-axis) by Petal.Length (Y-axis) in the iris dataset."
   ]
  },
  {
   "cell_type": "code",
   "execution_count": null,
   "metadata": {
    "scrolled": true
   },
   "outputs": [],
   "source": [
    "## YOUR CODE HERE\n",
    "\n"
   ]
  },
  {
   "cell_type": "markdown",
   "metadata": {},
   "source": [
    "# Challenge 6: Line plot\n",
    "\n",
    "What if we are interested in _something_ and how it has changed through time? Line plots are the standard for doing so - let's look at change in per-capita GDP through time for Mexico, USA, and Canada. "
   ]
  },
  {
   "cell_type": "code",
   "execution_count": null,
   "metadata": {},
   "outputs": [],
   "source": [
    "## YOUR CODE HERE\n",
    "\n"
   ]
  },
  {
   "cell_type": "markdown",
   "metadata": {},
   "source": [
    "# Challenge 7: Subplots\n",
    "\n",
    "Create one compoud plot that contains to line plots for Mexico's and Canada's gdpPercap through time! Combine these into a single figure. Don't forget the `label` and `color` attributes when calling the plot. Add relevant labels for the x and y-axes using `xlabel` and `ylabel`. Save your figure to your working directory, naming it \"compound_figure.pdf\" at 600 dpi. Good luck!\n",
    "\n",
    "Tip: try doing `plt.plot` twice, using both dataframe columns (e.g. `plt.plot(mexico[\"year\"], mexico[\"gdpPercap\"]`) ."
   ]
  },
  {
   "cell_type": "code",
   "execution_count": null,
   "metadata": {
    "scrolled": true
   },
   "outputs": [],
   "source": [
    "## YOUR CODE HERE\n",
    "\n",
    "\n",
    "\n"
   ]
  }
 ],
 "metadata": {
  "kernelspec": {
   "display_name": "Python 3",
   "language": "python",
   "name": "python3"
  },
  "language_info": {
   "codemirror_mode": {
    "name": "ipython",
    "version": 3
   },
   "file_extension": ".py",
   "mimetype": "text/x-python",
   "name": "python",
   "nbconvert_exporter": "python",
   "pygments_lexer": "ipython3",
   "version": "3.8.5"
  }
 },
 "nbformat": 4,
 "nbformat_minor": 4
}
