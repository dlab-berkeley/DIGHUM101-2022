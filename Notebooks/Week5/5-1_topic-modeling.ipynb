{
 "cells": [
  {
   "cell_type": "code",
   "execution_count": null,
   "metadata": {},
   "outputs": [],
   "source": [
    "# Install new libraries if needed\n",
    "\n",
    "# !pip install gensim\n",
    "# !pip install wordcloud\n",
    "# !pip install pyldavis"
   ]
  },
  {
   "cell_type": "code",
   "execution_count": 136,
   "metadata": {},
   "outputs": [],
   "source": [
    "# Import libraries\n",
    "\n",
    "from collections import Counter # Count most common words\n",
    "import gensim # word2vec model\n",
    "import matplotlib.pyplot as plt\n",
    "%matplotlib inline\n",
    "import nltk # natural language toolkit\n",
    "from nltk.corpus import stopwords\n",
    "from nltk.corpus import movie_reviews # another dataset \n",
    "import numpy as np \n",
    "import os\n",
    "import pandas as pd\n",
    "import pyLDAvis.sklearn # visualize our topic models!\n",
    "import re # regular expressions\n",
    "import seaborn as sns\n",
    "# Preprocessing\n",
    "import gensim\n",
    "# CV (multiple train/test splitting)\n",
    "from sklearn.model_selection import cross_val_score, train_test_split\n",
    "# Algorithms (unsupervised)\n",
    "from sklearn.decomposition import LatentDirichletAllocation, PCA\n",
    "# (supervised)\n",
    "from sklearn.linear_model import LogisticRegression\n",
    "# Tools to create our DTMs\n",
    "from sklearn.feature_extraction.text import CountVectorizer, TfidfVectorizer, TfidfTransformer\n",
    "# Speed up your machine learning setup\n",
    "from sklearn.pipeline import Pipeline\n",
    "# Mix up our training and test sets\n",
    "from sklearn.utils import shuffle\n",
    "# Super awesome NLP library\n",
    "import spacy\n",
    "# Visualize word clouds \n",
    "from wordcloud import WordCloud\n",
    "\n",
    "import warnings\n",
    "warnings.filterwarnings(\"ignore\", category = DeprecationWarning)"
   ]
  },
  {
   "cell_type": "markdown",
   "metadata": {},
   "source": [
    "# Learning objectives\n",
    "\n",
    "1. Fit an LDA topic model and visualize it\n",
    "2. Fit a word2vec model and visualize it\n",
    "3. Build a classifier\n",
    "4. Learn a little about BERT!"
   ]
  },
  {
   "cell_type": "markdown",
   "metadata": {},
   "source": [
    "# Topic modeling\n",
    "\n",
    "There are many topic modeling algorithms, but we'll start with [Latent Dirichlet Allocation (LDA)](https://en.wikipedia.org/wiki/Latent_Dirichlet_allocation). This is a standard **unsupervised** machine learning text-mining tool that can be used to discover abstract \"topics\" contained within texts.\n",
    "\n",
    "See [this cool animation](https://en.wikipedia.org/wiki/File:Topic_model_scheme.webm) on Wikipedia to get an idea about topic modeling works.\n",
    "\n",
    "## Vocabulary\n",
    "\n",
    "- **Topic Modeling:** A general class of statistical models that uncover abstract topics within a text. It uses the co-occurrence of words within documents, compared to their distribution across documents, to uncover these abstract themes. The output is a list of weighted words, which indicate the subject of each topic, and a weight distribution across topics for each document.\n",
    "    \n",
    "- **LDA:** Latent Dirichlet Allocation. A particular model for topic modeling. It does not take document order into account, unlike other topic modeling algorithms. Also see word2vec and BERT! (Week 5)\n",
    "\n",
    "Like the rest of this class, the goal is not to learn everything about topic modeling. Instead, this notebook will provide you with some starter code to run some simple models with the idea that you can use this base of knowledge to explore further. Use the `sklearn` help files, Stack Overflow, and Google searching to review and learn more about what the code is doing and how to go further. \n",
    "\n",
    "Can you make this code work for your own data? Can you tweak the parameters to get better output?"
   ]
  },
  {
   "cell_type": "markdown",
   "metadata": {},
   "source": [
    "# Create a dataframe from individual text files\n",
    "\n",
    "You've gathered a bunch of text files, so now what? It is useful to get these files into a dataframe. Python does not make this terribly easy for the beginner, so use the boilerplate code below to help you.\n",
    "\n",
    "Let's concatenate the eleven text files in the \"Data/human-rights/\" folder into a dataframe so we can manipulate that text like we have seen in the previous few notebooks."
   ]
  },
  {
   "cell_type": "code",
   "execution_count": 137,
   "metadata": {},
   "outputs": [
    {
     "data": {
      "text/plain": [
       "'/Users/tomvannuenen/Documents/GitHub/DIGHUM101-2022/Notebooks/Week5'"
      ]
     },
     "execution_count": 137,
     "metadata": {},
     "output_type": "execute_result"
    }
   ],
   "source": [
    "# Where am I?\n",
    "%pwd"
   ]
  },
  {
   "cell_type": "code",
   "execution_count": 138,
   "metadata": {},
   "outputs": [
    {
     "data": {
      "text/plain": [
       "['sanmarino2014.txt',\n",
       " 'tuvalu2013.txt',\n",
       " 'kazakhstan2014.txt',\n",
       " 'cotedivoire2014.txt',\n",
       " 'fiji2014.txt',\n",
       " 'bangladesh2013.txt',\n",
       " 'turkmenistan2013.txt',\n",
       " 'jordan2013.txt',\n",
       " 'monaco2013.txt',\n",
       " 'afghanistan2014.txt',\n",
       " 'djibouti2013.txt']"
      ]
     },
     "execution_count": 138,
     "metadata": {},
     "output_type": "execute_result"
    }
   ],
   "source": [
    "# Define a variable with the file path for the directory containing the text files\n",
    "# Go two directories up (../../) \n",
    "# and into the Data directory\n",
    "# then into the human-rights subdirectory\n",
    "dir_path = os.listdir(\"../../Data/human-rights/\")\n",
    "\n",
    "# View the contents of this directory\n",
    "dir_path"
   ]
  },
  {
   "cell_type": "code",
   "execution_count": 139,
   "metadata": {},
   "outputs": [],
   "source": [
    "# Designate an empty dictionary to store the filename and text as columns\n",
    "for_dataframe = {}\n",
    "\n",
    "# Loop through the directory of text files and open and read them\n",
    "for file in dir_path:\n",
    "    with open(\"../../Data/human-rights/\" + file, \"r\", encoding=\"utf-8\") as to_open:\n",
    "         for_dataframe[file] = to_open.read()\n",
    "            \n",
    "# Create and append the dataframe with two columns - the file name and the text itself\n",
    "human_rights = (pd.DataFrame.from_dict(for_dataframe, \n",
    "                                       orient = \"index\")\n",
    "                .reset_index().rename(index = str, \n",
    "                                      columns = {\"index\": \"File\", 0: \"Text\"}))"
   ]
  },
  {
   "cell_type": "code",
   "execution_count": 140,
   "metadata": {},
   "outputs": [
    {
     "data": {
      "text/html": [
       "<div>\n",
       "<style scoped>\n",
       "    .dataframe tbody tr th:only-of-type {\n",
       "        vertical-align: middle;\n",
       "    }\n",
       "\n",
       "    .dataframe tbody tr th {\n",
       "        vertical-align: top;\n",
       "    }\n",
       "\n",
       "    .dataframe thead th {\n",
       "        text-align: right;\n",
       "    }\n",
       "</style>\n",
       "<table border=\"1\" class=\"dataframe\">\n",
       "  <thead>\n",
       "    <tr style=\"text-align: right;\">\n",
       "      <th></th>\n",
       "      <th>File</th>\n",
       "      <th>Text</th>\n",
       "    </tr>\n",
       "  </thead>\n",
       "  <tbody>\n",
       "    <tr>\n",
       "      <th>0</th>\n",
       "      <td>sanmarino2014.txt</td>\n",
       "      <td>\\n United Nations \\n A/HRC/28/9 \\n \\n \\n\\n Ge...</td>\n",
       "    </tr>\n",
       "    <tr>\n",
       "      <th>1</th>\n",
       "      <td>tuvalu2013.txt</td>\n",
       "      <td>\\n United Nations \\n A/HRC/24/8  \\n \\n \\n\\n G...</td>\n",
       "    </tr>\n",
       "    <tr>\n",
       "      <th>2</th>\n",
       "      <td>kazakhstan2014.txt</td>\n",
       "      <td>\\n United Nations \\n A/HRC/28/10 \\n \\n \\n\\n G...</td>\n",
       "    </tr>\n",
       "    <tr>\n",
       "      <th>3</th>\n",
       "      <td>cotedivoire2014.txt</td>\n",
       "      <td>\\nDistr.: General 7 July 2014 English Original...</td>\n",
       "    </tr>\n",
       "    <tr>\n",
       "      <th>4</th>\n",
       "      <td>fiji2014.txt</td>\n",
       "      <td>\\n United Nations \\n A/HRC/28/8 \\n \\n \\n\\n Ge...</td>\n",
       "    </tr>\n",
       "    <tr>\n",
       "      <th>5</th>\n",
       "      <td>bangladesh2013.txt</td>\n",
       "      <td>\\n United Nations \\n A/HRC/24/12  \\n \\n \\n\\n ...</td>\n",
       "    </tr>\n",
       "    <tr>\n",
       "      <th>6</th>\n",
       "      <td>turkmenistan2013.txt</td>\n",
       "      <td>\\n United Nations \\n A/HRC/24/3  \\n \\n \\n\\n G...</td>\n",
       "    </tr>\n",
       "    <tr>\n",
       "      <th>7</th>\n",
       "      <td>jordan2013.txt</td>\n",
       "      <td>\\nDistr.: General 6 January 2014 \\nOriginal: E...</td>\n",
       "    </tr>\n",
       "    <tr>\n",
       "      <th>8</th>\n",
       "      <td>monaco2013.txt</td>\n",
       "      <td>\\nDistr.: General 3 January 2014 English Origi...</td>\n",
       "    </tr>\n",
       "    <tr>\n",
       "      <th>9</th>\n",
       "      <td>afghanistan2014.txt</td>\n",
       "      <td>\\nDistr.: General 4 April 2014 \\nOriginal: Eng...</td>\n",
       "    </tr>\n",
       "    <tr>\n",
       "      <th>10</th>\n",
       "      <td>djibouti2013.txt</td>\n",
       "      <td>\\n\\nDistr.: General 8 July 2013 English Origin...</td>\n",
       "    </tr>\n",
       "  </tbody>\n",
       "</table>\n",
       "</div>"
      ],
      "text/plain": [
       "                    File                                               Text\n",
       "0      sanmarino2014.txt   \\n United Nations \\n A/HRC/28/9 \\n \\n \\n\\n Ge...\n",
       "1         tuvalu2013.txt   \\n United Nations \\n A/HRC/24/8  \\n \\n \\n\\n G...\n",
       "2     kazakhstan2014.txt   \\n United Nations \\n A/HRC/28/10 \\n \\n \\n\\n G...\n",
       "3    cotedivoire2014.txt  \\nDistr.: General 7 July 2014 English Original...\n",
       "4           fiji2014.txt   \\n United Nations \\n A/HRC/28/8 \\n \\n \\n\\n Ge...\n",
       "5     bangladesh2013.txt   \\n United Nations \\n A/HRC/24/12  \\n \\n \\n\\n ...\n",
       "6   turkmenistan2013.txt   \\n United Nations \\n A/HRC/24/3  \\n \\n \\n\\n G...\n",
       "7         jordan2013.txt  \\nDistr.: General 6 January 2014 \\nOriginal: E...\n",
       "8         monaco2013.txt  \\nDistr.: General 3 January 2014 English Origi...\n",
       "9    afghanistan2014.txt  \\nDistr.: General 4 April 2014 \\nOriginal: Eng...\n",
       "10      djibouti2013.txt  \\n\\nDistr.: General 8 July 2013 English Origin..."
      ]
     },
     "execution_count": 140,
     "metadata": {},
     "output_type": "execute_result"
    }
   ],
   "source": [
    "human_rights"
   ]
  },
  {
   "cell_type": "markdown",
   "metadata": {},
   "source": [
    "# Review - manipulate and explore text"
   ]
  },
  {
   "cell_type": "code",
   "execution_count": 141,
   "metadata": {},
   "outputs": [
    {
     "data": {
      "text/plain": [
       "' \\n United Nations \\n A/HRC/28/9 \\n \\n \\n\\n General Assembly \\n Distr.: General \\n24 December 2014 \\n \\nOriginal: English \\n \\n\\nHuman Rights Council \\n\\nTwenty-eighth session \\nAgenda item 6 \\nUniversal Periodic Review \\n  Report of the Working Group on the Universal Periodic Review* \\n * The annex to the present report is circulated as received. \\n  San Marino \\nContents \\n Paragraphs Page \\n  Introduction .............................................................................................................  1Ð4 3 \\n I. Summary of the proceedings of the review process ................................................  5Ð77 3 \\n  A. Presentation by the State under review ...........................................................  5Ð23 3 \\n  B. Interactive dialogue and responses by the State under review ........................  24Ð77 6 \\n II. Conclusions and/or recommendations .....................................................................  78Ð81 13 \\n Annex \\n  Composition of the delegation .......'"
      ]
     },
     "execution_count": 141,
     "metadata": {},
     "output_type": "execute_result"
    }
   ],
   "source": [
    "# Check out text of one row to make sure it looks okay...\n",
    "human_rights.iloc[0,1][:1000]"
   ]
  },
  {
   "cell_type": "markdown",
   "metadata": {},
   "source": [
    "# Basic preprocessing\n",
    "\n",
    "Preprocess the text! What else might you want to do that is not included here? Lemmatization? "
   ]
  },
  {
   "cell_type": "code",
   "execution_count": 142,
   "metadata": {},
   "outputs": [
    {
     "data": {
      "text/plain": [
       "0     [united, nations, hrc, general, assembly, dist...\n",
       "1     [united, nations, hrc, general, assembly, dist...\n",
       "2     [united, nations, hrc, general, assembly, dist...\n",
       "3     [distr, general, july, english, original, engl...\n",
       "4     [united, nations, hrc, general, assembly, dist...\n",
       "5     [united, nations, hrc, general, assembly, dist...\n",
       "6     [united, nations, hrc, general, assembly, dist...\n",
       "7     [distr, general, january, original, english, g...\n",
       "8     [distr, general, january, english, original, e...\n",
       "9     [distr, general, april, original, english, gen...\n",
       "10    [distr, general, july, english, original, engl...\n",
       "Name: Text_processed, dtype: object"
      ]
     },
     "execution_count": 142,
     "metadata": {},
     "output_type": "execute_result"
    }
   ],
   "source": [
    "human_rights[\"Text_processed\"] = human_rights[\"Text\"].apply(gensim.utils.simple_preprocess)\n",
    "\n",
    "human_rights[\"Text_processed\"] "
   ]
  },
  {
   "cell_type": "code",
   "execution_count": 143,
   "metadata": {},
   "outputs": [],
   "source": [
    "# Using gensim for preprocessing using .apply()\n",
    "processed = human_rights[\"Text\"].apply(gensim.utils.simple_preprocess)\n",
    "\n",
    "# Stopword removal using NLTK stopword list and a lambda function\n",
    "stop = stopwords.words('english')\n",
    "no_stop = processed.apply(lambda x: [w for w in x if w not in stopwords.words('english')]) \n",
    "\n",
    "# Convert list back to str\n",
    "human_rights[\"Text_processed\"] = [' '.join(t) for t in no_stop]"
   ]
  },
  {
   "cell_type": "code",
   "execution_count": 144,
   "metadata": {
    "scrolled": true
   },
   "outputs": [
    {
     "data": {
      "text/html": [
       "<div>\n",
       "<style scoped>\n",
       "    .dataframe tbody tr th:only-of-type {\n",
       "        vertical-align: middle;\n",
       "    }\n",
       "\n",
       "    .dataframe tbody tr th {\n",
       "        vertical-align: top;\n",
       "    }\n",
       "\n",
       "    .dataframe thead th {\n",
       "        text-align: right;\n",
       "    }\n",
       "</style>\n",
       "<table border=\"1\" class=\"dataframe\">\n",
       "  <thead>\n",
       "    <tr style=\"text-align: right;\">\n",
       "      <th></th>\n",
       "      <th>File</th>\n",
       "      <th>Text</th>\n",
       "      <th>Text_processed</th>\n",
       "    </tr>\n",
       "  </thead>\n",
       "  <tbody>\n",
       "    <tr>\n",
       "      <th>0</th>\n",
       "      <td>sanmarino2014.txt</td>\n",
       "      <td>\\n United Nations \\n A/HRC/28/9 \\n \\n \\n\\n Ge...</td>\n",
       "      <td>united nations hrc general assembly distr gene...</td>\n",
       "    </tr>\n",
       "    <tr>\n",
       "      <th>1</th>\n",
       "      <td>tuvalu2013.txt</td>\n",
       "      <td>\\n United Nations \\n A/HRC/24/8  \\n \\n \\n\\n G...</td>\n",
       "      <td>united nations hrc general assembly distr gene...</td>\n",
       "    </tr>\n",
       "    <tr>\n",
       "      <th>2</th>\n",
       "      <td>kazakhstan2014.txt</td>\n",
       "      <td>\\n United Nations \\n A/HRC/28/10 \\n \\n \\n\\n G...</td>\n",
       "      <td>united nations hrc general assembly distr gene...</td>\n",
       "    </tr>\n",
       "    <tr>\n",
       "      <th>3</th>\n",
       "      <td>cotedivoire2014.txt</td>\n",
       "      <td>\\nDistr.: General 7 July 2014 English Original...</td>\n",
       "      <td>distr general july english original english fr...</td>\n",
       "    </tr>\n",
       "    <tr>\n",
       "      <th>4</th>\n",
       "      <td>fiji2014.txt</td>\n",
       "      <td>\\n United Nations \\n A/HRC/28/8 \\n \\n \\n\\n Ge...</td>\n",
       "      <td>united nations hrc general assembly distr gene...</td>\n",
       "    </tr>\n",
       "    <tr>\n",
       "      <th>5</th>\n",
       "      <td>bangladesh2013.txt</td>\n",
       "      <td>\\n United Nations \\n A/HRC/24/12  \\n \\n \\n\\n ...</td>\n",
       "      <td>united nations hrc general assembly distr gene...</td>\n",
       "    </tr>\n",
       "    <tr>\n",
       "      <th>6</th>\n",
       "      <td>turkmenistan2013.txt</td>\n",
       "      <td>\\n United Nations \\n A/HRC/24/3  \\n \\n \\n\\n G...</td>\n",
       "      <td>united nations hrc general assembly distr gene...</td>\n",
       "    </tr>\n",
       "    <tr>\n",
       "      <th>7</th>\n",
       "      <td>jordan2013.txt</td>\n",
       "      <td>\\nDistr.: General 6 January 2014 \\nOriginal: E...</td>\n",
       "      <td>distr general january original english general...</td>\n",
       "    </tr>\n",
       "    <tr>\n",
       "      <th>8</th>\n",
       "      <td>monaco2013.txt</td>\n",
       "      <td>\\nDistr.: General 3 January 2014 English Origi...</td>\n",
       "      <td>distr general january english original english...</td>\n",
       "    </tr>\n",
       "    <tr>\n",
       "      <th>9</th>\n",
       "      <td>afghanistan2014.txt</td>\n",
       "      <td>\\nDistr.: General 4 April 2014 \\nOriginal: Eng...</td>\n",
       "      <td>distr general april original english general a...</td>\n",
       "    </tr>\n",
       "    <tr>\n",
       "      <th>10</th>\n",
       "      <td>djibouti2013.txt</td>\n",
       "      <td>\\n\\nDistr.: General 8 July 2013 English Origin...</td>\n",
       "      <td>distr general july english original english fr...</td>\n",
       "    </tr>\n",
       "  </tbody>\n",
       "</table>\n",
       "</div>"
      ],
      "text/plain": [
       "                    File                                               Text  \\\n",
       "0      sanmarino2014.txt   \\n United Nations \\n A/HRC/28/9 \\n \\n \\n\\n Ge...   \n",
       "1         tuvalu2013.txt   \\n United Nations \\n A/HRC/24/8  \\n \\n \\n\\n G...   \n",
       "2     kazakhstan2014.txt   \\n United Nations \\n A/HRC/28/10 \\n \\n \\n\\n G...   \n",
       "3    cotedivoire2014.txt  \\nDistr.: General 7 July 2014 English Original...   \n",
       "4           fiji2014.txt   \\n United Nations \\n A/HRC/28/8 \\n \\n \\n\\n Ge...   \n",
       "5     bangladesh2013.txt   \\n United Nations \\n A/HRC/24/12  \\n \\n \\n\\n ...   \n",
       "6   turkmenistan2013.txt   \\n United Nations \\n A/HRC/24/3  \\n \\n \\n\\n G...   \n",
       "7         jordan2013.txt  \\nDistr.: General 6 January 2014 \\nOriginal: E...   \n",
       "8         monaco2013.txt  \\nDistr.: General 3 January 2014 English Origi...   \n",
       "9    afghanistan2014.txt  \\nDistr.: General 4 April 2014 \\nOriginal: Eng...   \n",
       "10      djibouti2013.txt  \\n\\nDistr.: General 8 July 2013 English Origin...   \n",
       "\n",
       "                                       Text_processed  \n",
       "0   united nations hrc general assembly distr gene...  \n",
       "1   united nations hrc general assembly distr gene...  \n",
       "2   united nations hrc general assembly distr gene...  \n",
       "3   distr general july english original english fr...  \n",
       "4   united nations hrc general assembly distr gene...  \n",
       "5   united nations hrc general assembly distr gene...  \n",
       "6   united nations hrc general assembly distr gene...  \n",
       "7   distr general january original english general...  \n",
       "8   distr general january english original english...  \n",
       "9   distr general april original english general a...  \n",
       "10  distr general july english original english fr...  "
      ]
     },
     "execution_count": 144,
     "metadata": {},
     "output_type": "execute_result"
    }
   ],
   "source": [
    "human_rights"
   ]
  },
  {
   "cell_type": "code",
   "execution_count": 145,
   "metadata": {},
   "outputs": [
    {
     "data": {
      "text/plain": [
       "'united nations hrc general assembly distr general december original english human rights council twenty eighth session agenda item universal periodic review report working group universal periodic review annex present report circulated received san marino contents paragraphs page introduction summary proceedings review process presentation state review interactive dialogue responses state review ii conclusions recommendations annex composition delegation introduction working group universal periodic review established accordance human rights council resolution june held twentieth session october november review san marino held th meeting october delegation san marino headed pasquale valentini minister foreign affairs th meeting held october working group adopted report san marino january human rights council selected following group rapporteurs troika facilitate review san marino burkina faso chile china accordance paragraph annex resolution paragraph annex resolution following documen'"
      ]
     },
     "execution_count": 145,
     "metadata": {},
     "output_type": "execute_result"
    }
   ],
   "source": [
    "human_rights['Text_processed'][0][:1000]"
   ]
  },
  {
   "cell_type": "code",
   "execution_count": 146,
   "metadata": {},
   "outputs": [
    {
     "data": {
      "text/html": [
       "<div>\n",
       "<style scoped>\n",
       "    .dataframe tbody tr th:only-of-type {\n",
       "        vertical-align: middle;\n",
       "    }\n",
       "\n",
       "    .dataframe tbody tr th {\n",
       "        vertical-align: top;\n",
       "    }\n",
       "\n",
       "    .dataframe thead th {\n",
       "        text-align: right;\n",
       "    }\n",
       "</style>\n",
       "<table border=\"1\" class=\"dataframe\">\n",
       "  <thead>\n",
       "    <tr style=\"text-align: right;\">\n",
       "      <th></th>\n",
       "      <th>Word</th>\n",
       "      <th>Frequency</th>\n",
       "    </tr>\n",
       "  </thead>\n",
       "  <tbody>\n",
       "    <tr>\n",
       "      <th>0</th>\n",
       "      <td>rights</td>\n",
       "      <td>1717</td>\n",
       "    </tr>\n",
       "    <tr>\n",
       "      <th>1</th>\n",
       "      <td>human</td>\n",
       "      <td>1204</td>\n",
       "    </tr>\n",
       "    <tr>\n",
       "      <th>2</th>\n",
       "      <td>women</td>\n",
       "      <td>725</td>\n",
       "    </tr>\n",
       "    <tr>\n",
       "      <th>3</th>\n",
       "      <td>international</td>\n",
       "      <td>691</td>\n",
       "    </tr>\n",
       "    <tr>\n",
       "      <th>4</th>\n",
       "      <td>national</td>\n",
       "      <td>683</td>\n",
       "    </tr>\n",
       "    <tr>\n",
       "      <th>5</th>\n",
       "      <td>made</td>\n",
       "      <td>639</td>\n",
       "    </tr>\n",
       "    <tr>\n",
       "      <th>6</th>\n",
       "      <td>recommendations</td>\n",
       "      <td>598</td>\n",
       "    </tr>\n",
       "    <tr>\n",
       "      <th>7</th>\n",
       "      <td>efforts</td>\n",
       "      <td>527</td>\n",
       "    </tr>\n",
       "    <tr>\n",
       "      <th>8</th>\n",
       "      <td>continue</td>\n",
       "      <td>453</td>\n",
       "    </tr>\n",
       "    <tr>\n",
       "      <th>9</th>\n",
       "      <td>violence</td>\n",
       "      <td>431</td>\n",
       "    </tr>\n",
       "  </tbody>\n",
       "</table>\n",
       "</div>"
      ],
      "text/plain": [
       "              Word  Frequency\n",
       "0           rights       1717\n",
       "1            human       1204\n",
       "2            women        725\n",
       "3    international        691\n",
       "4         national        683\n",
       "5             made        639\n",
       "6  recommendations        598\n",
       "7          efforts        527\n",
       "8         continue        453\n",
       "9         violence        431"
      ]
     },
     "execution_count": 146,
     "metadata": {},
     "output_type": "execute_result"
    }
   ],
   "source": [
    "# Tokenize long_string\n",
    "hr_str = ' '.join(human_rights['Text_processed'].tolist())\n",
    "hr_tok = hr_str.split()\n",
    "freq_hr = Counter(hr_tok)\n",
    "\n",
    "# Print the 10 most common words\n",
    "hr_df = pd.DataFrame(freq_hr.most_common(10), columns = [\"Word\", \"Frequency\"])\n",
    "hr_df"
   ]
  },
  {
   "cell_type": "markdown",
   "metadata": {},
   "source": [
    "# Define a BOW model"
   ]
  },
  {
   "cell_type": "code",
   "execution_count": 147,
   "metadata": {},
   "outputs": [
    {
     "data": {
      "text/plain": [
       "CountVectorizer()"
      ]
     },
     "execution_count": 147,
     "metadata": {},
     "output_type": "execute_result"
    }
   ],
   "source": [
    "# Define an empty bag (of words)\n",
    "vectorizer = CountVectorizer()\n",
    "\n",
    "# Use the .fit method to tokenize the text and learn the vocabulary\n",
    "vectorizer.fit(human_rights[\"Text_processed\"])"
   ]
  },
  {
   "cell_type": "markdown",
   "metadata": {},
   "source": [
    "# Create the DTM\n",
    "\n",
    "Recall that a [document term matrix](https://scikit-learn.org/stable/modules/generated/sklearn.feature_extraction.text.CountVectorizer.html) displays term frequencies or TFIDF scores that occur across a collection of documents. We want to encode the documents into a [sparse matrix](https://sebastianraschka.com/faq/docs/bag-of-words-sparsity.html#:~:text=By%20definition%2C%20a%20sparse%20matrix,as%20a%20word%2Dcount%20vector.&text=Thus%2C%20if%20most%20of%20your,most%20likely%20sparse%20as%20well!) to represent the frequencies or TFIDF scores of each vocabulary word across the documents.\n",
    "\n",
    "Again, the column headers could read **(document number, term)   frequency**"
   ]
  },
  {
   "cell_type": "code",
   "execution_count": 148,
   "metadata": {},
   "outputs": [
    {
     "name": "stdout",
     "output_type": "stream",
     "text": [
      "<class 'scipy.sparse.csr.csr_matrix'>\n",
      "(11, 5070)\n",
      "  (0, 6)\t1\n",
      "  (0, 7)\t1\n",
      "  (0, 12)\t4\n",
      "  (0, 21)\t1\n",
      "  (0, 23)\t1\n",
      "  (0, 26)\t1\n",
      "  (0, 28)\t1\n",
      "  (0, 29)\t15\n",
      "  (0, 32)\t5\n",
      "  (0, 33)\t2\n",
      "  (0, 34)\t4\n",
      "  (0, 35)\t1\n",
      "  (0, 41)\t6\n",
      "  (0, 43)\t4\n",
      "  (0, 45)\t2\n",
      "  (0, 47)\t8\n",
      "  (0, 55)\t9\n",
      "  (0, 57)\t3\n",
      "  (0, 60)\t2\n",
      "  (0, 69)\t1\n",
      "  (0, 75)\t2\n",
      "  (0, 82)\t2\n",
      "  (0, 84)\t1\n",
      "  (0, 85)\t1\n",
      "  (0, 86)\t2\n",
      "  :\t:\n",
      "  (10, 4970)\t1\n",
      "  (10, 4973)\t2\n",
      "  (10, 4974)\t1\n",
      "  (10, 4978)\t1\n",
      "  (10, 4979)\t1\n",
      "  (10, 4988)\t5\n",
      "  (10, 4989)\t1\n",
      "  (10, 4994)\t72\n",
      "  (10, 4995)\t15\n",
      "  (10, 4997)\t7\n",
      "  (10, 4999)\t3\n",
      "  (10, 5003)\t7\n",
      "  (10, 5011)\t1\n",
      "  (10, 5012)\t5\n",
      "  (10, 5013)\t2\n",
      "  (10, 5014)\t1\n",
      "  (10, 5019)\t1\n",
      "  (10, 5020)\t2\n",
      "  (10, 5022)\t2\n",
      "  (10, 5023)\t2\n",
      "  (10, 5025)\t1\n",
      "  (10, 5031)\t1\n",
      "  (10, 5040)\t1\n",
      "  (10, 5045)\t1\n",
      "  (10, 5056)\t1\n"
     ]
    }
   ],
   "source": [
    "# Encode the documents\n",
    "vector = vectorizer.transform(human_rights[\"Text_processed\"])\n",
    "\n",
    "print(type(vector))\n",
    "print(vector.shape)\n",
    "print(vector) "
   ]
  },
  {
   "cell_type": "code",
   "execution_count": 149,
   "metadata": {},
   "outputs": [
    {
     "name": "stdout",
     "output_type": "stream",
     "text": [
      "[[0 0 0 ... 0 0 0]\n",
      " [0 0 0 ... 0 0 0]\n",
      " [0 0 0 ... 1 0 0]\n",
      " ...\n",
      " [0 0 0 ... 0 0 0]\n",
      " [1 0 0 ... 0 0 0]\n",
      " [0 1 1 ... 0 0 0]]\n"
     ]
    }
   ],
   "source": [
    "# View as a multidimensional array before converting to data frame\n",
    "# Rows are the documents, columns are the terms\n",
    "\n",
    "print(vector.toarray())"
   ]
  },
  {
   "cell_type": "code",
   "execution_count": 150,
   "metadata": {},
   "outputs": [
    {
     "name": "stderr",
     "output_type": "stream",
     "text": [
      "/Users/tomvannuenen/opt/anaconda3/lib/python3.8/site-packages/sklearn/utils/deprecation.py:87: FutureWarning: Function get_feature_names is deprecated; get_feature_names is deprecated in 1.0 and will be removed in 1.2. Please use get_feature_names_out instead.\n",
      "  warnings.warn(msg, category=FutureWarning)\n"
     ]
    },
    {
     "data": {
      "text/plain": [
       "['abasi',\n",
       " 'abdi',\n",
       " 'abdou',\n",
       " 'abduction',\n",
       " 'abdul',\n",
       " 'abdullah',\n",
       " 'abide',\n",
       " 'abiding',\n",
       " 'abilities',\n",
       " 'ability']"
      ]
     },
     "execution_count": 150,
     "metadata": {},
     "output_type": "execute_result"
    }
   ],
   "source": [
    "# Preview the terms\n",
    "\n",
    "vectorizer.get_feature_names()[0:10]"
   ]
  },
  {
   "cell_type": "markdown",
   "metadata": {},
   "source": [
    "# Define a bigram bag of words"
   ]
  },
  {
   "cell_type": "code",
   "execution_count": 151,
   "metadata": {},
   "outputs": [
    {
     "data": {
      "text/plain": [
       "CountVectorizer(ngram_range=(1, 2), stop_words='english',\n",
       "                token_pattern='\\\\b\\\\w+\\\\b')"
      ]
     },
     "execution_count": 151,
     "metadata": {},
     "output_type": "execute_result"
    }
   ],
   "source": [
    "# What other processing steps could you include here\n",
    "# ... instead of doing them manually above? \n",
    "\n",
    "bigram_vectorizer = CountVectorizer(ngram_range = (1,2),\n",
    "                                    stop_words = \"english\",\n",
    "                                    token_pattern = r'\\b\\w+\\b', \n",
    "                                    min_df = 1)\n",
    "\n",
    "bigram_vectorizer"
   ]
  },
  {
   "cell_type": "code",
   "execution_count": 152,
   "metadata": {},
   "outputs": [
    {
     "data": {
      "text/plain": [
       "['united',\n",
       " 'nations',\n",
       " 'hrc',\n",
       " 'general',\n",
       " 'assembly',\n",
       " 'distr',\n",
       " 'general',\n",
       " 'december',\n",
       " 'original',\n",
       " 'english']"
      ]
     },
     "execution_count": 152,
     "metadata": {},
     "output_type": "execute_result"
    }
   ],
   "source": [
    "# Analyze long_string in the bigram bag of words\n",
    "\n",
    "analyze = bigram_vectorizer.build_analyzer()\n",
    "vocab = analyze(long_string)\n",
    "\n",
    "vocab[0:10]"
   ]
  },
  {
   "cell_type": "code",
   "execution_count": 153,
   "metadata": {},
   "outputs": [
    {
     "data": {
      "text/html": [
       "<div>\n",
       "<style scoped>\n",
       "    .dataframe tbody tr th:only-of-type {\n",
       "        vertical-align: middle;\n",
       "    }\n",
       "\n",
       "    .dataframe tbody tr th {\n",
       "        vertical-align: top;\n",
       "    }\n",
       "\n",
       "    .dataframe thead th {\n",
       "        text-align: right;\n",
       "    }\n",
       "</style>\n",
       "<table border=\"1\" class=\"dataframe\">\n",
       "  <thead>\n",
       "    <tr style=\"text-align: right;\">\n",
       "      <th></th>\n",
       "      <th>Word</th>\n",
       "      <th>Frequency</th>\n",
       "    </tr>\n",
       "  </thead>\n",
       "  <tbody>\n",
       "    <tr>\n",
       "      <th>0</th>\n",
       "      <td>rights</td>\n",
       "      <td>1717</td>\n",
       "    </tr>\n",
       "    <tr>\n",
       "      <th>1</th>\n",
       "      <td>human</td>\n",
       "      <td>1204</td>\n",
       "    </tr>\n",
       "    <tr>\n",
       "      <th>2</th>\n",
       "      <td>human rights</td>\n",
       "      <td>1112</td>\n",
       "    </tr>\n",
       "    <tr>\n",
       "      <th>3</th>\n",
       "      <td>women</td>\n",
       "      <td>725</td>\n",
       "    </tr>\n",
       "    <tr>\n",
       "      <th>4</th>\n",
       "      <td>international</td>\n",
       "      <td>691</td>\n",
       "    </tr>\n",
       "    <tr>\n",
       "      <th>5</th>\n",
       "      <td>national</td>\n",
       "      <td>683</td>\n",
       "    </tr>\n",
       "    <tr>\n",
       "      <th>6</th>\n",
       "      <td>recommendations</td>\n",
       "      <td>598</td>\n",
       "    </tr>\n",
       "    <tr>\n",
       "      <th>7</th>\n",
       "      <td>efforts</td>\n",
       "      <td>527</td>\n",
       "    </tr>\n",
       "    <tr>\n",
       "      <th>8</th>\n",
       "      <td>continue</td>\n",
       "      <td>453</td>\n",
       "    </tr>\n",
       "    <tr>\n",
       "      <th>9</th>\n",
       "      <td>violence</td>\n",
       "      <td>431</td>\n",
       "    </tr>\n",
       "    <tr>\n",
       "      <th>10</th>\n",
       "      <td>measures</td>\n",
       "      <td>399</td>\n",
       "    </tr>\n",
       "    <tr>\n",
       "      <th>11</th>\n",
       "      <td>noted</td>\n",
       "      <td>390</td>\n",
       "    </tr>\n",
       "    <tr>\n",
       "      <th>12</th>\n",
       "      <td>law</td>\n",
       "      <td>374</td>\n",
       "    </tr>\n",
       "    <tr>\n",
       "      <th>13</th>\n",
       "      <td>convention</td>\n",
       "      <td>347</td>\n",
       "    </tr>\n",
       "    <tr>\n",
       "      <th>14</th>\n",
       "      <td>ensure</td>\n",
       "      <td>339</td>\n",
       "    </tr>\n",
       "    <tr>\n",
       "      <th>15</th>\n",
       "      <td>protection</td>\n",
       "      <td>326</td>\n",
       "    </tr>\n",
       "    <tr>\n",
       "      <th>16</th>\n",
       "      <td>education</td>\n",
       "      <td>321</td>\n",
       "    </tr>\n",
       "    <tr>\n",
       "      <th>17</th>\n",
       "      <td>children</td>\n",
       "      <td>301</td>\n",
       "    </tr>\n",
       "    <tr>\n",
       "      <th>18</th>\n",
       "      <td>discrimination</td>\n",
       "      <td>301</td>\n",
       "    </tr>\n",
       "    <tr>\n",
       "      <th>19</th>\n",
       "      <td>persons</td>\n",
       "      <td>300</td>\n",
       "    </tr>\n",
       "  </tbody>\n",
       "</table>\n",
       "</div>"
      ],
      "text/plain": [
       "               Word  Frequency\n",
       "0            rights       1717\n",
       "1             human       1204\n",
       "2      human rights       1112\n",
       "3             women        725\n",
       "4     international        691\n",
       "5          national        683\n",
       "6   recommendations        598\n",
       "7           efforts        527\n",
       "8          continue        453\n",
       "9          violence        431\n",
       "10         measures        399\n",
       "11            noted        390\n",
       "12              law        374\n",
       "13       convention        347\n",
       "14           ensure        339\n",
       "15       protection        326\n",
       "16        education        321\n",
       "17         children        301\n",
       "18   discrimination        301\n",
       "19          persons        300"
      ]
     },
     "execution_count": 153,
     "metadata": {},
     "output_type": "execute_result"
    }
   ],
   "source": [
    "# Show the 20 most commons\n",
    "freq = Counter(vocab)\n",
    "stop_df = pd.DataFrame(freq.most_common(20), columns = [\"Word\", \"Frequency\"])\n",
    "stop_df"
   ]
  },
  {
   "cell_type": "code",
   "execution_count": 154,
   "metadata": {},
   "outputs": [
    {
     "data": {
      "image/png": "[encoded data removed]",
      "text/plain": [
       "<PIL.Image.Image image mode=RGB size=600x300 at 0x7FA378301730>"
      ]
     },
     "execution_count": 154,
     "metadata": {},
     "output_type": "execute_result"
    }
   ],
   "source": [
    "# Define a word cloud variable\n",
    "cloud = WordCloud(background_color = \"white\", \n",
    "                  max_words = 20, \n",
    "                  contour_width = 5, \n",
    "                  width = 600, height = 300, \n",
    "                  random_state = 5)\n",
    "\n",
    "# Process the word cloud\n",
    "cloud.generate(long_string)\n",
    "\n",
    "# Visualize!\n",
    "cloud.to_image()"
   ]
  },
  {
   "cell_type": "markdown",
   "metadata": {},
   "source": [
    "Learn about using [custom colors here](https://amueller.github.io/word_cloud/auto_examples/a_new_hope.html)"
   ]
  },
  {
   "cell_type": "code",
   "execution_count": 155,
   "metadata": {},
   "outputs": [
    {
     "data": {
      "image/png": "[encoded data removed]",
      "text/plain": [
       "<Figure size 432x288 with 1 Axes>"
      ]
     },
     "metadata": {
      "needs_background": "light"
     },
     "output_type": "display_data"
    }
   ],
   "source": [
    "# Visualize word frequencies in a horizontal bar plot\n",
    "\n",
    "sns.barplot(x = \"Frequency\",\n",
    "            y = \"Word\",\n",
    "            data = stop_df,\n",
    "            orient = \"h\");"
   ]
  },
  {
   "cell_type": "markdown",
   "metadata": {},
   "source": [
    "# Finally! Fit the topic model\n",
    "\n",
    "The input to LDA should be a DTM!"
   ]
  },
  {
   "cell_type": "code",
   "execution_count": 156,
   "metadata": {},
   "outputs": [],
   "source": [
    "# Predetermine the number of topics\n",
    "\n",
    "n_topics = 5\n",
    "# n_topics = 20"
   ]
  },
  {
   "cell_type": "code",
   "execution_count": 157,
   "metadata": {},
   "outputs": [],
   "source": [
    "# TfidfVectorizer to create the DTM\n",
    "tfidf_vectorizer = TfidfVectorizer(max_df = 0.90,\n",
    "                                   max_features = 500,\n",
    "                                   stop_words = \"english\")\n",
    "\n",
    "# Fit\n",
    "tfidf = tfidf_vectorizer.fit_transform(hr_tokens)"
   ]
  },
  {
   "cell_type": "markdown",
   "metadata": {},
   "source": [
    "[Check out this question](https://stackoverflow.com/questions/27697766/understanding-min-df-and-max-df-in-scikit-countvectorizer) to learn more about the `max_df` and `min_df` arguments. "
   ]
  },
  {
   "cell_type": "code",
   "execution_count": 158,
   "metadata": {},
   "outputs": [],
   "source": [
    "# Instantiate our LDA model (this might take a minute or two)\n",
    "lda = LatentDirichletAllocation(n_components = n_topics, \n",
    "                                max_iter = 20, \n",
    "                                random_state = 42)\n",
    "lda = lda.fit(tfidf)"
   ]
  },
  {
   "cell_type": "code",
   "execution_count": 159,
   "metadata": {},
   "outputs": [],
   "source": [
    "# Here is a function to print out the top words for each topic in a pretty way:\n",
    "\n",
    "def print_top_words(model, feature_names, n_top_words):\n",
    "    for topic_idx, topic in enumerate(model.components_):\n",
    "        print(\"\\nTopic #{}:\".format(topic_idx+1))\n",
    "        print(\", \".join([feature_names[i] for i in topic.argsort()[:-n_top_words - 1:-1]]))"
   ]
  },
  {
   "cell_type": "code",
   "execution_count": 160,
   "metadata": {},
   "outputs": [
    {
     "name": "stdout",
     "output_type": "stream",
     "text": [
      "\n",
      "Topic #1:\n",
      "monaco, kazakhstan, dõivoire, te, kazakhstanõs, reconciliation, monegasque, ivorian, principality, truth, des, nationality, op, crisis, crpd, post, impunity, said, death, registration\n",
      "\n",
      "Topic #2:\n",
      "turkmenistan, djibouti, bangladesh, bangladeshõs, djiboutiõs, fgm, op, cat, death, recommendation, said, minorities, care, strategic, media, mortality, conditions, journalists, population, cedaw\n",
      "\n",
      "Topic #3:\n",
      "europe, ghana, op, crc, european, recommendation, said, sierra, leone, police, enforced, ilo, specific, institution, racial, crpd, portugal, core, compliance, restrictions\n",
      "\n",
      "Topic #4:\n",
      "fiji, media, fijian, decree, industry, elections, judiciary, iccpr, police, portugal, treaties, cat, speech, core, independence, zealand, association, lawyers, climate, ghana\n",
      "\n",
      "Topic #5:\n",
      "tuvalu, jordan, san, afghanistan, marino, afghan, peace, jordanian, media, publications, stateõs, water, syrian, refugees, police, treaties, cent, community, increased, moratorium\n"
     ]
    },
    {
     "name": "stderr",
     "output_type": "stream",
     "text": [
      "/Users/tomvannuenen/opt/anaconda3/lib/python3.8/site-packages/sklearn/utils/deprecation.py:87: FutureWarning: Function get_feature_names is deprecated; get_feature_names is deprecated in 1.0 and will be removed in 1.2. Please use get_feature_names_out instead.\n",
      "  warnings.warn(msg, category=FutureWarning)\n"
     ]
    }
   ],
   "source": [
    "# Return the topics\n",
    "tf_feature_names = tfidf_vectorizer.get_feature_names()\n",
    "print_top_words(lda, tf_feature_names, 20)"
   ]
  },
  {
   "cell_type": "code",
   "execution_count": 161,
   "metadata": {},
   "outputs": [
    {
     "name": "stderr",
     "output_type": "stream",
     "text": [
      "/Users/tomvannuenen/opt/anaconda3/lib/python3.8/site-packages/pyLDAvis/_prepare.py:246: FutureWarning: In a future version of pandas all arguments of DataFrame.drop except for the argument 'labels' will be keyword-only\n",
      "  default_term_info = default_term_info.sort_values(\n",
      "/Users/tomvannuenen/opt/anaconda3/lib/python3.8/site-packages/sklearn/manifold/_t_sne.py:780: FutureWarning: The default initialization in TSNE will change from 'random' to 'pca' in 1.2.\n",
      "  warnings.warn(\n",
      "/Users/tomvannuenen/opt/anaconda3/lib/python3.8/site-packages/sklearn/manifold/_t_sne.py:790: FutureWarning: The default learning rate in TSNE will change from 200.0 to 'auto' in 1.2.\n",
      "  warnings.warn(\n",
      "/Users/tomvannuenen/opt/anaconda3/lib/python3.8/site-packages/sklearn/manifold/_t_sne.py:819: FutureWarning: 'square_distances' has been introduced in 0.24 to help phase out legacy squaring behavior. The 'legacy' setting will be removed in 1.1 (renaming of 0.26), and the default setting will be changed to True. In 1.3, 'square_distances' will be removed altogether, and distances will be squared by default. Set 'square_distances'=True to silence this warning.\n",
      "  warnings.warn(\n"
     ]
    },
    {
     "data": {
      "text/html": [
       "\n",
       "<link rel=\"stylesheet\" type=\"text/css\" href=\"https://cdn.jsdelivr.net/gh/bmabey/pyLDAvis@3.3.1/pyLDAvis/js/ldavis.v1.0.0.css\">\n",
       "\n",
       "\n",
       "<div id=\"ldavis_el569291403407457736808821282991\"></div>\n",
       "<script type=\"text/javascript\">\n",
       "\n",
       "var ldavis_el569291403407457736808821282991_data = {\"mdsDat\": {\"x\": [150.22215270996094, 51.16336441040039, -73.1445541381836, -66.4101333618164, 54.41732406616211], \"y\": [-72.2695541381836, -159.968017578125, 21.523815155029297, -110.60643768310547, 12.44344425201416], \"topics\": [1, 2, 3, 4, 5], \"cluster\": [1, 1, 1, 1, 1], \"Freq\": [33.77217025850908, 30.81034582175401, 23.336729029040363, 9.708553896892637, 2.3722009938039177]}, \"tinfo\": {\"Term\": [\"fiji\", \"monaco\", \"kazakhstan\", \"tuvalu\", \"turkmenistan\", \"san\", \"jordan\", \"d\\u00f5ivoire\", \"kazakhstan\\u00f5s\", \"te\", \"marino\", \"fijian\", \"industry\", \"decree\", \"afghanistan\", \"reconciliation\", \"bangladesh\\u00f5s\", \"djibouti\\u00f5s\", \"bangladesh\", \"afghan\", \"media\", \"elections\", \"judiciary\", \"speech\", \"iccpr\", \"zealand\", \"portugal\", \"djibouti\", \"kenya\", \"monegasque\", \"turkmenistan\", \"bangladesh\\u00f5s\", \"bangladesh\", \"djibouti\\u00f5s\", \"djibouti\", \"fgm\", \"minorities\", \"cat\", \"mortality\", \"strategic\", \"said\", \"population\", \"racial\", \"op\", \"harmful\", \"journalists\", \"highlighted\", \"la\", \"moldova\", \"conditions\", \"ngos\", \"safety\", \"reducing\", \"programme\", \"cedaw\", \"africa\", \"death\", \"appreciated\", \"recommendation\", \"building\", \"treaty\", \"care\", \"reform\", \"media\", \"detention\", \"strategy\", \"sanitation\", \"community\", \"tuvalu\", \"san\", \"jordan\", \"marino\", \"afghanistan\", \"afghan\", \"jordanian\", \"publications\", \"syrian\", \"peace\", \"state\\u00f5s\", \"marino\\u00f5s\", \"personal\", \"honour\", \"increased\", \"websites\", \"penal\", \"strategies\", \"cent\", \"units\", \"treaties\", \"water\", \"zealand\", \"sex\", \"press\", \"islands\", \"moratorium\", \"decision\", \"crc\", \"constraints\", \"refugees\", \"constitutional\", \"police\", \"sanitation\", \"media\", \"community\", \"cases\", \"strategy\", \"recommendation\", \"death\", \"monaco\", \"kazakhstan\", \"kazakhstan\\u00f5s\", \"d\\u00f5ivoire\", \"te\", \"reconciliation\", \"monegasque\", \"ivorian\", \"principality\", \"truth\", \"des\", \"post\", \"crisis\", \"nationality\", \"togo\", \"registration\", \"specific\", \"defamation\", \"genital\", \"mutilation\", \"satisfaction\", \"agreement\", \"ombudsman\", \"crpd\", \"liechtenstein\", \"preventive\", \"rule\", \"offences\", \"introduced\", \"share\", \"peaceful\", \"portugal\", \"deputy\", \"czech\", \"impunity\", \"ethnic\", \"judiciary\", \"defenders\", \"comprehensive\", \"op\", \"said\", \"death\", \"fgm\", \"detention\", \"strategy\", \"media\", \"fiji\", \"fijian\", \"industry\", \"decree\", \"speech\", \"elections\", \"iccpr\", \"judiciary\", \"icescr\", \"military\", \"kenya\", \"zealand\", \"lawyers\", \"authority\", \"fact\", \"media\", \"namibia\", \"opinion\", \"portugal\", \"ghana\", \"core\", \"successful\", \"anti\", \"india\", \"explained\", \"recommended\", \"grounds\", \"limitations\", \"prosecutions\", \"japan\", \"association\", \"police\", \"treaties\", \"climate\", \"independence\", \"change\", \"cat\", \"democratic\", \"cases\", \"death\", \"responding\", \"explained\", \"fact\", \"indicated\", \"grounds\", \"context\", \"industry\", \"limitations\", \"help\", \"recommended\", \"july\", \"means\", \"recently\", \"major\", \"private\", \"addressing\", \"monitor\", \"signed\", \"respond\", \"noting\", \"september\", \"redouble\", \"centre\", \"way\", \"raised\", \"developments\", \"approach\", \"successful\", \"share\", \"different\", \"european\", \"terms\", \"strengthened\", \"planned\", \"europe\", \"ghana\", \"op\", \"crc\", \"recommendation\", \"said\", \"leone\", \"sierra\", \"police\", \"enforced\", \"ilo\", \"specific\", \"institution\", \"racial\", \"crpd\", \"portugal\", \"core\", \"compliance\", \"restrictions\", \"case\", \"judges\", \"rapporteur\", \"procedure\", \"ms\", \"cooperate\", \"iccpr\", \"judiciary\", \"independence\", \"elections\"], \"Freq\": [0.0, 0.0, 0.0, 0.0, 0.0, 0.0, 0.0, 0.0, 0.0, 0.0, 0.0, 0.0, 0.0, 0.0, 0.0, 0.0, 0.0, 0.0, 0.0, 0.0, 0.0, 0.0, 0.0, 0.0, 0.0, 0.0, 0.0, 0.0, 0.0, 0.0, 0.24541212687772712, 0.14752425250353232, 0.16271535163425785, 0.14416926968388155, 0.16395830866442954, 0.12214268320720036, 0.08693690714122136, 0.09323935157124823, 0.0795186053509834, 0.08311424424394803, 0.08895476155520919, 0.07652578088384783, 0.07490195207336613, 0.09544338363615505, 0.06981455872076989, 0.076790008064529, 0.0741189578351439, 0.06767960260474673, 0.06355191071778864, 0.07854054285387091, 0.0679907647998949, 0.06819369239326974, 0.06446490913422374, 0.07567798061525263, 0.07587955264105291, 0.0656034154729199, 0.09039768405189569, 0.07089597171750944, 0.08935646147659797, 0.06928411948792813, 0.07227749241283228, 0.08414543903894027, 0.07550527266210921, 0.0798241622583741, 0.07327858776642562, 0.07392656724351024, 0.06977689300039139, 0.06988098486513535, 0.21815166891454388, 0.18634397793805377, 0.1987388986938342, 0.16061267467667847, 0.17164228267747153, 0.11267121906064219, 0.081474556840867, 0.07760308889168355, 0.07218621951128376, 0.08697993394199094, 0.07349675117514892, 0.06539877345648253, 0.06267206676656487, 0.06496638670720652, 0.06911543360375116, 0.06350738250902217, 0.06757661882043842, 0.06543631939797827, 0.07040797018307889, 0.06255630640184687, 0.07076830808575575, 0.07235181006585371, 0.05923711612346895, 0.056795025479854044, 0.06426294687219025, 0.05626068440948031, 0.06793930464414331, 0.06110758537263405, 0.06466199486089848, 0.057926771996248835, 0.07176918651157381, 0.067746728614987, 0.0711024934050124, 0.06740269727748022, 0.0794257312852015, 0.06958209819926124, 0.06553296967872001, 0.06702533891325867, 0.0664505666101483, 0.06473559956431699, 0.1815208003530688, 0.15128257579572096, 0.10724634147452665, 0.12070097583342024, 0.11408597256625382, 0.09748490926581226, 0.05693229592091049, 0.0568325257734987, 0.054138366364021945, 0.05349448869198991, 0.0520948267470975, 0.04970413008303063, 0.050178014712011436, 0.051949879230393785, 0.04416427902627147, 0.048098827544933095, 0.04600664733491237, 0.04474624252692024, 0.04749326273778135, 0.04665096115113638, 0.041809252336669454, 0.043105460363345206, 0.04474475129377294, 0.04971171905906748, 0.04087576080878048, 0.04324388257486217, 0.043487638076023974, 0.04009268287097069, 0.04045616934539908, 0.03949809884346845, 0.04417168594681343, 0.04657881875088518, 0.043007098680099734, 0.048039815137598474, 0.049454849409599086, 0.04617372101551433, 0.04650477821587997, 0.04560178396077593, 0.04588443750675714, 0.050730735283670364, 0.048200529844647205, 0.048186059604293494, 0.047421597711795466, 0.046395374086026016, 0.04653834094906338, 0.04682949528590714, 0.07679236738149157, 0.028669197349071814, 0.02575240231145253, 0.02633878318380601, 0.019751977873175647, 0.022857099062261018, 0.021551382495135284, 0.022545876896643155, 0.018491410051245036, 0.018489155068843504, 0.018654426631565395, 0.019198447813696347, 0.018800923553382875, 0.01791518029946158, 0.01723066501718812, 0.028723795446786972, 0.01865065859097893, 0.01818269388239245, 0.020851108911585904, 0.01874129326579287, 0.01945267689208818, 0.017228876920223832, 0.01851706183299979, 0.01747118461603822, 0.016779183609276167, 0.016828048379264875, 0.016653888395238563, 0.016654430335854068, 0.01702840085762777, 0.01775654122065559, 0.018854995224010386, 0.021300536680192172, 0.020061771935212906, 0.018795144870375417, 0.019447646262144656, 0.018432312221877026, 0.02002773345759507, 0.01790502562862859, 0.018173186262212846, 0.018498699542701724, 0.0038698419463311555, 0.003870125257805659, 0.003869964932491596, 0.0038699117242587686, 0.003869959822374923, 0.003869783906646081, 0.003869359665018595, 0.0038700270367480302, 0.0038699149358175887, 0.0038699155485101885, 0.003869967220989092, 0.0038698310777042764, 0.003869796190189293, 0.0038698887935900163, 0.003869784647446471, 0.003869996105201323, 0.003869953841480738, 0.003870010586130511, 0.0038697828292245814, 0.003869930687349047, 0.0038699445390478018, 0.003869899312980301, 0.003870010349401524, 0.0038699603087644138, 0.0038698637023136936, 0.003869924133095073, 0.0038700025694114477, 0.003869794522205973, 0.0038697878598828025, 0.0038698717270377846, 0.003870382888573235, 0.003870010865164158, 0.003869973246058435, 0.0038698941311110977, 0.0038705068613306224, 0.0038704596096646843, 0.0038703936080594615, 0.003870385680192609, 0.0038703665096683046, 0.003870364942231497, 0.003870349769834206, 0.003870349769834206, 0.0038703373525232096, 0.0038703225080185745, 0.0038703193202437817, 0.0038703083251848797, 0.003870305469202883, 0.0038702931284240135, 0.0038702907339906926, 0.003870290301215887, 0.0038702868820960786, 0.003870286282471958, 0.0038702805778890598, 0.00387027871738366, 0.0038702775232365293, 0.0038702735218066773, 0.0038702635068091403, 0.003870261372314484, 0.0038702595653516765, 0.0038702543245726995, 0.0038702500598183096, 0.0038702494437336107, 0.003870239039239072], \"Total\": [0.0, 0.0, 0.0, 0.0, 0.0, 0.0, 0.0, 0.0, 0.0, 0.0, 0.0, 0.0, 0.0, 0.0, 0.0, 0.0, 0.0, 0.0, 0.0, 0.0, 0.0, 0.0, 0.0, 0.0, 0.0, 0.0, 0.0, 0.0, 0.0, 0.0, 0.34348356995346324, 0.23771234149803044, 0.26433612255930083, 0.2343577570097164, 0.27089738556913256, 0.22794827981535654, 0.18565628460745487, 0.20521467617349148, 0.18064847092615524, 0.1898601308568072, 0.20488924832425537, 0.1784776495234604, 0.1763889217865854, 0.2279774749178269, 0.16706013705091624, 0.18599803894427608, 0.17970341140722818, 0.16500198040619088, 0.15560573731899063, 0.1926928257151133, 0.16699652839863455, 0.1680208063817001, 0.15931919971837066, 0.18829240121173338, 0.18937830197335365, 0.1637744984028711, 0.2256881450193096, 0.17715791749090037, 0.22329472051847413, 0.17344703191257108, 0.18095502433887556, 0.21112292522647447, 0.199897014912777, 0.23867322666885654, 0.19968922141001963, 0.20618215001076165, 0.18811999520775102, 0.20296788566732543, 0.3115798660880364, 0.2797742257048773, 0.30605014804316183, 0.2540433437731582, 0.28533694133998394, 0.20609846886583802, 0.17490372775715093, 0.17103280831430412, 0.1656159592984437, 0.1999874941377318, 0.1709636832024546, 0.15883562385754557, 0.15610254809127985, 0.1626347915268402, 0.17372923607691246, 0.16098593330117184, 0.1722083179698613, 0.16676874427811944, 0.18195003022528985, 0.1635029594599541, 0.18525335546213706, 0.19106923982733043, 0.1570514274278653, 0.1525497894577756, 0.17281056277610848, 0.15218721521607717, 0.18454020656993814, 0.16634558629976826, 0.17727547554357914, 0.15894529985134775, 0.19770839805059917, 0.18678539769822994, 0.19933808627021352, 0.18811999520775102, 0.23867322666885654, 0.20296788566732543, 0.1862222703025987, 0.20618215001076165, 0.22329472051847413, 0.2256881450193096, 0.28660559570866967, 0.2678802459163488, 0.20855676452608377, 0.23572117296009718, 0.22894518614130963, 0.22210514700170533, 0.15825025794853073, 0.15814503800256105, 0.15545683593013088, 0.154807307871398, 0.15834385142647917, 0.1529528735736254, 0.15784787013306004, 0.16560616880636053, 0.14982268810045823, 0.16676135642730885, 0.16016047751261966, 0.15634500367853188, 0.1661061005587911, 0.16317744702962408, 0.14919167788082485, 0.15466641215486776, 0.16125613166049388, 0.1797168998348467, 0.14862225604646717, 0.15726251803662156, 0.15851506036244847, 0.14697866060167328, 0.14900582141746802, 0.14584402693701712, 0.16363350422672077, 0.1737011047000538, 0.15982515142990542, 0.18522977571153756, 0.1929283723479647, 0.17724952407213396, 0.17948722441143836, 0.17381634345414332, 0.17733143966344467, 0.2279774749178269, 0.20488924832425537, 0.2256881450193096, 0.22794827981535654, 0.19968922141001963, 0.20618215001076165, 0.23867322666885654, 0.1950908822400013, 0.14697068537082522, 0.1440545360719049, 0.15444037730921195, 0.14828610416311866, 0.17645235820417468, 0.17086170804189182, 0.17948722441143836, 0.14807434391034474, 0.1496468278546803, 0.1513166638247723, 0.1570514274278653, 0.15459007867479838, 0.14859849621549442, 0.1430204815107243, 0.23867322666885654, 0.15497735561783998, 0.1511825992282132, 0.1737011047000538, 0.1576045533368574, 0.16428516819241118, 0.14580786593837858, 0.15726697444461202, 0.14865930145061962, 0.1430050138299632, 0.14428611256856336, 0.14381020862816526, 0.14417203569318612, 0.14866150449055562, 0.15608867053264364, 0.1676555915642056, 0.19933808627021352, 0.18525335546213706, 0.1704789451671998, 0.18094385871206908, 0.16963398776427097, 0.20521467617349148, 0.1636490045508389, 0.1862222703025987, 0.2256881450193096, 0.14262189447431853, 0.1430050138299632, 0.1430204815107243, 0.14366355295043426, 0.14381020862816526, 0.14382182676736055, 0.1440545360719049, 0.14417203569318612, 0.14420461084267583, 0.14428611256856336, 0.14446377116658116, 0.14447423885331526, 0.14461446990270863, 0.1447917345975786, 0.14489231453568546, 0.14494376724364533, 0.14537847600373574, 0.14540373752733798, 0.1454273075811823, 0.14553498417854838, 0.14554865012728907, 0.14563121307410018, 0.14563984713918762, 0.14564687730541936, 0.14570963206354073, 0.14574372520793769, 0.1457690709918349, 0.14580786593837858, 0.14584402693701712, 0.14594532733775448, 0.14606946127219378, 0.14619227860307205, 0.1461972181234248, 0.14601472288063078, 0.15196200984878003, 0.1576045533368574, 0.2279774749178269, 0.17727547554357914, 0.22329472051847413, 0.20488924832425537, 0.17501119630818188, 0.17501119630818188, 0.19933808627021352, 0.15575173734435702, 0.16140644928697775, 0.16016047751261966, 0.16738761018556056, 0.1763889217865854, 0.1797168998348467, 0.1737011047000538, 0.16428516819241118, 0.16262683701500621, 0.17241958655224504, 0.15012027194410904, 0.1591546269230187, 0.17735615755370476, 0.17149837475698115, 0.15507812227722212, 0.15540946957183452, 0.17086170804189182, 0.17948722441143836, 0.18094385871206908, 0.17645235820417468], \"Category\": [\"Default\", \"Default\", \"Default\", \"Default\", \"Default\", \"Default\", \"Default\", \"Default\", \"Default\", \"Default\", \"Default\", \"Default\", \"Default\", \"Default\", \"Default\", \"Default\", \"Default\", \"Default\", \"Default\", \"Default\", \"Default\", \"Default\", \"Default\", \"Default\", \"Default\", \"Default\", \"Default\", \"Default\", \"Default\", \"Default\", \"Topic1\", \"Topic1\", \"Topic1\", \"Topic1\", \"Topic1\", \"Topic1\", \"Topic1\", \"Topic1\", \"Topic1\", \"Topic1\", \"Topic1\", \"Topic1\", \"Topic1\", \"Topic1\", \"Topic1\", \"Topic1\", \"Topic1\", \"Topic1\", \"Topic1\", \"Topic1\", \"Topic1\", \"Topic1\", \"Topic1\", \"Topic1\", \"Topic1\", \"Topic1\", \"Topic1\", \"Topic1\", \"Topic1\", \"Topic1\", \"Topic1\", \"Topic1\", \"Topic1\", \"Topic1\", \"Topic1\", \"Topic1\", \"Topic1\", \"Topic1\", \"Topic2\", \"Topic2\", \"Topic2\", \"Topic2\", \"Topic2\", \"Topic2\", \"Topic2\", \"Topic2\", \"Topic2\", \"Topic2\", \"Topic2\", \"Topic2\", \"Topic2\", \"Topic2\", \"Topic2\", \"Topic2\", \"Topic2\", \"Topic2\", \"Topic2\", \"Topic2\", \"Topic2\", \"Topic2\", \"Topic2\", \"Topic2\", \"Topic2\", \"Topic2\", \"Topic2\", \"Topic2\", \"Topic2\", \"Topic2\", \"Topic2\", \"Topic2\", \"Topic2\", \"Topic2\", \"Topic2\", \"Topic2\", \"Topic2\", \"Topic2\", \"Topic2\", \"Topic2\", \"Topic3\", \"Topic3\", \"Topic3\", \"Topic3\", \"Topic3\", \"Topic3\", \"Topic3\", \"Topic3\", \"Topic3\", \"Topic3\", \"Topic3\", \"Topic3\", \"Topic3\", \"Topic3\", \"Topic3\", \"Topic3\", \"Topic3\", \"Topic3\", \"Topic3\", \"Topic3\", \"Topic3\", \"Topic3\", \"Topic3\", \"Topic3\", \"Topic3\", \"Topic3\", \"Topic3\", \"Topic3\", \"Topic3\", \"Topic3\", \"Topic3\", \"Topic3\", \"Topic3\", \"Topic3\", \"Topic3\", \"Topic3\", \"Topic3\", \"Topic3\", \"Topic3\", \"Topic3\", \"Topic3\", \"Topic3\", \"Topic3\", \"Topic3\", \"Topic3\", \"Topic3\", \"Topic4\", \"Topic4\", \"Topic4\", \"Topic4\", \"Topic4\", \"Topic4\", \"Topic4\", \"Topic4\", \"Topic4\", \"Topic4\", \"Topic4\", \"Topic4\", \"Topic4\", \"Topic4\", \"Topic4\", \"Topic4\", \"Topic4\", \"Topic4\", \"Topic4\", \"Topic4\", \"Topic4\", \"Topic4\", \"Topic4\", \"Topic4\", \"Topic4\", \"Topic4\", \"Topic4\", \"Topic4\", \"Topic4\", \"Topic4\", \"Topic4\", \"Topic4\", \"Topic4\", \"Topic4\", \"Topic4\", \"Topic4\", \"Topic4\", \"Topic4\", \"Topic4\", \"Topic4\", \"Topic5\", \"Topic5\", \"Topic5\", \"Topic5\", \"Topic5\", \"Topic5\", \"Topic5\", \"Topic5\", \"Topic5\", \"Topic5\", \"Topic5\", \"Topic5\", \"Topic5\", \"Topic5\", \"Topic5\", \"Topic5\", \"Topic5\", \"Topic5\", \"Topic5\", \"Topic5\", \"Topic5\", \"Topic5\", \"Topic5\", \"Topic5\", \"Topic5\", \"Topic5\", \"Topic5\", \"Topic5\", \"Topic5\", \"Topic5\", \"Topic5\", \"Topic5\", \"Topic5\", \"Topic5\", \"Topic5\", \"Topic5\", \"Topic5\", \"Topic5\", \"Topic5\", \"Topic5\", \"Topic5\", \"Topic5\", \"Topic5\", \"Topic5\", \"Topic5\", \"Topic5\", \"Topic5\", \"Topic5\", \"Topic5\", \"Topic5\", \"Topic5\", \"Topic5\", \"Topic5\", \"Topic5\", \"Topic5\", \"Topic5\", \"Topic5\", \"Topic5\", \"Topic5\", \"Topic5\", \"Topic5\", \"Topic5\", \"Topic5\"], \"logprob\": [30.0, 29.0, 28.0, 27.0, 26.0, 25.0, 24.0, 23.0, 22.0, 21.0, 20.0, 19.0, 18.0, 17.0, 16.0, 15.0, 14.0, 13.0, 12.0, 11.0, 10.0, 9.0, 8.0, 7.0, 6.0, 5.0, 4.0, 3.0, 2.0, 1.0, -4.7207, -5.2297, -5.1317, -5.2527, -5.1241, -5.4185, -5.7585, -5.6885, -5.8477, -5.8034, -5.7355, -5.886, -5.9075, -5.6651, -5.9778, -5.8826, -5.918, -6.0089, -6.0718, -5.86, -6.0043, -6.0013, -6.0575, -5.8972, -5.8945, -6.04, -5.7194, -5.9625, -5.731, -5.9854, -5.9432, -5.7911, -5.8995, -5.8438, -5.9294, -5.9206, -5.9784, -5.9769, -4.7467, -4.9043, -4.8399, -5.0529, -4.9865, -5.4074, -5.7316, -5.7803, -5.8526, -5.6662, -5.8346, -5.9514, -5.994, -5.958, -5.8961, -5.9807, -5.9186, -5.9508, -5.8776, -5.9958, -5.8725, -5.8503, -6.0503, -6.0924, -5.9689, -6.1019, -5.9133, -6.0192, -5.9627, -6.0727, -5.8584, -5.9161, -5.8678, -5.9212, -5.7571, -5.8894, -5.9493, -5.9268, -5.9354, -5.9616, -4.6527, -4.8349, -5.1789, -5.0607, -5.1171, -5.2744, -5.8122, -5.8139, -5.8625, -5.8745, -5.901, -5.948, -5.9385, -5.9038, -6.0661, -5.9808, -6.0253, -6.053, -5.9935, -6.0114, -6.1209, -6.0904, -6.0531, -5.9478, -6.1435, -6.0872, -6.0816, -6.1629, -6.1538, -6.1778, -6.066, -6.0129, -6.0927, -5.982, -5.953, -6.0216, -6.0145, -6.0341, -6.0279, -5.9275, -5.9787, -5.979, -5.995, -6.0169, -6.0138, -6.0075, -4.6359, -5.6212, -5.7285, -5.706, -5.9938, -5.8478, -5.9066, -5.8615, -6.0597, -6.0598, -6.051, -6.0222, -6.0431, -6.0914, -6.1303, -5.6193, -6.0512, -6.0766, -5.9396, -6.0463, -6.009, -6.1304, -6.0583, -6.1165, -6.1569, -6.154, -6.1644, -6.1644, -6.1422, -6.1003, -6.0403, -5.9183, -5.9782, -6.0434, -6.0093, -6.0629, -5.9799, -6.092, -6.0771, -6.0593, -6.2146, -6.2146, -6.2146, -6.2146, -6.2146, -6.2146, -6.2148, -6.2146, -6.2146, -6.2146, -6.2146, -6.2146, -6.2146, -6.2146, -6.2146, -6.2146, -6.2146, -6.2146, -6.2146, -6.2146, -6.2146, -6.2146, -6.2146, -6.2146, -6.2146, -6.2146, -6.2146, -6.2146, -6.2146, -6.2146, -6.2145, -6.2146, -6.2146, -6.2146, -6.2145, -6.2145, -6.2145, -6.2145, -6.2145, -6.2145, -6.2145, -6.2145, -6.2145, -6.2145, -6.2145, -6.2145, -6.2145, -6.2145, -6.2145, -6.2145, -6.2145, -6.2145, -6.2145, -6.2145, -6.2145, -6.2145, -6.2145, -6.2145, -6.2145, -6.2145, -6.2145, -6.2145, -6.2145], \"loglift\": [30.0, 29.0, 28.0, 27.0, 26.0, 25.0, 24.0, 23.0, 22.0, 21.0, 20.0, 19.0, 18.0, 17.0, 16.0, 15.0, 14.0, 13.0, 12.0, 11.0, 10.0, 9.0, 8.0, 7.0, 6.0, 5.0, 4.0, 3.0, 2.0, 1.0, 0.7493, 0.6085, 0.6003, 0.5997, 0.5834, 0.4616, 0.3268, 0.2966, 0.265, 0.2595, 0.2512, 0.2387, 0.229, 0.2148, 0.213, 0.2009, 0.1999, 0.1944, 0.1901, 0.1881, 0.1869, 0.1838, 0.1807, 0.174, 0.1709, 0.1707, 0.1706, 0.1697, 0.1697, 0.1679, 0.1678, 0.1656, 0.1119, -0.0097, 0.083, 0.0598, 0.0938, 0.0193, 0.8209, 0.7709, 0.7456, 0.7188, 0.6691, 0.5734, 0.4134, 0.3871, 0.3469, 0.3447, 0.3331, 0.29, 0.2647, 0.2597, 0.2556, 0.2472, 0.2419, 0.2418, 0.2279, 0.2166, 0.215, 0.2062, 0.2023, 0.1893, 0.1881, 0.1822, 0.1781, 0.1759, 0.1688, 0.1679, 0.164, 0.1631, 0.1464, 0.1509, 0.077, 0.1068, 0.1329, 0.0536, -0.0347, -0.0715, 0.9984, 0.8838, 0.7901, 0.7858, 0.7586, 0.6317, 0.4328, 0.4317, 0.4003, 0.3925, 0.3434, 0.3311, 0.3091, 0.2958, 0.2336, 0.2118, 0.2078, 0.2041, 0.2031, 0.203, 0.183, 0.1775, 0.1731, 0.17, 0.1643, 0.1641, 0.1618, 0.156, 0.1514, 0.1489, 0.1456, 0.139, 0.1424, 0.1056, 0.0939, 0.11, 0.1046, 0.1171, 0.1032, -0.0476, 0.008, -0.0889, -0.1149, -0.0044, -0.0333, -0.1734, 1.3998, 0.6978, 0.6105, 0.5634, 0.3163, 0.2884, 0.2617, 0.2576, 0.2518, 0.2411, 0.2389, 0.2304, 0.2253, 0.2166, 0.2159, 0.2148, 0.2148, 0.2141, 0.2122, 0.2028, 0.1985, 0.1965, 0.1929, 0.1911, 0.1894, 0.1834, 0.1763, 0.1738, 0.1654, 0.1585, 0.147, 0.0959, 0.1093, 0.1271, 0.1017, 0.1126, 0.0052, 0.1195, 0.0052, -0.1693, 0.1344, 0.1318, 0.1316, 0.1271, 0.1261, 0.126, 0.1242, 0.1236, 0.1234, 0.1228, 0.1216, 0.1215, 0.1205, 0.1193, 0.1186, 0.1183, 0.1153, 0.1151, 0.1149, 0.1142, 0.1141, 0.1135, 0.1135, 0.1134, 0.113, 0.1127, 0.1126, 0.1123, 0.112, 0.1113, 0.1106, 0.1097, 0.1096, 0.1109, 0.0711, 0.0346, -0.3345, -0.083, -0.3138, -0.2278, -0.0702, -0.0702, -0.2003, 0.0464, 0.0108, 0.0185, -0.0256, -0.078, -0.0967, -0.0627, -0.0069, 0.0032, -0.0553, 0.0832, 0.0248, -0.0835, -0.0499, 0.0507, 0.0486, -0.0462, -0.0954, -0.1035, -0.0784]}, \"token.table\": {\"Topic\": [], \"Freq\": [], \"Term\": []}, \"R\": 30, \"lambda.step\": 0.01, \"plot.opts\": {\"xlab\": \"PC1\", \"ylab\": \"PC2\"}, \"topic.order\": [2, 5, 1, 4, 3]};\n",
       "\n",
       "function LDAvis_load_lib(url, callback){\n",
       "  var s = document.createElement('script');\n",
       "  s.src = url;\n",
       "  s.async = true;\n",
       "  s.onreadystatechange = s.onload = callback;\n",
       "  s.onerror = function(){console.warn(\"failed to load library \" + url);};\n",
       "  document.getElementsByTagName(\"head\")[0].appendChild(s);\n",
       "}\n",
       "\n",
       "if(typeof(LDAvis) !== \"undefined\"){\n",
       "   // already loaded: just create the visualization\n",
       "   !function(LDAvis){\n",
       "       new LDAvis(\"#\" + \"ldavis_el569291403407457736808821282991\", ldavis_el569291403407457736808821282991_data);\n",
       "   }(LDAvis);\n",
       "}else if(typeof define === \"function\" && define.amd){\n",
       "   // require.js is available: use it to load d3/LDAvis\n",
       "   require.config({paths: {d3: \"https://d3js.org/d3.v5\"}});\n",
       "   require([\"d3\"], function(d3){\n",
       "      window.d3 = d3;\n",
       "      LDAvis_load_lib(\"https://cdn.jsdelivr.net/gh/bmabey/pyLDAvis@3.3.1/pyLDAvis/js/ldavis.v3.0.0.js\", function(){\n",
       "        new LDAvis(\"#\" + \"ldavis_el569291403407457736808821282991\", ldavis_el569291403407457736808821282991_data);\n",
       "      });\n",
       "    });\n",
       "}else{\n",
       "    // require.js not available: dynamically load d3 & LDAvis\n",
       "    LDAvis_load_lib(\"https://d3js.org/d3.v5.js\", function(){\n",
       "         LDAvis_load_lib(\"https://cdn.jsdelivr.net/gh/bmabey/pyLDAvis@3.3.1/pyLDAvis/js/ldavis.v3.0.0.js\", function(){\n",
       "                 new LDAvis(\"#\" + \"ldavis_el569291403407457736808821282991\", ldavis_el569291403407457736808821282991_data);\n",
       "            })\n",
       "         });\n",
       "}\n",
       "</script>"
      ],
      "text/plain": [
       "<IPython.core.display.HTML object>"
      ]
     },
     "execution_count": 161,
     "metadata": {},
     "output_type": "execute_result"
    }
   ],
   "source": [
    "panel = pyLDAvis.sklearn.prepare(lda_model = lda, \n",
    "                                 dtm = tfidf, \n",
    "                                 vectorizer = tfidf_vectorizer, \n",
    "                                 mds = \"tsne\")\n",
    "pyLDAvis.display(panel)"
   ]
  },
  {
   "cell_type": "markdown",
   "metadata": {},
   "source": [
    "# Challenge 1\n",
    "\n",
    "1. What is a topic? \n",
    "2. What is a \"salient\" term?\n",
    "3. What is the relevance metric lambda?\n",
    "\n",
    "4. What do you know about the eleven human rights documents we used to do this exercise? \n",
    "5. Why are all these topics similar in size in the left plot?\n",
    "6. Why are the overall term frequencies (blue bar) and estimated term frequency, within the selected topic (red bar) similar in the right plot? \n",
    "7. Plug in your own data! You might see more distinct topics given the nature of these human rights documents. Why? "
   ]
  },
  {
   "cell_type": "markdown",
   "metadata": {},
   "source": [
    "# Challenge 2\n",
    "\n",
    "Read up on LDA and its visualizations by clicking the below links:\n",
    "- https://www.objectorientedsubject.net/2018/08/experiments-on-topic-modeling-pyldavis/\n",
    "- http://www.cs.columbia.edu/~blei/papers/ChaneyBlei2012.pdf\n",
    "- https://shravan-kuchkula.github.io/topic-modeling/#lda-results\n",
    "- https://markroxor.github.io/gensim/static/notebooks/gensim_news_classification.html\n",
    "- http://vis.stanford.edu/files/2012-Termite-AVI.pdf"
   ]
  },
  {
   "cell_type": "markdown",
   "metadata": {},
   "source": [
    "# word2vec\n",
    "\n",
    "The word2vec family of algorithms use shallow neural networks to produce word embeddings, or ways to represent similar words similarly as numbers. We will explore neural network architecture in notebook 5-2. "
   ]
  },
  {
   "cell_type": "code",
   "execution_count": null,
   "metadata": {
    "scrolled": true
   },
   "outputs": [],
   "source": [
    "# First, store the documents we want to explore in a separate dataframe with just one column\n",
    "w2v_df = pd.DataFrame({'Processed': human_rights[\"Text_processed\"]})\n",
    "w2v_df"
   ]
  },
  {
   "cell_type": "code",
   "execution_count": null,
   "metadata": {},
   "outputs": [],
   "source": [
    "# Turn the text of each row into a list\n",
    "# We now have a list of lists - one for each document\n",
    "\n",
    "split_rows = [row.split() for row in w2v_df['Processed']]"
   ]
  },
  {
   "cell_type": "code",
   "execution_count": null,
   "metadata": {},
   "outputs": [],
   "source": [
    "# Define the word2vec model\n",
    "\n",
    "model = gensim.models.Word2Vec(split_rows, \n",
    "                               min_count = 2,\n",
    "                               size = 12, \n",
    "                               workers = 3, \n",
    "                               window = 3, \n",
    "                               sg = 1)"
   ]
  },
  {
   "cell_type": "code",
   "execution_count": null,
   "metadata": {},
   "outputs": [],
   "source": [
    "# Save the vocabulary \n",
    "words = list(model.wv.vocab)\n",
    "\n",
    "# Preview\n",
    "words[0:10]"
   ]
  },
  {
   "cell_type": "code",
   "execution_count": null,
   "metadata": {},
   "outputs": [],
   "source": [
    "# Inspect the vector for a word in the vocabulary\n",
    "\n",
    "model[\"human\"]"
   ]
  },
  {
   "cell_type": "code",
   "execution_count": null,
   "metadata": {},
   "outputs": [],
   "source": [
    "# compare the vectors of two words in the vocabulary\n",
    "model.similarity(\"the\", \"the\")"
   ]
  },
  {
   "cell_type": "code",
   "execution_count": null,
   "metadata": {},
   "outputs": [],
   "source": [
    "model.similarity(\"human\", \"rights\")"
   ]
  },
  {
   "cell_type": "code",
   "execution_count": null,
   "metadata": {},
   "outputs": [],
   "source": [
    "model.similarity(\"human\", \"the\")"
   ]
  },
  {
   "cell_type": "code",
   "execution_count": null,
   "metadata": {
    "scrolled": true
   },
   "outputs": [],
   "source": [
    "model.similarity(\"human\", \"law\")"
   ]
  },
  {
   "cell_type": "code",
   "execution_count": null,
   "metadata": {},
   "outputs": [],
   "source": [
    "model.similarity(\"country\", \"law\")"
   ]
  },
  {
   "cell_type": "code",
   "execution_count": null,
   "metadata": {},
   "outputs": [],
   "source": [
    "model.similarity(\"justice\", \"law\")"
   ]
  },
  {
   "cell_type": "code",
   "execution_count": null,
   "metadata": {},
   "outputs": [],
   "source": [
    "model.similarity(\"international\", \"law\")"
   ]
  },
  {
   "cell_type": "code",
   "execution_count": null,
   "metadata": {},
   "outputs": [],
   "source": [
    "model.similarity(\"united\", \"nations\")"
   ]
  },
  {
   "cell_type": "code",
   "execution_count": null,
   "metadata": {},
   "outputs": [],
   "source": [
    "# Get the most similar words to a given word\n",
    "human_words = model.wv.most_similar(\"human\", topn=10)\n",
    "print(type(human_words))\n",
    "human_words"
   ]
  },
  {
   "cell_type": "code",
   "execution_count": null,
   "metadata": {},
   "outputs": [],
   "source": [
    "# Convert into a dataframe\n",
    "pd.DataFrame(human_words,columns=['Word', \"Similarity\"])"
   ]
  },
  {
   "cell_type": "code",
   "execution_count": null,
   "metadata": {},
   "outputs": [],
   "source": [
    "model.wv.most_similar(\"war\")"
   ]
  },
  {
   "cell_type": "code",
   "execution_count": null,
   "metadata": {},
   "outputs": [],
   "source": [
    "model.similarity(\"peace\", \"human\")"
   ]
  },
  {
   "cell_type": "code",
   "execution_count": null,
   "metadata": {
    "scrolled": true
   },
   "outputs": [],
   "source": [
    "model.similarity(\"war\", \"humanity\")"
   ]
  },
  {
   "cell_type": "markdown",
   "metadata": {},
   "source": [
    "# Plot words with PCA\n",
    "\n",
    "[Principal component analysis](https://towardsdatascience.com/pca-using-python-scikit-learn-e653f8989e60) and related dimension-reduction algorithms are an excellent way to visualize multivariate data in reduced dimensional space - such as a 2D scatterplot. "
   ]
  },
  {
   "cell_type": "code",
   "execution_count": null,
   "metadata": {},
   "outputs": [],
   "source": [
    "# Save the word2vec vocab vectors\n",
    "features = model[model.wv.vocab]\n",
    "features"
   ]
  },
  {
   "cell_type": "code",
   "execution_count": null,
   "metadata": {},
   "outputs": [],
   "source": [
    "# Define parameters of our PCA\n",
    "\n",
    "# Just look at the first two dimensions - the X and Y axes\n",
    "for_pca = PCA(n_components = 2)\n",
    "pca_out = for_pca.fit_transform(features)"
   ]
  },
  {
   "cell_type": "code",
   "execution_count": null,
   "metadata": {},
   "outputs": [],
   "source": [
    "# Plot!\n",
    "plt.scatter(pca_out[:, 0], pca_out[:, 1]);"
   ]
  },
  {
   "cell_type": "markdown",
   "metadata": {},
   "source": [
    "# Annotate text labels\n",
    "\n",
    "What if we want to lable points with just certain words? "
   ]
  },
  {
   "cell_type": "code",
   "execution_count": null,
   "metadata": {},
   "outputs": [],
   "source": [
    "plt.figure(figsize = (8,6))\n",
    "plt.scatter(pca_out[:, 0], pca_out[:, 1])\n",
    "words = list(model.wv.vocab)\n",
    "# Annotate only the top 20 words [0:20]\n",
    "for i, word in enumerate(words[0:20]):\n",
    "    plt.annotate(word, size = 20, xy = (pca_out[i, 0], pca_out[i, 1]))\n",
    "plt.show()"
   ]
  },
  {
   "cell_type": "code",
   "execution_count": null,
   "metadata": {},
   "outputs": [],
   "source": [
    "# Or, just the top 20 words?\n",
    "plt.figure(figsize = (8,6))\n",
    "plt.scatter(pca_out[:, 0][0:20], pca_out[:, 1][0:20])\n",
    "words = list(model.wv.vocab)\n",
    "for i, word in enumerate(words[0:20]):\n",
    "    plt.annotate(word, size = 20, xy=(pca_out[i, 0], pca_out[i, 1]))\n",
    "plt.show()"
   ]
  },
  {
   "cell_type": "markdown",
   "metadata": {},
   "source": [
    "https://kavita-ganesan.com/gensim-word2vec-tutorial-starter-code/#.XuxYm2pKjOQ\n",
    "\n",
    "https://machinelearningmastery.com/develop-word-embeddings-python-gensim/\n",
    "\n",
    "https://www.kaggle.com/pierremegret/gensim-word2vec-tutorial\n",
    "\n",
    "https://towardsdatascience.com/a-beginners-guide-to-word-embedding-with-gensim-word2vec-model-5970fa56cc92\n",
    "\n",
    "https://www.datacamp.com/community/blog/spacy-cheatsheet\n",
    "\n",
    "https://code.google.com/archive/p/word2vec/"
   ]
  },
  {
   "cell_type": "markdown",
   "metadata": {},
   "source": [
    "# Classification of Textual Data\n",
    "\n",
    "How can we translate this simple model of binary classification to text? Let's look at a corpus from `nltk` and build your own classifier using sklearn's machine learning `Pipeline`"
   ]
  },
  {
   "cell_type": "code",
   "execution_count": null,
   "metadata": {},
   "outputs": [],
   "source": [
    "# Download the nltk built-in movie reviews dataset\n",
    "nltk.download(\"movie_reviews\")"
   ]
  },
  {
   "cell_type": "markdown",
   "metadata": {},
   "source": [
    "As you might expect, this is a corpus of IMDB movie reviews. Someone went through and read each review, labeling it as either \"positive\" or \"negative\". The task we have before us is to create a model that can accurately predict whether a never-before-seen review is positive or negative. \n",
    "\n",
    "From the `movie_reviews` object let's take out the reviews and the judgement:"
   ]
  },
  {
   "cell_type": "code",
   "execution_count": null,
   "metadata": {},
   "outputs": [],
   "source": [
    "# Extract our x (reviews) and y (judgements) variables\n",
    "reviews = [movie_reviews.raw(fileid) for fileid in movie_reviews.fileids()]\n",
    "judgements = [movie_reviews.categories(fileid)[0] for fileid in movie_reviews.fileids()]"
   ]
  },
  {
   "cell_type": "code",
   "execution_count": null,
   "metadata": {},
   "outputs": [],
   "source": [
    "# Save in a dataframe\n",
    "movies = pd.DataFrame({\"Reviews\" : reviews, \n",
    "                      \"Judgements\" : judgements})"
   ]
  },
  {
   "cell_type": "code",
   "execution_count": null,
   "metadata": {},
   "outputs": [],
   "source": [
    "movies.head()"
   ]
  },
  {
   "cell_type": "code",
   "execution_count": null,
   "metadata": {},
   "outputs": [],
   "source": [
    "# We have 2000 movie reviews\n",
    "movies.shape"
   ]
  },
  {
   "cell_type": "markdown",
   "metadata": {},
   "source": [
    "Let's look at a random review and its judgement:"
   ]
  },
  {
   "cell_type": "code",
   "execution_count": null,
   "metadata": {},
   "outputs": [],
   "source": [
    "print(\"The human annotator's review was:\", movies.Judgements[0])\n",
    "print()\n",
    "print(movies.Reviews[0][:500])"
   ]
  },
  {
   "cell_type": "markdown",
   "metadata": {},
   "source": [
    "So right now we have a dataframe of movie reviews in the `Reviews` variable and a list of their corresponding judgements in the `Judgements` column. Awesome. What does this sound like to you? Independent and dependent variables? You'd be right!\n",
    "\n",
    "`Reviews` is our x variable. `Judgements` is our y variable. Let's first reassign x and y for simplicity. While we're at it, we're going to set the random_state for our computer. Remember that this makes our result reproducible. We'll also `shuffle` so that we randomize the order of our observations, and when we split the testing and training data it won't be in a biased order. However, start learning about [stratified sampling](https://en.wikipedia.org/wiki/Stratified_sampling) and when you should use it instead of `shuffle`!"
   ]
  },
  {
   "cell_type": "code",
   "execution_count": null,
   "metadata": {},
   "outputs": [],
   "source": [
    "x, y = shuffle(np.array(movies.Reviews), np.array(movies.Judgements), random_state = 1)"
   ]
  },
  {
   "cell_type": "markdown",
   "metadata": {},
   "source": [
    "If you don't believe me that all we did is reassign and shuffle:"
   ]
  },
  {
   "cell_type": "code",
   "execution_count": null,
   "metadata": {},
   "outputs": [],
   "source": [
    "x[0], print(\"Human annotator's review was:\", y[0])"
   ]
  },
  {
   "cell_type": "markdown",
   "metadata": {},
   "source": [
    "To get meaningful independent variables (words) we have to do some processing too (think DTM!). With `sklearn`'s text pipelines, we can quickly build a text classifier in only a few lines of Python: "
   ]
  },
  {
   "cell_type": "markdown",
   "metadata": {},
   "source": [
    "# Cross-validated pipepline\n",
    "\n",
    "Remember training/test splitting? Lets do this `cv = 20` times! https://en.wikipedia.org/wiki/Cross-validation_(statistics)\n",
    "\n",
    "We should reasonably expect this to perform better than a single training/test split (see below)."
   ]
  },
  {
   "cell_type": "code",
   "execution_count": null,
   "metadata": {},
   "outputs": [],
   "source": [
    "# Cross-validated model!\n",
    "text_clf = Pipeline([('vect', CountVectorizer(ngram_range=(1, 2))),\n",
    "                    ('tfidf', TfidfTransformer()),\n",
    "                    ('clf', LogisticRegression(random_state = 0, penalty = \"l2\", C = 1000))\n",
    "                     ])\n",
    "\n",
    "scores = cross_val_score(text_clf, x, y, cv = 20)\n",
    "\n",
    "print(scores, np.mean(scores))"
   ]
  },
  {
   "cell_type": "markdown",
   "metadata": {},
   "source": [
    "***Whoa! What just happened?!?*** The pipeline tells us three things happened:\n",
    "\n",
    "1. `CountVectorizer`\n",
    "\n",
    "2. `TfidfTransformer`\n",
    "\n",
    "3. `LogisticRegression`\n",
    "\n",
    "Let's walk through this step by step.\n",
    "\n",
    "1. `CountVectorizer` does the same as before. It changes all the texts to quickly normalized words, and then simply counts the frequency of each word occuring in the corpus for each document. The feature array for each document at this point is simply the length of all unique words in a corpus, with the count for the frequency of each. This is the most basic way to provide features for a classifier - a document term matrix!\n",
    "\n",
    "2. Remember that tfidf (term frequency inverse document frequency) is an algorithm that aims to find words that are important to specific documents. It does this by taking the term frequency (tf) for a specific term in a specific document, and multiplying it by the term's inverse document frequency (idf), which is the total number of documents divided by the number of documents that contain the term at least once. `TfidfTransformer` transforms the `CountVectorizer` into a tf-idf representation. \n",
    "\n",
    "A tfidf value is calculated for each term for each document. The feature arrays for a document is now the tfidf values. \n",
    "\n",
    "> Remember! The tfidf matrix is similar to our document term matrix, only now the values have been weighted according to their distribution across documents.\n",
    "\n",
    "The pipeline now sends these tfidf feature arrays to \n",
    "\n",
    "3. `LogisticRegression`, what we learned from notebook 4-3. We add in an l2 penalization parameter because we have many more independent variables from our `dtm` than observations. \n",
    "\n",
    "Check out the [pipeline documentation here](http://scikit-learn.org/stable/modules/generated/sklearn.pipeline.Pipeline.html)\n",
    "\n",
    "The code below breaks this down by each step, but combines the `CountVectorizer` and `TfidfTransformer` in the `TfidfVectorizer`."
   ]
  },
  {
   "cell_type": "code",
   "execution_count": null,
   "metadata": {},
   "outputs": [],
   "source": [
    "# Standard training/test split (no cross validation)\n",
    "x_train, x_test, y_train, y_test = train_test_split(x, y, test_size = 0.30, random_state = 0)\n",
    "\n",
    "# get tfidf values\n",
    "tfidf = TfidfVectorizer()\n",
    "tfidf.fit(x)\n",
    "x_train = tfidf.transform(x_train)\n",
    "x_test = tfidf.transform(x_test)\n",
    "\n",
    "# build and test logit\n",
    "logit_class = LogisticRegression(random_state = 0, penalty = \"l2\", C = 1000)\n",
    "model = logit_class.fit(x_train, y_train)\n",
    "model.score(x_test, y_test)"
   ]
  },
  {
   "cell_type": "markdown",
   "metadata": {},
   "source": [
    "# Important Features\n",
    "\n",
    "After we train the model we can then index the tfidf matrix for the words with the most significant coefficients (remember independent variables!) to get the most helpful features:"
   ]
  },
  {
   "cell_type": "code",
   "execution_count": null,
   "metadata": {},
   "outputs": [],
   "source": [
    "feature_names = tfidf.get_feature_names()\n",
    "top25pos = np.argsort(model.coef_[0])[-25:]\n",
    "print(\"Top features for positive reviews:\")\n",
    "print(list(feature_names[j] for j in top25pos))\n",
    "print()\n",
    "print(\"Top features for negative reviews:\")\n",
    "top25neg = np.argsort(model.coef_[0])[:25]\n",
    "print(list(feature_names[j] for j in top25neg))"
   ]
  },
  {
   "cell_type": "markdown",
   "metadata": {},
   "source": [
    "# Prediction\n",
    "\n",
    "We can also use our model to classify new reviews, all we have to do is extract the tfidf features from the raw text and send them to the model as our features (independent variables):"
   ]
  },
  {
   "cell_type": "code",
   "execution_count": null,
   "metadata": {},
   "outputs": [],
   "source": [
    "new_bad_review = \"This was the most awful worst super bad movie ever!\"\n",
    "\n",
    "features = tfidf.transform([new_bad_review])\n",
    "\n",
    "model.predict(features)"
   ]
  },
  {
   "cell_type": "code",
   "execution_count": null,
   "metadata": {},
   "outputs": [],
   "source": [
    "new_good_review = \"This movie was great, awesome and good!\"\n",
    "\n",
    "features = tfidf.transform([new_good_review])\n",
    "\n",
    "model.predict(features)"
   ]
  },
  {
   "cell_type": "markdown",
   "metadata": {},
   "source": [
    "# Bidirectional Encoder Representations from Transformers (BERT)\n",
    "\n",
    "Want to go really crazy? The [BERT algorithmic family](https://www.blog.google/products/search/search-language-understanding-bert/) is the way to go!\n",
    "\n",
    "https://github.com/google-research/bert  \n",
    "https://github.com/google-research/bert#pre-trained-models  \n",
    "http://jalammar.github.io/a-visual-guide-to-using-bert-for-the-first-time/"
   ]
  }
 ],
 "metadata": {
  "kernelspec": {
   "display_name": "Python 3",
   "language": "python",
   "name": "python3"
  },
  "language_info": {
   "codemirror_mode": {
    "name": "ipython",
    "version": 3
   },
   "file_extension": ".py",
   "mimetype": "text/x-python",
   "name": "python",
   "nbconvert_exporter": "python",
   "pygments_lexer": "ipython3",
   "version": "3.8.5"
  }
 },
 "nbformat": 4,
 "nbformat_minor": 4
}
