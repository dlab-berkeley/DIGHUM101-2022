{
 "cells": [
  {
   "cell_type": "markdown",
   "metadata": {},
   "source": [
    "# Fast review\n",
    "\n",
    "1. What is Python? \n",
    "2. What is a Jupyter notebook? \n",
    "3. What is a kernel?"
   ]
  },
  {
   "cell_type": "markdown",
   "metadata": {},
   "source": [
    "# Learning objectives\n",
    "\n",
    "1. Understand basic code vocabulary\n",
    "2. Introduce variable assignment\n",
    "3. How to stay organized"
   ]
  },
  {
   "cell_type": "markdown",
   "metadata": {},
   "source": [
    "# Basic code vocabulary\n",
    "\n",
    "As you will see, programming is a creative process – if Jupyter Notebooks are your canvas, Python is your brush. Here are some basic terms you will encounter often in this process:\n",
    "\n",
    "**Data types** are categories of data items. Programming languages contain different kinds of data that tells what operations can performed on them. Examples are integers, strings, Booleans, etc. Notebook 1-4 will be all about data types.\n",
    "\n",
    "<img src=\"../../Img/Python-data-structure.jpeg\" alt=\"data_types\" width=\"500\"/>\n",
    "\n",
    "**Variables** are names attached to particular objects. To create a variable, you just assign it a value and then start using it. Assignment is done with a single equals sign (=): `n = 300`\n",
    "\n",
    "**Statements** are instructions that a Python interpreter can execute. They end with a NEWLINE character. That means each line in Python is a statement. For instance, `print('Hello')` is a statement; `x = 20` is a statement; `print(x)` is a statement.\n",
    "\n",
    "**Functions** perform actions on things. `print()` is one of the most familiar. You can often identify a function because of its trailing round parentheses.  \n",
    "\n",
    "**Arguments** are the \"things\" we perform the action on. They can be values, mathematical expressions, text, variables, datasets, or even other functions! Arguments go inside the trailing parentheses of functions when we call them. \n",
    "\n",
    "**Methods** are type-specific functions. Different data types and structures have functions that only apply to that type/structure (i.e., floating-point numbers aka decimals, integers, strings, lists, dictionaries, data frames, etc.)."
   ]
  },
  {
   "cell_type": "markdown",
   "metadata": {},
   "source": [
    "# Code cells\n",
    "\n",
    "Below is a cell of executable **Code** that uses Python's built-in `print` function to print out the words inside of the quotations. \n",
    "\n",
    "Press **Shift + Enter** to run the cell and advance to the next cell. Press **Control + Enter** to run a cell but stay on the same cell. "
   ]
  },
  {
   "cell_type": "code",
   "execution_count": null,
   "metadata": {
    "scrolled": true
   },
   "outputs": [],
   "source": [
    "# Use a hashtag inside of a code cell to add comments about your code\n",
    "# As opposed to markdown which describes your research narrative, comments should pertain only to the code itself\n",
    "\n",
    "# Don't forget to print!\n",
    "print(\"Welcome to DIGHUM101!\")"
   ]
  },
  {
   "cell_type": "markdown",
   "metadata": {},
   "source": [
    "> NOTE: Keep in mind that syntax is important! We have to follow certain rules to make the code run. Also remember that for every open something (parenthesis, square bracket, curly brace, quotation, etc.), you need a matching closed something."
   ]
  },
  {
   "cell_type": "markdown",
   "metadata": {},
   "source": [
    "# Variable Assignment\n",
    "\n",
    "Save data in Python's memory by assigning it to a variable. \n",
    "\n",
    "Give your variables meaningful names and assign them definitions using the equals sign `=`. \n",
    "\n",
    "> NOTE: Using the same variable name a second time will overwrite the original definition. \n",
    "\n",
    "For now, follow this three piece recipe for variable definition:\n",
    "1. The variable name goes on the LEFT SIDE\n",
    "2. The equals sign `=` goes in the MIDDLE\n",
    "3. The definition/code to be evaluated goes on the RIGHT SIDE\n",
    "\n",
    "Below, store the value 5 inside the variable named x"
   ]
  },
  {
   "cell_type": "code",
   "execution_count": null,
   "metadata": {},
   "outputs": [],
   "source": [
    "x = 5"
   ]
  },
  {
   "cell_type": "markdown",
   "metadata": {},
   "source": [
    "However, notice that this only saves the variable in Python's memory. \n",
    "\n",
    "> In the code below, what is the function and what is the argument?"
   ]
  },
  {
   "cell_type": "code",
   "execution_count": null,
   "metadata": {},
   "outputs": [],
   "source": [
    "print(x)"
   ]
  },
  {
   "cell_type": "code",
   "execution_count": null,
   "metadata": {},
   "outputs": [],
   "source": [
    "y = \"hello\"\n",
    "print(y)"
   ]
  },
  {
   "cell_type": "markdown",
   "metadata": {},
   "source": [
    "Note that in Jupyter notebooks, we can also \"print\" to screen by just entering the name of a variable, function etc. However, we can't output multiple objects this way."
   ]
  },
  {
   "cell_type": "code",
   "execution_count": null,
   "metadata": {},
   "outputs": [],
   "source": [
    "x\n",
    "y"
   ]
  },
  {
   "cell_type": "markdown",
   "metadata": {},
   "source": [
    "**Enter**\n",
    "\n",
    "Press enter within a cell to add a new line. This allows you to add multi-line commands in code cells as well as paragraph breaks and lists in markdown cells. "
   ]
  },
  {
   "cell_type": "code",
   "execution_count": null,
   "metadata": {},
   "outputs": [],
   "source": [
    "x = 5\n",
    "y = 2.0\n",
    "z = 5 ** 2"
   ]
  },
  {
   "cell_type": "code",
   "execution_count": null,
   "metadata": {},
   "outputs": [],
   "source": [
    "print((z - x) / (2 + y))"
   ]
  },
  {
   "cell_type": "markdown",
   "metadata": {},
   "source": [
    "# How to stay organized\n",
    "\n",
    "After hours of experimentation, it is easy to forget what variables you have assigned. Throughout this course we will discuss naming conventions, good scripting practices, and the importance of project management using GitHub. For now, be sure to name your variables with short descriptors of their contents. Use an underscore as a placeholder for a space:"
   ]
  },
  {
   "cell_type": "code",
   "execution_count": null,
   "metadata": {},
   "outputs": [],
   "source": [
    "my_name = \"Tom\"\n",
    "print(my_name)"
   ]
  },
  {
   "cell_type": "code",
   "execution_count": null,
   "metadata": {},
   "outputs": [],
   "source": [
    "# Does this make sense?\n",
    "pizza12 = \"happy birthday\"\n",
    "print(pizza12)"
   ]
  },
  {
   "cell_type": "markdown",
   "metadata": {},
   "source": [
    "# Concept maps\n",
    "\n",
    "When I code, I still often draw concept maps that include: \n",
    "\n",
    "1. Ideas I am trying to code in - a branching, tree-like structure\n",
    "    - What is my idea and how do I translate that idea to code?\n",
    "    - How can I draw out the steps needed to get where I want to go?\n",
    "2. Key terms I do not understand\n",
    "3. Specific questions about code \n",
    "4. General questions about the research process\n",
    "\n",
    "To see which variables we have assigned, use the magic commands (functions) `%who` and `%whos`   \n",
    "\n",
    "[Read about all the magic commands here](https://ipython.readthedocs.io/en/stable/interactive/magics.html): there are a lot of really useful ones!"
   ]
  },
  {
   "cell_type": "code",
   "execution_count": null,
   "metadata": {},
   "outputs": [],
   "source": [
    "%who"
   ]
  },
  {
   "cell_type": "code",
   "execution_count": null,
   "metadata": {},
   "outputs": [],
   "source": [
    "%whos"
   ]
  },
  {
   "cell_type": "code",
   "execution_count": null,
   "metadata": {},
   "outputs": [],
   "source": [
    "# We can use the \"del\" keyword to delete objects\n",
    "del y"
   ]
  },
  {
   "cell_type": "code",
   "execution_count": null,
   "metadata": {},
   "outputs": [],
   "source": [
    "%whos"
   ]
  },
  {
   "cell_type": "markdown",
   "metadata": {},
   "source": [
    "# Interactivity\n",
    "\n",
    "Python also makes interactive features accessible for [code](https://www.pitt.edu/~naraehan/python3/mbb5.html), [visualizations](https://mode.com/blog/python-interactive-plot-libraries/), [graphical user interfaces](https://www.tutorialsteacher.com/python/create-ui-using-tkinter-in-python) and [text-based video games](https://www.youtube.com/watch?v=MFW8DJ6qsak)! \n",
    "\n",
    "> NOTE: text-based video games written in Python make fantastic gifts!\n",
    "\n",
    "Click the links above to learn more, but start with entering your name below to receive an automated greeting:\n",
    "\n",
    "> REMEMBER: if your kernel fails, click Kernel --> Restart"
   ]
  },
  {
   "cell_type": "code",
   "execution_count": null,
   "metadata": {},
   "outputs": [],
   "source": [
    "# Get user name and print out\n",
    "\n",
    "x = input(\"Enter your name:\")"
   ]
  },
  {
   "cell_type": "code",
   "execution_count": null,
   "metadata": {},
   "outputs": [],
   "source": [
    "print(\"Hello, \" + x + \" \" + \"how are you today?\")"
   ]
  },
  {
   "cell_type": "markdown",
   "metadata": {},
   "source": [
    "Save your changes and open \"1-4_data-types.ipynb\" to learn about data types."
   ]
  }
 ],
 "metadata": {
  "kernelspec": {
   "display_name": "Python 3",
   "language": "python",
   "name": "python3"
  },
  "language_info": {
   "codemirror_mode": {
    "name": "ipython",
    "version": 3
   },
   "file_extension": ".py",
   "mimetype": "text/x-python",
   "name": "python",
   "nbconvert_exporter": "python",
   "pygments_lexer": "ipython3",
   "version": "3.8.5"
  }
 },
 "nbformat": 4,
 "nbformat_minor": 4
}
